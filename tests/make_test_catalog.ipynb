{
 "cells": [
  {
   "cell_type": "code",
   "execution_count": null,
   "metadata": {},
   "outputs": [],
   "source": [
    "import pyfits\n",
    "catalog_f = os.path.join('..', '..', '..', '..', 'data', 'qso_mock.fits')\n",
    "catalog = pyfits.open(catalog_f)[1].data\n",
    "\n",
    "mask = catalog['LENSID'] == 6136045\n",
    "test_catalog = catalog[mask]\n",
    "hdu = pyfits.BinTableHDU(data=test_catalog)\n",
    "hdu.writeto('test_catalog.fits')"
   ]
  }
 ],
 "metadata": {
  "kernelspec": {
   "display_name": "Python 2",
   "language": "python",
   "name": "python2"
  },
  "language_info": {
   "codemirror_mode": {
    "name": "ipython",
    "version": 2
   },
   "file_extension": ".py",
   "mimetype": "text/x-python",
   "name": "python",
   "nbconvert_exporter": "python",
   "pygments_lexer": "ipython2",
   "version": "2.7.12"
  }
 },
 "nbformat": 4,
 "nbformat_minor": 2
}
