{
 "cells": [
  {
   "cell_type": "code",
   "execution_count": 1,
   "metadata": {},
   "outputs": [],
   "source": [
    "import galsim\n",
    "from om10 import DB\n",
    "import os\n",
    "import pandas as pd\n",
    "import numpy as np\n",
    "import matplotlib.pyplot as plt\n",
    "\n",
    "import sys\n",
    "realizer_path = os.path.join(os.environ['SLREALIZERDIR'], 'slrealizer')\n",
    "sys.path.insert(0, realizer_path)\n",
    "from realize_om10 import OM10Realizer\n",
    "from utils.utils import *\n",
    "from utils.constants import *\n",
    "#from realize_sl import SLRealizer\n",
    "\n",
    "%matplotlib inline\n",
    "%load_ext autoreload\n",
    "%autoreload 2"
   ]
  },
  {
   "cell_type": "markdown",
   "metadata": {},
   "source": [
    "# Includes:\n",
    "# 1. Determining nx, ny, and pixel scale for GalSim's drawImage and \n",
    "# 2. Comparing the true and emulated images\n",
    "# 3. Comparing the HSM output with the analytically derived properties"
   ]
  },
  {
   "cell_type": "markdown",
   "metadata": {},
   "source": [
    "## 1. Checking that all functions of OM10Realizer run as expected"
   ]
  },
  {
   "cell_type": "markdown",
   "metadata": {},
   "source": [
    "I write this test in a notebook because I'll need to look at images for each (nx, ny, pixel scale) configuration and qualitatively judge whether it will be okay for HSM shape estimation. First, I define the filepath for the test lens catalog and test observation history. I created these files just for testing purposes; they only have one row each."
   ]
  },
  {
   "cell_type": "code",
   "execution_count": 2,
   "metadata": {},
   "outputs": [],
   "source": [
    "data_path = os.path.join(os.environ['SLREALIZERDIR'], 'data')\n",
    "\n",
    "test_catalog_f = os.path.join(data_path, 'test_catalog.fits')\n",
    "observation_f = os.path.join(data_path, 'twinkles_observation_history.csv')"
   ]
  },
  {
   "cell_type": "code",
   "execution_count": 3,
   "metadata": {},
   "outputs": [],
   "source": [
    "f = os.path.join(data_path, 'qso_mock.fits')\n",
    "from astropy.io import fits\n",
    "hdul = fits.open(f)"
   ]
  },
  {
   "cell_type": "code",
   "execution_count": 9,
   "metadata": {},
   "outputs": [],
   "source": [
    "d = hdul[1].data\n"
   ]
  },
  {
   "cell_type": "code",
   "execution_count": 20,
   "metadata": {
    "scrolled": true
   },
   "outputs": [
    {
     "data": {
      "text/html": [
       "&lt;Table length=15658&gt;\n",
       "<table id=\"table140719391410896\" class=\"table-striped table-bordered table-condensed\">\n",
       "<thead><tr><th>LENSID</th><th>FLAGTYPE</th><th>NIMG</th><th>ZLENS</th><th>VELDISP</th><th>ELLIP</th><th>PHIE</th><th>GAMMA</th><th>PHIG</th><th>ZSRC</th><th>XSRC</th><th>YSRC</th><th>MAGI_IN</th><th>MAGI</th><th>IMSEP</th><th>XIMG [4]</th><th>YIMG [4]</th><th>MAG [4]</th><th>DELAY [4]</th><th>KAPPA [4]</th><th>FSTAR [4]</th><th>DD</th><th>DDLUM</th><th>ABMAG_I</th><th>APMAG_I</th><th>KCORR</th><th>DS</th><th>DDS</th><th>SIGCRIT</th><th>DSLUM</th><th>L_I</th><th>REFF</th><th>REFF_T</th></tr></thead>\n",
       "<thead><tr><th>int32</th><th>int16</th><th>int16</th><th>float64</th><th>float64</th><th>float64</th><th>float64</th><th>float64</th><th>float64</th><th>float64</th><th>float64</th><th>float64</th><th>float64</th><th>float64</th><th>float64</th><th>float64</th><th>float64</th><th>float64</th><th>float64</th><th>float64</th><th>float64</th><th>float64</th><th>float64</th><th>float64</th><th>float64</th><th>float64</th><th>float64</th><th>float64</th><th>float64</th><th>float64</th><th>float64</th><th>float64</th><th>float64</th></tr></thead>\n",
       "<tr><td>14428</td><td>0</td><td>2</td><td>0.062</td><td>264.2409</td><td>0.2182095</td><td>86.19403</td><td>0.04307117</td><td>-172.995</td><td>4.01</td><td>-0.8669144</td><td>0.2832836</td><td>22.81</td><td>22.94768</td><td>3.858949</td><td>0.9541 .. 0.0</td><td>-0.2678 .. 0.0</td><td>-0.8809 .. 0.0</td><td>26.034 .. 0.0</td><td>0.0 .. 0.0</td><td>0.0 .. 0.0</td><td>246.488327</td><td>278.000397</td><td>-22.8653774</td><td>14.4168491</td><td>0.061999999</td><td>1432.53</td><td>1380.28</td><td>0.0</td><td>35956.6</td><td>0.0</td><td>0.0</td><td>0.0</td></tr>\n",
       "<tr><td>21703</td><td>0</td><td>2</td><td>0.072</td><td>165.1962</td><td>0.286398</td><td>131.0021</td><td>0.06827481</td><td>-174.4367</td><td>1.19</td><td>-0.4895263</td><td>0.23893</td><td>22.55</td><td>23.27365</td><td>1.553578</td><td>-1.2262 .. 0.0</td><td>0.5434 .. 0.0</td><td>1.8811 .. 0.0</td><td>0.0 .. 0.0</td><td>0.0 .. 0.0</td><td>0.0 .. 0.0</td><td>282.910126</td><td>325.115814</td><td>-21.6407204</td><td>15.9914694</td><td>0.0719999969</td><td>1708.45</td><td>1569.97</td><td>0.0</td><td>8193.9</td><td>0.0</td><td>0.0</td><td>0.0</td></tr>\n",
       "<tr><td>31711</td><td>0</td><td>2</td><td>0.082</td><td>155.9553</td><td>0.2997531</td><td>-19.01642</td><td>0.05930104</td><td>-120.289</td><td>4.01</td><td>0.1881534</td><td>0.1275117</td><td>22.51</td><td>21.93714</td><td>1.339839</td><td>-0.3014 .. 0.0</td><td>-0.3255 .. 0.0</td><td>-1.6949 .. 0.0</td><td>3.11 .. 0.0</td><td>0.0 .. 0.0</td><td>0.0 .. 0.0</td><td>318.475311</td><td>372.84671</td><td>-21.497221</td><td>16.4424324</td><td>0.0820000023</td><td>1432.53</td><td>1363.75</td><td>0.0</td><td>35956.6</td><td>0.0</td><td>0.0</td><td>0.0</td></tr>\n",
       "<tr><td>34331</td><td>0</td><td>2</td><td>0.084</td><td>172.5838</td><td>0.3209525</td><td>154.4568</td><td>0.06519084</td><td>135.9098</td><td>1.89</td><td>0.3275911</td><td>-0.2698931</td><td>22.09</td><td>21.40345</td><td>1.788124</td><td>1.0769 .. 0.0</td><td>-0.8203 .. 0.0</td><td>1.882 .. 0.0</td><td>0.0 .. 0.0</td><td>0.0 .. 0.0</td><td>0.0 .. 0.0</td><td>325.486664</td><td>382.465057</td><td>-21.7644787</td><td>16.2324791</td><td>0.0839999989</td><td>1735.9</td><td>1613.81</td><td>0.0</td><td>14498.4</td><td>0.0</td><td>0.0</td><td>0.0</td></tr>\n",
       "<tr><td>51810</td><td>0</td><td>2</td><td>0.096</td><td>244.9063</td><td>0.1280685</td><td>66.05098</td><td>0.05353751</td><td>-138.9056</td><td>3.08</td><td>-0.03555227</td><td>-0.4760428</td><td>21.77</td><td>20.8123</td><td>3.250252</td><td>-0.6907 .. 0.0</td><td>-2.0784 .. 0.0</td><td>3.1558 .. 0.0</td><td>0.0 .. 0.0</td><td>0.0 .. 0.0</td><td>0.0 .. 0.0</td><td>366.86554</td><td>440.684723</td><td>-22.6915607</td><td>15.6250792</td><td>0.0960000008</td><td>1576.27</td><td>1477.72</td><td>0.0</td><td>26239.2</td><td>0.0</td><td>0.0</td><td>0.0</td></tr>\n",
       "<tr><td>83414</td><td>0</td><td>2</td><td>0.114</td><td>154.17</td><td>0.3515839</td><td>44.12341</td><td>0.08975841</td><td>117.6485</td><td>1.61</td><td>-0.08977614</td><td>-0.05239099</td><td>19.99</td><td>18.43945</td><td>1.111688</td><td>-0.4754 .. 0.0</td><td>-0.5223 .. 0.0</td><td>4.2563 .. 0.0</td><td>0.0 .. 0.0</td><td>0.0 .. 0.0</td><td>0.0 .. 0.0</td><td>426.772461</td><td>529.622864</td><td>-21.4910202</td><td>17.242815</td><td>0.114</td><td>1747.5</td><td>1565.34</td><td>0.0</td><td>11904.1</td><td>0.0</td><td>0.0</td><td>0.0</td></tr>\n",
       "<tr><td>115074</td><td>0</td><td>2</td><td>0.128</td><td>113.5011</td><td>0.2432515</td><td>153.0029</td><td>0.07510341</td><td>122.0065</td><td>1.06</td><td>-0.1656299</td><td>0.1122722</td><td>23.19</td><td>23.11888</td><td>0.6968272</td><td>0.1132 .. 0.0</td><td>-0.0756 .. 0.0</td><td>-1.0677 .. 0.0</td><td>2.387 .. 0.0</td><td>0.0 .. 0.0</td><td>0.0 .. 0.0</td><td>471.641754</td><td>600.109436</td><td>-20.6982002</td><td>18.3209515</td><td>0.128000006</td><td>1673.38</td><td>1415.12</td><td>0.0</td><td>7101.16</td><td>0.0</td><td>0.0</td><td>0.0</td></tr>\n",
       "<tr><td>125027</td><td>0</td><td>2</td><td>0.13</td><td>247.1724</td><td>0.1890702</td><td>-145.5595</td><td>0.1368733</td><td>111.1937</td><td>2.08</td><td>0.2226522</td><td>0.4874033</td><td>22.71</td><td>21.87704</td><td>3.266804</td><td>-0.5457 .. 0.0</td><td>-0.909 .. 0.0</td><td>-2.1537 .. 0.0</td><td>29.453 .. 0.0</td><td>0.0 .. 0.0</td><td>0.0 .. 0.0</td><td>477.932434</td><td>610.271912</td><td>-22.7412186</td><td>16.3163967</td><td>0.129999995</td><td>1718.51</td><td>1543.17</td><td>0.0</td><td>16302.5</td><td>0.0</td><td>0.0</td><td>0.0</td></tr>\n",
       "<tr><td>147709</td><td>0</td><td>2</td><td>0.138</td><td>200.9093</td><td>0.1228137</td><td>141.6722</td><td>0.07074275</td><td>-99.27816</td><td>2.23</td><td>0.2850695</td><td>0.336907</td><td>22.67</td><td>22.45241</td><td>2.13716</td><td>-0.4212 .. 0.0</td><td>-0.4333 .. 0.0</td><td>-1.2219 .. 0.0</td><td>16.602 .. 0.0</td><td>0.0 .. 0.0</td><td>0.0 .. 0.0</td><td>502.80249</td><td>651.151367</td><td>-22.2036209</td><td>17.0027885</td><td>0.137999997</td><td>1701.2</td><td>1524.06</td><td>0.0</td><td>17748.4</td><td>0.0</td><td>0.0</td><td>0.0</td></tr>\n",
       "<tr><td>180815</td><td>0</td><td>2</td><td>0.148</td><td>185.3532</td><td>0.3160502</td><td>-152.0115</td><td>0.1271122</td><td>-74.08778</td><td>1.84</td><td>0.02119813</td><td>-0.4816578</td><td>21.09</td><td>21.32645</td><td>1.877594</td><td>0.0523 .. 0.0</td><td>-1.484 .. 0.0</td><td>2.4412 .. 0.0</td><td>0.0 .. 0.0</td><td>0.0 .. 0.0</td><td>0.0 .. 0.0</td><td>533.239136</td><td>702.757996</td><td>-21.9997215</td><td>17.3823071</td><td>0.148000002</td><td>1739.41</td><td>1523.86</td><td>0.0</td><td>14029.4</td><td>0.0</td><td>0.0</td><td>0.0</td></tr>\n",
       "<tr><td>...</td><td>...</td><td>...</td><td>...</td><td>...</td><td>...</td><td>...</td><td>...</td><td>...</td><td>...</td><td>...</td><td>...</td><td>...</td><td>...</td><td>...</td><td>...</td><td>...</td><td>...</td><td>...</td><td>...</td><td>...</td><td>...</td><td>...</td><td>...</td><td>...</td><td>...</td><td>...</td><td>...</td><td>...</td><td>...</td><td>...</td><td>...</td><td>...</td></tr>\n",
       "<tr><td>115614728</td><td>0</td><td>4</td><td>1.96</td><td>242.1029</td><td>0.3524237</td><td>-115.8618</td><td>0.128067</td><td>57.72775</td><td>4.23</td><td>0.01017142</td><td>-0.116337</td><td>24.05</td><td>23.26181</td><td>1.227275</td><td>-0.2615 .. 0.418</td><td>-0.6983 .. 0.3237</td><td>2.0667 .. 4.5451</td><td>0.0 .. 56.099</td><td>0.0 .. 0.0</td><td>0.0 .. 0.0</td><td>1730.17529</td><td>15159.1035</td><td>-24.0593586</td><td>23.8040085</td><td>1.96000004</td><td>1400.38</td><td>421.163</td><td>0.0</td><td>38304.5</td><td>0.0</td><td>0.0</td><td>0.0</td></tr>\n",
       "<tr><td>118666840</td><td>0</td><td>2</td><td>1.99</td><td>207.9697</td><td>0.1452083</td><td>77.62191</td><td>0.05713403</td><td>57.49165</td><td>3.18</td><td>0.1470164</td><td>0.06950787</td><td>22.41</td><td>22.94365</td><td>0.5460574</td><td>-0.098 .. 0.0</td><td>-0.0334 .. 0.0</td><td>-0.6117 .. 0.0</td><td>61.677 .. 0.0</td><td>0.0 .. 0.0</td><td>0.0 .. 0.0</td><td>1727.44714</td><td>15443.5498</td><td>-23.6832199</td><td>24.250515</td><td>1.99000001</td><td>1560.51</td><td>324.844</td><td>0.0</td><td>27265.9</td><td>0.0</td><td>0.0</td><td>0.0</td></tr>\n",
       "<tr><td>120546345</td><td>0</td><td>2</td><td>2.008</td><td>281.8383</td><td>0.09415298</td><td>-39.47683</td><td>0.05766452</td><td>-101.9732</td><td>3.26</td><td>-0.0517025</td><td>0.200677</td><td>22.67</td><td>22.01958</td><td>1.048075</td><td>0.0744 .. 0.0</td><td>-0.299 .. 0.0</td><td>-1.8204 .. 0.0</td><td>146.096 .. 0.0</td><td>0.0 .. 0.0</td><td>0.0 .. 0.0</td><td>1725.82715</td><td>15615.3936</td><td>-24.4939995</td><td>23.4817657</td><td>2.0079999</td><td>1547.87</td><td>329.258</td><td>0.0</td><td>28090.1</td><td>0.0</td><td>0.0</td><td>0.0</td></tr>\n",
       "<tr><td>123598414</td><td>0</td><td>2</td><td>2.038</td><td>199.5262</td><td>0.347499</td><td>31.99599</td><td>0.04680234</td><td>-31.05435</td><td>3.54</td><td>0.1315221</td><td>0.08831506</td><td>22.17</td><td>21.92573</td><td>0.5669581</td><td>-0.1017 .. 0.0</td><td>-0.0792 .. 0.0</td><td>-1.2523 .. 0.0</td><td>55.753 .. 0.0</td><td>0.0 .. 0.0</td><td>0.0 .. 0.0</td><td>1722.87622</td><td>15901.1904</td><td>-23.6104984</td><td>24.4346504</td><td>2.03800011</td><td>1504.01</td><td>351.127</td><td>0.0</td><td>31000.1</td><td>0.0</td><td>0.0</td><td>0.0</td></tr>\n",
       "<tr><td>129002676</td><td>0</td><td>2</td><td>2.09</td><td>236.0478</td><td>0.4502566</td><td>29.728</td><td>0.05968614</td><td>-114.3043</td><td>4.32</td><td>-0.2823829</td><td>0.001843941</td><td>21.89</td><td>22.45553</td><td>0.9118302</td><td>-0.7315 .. 0.0</td><td>-0.2124 .. 0.0</td><td>1.901 .. 0.0</td><td>0.0 .. 0.0</td><td>0.0 .. 0.0</td><td>0.0 .. 0.0</td><td>1717.48962</td><td>16398.7617</td><td>-24.0904179</td><td>24.073637</td><td>2.08999991</td><td>1387.54</td><td>389.978</td><td>0.0</td><td>39270.7</td><td>0.0</td><td>0.0</td><td>0.0</td></tr>\n",
       "<tr><td>138366386</td><td>0</td><td>2</td><td>2.18</td><td>227.5097</td><td>0.1405872</td><td>174.5987</td><td>0.1433714</td><td>-42.37481</td><td>4.03</td><td>-0.2012514</td><td>0.2023635</td><td>22.37</td><td>23.14651</td><td>0.8802525</td><td>-0.5764 .. 0.0</td><td>0.5176 .. 0.0</td><td>1.7408 .. 0.0</td><td>0.0 .. 0.0</td><td>0.0 .. 0.0</td><td>0.0 .. 0.0</td><td>1707.32263</td><td>17265.1309</td><td>-24.0612793</td><td>24.3045692</td><td>2.18000007</td><td>1429.58</td><td>350.194</td><td>0.0</td><td>36169.7</td><td>0.0</td><td>0.0</td><td>0.0</td></tr>\n",
       "<tr><td>157075130</td><td>0</td><td>2</td><td>2.358</td><td>258.8213</td><td>0.209142</td><td>-172.0946</td><td>0.06432791</td><td>143.063</td><td>3.44</td><td>0.06941448</td><td>-0.02268479</td><td>23.19</td><td>21.98571</td><td>0.6785781</td><td>0.4032 .. 0.0</td><td>-0.125 .. 0.0</td><td>3.0319 .. 0.0</td><td>0.0 .. 0.0</td><td>0.0 .. 0.0</td><td>0.0 .. 0.0</td><td>1684.7196</td><td>18997.1758</td><td>-24.5330181</td><td>24.2184258</td><td>2.35800004</td><td>1519.55</td><td>245.39</td><td>0.0</td><td>29955.8</td><td>0.0</td><td>0.0</td><td>0.0</td></tr>\n",
       "<tr><td>168229053</td><td>0</td><td>2</td><td>2.464</td><td>200.9093</td><td>0.2775988</td><td>-25.94449</td><td>0.07066369</td><td>-110.816</td><td>5.21</td><td>0.09019906</td><td>0.1736646</td><td>20.99</td><td>21.82394</td><td>0.6418513</td><td>0.2286 .. 0.0</td><td>0.4796 .. 0.0</td><td>2.9458 .. 0.0</td><td>0.0 .. 0.0</td><td>0.0 .. 0.0</td><td>0.0 .. 0.0</td><td>1670.05164</td><td>20039.4453</td><td>-23.9481201</td><td>25.0253086</td><td>2.46399999</td><td>1269.42</td><td>337.846</td><td>0.0</td><td>48954.0</td><td>0.0</td><td>0.0</td><td>0.0</td></tr>\n",
       "<tr><td>185790887</td><td>0</td><td>2</td><td>2.63</td><td>215.7744</td><td>0.2997711</td><td>-152.7023</td><td>0.05911739</td><td>-141.7852</td><td>4.59</td><td>0.1574054</td><td>0.07493876</td><td>23.57</td><td>23.19734</td><td>0.6376662</td><td>-0.1242 .. 0.0</td><td>-0.0511 .. 0.0</td><td>-1.4095 .. 0.0</td><td>88.48 .. 0.0</td><td>0.0 .. 0.0</td><td>0.0 .. 0.0</td><td>1645.88708</td><td>21687.6914</td><td>-24.2598572</td><td>25.0512085</td><td>2.63000011</td><td>1350.0</td><td>281.206</td><td>0.0</td><td>42184.9</td><td>0.0</td><td>0.0</td><td>0.0</td></tr>\n",
       "<tr><td>193208710</td><td>0</td><td>2</td><td>2.7</td><td>259.4179</td><td>0.2919181</td><td>113.1775</td><td>0.04371348</td><td>-57.21917</td><td>4.13</td><td>-0.0526813</td><td>0.1313752</td><td>23.81</td><td>22.99862</td><td>0.7246402</td><td>0.0617 .. 0.0</td><td>-0.2058 .. 0.0</td><td>-3.8524 .. 0.0</td><td>103.621 .. 0.0</td><td>0.0 .. 0.0</td><td>0.0 .. 0.0</td><td>1635.37683</td><td>22388.3105</td><td>-24.7955589</td><td>24.6545486</td><td>2.70000005</td><td>1414.9</td><td>235.39</td><td>0.0</td><td>37235.8</td><td>0.0</td><td>0.0</td><td>0.0</td></tr>\n",
       "</table>"
      ],
      "text/plain": [
       "<Table length=15658>\n",
       "  LENSID  FLAGTYPE  NIMG  ZLENS  VELDISP  ...  DSLUM    L_I     REFF   REFF_T\n",
       "  int32    int16   int16 float64 float64  ... float64 float64 float64 float64\n",
       "--------- -------- ----- ------- -------- ... ------- ------- ------- -------\n",
       "    14428        0     2   0.062 264.2409 ... 35956.6     0.0     0.0     0.0\n",
       "    21703        0     2   0.072 165.1962 ...  8193.9     0.0     0.0     0.0\n",
       "    31711        0     2   0.082 155.9553 ... 35956.6     0.0     0.0     0.0\n",
       "    34331        0     2   0.084 172.5838 ... 14498.4     0.0     0.0     0.0\n",
       "    51810        0     2   0.096 244.9063 ... 26239.2     0.0     0.0     0.0\n",
       "    83414        0     2   0.114   154.17 ... 11904.1     0.0     0.0     0.0\n",
       "   115074        0     2   0.128 113.5011 ... 7101.16     0.0     0.0     0.0\n",
       "   125027        0     2    0.13 247.1724 ... 16302.5     0.0     0.0     0.0\n",
       "   147709        0     2   0.138 200.9093 ... 17748.4     0.0     0.0     0.0\n",
       "   180815        0     2   0.148 185.3532 ... 14029.4     0.0     0.0     0.0\n",
       "      ...      ...   ...     ...      ... ...     ...     ...     ...     ...\n",
       "115614728        0     4    1.96 242.1029 ... 38304.5     0.0     0.0     0.0\n",
       "118666840        0     2    1.99 207.9697 ... 27265.9     0.0     0.0     0.0\n",
       "120546345        0     2   2.008 281.8383 ... 28090.1     0.0     0.0     0.0\n",
       "123598414        0     2   2.038 199.5262 ... 31000.1     0.0     0.0     0.0\n",
       "129002676        0     2    2.09 236.0478 ... 39270.7     0.0     0.0     0.0\n",
       "138366386        0     2    2.18 227.5097 ... 36169.7     0.0     0.0     0.0\n",
       "157075130        0     2   2.358 258.8213 ... 29955.8     0.0     0.0     0.0\n",
       "168229053        0     2   2.464 200.9093 ... 48954.0     0.0     0.0     0.0\n",
       "185790887        0     2    2.63 215.7744 ... 42184.9     0.0     0.0     0.0\n",
       "193208710        0     2     2.7 259.4179 ... 37235.8     0.0     0.0     0.0"
      ]
     },
     "execution_count": 20,
     "metadata": {},
     "output_type": "execute_result"
    }
   ],
   "source": [
    "from astropy.table import Table\n",
    "t = Table(d)\n",
    "t"
   ]
  },
  {
   "cell_type": "markdown",
   "metadata": {},
   "source": [
    "We will read them in as OM10 DB and Pandas dataframe, respectively, and use them to create our OM10Realizer object."
   ]
  },
  {
   "cell_type": "code",
   "execution_count": 14,
   "metadata": {},
   "outputs": [
    {
     "name": "stdout",
     "output_type": "stream",
     "text": [
      "OM10: Full db.lenses table contains 1 systems\n",
      "OM10: Initial db.sample contains 1 systems\n"
     ]
    }
   ],
   "source": [
    "test_db = DB(catalog=test_catalog_f)\n",
    "#test_db.select_random(maglim=23.3, area=18000.0, IQ=0.75)\n",
    "test_db.paint(synthetic=True)\n",
    "\n",
    "test_obs = pd.read_csv(observation_f).sample(1, random_state=123).reset_index(drop=True)\n",
    "\n",
    "om10realizer = OM10Realizer(observation=test_obs, catalog=test_db, debug=True)"
   ]
  },
  {
   "cell_type": "code",
   "execution_count": null,
   "metadata": {},
   "outputs": [],
   "source": [
    "from om10 import DB\n",
    "from realize_om10 import OM10Realizer\n",
    "\n",
    "# Create OM10 DB instance\n",
    "om10_db = DB(catalog=catalog_path)\n",
    "# Simulate colors (ugrizy magnitudes)\n",
    "om10_db.paint(synthetic=True)\n",
    "\n",
    "# Read observation data into a dataframe\n",
    "minion_df = pd.read_csv(minion1016_path)\n",
    "# Create OM10Realizer instance\n",
    "realizer = OM10Realizer(observation=minion_df,\n",
    "                        catalog=om10_db)\n",
    "\n",
    "# Generate source table \n",
    "# and save as output_source_table_path\n",
    "realizer.make_source_table_vectorized(save_file=output_source_table_path)\n",
    "# Generate object table from source table at output_source_table_path\n",
    "# and save as output_object_table_path\n",
    "realizer.make_object_table(sourceTablePath=output_source_table_path,\n",
    "                           objectTablePath=output_object_table_path)"
   ]
  },
  {
   "cell_type": "markdown",
   "metadata": {},
   "source": [
    "These are equivalents of the lensInfo and obsInfo parameters that are input to many of the methods in OM10Realizer. We save the values to test individual methods."
   ]
  },
  {
   "cell_type": "code",
   "execution_count": 15,
   "metadata": {},
   "outputs": [],
   "source": [
    "test_lensInfo = test_db.sample[0]\n",
    "test_obsInfo = test_obs.loc[0]"
   ]
  },
  {
   "cell_type": "code",
   "execution_count": 16,
   "metadata": {},
   "outputs": [
    {
     "data": {
      "text/plain": [
       "obsHistID         1907745\n",
       "expMJD            62390.2\n",
       "filter                  i\n",
       "FWHMeff           0.98052\n",
       "fiveSigmaDepth    23.4774\n",
       "Name: 0, dtype: object"
      ]
     },
     "execution_count": 16,
     "metadata": {},
     "output_type": "execute_result"
    }
   ],
   "source": [
    "test_obsInfo"
   ]
  },
  {
   "cell_type": "code",
   "execution_count": 17,
   "metadata": {
    "scrolled": true
   },
   "outputs": [
    {
     "data": {
      "text/html": [
       "&lt;Row index=0&gt;\n",
       "<table id=\"table139713273569872\">\n",
       "<thead><tr><th>LENSID</th><th>FLAGTYPE</th><th>NIMG</th><th>ZLENS</th><th>VELDISP</th><th>ELLIP</th><th>PHIE</th><th>GAMMA</th><th>PHIG</th><th>ZSRC</th><th>XSRC</th><th>YSRC</th><th>MAGI_IN</th><th>MAGI</th><th>IMSEP</th><th>XIMG [4]</th><th>YIMG [4]</th><th>MAG [4]</th><th>DELAY [4]</th><th>KAPPA [4]</th><th>FSTAR [4]</th><th>DD</th><th>DDLUM</th><th>ABMAG_I</th><th>APMAG_I</th><th>KCORR</th><th>DS</th><th>DDS</th><th>SIGCRIT</th><th>DSLUM</th><th>L_I</th><th>REFF</th><th>REFF_T</th><th>weight</th><th>r_SDSS_lens</th><th>g_SDSS_lens</th><th>i_SDSS_lens</th><th>z_SDSS_lens</th><th>u_SDSS_lens</th><th>r_SDSS_quasar</th><th>g_SDSS_quasar</th><th>i_SDSS_quasar</th><th>z_SDSS_quasar</th><th>u_SDSS_quasar</th></tr></thead>\n",
       "<thead><tr><th>int32</th><th>int16</th><th>int16</th><th>float64</th><th>float64</th><th>float64</th><th>float64</th><th>float64</th><th>float64</th><th>float64</th><th>float64</th><th>float64</th><th>float64</th><th>float64</th><th>float64</th><th>float64</th><th>float64</th><th>float64</th><th>float64</th><th>float64</th><th>float64</th><th>float64</th><th>float64</th><th>float64</th><th>float64</th><th>float64</th><th>float64</th><th>float64</th><th>float64</th><th>float64</th><th>float64</th><th>float64</th><th>float64</th><th>float32</th><th>float64</th><th>float64</th><th>float64</th><th>float64</th><th>float64</th><th>float64</th><th>float64</th><th>float64</th><th>float64</th><th>float64</th></tr></thead>\n",
       "<tr><td>6136045</td><td>0</td><td>4</td><td>0.524</td><td>149.6236</td><td>0.1070683</td><td>-134.1357</td><td>0.1467352</td><td>-16.22032</td><td>1.83</td><td>0.02024617</td><td>0.1071905</td><td>25.45</td><td>22.09077</td><td>0.6987287</td><td>-0.0375 .. 0.0071</td><td>-0.2501 .. 0.4468</td><td>-1.2993 .. -84.5576</td><td>6.805 .. 0.026</td><td>0.0 .. 0.0</td><td>0.0 .. 0.0</td><td>1290.3905</td><td>2997.02979</td><td>-21.7199993</td><td>21.1874561</td><td>0.523999989</td><td>1740.0</td><td>1045.1</td><td>0.0</td><td>13935.5</td><td>0.0</td><td>0.0</td><td>0.0</td><td>1.0</td><td>21.209381992994647</td><td>23.01900627268662</td><td>20.073196070473006</td><td>19.54866488279912</td><td>25.382583844848096</td><td>25.71341210492551</td><td>25.77487285889792</td><td>25.45</td><td>25.430733485421314</td><td>25.942860987100303</td></tr>\n",
       "</table>"
      ],
      "text/plain": [
       "<Row index=0>\n",
       " LENSID FLAGTYPE  NIMG  ZLENS  VELDISP    ELLIP      PHIE     GAMMA      PHIG     ZSRC     XSRC       YSRC   MAGI_IN   MAGI     IMSEP        XIMG [4]          YIMG [4]           MAG [4]         DELAY [4]    KAPPA [4]  FSTAR [4]      DD      DDLUM      ABMAG_I    APMAG_I      KCORR       DS     DDS   SIGCRIT  DSLUM    L_I     REFF   REFF_T  weight    r_SDSS_lens        g_SDSS_lens       i_SDSS_lens        z_SDSS_lens       u_SDSS_lens       r_SDSS_quasar     g_SDSS_quasar   i_SDSS_quasar   z_SDSS_quasar      u_SDSS_quasar   \n",
       " int32   int16   int16 float64 float64   float64   float64   float64   float64  float64  float64    float64  float64 float64   float64       float64           float64            float64          float64      float64    float64    float64   float64     float64    float64     float64   float64 float64 float64 float64 float64 float64 float64 float32      float64            float64           float64            float64           float64            float64           float64         float64         float64            float64      \n",
       "------- -------- ----- ------- -------- --------- --------- --------- --------- ------- ---------- --------- ------- -------- --------- ----------------- ----------------- ------------------- -------------- ---------- ---------- --------- ---------- ----------- ---------- ----------- ------- ------- ------- ------- ------- ------- ------- ------- ------------------ ----------------- ------------------ ----------------- ------------------ ----------------- ----------------- ------------- ------------------ ------------------\n",
       "6136045        0     4   0.524 149.6236 0.1070683 -134.1357 0.1467352 -16.22032    1.83 0.02024617 0.1071905   25.45 22.09077 0.6987287 -0.0375 .. 0.0071 -0.2501 .. 0.4468 -1.2993 .. -84.5576 6.805 .. 0.026 0.0 .. 0.0 0.0 .. 0.0 1290.3905 2997.02979 -21.7199993 21.1874561 0.523999989  1740.0  1045.1     0.0 13935.5     0.0     0.0     0.0     1.0 21.209381992994647 23.01900627268662 20.073196070473006 19.54866488279912 25.382583844848096 25.71341210492551 25.77487285889792         25.45 25.430733485421314 25.942860987100303"
      ]
     },
     "execution_count": 17,
     "metadata": {},
     "output_type": "execute_result"
    }
   ],
   "source": [
    "test_lensInfo"
   ]
  },
  {
   "cell_type": "code",
   "execution_count": null,
   "metadata": {},
   "outputs": [],
   "source": []
  },
  {
   "cell_type": "code",
   "execution_count": 23,
   "metadata": {},
   "outputs": [
    {
     "data": {
      "text/plain": [
       "(-2.3411096094673582, -2.3411096094673582)"
      ]
     },
     "execution_count": 23,
     "metadata": {},
     "output_type": "execute_result"
    }
   ],
   "source": [
    "np.radians(test_lensInfo['PHIE']), np.deg2rad(test_lensInfo['PHIE'])"
   ]
  },
  {
   "cell_type": "code",
   "execution_count": 18,
   "metadata": {},
   "outputs": [],
   "source": [
    "s = galsim.Shear(e1=0.4, e2=-0.3)\n",
    "#print(\"q\", np.exp(-s.eta))\n",
    "#print(\"beta\", s.beta)\n",
    "l = galsim.Gaussian(sigma=0.6, flux=21.0).shear(s)\n",
    "#q = galsim.Gaussian(sigma=0.0, flux=11.0).shift((5.0, 7.0))\n",
    "#psf = galsim.Gaussian(sigma=7.0)\n",
    "total = l\n",
    "\n",
    "#total = l\n",
    "#convolved = galsim.Convolve([total, psf])\n",
    "\n",
    "convolved = total\n",
    "img = convolved.drawImage(nx=64, ny=64, method='no_pixel', scale=0.1)\n"
   ]
  },
  {
   "cell_type": "code",
   "execution_count": 19,
   "metadata": {},
   "outputs": [
    {
     "data": {
      "text/plain": [
       "<matplotlib.colorbar.Colorbar at 0x7fdce714ba50>"
      ]
     },
     "execution_count": 19,
     "metadata": {},
     "output_type": "execute_result"
    },
    {
     "data": {
      "image/png": "[encoded data removed]",
      "text/plain": [
       "<matplotlib.figure.Figure at 0x7fdd12036610>"
      ]
     },
     "metadata": {},
     "output_type": "display_data"
    }
   ],
   "source": [
    "plt.imshow(img.array)\n",
    "plt.title(\"Sample SDSS galaxy (non-lens)\")\n",
    "plt.colorbar()"
   ]
  },
  {
   "cell_type": "code",
   "execution_count": 56,
   "metadata": {},
   "outputs": [
    {
     "data": {
      "text/plain": [
       "<matplotlib.colorbar.Colorbar at 0x7f115de110d0>"
      ]
     },
     "execution_count": 56,
     "metadata": {},
     "output_type": "execute_result"
    },
    {
     "data": {
      "image/png": "[encoded data removed]",
      "text/plain": [
       "<matplotlib.figure.Figure at 0x7f115dee1350>"
      ]
     },
     "metadata": {},
     "output_type": "display_data"
    }
   ],
   "source": [
    "psf = galsim.Gaussian(sigma=1.0)\n",
    "psf_img = psf.drawImage(nx=64, ny=64, scale=0.2, method='no_pixel')\n",
    "plt.imshow(psf_img.array)\n",
    "plt.title(\"Sample PSF\")\n",
    "plt.colorbar()"
   ]
  },
  {
   "cell_type": "code",
   "execution_count": 32,
   "metadata": {},
   "outputs": [
    {
     "data": {
      "text/plain": [
       "(0.3678941968349128, 0.20244589314254172)"
      ]
     },
     "execution_count": 32,
     "metadata": {},
     "output_type": "execute_result"
    }
   ],
   "source": [
    "q = ((1.0-s.e)/(1+s.e))**0.5\n",
    "beta = 0.5*np.arctan(0.3/0.7)\n",
    "q, beta"
   ]
  },
  {
   "cell_type": "code",
   "execution_count": 33,
   "metadata": {},
   "outputs": [
    {
     "name": "stdout",
     "output_type": "stream",
     "text": [
      "('a, b:', 21.43294668511006, 7.8850567065240735)\n",
      "('Sig', 443.31352444109, 78.2317984307806, 78.2317984307806)\n",
      "('out e1, e2', 0.6999999999999998, 0.3)\n"
     ]
    }
   ],
   "source": [
    "a = 13.0/(q**0.5)\n",
    "b = 13.0*q**0.5\n",
    "print(\"a, b:\", a, b)\n",
    "lam1 = a**2.0\n",
    "lam2 = b**2.0\n",
    "Sig_11 = lam1*(np.cos(beta))**2.0 + lam2*(np.sin(beta))**2.0\n",
    "Sig_12 = (lam1 - lam2)*np.cos(beta)*np.sin(beta)\n",
    "Sig_22 = lam1*(np.sin(beta))**2.0 + lam2*(np.cos(beta))**2.0\n",
    "print(\"Sig\", Sig_11, Sig_12, Sig_22)\n",
    "new_e1 = (Sig_11 - Sig_22)/(Sig_11 + Sig_22)\n",
    "new_e2 = 2.0*Sig_12/(Sig_11 + Sig_22)\n",
    "print(\"out e1, e2\", new_e1, new_e2)"
   ]
  },
  {
   "cell_type": "code",
   "execution_count": 34,
   "metadata": {},
   "outputs": [
    {
     "data": {
      "text/plain": [
       "12.35558795928955"
      ]
     },
     "execution_count": 34,
     "metadata": {},
     "output_type": "execute_result"
    }
   ],
   "source": [
    "img.FindAdaptiveMom().moments_sigma"
   ]
  },
  {
   "cell_type": "code",
   "execution_count": null,
   "metadata": {},
   "outputs": [],
   "source": [
    "lens_flux = 37.0/48.0\n",
    "q_flux = 11.0/48.0\n",
    "Q_11 = lens_flux*Sig_11 + "
   ]
  },
  {
   "cell_type": "code",
   "execution_count": 35,
   "metadata": {},
   "outputs": [
    {
     "data": {
      "text/plain": [
       "0.20244589314254174"
      ]
     },
     "execution_count": 35,
     "metadata": {},
     "output_type": "execute_result"
    }
   ],
   "source": [
    "0.5*np.arctan(2.0*Sig_12/(Sig_11-Sig_22))\n",
    "#0.5*(Sig_11+Sig_22+np.sign(Sig_11-Sig_22)*((Sig_11-Sig_22)**2.0 + 4.0*Sig_12**2.0)**0.5)"
   ]
  },
  {
   "cell_type": "code",
   "execution_count": 12,
   "metadata": {},
   "outputs": [
    {
     "data": {
      "text/plain": [
       "(0.9978106644289849, 0.9987500756904727)"
      ]
     },
     "execution_count": 12,
     "metadata": {},
     "output_type": "execute_result"
    }
   ],
   "source": [
    "img.calculateMomentRadius(rtype='trace')/((Sig_11+Sig_22)*0.5)**0.5, img.calculateMomentRadius(rtype='det')/(Sig_11*Sig_22-Sig_12**2.0)**0.25"
   ]
  },
  {
   "cell_type": "code",
   "execution_count": null,
   "metadata": {},
   "outputs": [],
   "source": [
    "img.calcula"
   ]
  },
  {
   "cell_type": "code",
   "execution_count": 153,
   "metadata": {},
   "outputs": [
    {
     "data": {
      "text/plain": [
       "-1"
      ]
     },
     "execution_count": 153,
     "metadata": {},
     "output_type": "execute_result"
    }
   ],
   "source": [
    "np.sign(-3)"
   ]
  },
  {
   "cell_type": "code",
   "execution_count": 132,
   "metadata": {
    "scrolled": true
   },
   "outputs": [
    {
     "data": {
      "text/plain": [
       "<matplotlib.colorbar.Colorbar at 0x7fca006a7690>"
      ]
     },
     "execution_count": 132,
     "metadata": {},
     "output_type": "execute_result"
    },
    {
     "data": {
      "image/png": "[encoded data removed]",
      "text/plain": [
       "<matplotlib.figure.Figure at 0x7fca00745a50>"
      ]
     },
     "metadata": {},
     "output_type": "display_data"
    }
   ],
   "source": [
    "plt.imshow(img.array)\n",
    "plt.colorbar()"
   ]
  },
  {
   "cell_type": "code",
   "execution_count": 126,
   "metadata": {},
   "outputs": [
    {
     "data": {
      "text/plain": [
       "13.346961067122452"
      ]
     },
     "execution_count": 126,
     "metadata": {},
     "output_type": "execute_result"
    }
   ],
   "source": [
    "img.calculateMomentRadius(rtype='trace')"
   ]
  },
  {
   "cell_type": "code",
   "execution_count": 120,
   "metadata": {},
   "outputs": [
    {
     "data": {
      "text/plain": [
       "14.7648230602334"
      ]
     },
     "execution_count": 120,
     "metadata": {},
     "output_type": "execute_result"
    }
   ],
   "source": [
    "(13.0**2.0 + 7.0**2.0)**0.5"
   ]
  },
  {
   "cell_type": "code",
   "execution_count": 113,
   "metadata": {},
   "outputs": [],
   "source": [
    "mom = img.FindAdaptiveMom()"
   ]
  },
  {
   "cell_type": "code",
   "execution_count": 114,
   "metadata": {},
   "outputs": [
    {
     "data": {
      "text/plain": [
       "(-1.1772305305330234e-15, 5.268154502672623e-18)"
      ]
     },
     "execution_count": 114,
     "metadata": {},
     "output_type": "execute_result"
    }
   ],
   "source": [
    "mom.observed_shape.e1, mom.observed_shape.e2"
   ]
  },
  {
   "cell_type": "code",
   "execution_count": 115,
   "metadata": {},
   "outputs": [
    {
     "data": {
      "text/plain": [
       "13.0"
      ]
     },
     "execution_count": 115,
     "metadata": {},
     "output_type": "execute_result"
    }
   ],
   "source": [
    "mom.moments_sigma"
   ]
  },
  {
   "cell_type": "markdown",
   "metadata": {},
   "source": [
    "### 1.1 Converting OM10 catalog values into GalSim input parameters"
   ]
  },
  {
   "cell_type": "code",
   "execution_count": 7,
   "metadata": {},
   "outputs": [
    {
     "data": {
      "text/plain": [
       "{'beta': galsim.Angle(-2.3411096094673582, galsim.radians),\n",
       " 'e': 0.1070683,\n",
       " 'flux': 9.952860809659875,\n",
       " 'flux_0': 0.08584389969962691,\n",
       " 'flux_1': 1.4577870583563612,\n",
       " 'flux_2': 4.345420449152838,\n",
       " 'flux_3': 5.586665229924711,\n",
       " 'half_light_radius': 0.0,\n",
       " 'num_objects': 4,\n",
       " 'xy_0': (-0.0375, -0.2501),\n",
       " 'xy_1': (0.254, 0.3703),\n",
       " 'xy_2': (-0.0772, 0.4475),\n",
       " 'xy_3': (0.0071, 0.4468)}"
      ]
     },
     "execution_count": 7,
     "metadata": {},
     "output_type": "execute_result"
    }
   ],
   "source": [
    "galsimInput = om10realizer._om10_to_galsim(test_lensInfo, test_obsInfo['filter'])\n",
    "galsimInput"
   ]
  },
  {
   "cell_type": "markdown",
   "metadata": {},
   "source": [
    "### 1.2 Drawing the true image via GalSim's drawImage"
   ]
  },
  {
   "cell_type": "code",
   "execution_count": 36,
   "metadata": {},
   "outputs": [
    {
     "data": {
      "text/plain": [
       "<matplotlib.colorbar.Colorbar at 0x7f1164ae7310>"
      ]
     },
     "execution_count": 36,
     "metadata": {},
     "output_type": "execute_result"
    },
    {
     "data": {
      "image/png": "[encoded data removed]",
      "text/plain": [
       "<matplotlib.figure.Figure at 0x7f1164b6e390>"
      ]
     },
     "metadata": {},
     "output_type": "display_data"
    }
   ],
   "source": [
    "trueImg = om10realizer.draw_system(lensInfo=om10_db.sample[0], \n",
    "                                   obsInfo=minion_df.loc[0])\n",
    "plt.imshow(trueImg.array)\n",
    "plt.colorbar()"
   ]
  },
  {
   "cell_type": "markdown",
   "metadata": {},
   "source": [
    "### 1.3 Running HSM's shape estimation on the true image"
   ]
  },
  {
   "cell_type": "code",
   "execution_count": 9,
   "metadata": {},
   "outputs": [
    {
     "data": {
      "text/plain": [
       "{'apFlux': 21.428565979003906,\n",
       " 'det': 0.041241882360691456,\n",
       " 'e1': -0.1216282993555069,\n",
       " 'e2': -0.003573226742446422,\n",
       " 'hlr': 0.5261734613336309,\n",
       " 'trace': 0.4027072469799542,\n",
       " 'x': 0.002587947144025904,\n",
       " 'y': 0.2319169491317993}"
      ]
     },
     "execution_count": 9,
     "metadata": {},
     "output_type": "execute_result"
    }
   ],
   "source": [
    "hsmOutput = om10realizer.estimate_hsm(lensInfo=test_lensInfo, obsInfo=test_obsInfo)\n",
    "hsmOutput"
   ]
  },
  {
   "cell_type": "markdown",
   "metadata": {},
   "source": [
    "### 1.4 Drawing the emulated image via GalSim's drawImage"
   ]
  },
  {
   "cell_type": "code",
   "execution_count": 10,
   "metadata": {},
   "outputs": [
    {
     "data": {
      "text/plain": [
       "<matplotlib.colorbar.Colorbar at 0x7fca346f8650>"
      ]
     },
     "execution_count": 10,
     "metadata": {},
     "output_type": "execute_result"
    },
    {
     "data": {
      "image/png": "[encoded data removed]",
      "text/plain": [
       "<matplotlib.figure.Figure at 0x7fca3503a910>"
      ]
     },
     "metadata": {},
     "output_type": "display_data"
    }
   ],
   "source": [
    "emulatedImg = om10realizer.draw_emulated_system(lensInfo=om10_db.sample[0], \n",
    "                                                obsInfo=minion_df.loc[0])\n",
    "plt.imshow(emulatedImg.array)\n",
    "plt.colorbar()"
   ]
  },
  {
   "cell_type": "code",
   "execution_count": null,
   "metadata": {},
   "outputs": [],
   "source": [
    "emulatedImg = om10realizer.draw_emulated_system(lensInfo=test_lensInfo, obsInfo=test_obsInfo)\n",
    "plt.imshow(emulatedImg.array)\n",
    "plt.colorbar()"
   ]
  },
  {
   "cell_type": "markdown",
   "metadata": {},
   "source": [
    "## 2. Comparing the true image vs. emulated image"
   ]
  },
  {
   "cell_type": "markdown",
   "metadata": {},
   "source": [
    "### 2.1 First moments x, y"
   ]
  },
  {
   "cell_type": "markdown",
   "metadata": {},
   "source": [
    "Qualitatively, the two images look similar. When we take the difference of the images, it seems that their centers have a slight offset. Let's investigate why."
   ]
  },
  {
   "cell_type": "code",
   "execution_count": 11,
   "metadata": {},
   "outputs": [
    {
     "data": {
      "text/plain": [
       "<matplotlib.colorbar.Colorbar at 0x7fca3468ca50>"
      ]
     },
     "execution_count": 11,
     "metadata": {},
     "output_type": "execute_result"
    },
    {
     "data": {
      "image/png": "[encoded data removed]",
      "text/plain": [
       "<matplotlib.figure.Figure at 0x7fca34705750>"
      ]
     },
     "metadata": {},
     "output_type": "display_data"
    }
   ],
   "source": [
    "plt.imshow(trueImg.array-emulatedImg.array)\n",
    "plt.colorbar()"
   ]
  },
  {
   "cell_type": "code",
   "execution_count": 12,
   "metadata": {},
   "outputs": [
    {
     "data": {
      "text/plain": [
       "0.0020178531885260754"
      ]
     },
     "execution_count": 12,
     "metadata": {},
     "output_type": "execute_result"
    }
   ],
   "source": [
    "estEmulated = emulatedImg.FindAdaptiveMom()\n",
    "pixel_to_physical(estEmulated.moments_centroid.x, om10realizer.nx, om10realizer.pixel_scale)"
   ]
  },
  {
   "cell_type": "markdown",
   "metadata": {},
   "source": [
    "### 2.2 Second moments (half-light radius)"
   ]
  },
  {
   "cell_type": "markdown",
   "metadata": {},
   "source": [
    "If the shear is not too dramatic, `calculateHLR` works fairly well to estimate the true HLR. Let us first compare the HLR of the emulated image to the true HLR."
   ]
  },
  {
   "cell_type": "code",
   "execution_count": 13,
   "metadata": {},
   "outputs": [],
   "source": [
    "from utils.utils import physical_to_pixel\n",
    "phys_x = physical_to_pixel(hsmOutput['x'], canvasSize=om10realizer.nx, pixel_scale=om10realizer.pixel_scale)\n",
    "phys_y = physical_to_pixel(hsmOutput['y'], canvasSize=om10realizer.ny, pixel_scale=om10realizer.pixel_scale)\n",
    "pixelCenter = galsim.PositionD(x=phys_x, y=phys_y)"
   ]
  },
  {
   "cell_type": "code",
   "execution_count": 14,
   "metadata": {},
   "outputs": [],
   "source": [
    "emulated_hlr = emulatedImg.calculateHLR(center=pixelCenter)"
   ]
  },
  {
   "cell_type": "markdown",
   "metadata": {},
   "source": [
    "The HLRs of the true and emulated images do not agree to floating-point precision."
   ]
  },
  {
   "cell_type": "code",
   "execution_count": 15,
   "metadata": {},
   "outputs": [
    {
     "name": "stdout",
     "output_type": "stream",
     "text": [
      "False\n",
      "(0.5261734613336309, 0.5246876529813276)\n"
     ]
    }
   ],
   "source": [
    "print(np.allclose(hsmOutput['hlr'], emulated_hlr))\n",
    "print(hsmOutput['hlr'], emulated_hlr)"
   ]
  },
  {
   "cell_type": "markdown",
   "metadata": {},
   "source": [
    "It turns out that the emulated image is 1% bigger!"
   ]
  },
  {
   "cell_type": "code",
   "execution_count": 16,
   "metadata": {},
   "outputs": [
    {
     "name": "stdout",
     "output_type": "stream",
     "text": [
      "-0.00282379949102216\n"
     ]
    }
   ],
   "source": [
    "print((emulated_hlr-hsmOutput['hlr'])/hsmOutput['hlr'])"
   ]
  },
  {
   "cell_type": "markdown",
   "metadata": {},
   "source": [
    "We've compared the half-light radius, but what goes in the source table (and stored in `hsmOutput['trace']`) is the trace of the second moment from `calculateMomentRadius(rtype='trace')`"
   ]
  },
  {
   "cell_type": "code",
   "execution_count": 17,
   "metadata": {},
   "outputs": [
    {
     "data": {
      "text/plain": [
       "0.4027072469799542"
      ]
     },
     "execution_count": 17,
     "metadata": {},
     "output_type": "execute_result"
    }
   ],
   "source": [
    "hsmOutput['trace']"
   ]
  },
  {
   "cell_type": "markdown",
   "metadata": {},
   "source": [
    "### 2.3 Flux"
   ]
  },
  {
   "cell_type": "markdown",
   "metadata": {},
   "source": [
    "It doesn't make sense to use HSM's flux estimation (`moments.amp`) when we have access to the true flux, i.e. the sum of the lens flux and the four (quasar) image fluxes is the true total flux. So we bypass HSM and store the sum of the true image's pixel values as flux. So we expect that the flux values of true and emulated images agree within floating-point precision."
   ]
  },
  {
   "cell_type": "code",
   "execution_count": 18,
   "metadata": {},
   "outputs": [
    {
     "name": "stdout",
     "output_type": "stream",
     "text": [
      "True\n"
     ]
    }
   ],
   "source": [
    "l_flux = galsimInput['flux']\n",
    "g_fluxes = [galsimInput['flux_' + str(i)] for i in range(4)]\n",
    "true_tot_flux = l_flux + np.sum(g_fluxes)\n",
    "print(np.allclose(true_tot_flux, hsmOutput['apFlux']))"
   ]
  },
  {
   "cell_type": "markdown",
   "metadata": {},
   "source": [
    "## 3. Comparing the HSM output with the analytically derived properties"
   ]
  },
  {
   "cell_type": "markdown",
   "metadata": {},
   "source": [
    "### 3.1 Second moments"
   ]
  },
  {
   "cell_type": "markdown",
   "metadata": {},
   "source": [
    "Here, we compare GalSim's numerical calculation of the second moment with the analytically derived moments. This is a good test for the analytical calculations! First, we render a high-res image of our test object so that GalSim can do a more precise moment calculation."
   ]
  },
  {
   "cell_type": "code",
   "execution_count": null,
   "metadata": {},
   "outputs": [],
   "source": [
    "om10realizer.nx, om10realizer.ny = 101, 101\n",
    "om10realizer.pixel_scale = 0.05\n",
    "trueImgHR = om10realizer.draw_system(lensInfo=test_lensInfo, obsInfo=test_obsInfo)\n",
    "plt.imshow(trueImgHR.array)\n",
    "plt.colorbar()"
   ]
  },
  {
   "cell_type": "markdown",
   "metadata": {},
   "source": [
    "We run our analytical moment calculation on the object parameters and the HSM shape estimation on the image."
   ]
  },
  {
   "cell_type": "code",
   "execution_count": null,
   "metadata": {},
   "outputs": [],
   "source": [
    "derivedProps = om10realizer._om10_to_lsst(lensInfo=test_lensInfo, obsInfo=test_obsInfo)\n",
    "outputHSM = trueImgHR.FindAdaptiveMom()"
   ]
  },
  {
   "cell_type": "markdown",
   "metadata": {},
   "source": [
    "The GalSim function `calculateMomentRadius(rtype='trace')` returns $\\sqrt{\\frac{I_{xx} + I_{yy}}{2}}$ whereas setting the parameter `rtype='det'` returns $\\left( I_{xx} \\times I_{yy} - I_{xy}^2 \\right)^{1/4}$. We make adjustments to get just the trace and the determinant. Alternatively, we can call `FindAdaptiveMom` on the image. We do both here."
   ]
  },
  {
   "cell_type": "code",
   "execution_count": null,
   "metadata": {},
   "outputs": [],
   "source": [
    "# Numerical trace, determinant\n",
    "anaIx = derivedProps['x']\n",
    "anaIy = derivedProps['y']\n",
    "anaCentroid = galsim.PositionD(x=physical_to_pixel(anaIx, 101, 0.05), y=physical_to_pixel(anaIy, 101, 0.05))\n",
    "\n",
    "numTrace = trueImgHR.calculateMomentRadius(rtype='trace', center=anaCentroid)**2.0*2.0\n",
    "numDet = trueImgHR.calculateMomentRadius(rtype='det', center=anaCentroid)**4.0\n",
    "numDetHSM = (outputHSM.moments_sigma*om10realizer.pixel_scale)**4.0\n",
    "print(\"Numerical trace: %f, numerical determinant %f or %f (HSM)\" %(numTrace, numDet, numDetHSM))\n",
    "\n",
    "# Analytical trace, determinant\n",
    "print(\"Analytical trace: %f, analytical determinant %f\" %(derivedProps['trace'], derivedProps['det']))\n",
    "\n",
    "print(np.allclose([derivedProps['trace'], derivedProps['det']], [numTrace, numDet], atol=1.e-3, rtol=1.e-3))"
   ]
  },
  {
   "cell_type": "markdown",
   "metadata": {},
   "source": [
    "The numerical and analytical calculations of trace and determinant agree!"
   ]
  },
  {
   "cell_type": "markdown",
   "metadata": {},
   "source": [
    "### 3.2 First moments\n",
    "\n",
    "Of course, the second moment calculation depends on a successful calculation of the first moment, which is an input. We should've actually checked for this first.\n",
    "\n",
    "Since HSM runs on the image, it suffers from some sub-pixel error. But we see that the numerical and analytical first moment calculations agree within the pixel precision."
   ]
  },
  {
   "cell_type": "code",
   "execution_count": null,
   "metadata": {},
   "outputs": [],
   "source": [
    "print(anaCentroid.x, anaCentroid.y)\n",
    "print(outputHSM.moments_centroid.x, outputHSM.moments_centroid.y)"
   ]
  },
  {
   "cell_type": "markdown",
   "metadata": {},
   "source": [
    "### 3.2 Ellipticities"
   ]
  },
  {
   "cell_type": "markdown",
   "metadata": {},
   "source": [
    "Unfortunately, we see some differences in the leading digits between the numerical and analytical $e_1$ and $e_2$. One possible explanation is that the sub-pixel error in the HSM's first moment calculation becomes significant as we convert from pixels to arcseconds, and the error propagates into the second moment calculation. Since ellipticities are ratios between linear combinations of second moments, it is vulnerable to very small errors in either the numerator or the denominator."
   ]
  },
  {
   "cell_type": "code",
   "execution_count": null,
   "metadata": {},
   "outputs": [],
   "source": [
    "print(\"Numerical e1, e2: (%f, %f)\" %(outputHSM.observed_shape.e1, outputHSM.observed_shape.e2))\n",
    "print(\"Analytical e1, e2: (%f, %f)\" %(derivedProps['e1'], derivedProps['e2']))"
   ]
  }
 ],
 "metadata": {
  "kernelspec": {
   "display_name": "Python 2",
   "language": "python",
   "name": "python2"
  },
  "language_info": {
   "codemirror_mode": {
    "name": "ipython",
    "version": 2
   },
   "file_extension": ".py",
   "mimetype": "text/x-python",
   "name": "python",
   "nbconvert_exporter": "python",
   "pygments_lexer": "ipython2",
   "version": "2.7.12"
  }
 },
 "nbformat": 4,
 "nbformat_minor": 2
}
