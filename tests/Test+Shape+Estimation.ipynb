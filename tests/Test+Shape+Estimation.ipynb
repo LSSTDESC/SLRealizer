{
 "cells": [
  {
   "cell_type": "code",
   "execution_count": null,
   "metadata": {},
   "outputs": [],
   "source": [
    "import galsim\n",
    "from om10 import DB\n",
    "import os\n",
    "import pandas as pd\n",
    "import numpy as np\n",
    "import matplotlib.pyplot as plt\n",
    "\n",
    "import sys\n",
    "realizer_path = os.path.join(os.environ['SLREALIZERDIR'], 'slrealizer')\n",
    "sys.path.insert(0, realizer_path)\n",
    "from realize_om10 import OM10Realizer\n",
    "from utils.utils import *\n",
    "#from realize_sl import SLRealizer\n",
    "\n",
    "%matplotlib inline\n",
    "%load_ext autoreload\n",
    "%autoreload 2"
   ]
  },
  {
   "cell_type": "markdown",
   "metadata": {},
   "source": [
    "# Includes:\n",
    "# 1. Determining nx, ny, and pixel scale for GalSim's drawImage and \n",
    "# 2. Comparing the true and emulated images\n",
    "# 3. Comparing the HSM output with the analytically derived properties"
   ]
  },
  {
   "cell_type": "markdown",
   "metadata": {},
   "source": [
    "## 1. Checking that all functions of OM10Realizer run as expected"
   ]
  },
  {
   "cell_type": "markdown",
   "metadata": {},
   "source": [
    "I write this test in a notebook because I'll need to look at images for each (nx, ny, pixel scale) configuration and qualitatively judge whether it will be okay for HSM shape estimation. First, I define the filepath for the test lens catalog and test observation history. I created these files just for testing purposes; they only have one row each."
   ]
  },
  {
   "cell_type": "code",
   "execution_count": null,
   "metadata": {},
   "outputs": [],
   "source": [
    "data_path = os.path.join(os.environ['SLREALIZERDIR'], 'data')\n",
    "\n",
    "test_catalog_f = os.path.join(data_path, 'test_catalog.fits')\n",
    "observation_f = os.path.join(data_path, 'twinkles_observation_history.csv')"
   ]
  },
  {
   "cell_type": "markdown",
   "metadata": {},
   "source": [
    "We will read them in as OM10 DB and Pandas dataframe, respectively, and use them to create our OM10Realizer object."
   ]
  },
  {
   "cell_type": "code",
   "execution_count": null,
   "metadata": {},
   "outputs": [],
   "source": [
    "test_db = DB(catalog=test_catalog_f)\n",
    "#test_db = test_db.select_random(maglim=23.3, area=18000.0, IQ=0.75)\n",
    "test_db.paint(synthetic=True)\n",
    "\n",
    "test_obs = pd.read_csv(observation_f).sample(1, random_state=123).reset_index(drop=True)\n",
    "\n",
    "om10realizer = OM10Realizer(observation=test_obs, catalog=test_db, debug=True)"
   ]
  },
  {
   "cell_type": "markdown",
   "metadata": {},
   "source": [
    "These are equivalents of the lensInfo and obsInfo parameters that are input to many of the methods in OM10Realizer. We save the values to test individual methods."
   ]
  },
  {
   "cell_type": "code",
   "execution_count": null,
   "metadata": {},
   "outputs": [],
   "source": [
    "test_lensInfo = test_db.sample[0]\n",
    "test_obsInfo = test_obs.loc[0]"
   ]
  },
  {
   "cell_type": "code",
   "execution_count": null,
   "metadata": {},
   "outputs": [],
   "source": [
    "test_obsInfo"
   ]
  },
  {
   "cell_type": "code",
   "execution_count": null,
   "metadata": {},
   "outputs": [],
   "source": [
    "test_lensInfo"
   ]
  },
  {
   "cell_type": "markdown",
   "metadata": {},
   "source": [
    "### 1.1 Converting OM10 catalog values into GalSim input parameters"
   ]
  },
  {
   "cell_type": "code",
   "execution_count": null,
   "metadata": {},
   "outputs": [],
   "source": [
    "galsimInput = om10realizer._from_om10_to_galsim(test_lensInfo, test_obsInfo['filter'])\n",
    "galsimInput"
   ]
  },
  {
   "cell_type": "markdown",
   "metadata": {},
   "source": [
    "### 1.2 Drawing the true image via GalSim's drawImage"
   ]
  },
  {
   "cell_type": "code",
   "execution_count": null,
   "metadata": {},
   "outputs": [],
   "source": [
    "trueImg = om10realizer.draw_system(lensInfo=test_lensInfo, obsInfo=test_obsInfo)\n",
    "plt.imshow(trueImg.array)\n",
    "plt.colorbar()"
   ]
  },
  {
   "cell_type": "markdown",
   "metadata": {},
   "source": [
    "### 1.3 Running HSM's shape estimation on the true image"
   ]
  },
  {
   "cell_type": "code",
   "execution_count": null,
   "metadata": {},
   "outputs": [],
   "source": [
    "hsmOutput = om10realizer.estimate_hsm(lensInfo=test_lensInfo, obsInfo=test_obsInfo)\n",
    "hsmOutput"
   ]
  },
  {
   "cell_type": "markdown",
   "metadata": {},
   "source": [
    "### 1.4 Drawing the emulated image via GalSim's drawImage"
   ]
  },
  {
   "cell_type": "code",
   "execution_count": null,
   "metadata": {},
   "outputs": [],
   "source": [
    "emulatedImg = om10realizer.draw_emulated_system(lensInfo=test_lensInfo, obsInfo=test_obsInfo)\n",
    "plt.imshow(emulatedImg.array)\n",
    "plt.colorbar()"
   ]
  },
  {
   "cell_type": "markdown",
   "metadata": {},
   "source": [
    "## 2. Comparing the true image vs. emulated image"
   ]
  },
  {
   "cell_type": "markdown",
   "metadata": {},
   "source": [
    "### 2.1 First moments x, y"
   ]
  },
  {
   "cell_type": "markdown",
   "metadata": {},
   "source": [
    "Qualitatively, the two images look similar. When we take the difference of the images, it seems that their centers have a slight offset. Let's investigate why."
   ]
  },
  {
   "cell_type": "code",
   "execution_count": null,
   "metadata": {},
   "outputs": [],
   "source": [
    "plt.imshow(trueImg.array-emulatedImg.array)\n",
    "plt.colorbar()"
   ]
  },
  {
   "cell_type": "code",
   "execution_count": null,
   "metadata": {},
   "outputs": [],
   "source": [
    "estEmulated = emulatedImg.FindAdaptiveMom()\n",
    "pixel_to_physical(estEmulated.moments_centroid.x, om10realizer.nx, om10realizer.pixel_scale)"
   ]
  },
  {
   "cell_type": "markdown",
   "metadata": {},
   "source": [
    "### 2.2 Second moments (half-light radius)"
   ]
  },
  {
   "cell_type": "markdown",
   "metadata": {},
   "source": [
    "If the shear is not too dramatic, `calculateHLR` works fairly well to estimate the true HLR. Let us first compare the HLR of the emulated image to the true HLR."
   ]
  },
  {
   "cell_type": "code",
   "execution_count": null,
   "metadata": {},
   "outputs": [],
   "source": [
    "from utils.utils import physical_to_pixel\n",
    "phys_x = physical_to_pixel(hsmOutput['x'], canvasSize=om10realizer.nx, pixel_scale=om10realizer.pixel_scale)\n",
    "phys_y = physical_to_pixel(hsmOutput['y'], canvasSize=om10realizer.ny, pixel_scale=om10realizer.pixel_scale)\n",
    "pixelCenter = galsim.PositionD(x=phys_x, y=phys_y)"
   ]
  },
  {
   "cell_type": "code",
   "execution_count": null,
   "metadata": {},
   "outputs": [],
   "source": [
    "emulated_hlr = emulatedImg.calculateHLR(center=pixelCenter)"
   ]
  },
  {
   "cell_type": "markdown",
   "metadata": {},
   "source": [
    "The HLRs of the true and emulated images do not agree to floating-point precision."
   ]
  },
  {
   "cell_type": "code",
   "execution_count": null,
   "metadata": {},
   "outputs": [],
   "source": [
    "print(np.allclose(hsmOutput['hlr'], emulated_hlr))\n",
    "print(hsmOutput['hlr'], emulated_hlr)"
   ]
  },
  {
   "cell_type": "markdown",
   "metadata": {},
   "source": [
    "It turns out that the emulated image is 1% bigger!"
   ]
  },
  {
   "cell_type": "code",
   "execution_count": null,
   "metadata": {},
   "outputs": [],
   "source": [
    "print((emulated_hlr-hsmOutput['hlr'])/hsmOutput['hlr'])"
   ]
  },
  {
   "cell_type": "markdown",
   "metadata": {},
   "source": [
    "We've compared the half-light radius, but what goes in the source table (and stored in `hsmOutput['trace']`) is the trace of the second moment from `calculateMomentRadius(rtype='trace')`"
   ]
  },
  {
   "cell_type": "code",
   "execution_count": null,
   "metadata": {},
   "outputs": [],
   "source": [
    "hsmOutput['trace']"
   ]
  },
  {
   "cell_type": "markdown",
   "metadata": {},
   "source": [
    "### 2.3 Flux"
   ]
  },
  {
   "cell_type": "markdown",
   "metadata": {},
   "source": [
    "It doesn't make sense to use HSM's flux estimation (`moments.amp`) when we have access to the true flux, i.e. the sum of the lens flux and the four (quasar) image fluxes is the true total flux. So we bypass HSM and store the sum of the true image's pixel values as flux. So we expect that the flux values of true and emulated images agree within floating-point precision."
   ]
  },
  {
   "cell_type": "code",
   "execution_count": null,
   "metadata": {},
   "outputs": [],
   "source": [
    "l_flux = galsimInput['flux']\n",
    "g_fluxes = [galsimInput['flux_' + str(i)] for i in range(4)]\n",
    "true_tot_flux = l_flux + np.sum(g_fluxes)\n",
    "print(np.allclose(true_tot_flux, hsmOutput['appFlux']))"
   ]
  },
  {
   "cell_type": "markdown",
   "metadata": {},
   "source": [
    "## 3. Comparing the HSM output with the analytically derived properties"
   ]
  },
  {
   "cell_type": "markdown",
   "metadata": {},
   "source": [
    "### 3.1 Second moments"
   ]
  },
  {
   "cell_type": "markdown",
   "metadata": {},
   "source": [
    "Here, we compare GalSim's numerical calculation of the second moment with the analytically derived moments. This is a good test for the analytical calculations! First, we render a high-res image of our test object so that GalSim can do a more precise moment calculation."
   ]
  },
  {
   "cell_type": "code",
   "execution_count": null,
   "metadata": {},
   "outputs": [],
   "source": [
    "om10realizer.nx, om10realizer.ny = 101, 101\n",
    "om10realizer.pixel_scale = 0.05\n",
    "trueImgHR = om10realizer.draw_system(lensInfo=test_lensInfo, obsInfo=test_obsInfo)\n",
    "plt.imshow(trueImgHR.array)\n",
    "plt.colorbar()"
   ]
  },
  {
   "cell_type": "markdown",
   "metadata": {},
   "source": [
    "We run our analytical moment calculation on the object parameters and the HSM shape estimation on the image."
   ]
  },
  {
   "cell_type": "code",
   "execution_count": null,
   "metadata": {},
   "outputs": [],
   "source": [
    "derivedProps = om10realizer._om10_to_lsst(lensInfo=test_lensInfo, obsInfo=test_obsInfo)\n",
    "outputHSM = trueImgHR.FindAdaptiveMom()"
   ]
  },
  {
   "cell_type": "markdown",
   "metadata": {},
   "source": [
    "The GalSim function `calculateMomentRadius(rtype='trace')` returns $\\sqrt{\\frac{I_{xx} + I_{yy}}{2}}$ whereas setting the parameter `rtype='det'` returns $\\left( I_{xx} \\times I_{yy} - I_{xy}^2 \\right)^{1/4}$. We make adjustments to get just the trace and the determinant. Alternatively, we can call `FindAdaptiveMom` on the image. We do both here."
   ]
  },
  {
   "cell_type": "code",
   "execution_count": null,
   "metadata": {},
   "outputs": [],
   "source": [
    "# Numerical trace, determinant\n",
    "anaIx = derivedProps['x']\n",
    "anaIy = derivedProps['y']\n",
    "anaCentroid = galsim.PositionD(x=physical_to_pixel(anaIx, 101, 0.05), y=physical_to_pixel(anaIy, 101, 0.05))\n",
    "\n",
    "numTrace = trueImgHR.calculateMomentRadius(rtype='trace', center=anaCentroid)**2.0*2.0\n",
    "numDet = trueImgHR.calculateMomentRadius(rtype='det', center=anaCentroid)**4.0\n",
    "numDetHSM = (outputHSM.moments_sigma*om10realizer.pixel_scale)**4.0\n",
    "print(\"Numerical trace: %f, numerical determinant %f or %f (HSM)\" %(numTrace, numDet, numDetHSM))\n",
    "\n",
    "# Analytical trace, determinant\n",
    "print(\"Analytical trace: %f, analytical determinant %f\" %(derivedProps['trace'], derivedProps['det']))\n",
    "\n",
    "print(np.allclose([derivedProps['trace'], derivedProps['det']], [numTrace, numDet], atol=1.e-3, rtol=1.e-3))"
   ]
  },
  {
   "cell_type": "markdown",
   "metadata": {},
   "source": [
    "The numerical and analytical calculations of trace and determinant agree!"
   ]
  },
  {
   "cell_type": "markdown",
   "metadata": {},
   "source": [
    "### 3.2 First moments\n",
    "\n",
    "Of course, the second moment calculation depends on a successful calculation of the first moment, which is an input. We should've actually checked for this first.\n",
    "\n",
    "Since HSM runs on the image, it suffers from some sub-pixel error. But we see that the numerical and analytical first moment calculations agree within the pixel precision."
   ]
  },
  {
   "cell_type": "code",
   "execution_count": null,
   "metadata": {},
   "outputs": [],
   "source": [
    "print(anaCentroid.x, anaCentroid.y)\n",
    "print(outputHSM.moments_centroid.x, outputHSM.moments_centroid.y)"
   ]
  },
  {
   "cell_type": "markdown",
   "metadata": {},
   "source": [
    "### 3.2 Ellipticities"
   ]
  },
  {
   "cell_type": "markdown",
   "metadata": {},
   "source": [
    "Unfortunately, we see some differences in the leading digits between the numerical and analytical $e_1$ and $e_2$. One possible explanation is that the sub-pixel error in the HSM's first moment calculation becomes significant as we convert from pixels to arcseconds, and the error propagates into the second moment calculation. Since ellipticities are ratios between linear combinations of second moments, it is vulnerable to very small errors in either the numerator or the denominator."
   ]
  },
  {
   "cell_type": "code",
   "execution_count": null,
   "metadata": {},
   "outputs": [],
   "source": [
    "print(\"Numerical e1, e2: (%f, %f)\" %(outputHSM.observed_shape.e1, outputHSM.observed_shape.e2))\n",
    "print(\"Analytical e1, e2: (%f, %f)\" %(derivedProps['e1'], derivedProps['e2']))"
   ]
  },
  {
   "cell_type": "code",
   "execution_count": null,
   "metadata": {},
   "outputs": [],
   "source": []
  }
 ],
 "metadata": {
  "kernelspec": {
   "display_name": "Python 2",
   "language": "python",
   "name": "python2"
  },
  "language_info": {
   "codemirror_mode": {
    "name": "ipython",
    "version": 2
   },
   "file_extension": ".py",
   "mimetype": "text/x-python",
   "name": "python",
   "nbconvert_exporter": "python",
   "pygments_lexer": "ipython2",
   "version": "2.7.12"
  }
 },
 "nbformat": 4,
 "nbformat_minor": 2
}
