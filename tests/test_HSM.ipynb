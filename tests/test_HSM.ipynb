{
 "cells": [
  {
   "cell_type": "code",
   "execution_count": 1,
   "metadata": {},
   "outputs": [],
   "source": [
    "import galsim\n",
    "from om10 import DB\n",
    "import os\n",
    "import pandas as pd\n",
    "import numpy as np\n",
    "import matplotlib.pyplot as plt\n",
    "\n",
    "import sys\n",
    "realizer_path = os.path.join(os.environ['SLREALIZERDIR'], 'slrealizer')\n",
    "sys.path.insert(0, realizer_path)\n",
    "from realize_om10 import OM10Realizer\n",
    "from utils.utils import *\n",
    "#from realize_sl import SLRealizer\n",
    "\n",
    "%matplotlib inline\n",
    "%load_ext autoreload\n",
    "%autoreload 2"
   ]
  },
  {
   "cell_type": "markdown",
   "metadata": {},
   "source": [
    "# Includes:\n",
    "# 1. Determining nx, ny, and pixel scale for GalSim's drawImage and \n",
    "# 2. comparing the true and emulated images."
   ]
  },
  {
   "cell_type": "markdown",
   "metadata": {},
   "source": [
    "## 1. Checking that all functions of OM10Realizer run as expected"
   ]
  },
  {
   "cell_type": "markdown",
   "metadata": {},
   "source": [
    "I write this test in a notebook because I'll need to look at images for each (nx, ny, pixel scale) configuration and qualitatively judge whether it will be okay for HSM shape estimation. First, I define the filepath for the test lens catalog and test observation history. I created these files just for testing purposes; they only have one row each."
   ]
  },
  {
   "cell_type": "code",
   "execution_count": 2,
   "metadata": {},
   "outputs": [],
   "source": [
    "data_path = os.path.join(os.environ['SLREALIZERDIR'], 'data')\n",
    "\n",
    "test_catalog_f = os.path.join(data_path, 'test_catalog.fits')\n",
    "observation_f = os.path.join(data_path, 'twinkles_observation_history.csv')"
   ]
  },
  {
   "cell_type": "markdown",
   "metadata": {},
   "source": [
    "We will read them in as OM10 DB and Pandas dataframe, respectively, and use them to create our OM10Realizer object."
   ]
  },
  {
   "cell_type": "code",
   "execution_count": 3,
   "metadata": {},
   "outputs": [
    {
     "name": "stdout",
     "output_type": "stream",
     "text": [
      "OM10: Full db.lenses table contains 1 systems\n",
      "OM10: Initial db.sample contains 1 systems\n"
     ]
    }
   ],
   "source": [
    "test_db = DB(catalog=test_catalog_f)\n",
    "#test_db = test_db.select_random(maglim=23.3, area=18000.0, IQ=0.75)\n",
    "test_db.paint(synthetic=True)\n",
    "\n",
    "test_obs = pd.read_csv(observation_f).sample(1, random_state=123).reset_index(drop=True)\n",
    "\n",
    "om10realizer = OM10Realizer(observation=test_obs, catalog=test_db, debug=True)"
   ]
  },
  {
   "cell_type": "markdown",
   "metadata": {},
   "source": [
    "These are equivalents of the lensInfo and obsInfo parameters that are input to many of the methods in OM10Realizer. We save the values to test individual methods."
   ]
  },
  {
   "cell_type": "code",
   "execution_count": 4,
   "metadata": {},
   "outputs": [],
   "source": [
    "test_lensInfo = test_db.sample[0]\n",
    "test_obsInfo = test_obs.loc[0]"
   ]
  },
  {
   "cell_type": "code",
   "execution_count": 5,
   "metadata": {},
   "outputs": [
    {
     "data": {
      "text/plain": [
       "obsHistID         1907745\n",
       "expMJD            62390.2\n",
       "filter                  i\n",
       "FWHMeff           0.98052\n",
       "fiveSigmaDepth    23.4774\n",
       "Name: 0, dtype: object"
      ]
     },
     "execution_count": 5,
     "metadata": {},
     "output_type": "execute_result"
    }
   ],
   "source": [
    "test_obsInfo"
   ]
  },
  {
   "cell_type": "code",
   "execution_count": 6,
   "metadata": {},
   "outputs": [
    {
     "data": {
      "text/html": [
       "&lt;Row index=0&gt;\n",
       "<table id=\"table139646175944144\">\n",
       "<thead><tr><th>LENSID</th><th>FLAGTYPE</th><th>NIMG</th><th>ZLENS</th><th>VELDISP</th><th>ELLIP</th><th>PHIE</th><th>GAMMA</th><th>PHIG</th><th>ZSRC</th><th>XSRC</th><th>YSRC</th><th>MAGI_IN</th><th>MAGI</th><th>IMSEP</th><th>XIMG [4]</th><th>YIMG [4]</th><th>MAG [4]</th><th>DELAY [4]</th><th>KAPPA [4]</th><th>FSTAR [4]</th><th>DD</th><th>DDLUM</th><th>ABMAG_I</th><th>APMAG_I</th><th>KCORR</th><th>DS</th><th>DDS</th><th>SIGCRIT</th><th>DSLUM</th><th>L_I</th><th>REFF</th><th>REFF_T</th><th>weight</th><th>r_SDSS_lens</th><th>g_SDSS_lens</th><th>i_SDSS_lens</th><th>z_SDSS_lens</th><th>u_SDSS_lens</th><th>r_SDSS_quasar</th><th>g_SDSS_quasar</th><th>i_SDSS_quasar</th><th>z_SDSS_quasar</th><th>u_SDSS_quasar</th></tr></thead>\n",
       "<thead><tr><th>int32</th><th>int16</th><th>int16</th><th>float64</th><th>float64</th><th>float64</th><th>float64</th><th>float64</th><th>float64</th><th>float64</th><th>float64</th><th>float64</th><th>float64</th><th>float64</th><th>float64</th><th>float64</th><th>float64</th><th>float64</th><th>float64</th><th>float64</th><th>float64</th><th>float64</th><th>float64</th><th>float64</th><th>float64</th><th>float64</th><th>float64</th><th>float64</th><th>float64</th><th>float64</th><th>float64</th><th>float64</th><th>float64</th><th>float32</th><th>float64</th><th>float64</th><th>float64</th><th>float64</th><th>float64</th><th>float64</th><th>float64</th><th>float64</th><th>float64</th><th>float64</th></tr></thead>\n",
       "<tr><td>6136045</td><td>0</td><td>4</td><td>0.524</td><td>149.6236</td><td>0.1070683</td><td>-134.1357</td><td>0.1467352</td><td>-16.22032</td><td>1.83</td><td>0.02024617</td><td>0.1071905</td><td>25.45</td><td>22.09077</td><td>0.6987287</td><td>-0.0375 .. 0.0071</td><td>-0.2501 .. 0.4468</td><td>-1.2993 .. -84.5576</td><td>6.805 .. 0.026</td><td>0.0 .. 0.0</td><td>0.0 .. 0.0</td><td>1290.3905</td><td>2997.02979</td><td>-21.7199993</td><td>21.1874561</td><td>0.523999989</td><td>1740.0</td><td>1045.1</td><td>0.0</td><td>13935.5</td><td>0.0</td><td>0.0</td><td>0.0</td><td>1.0</td><td>21.267590487682597</td><td>23.07721476737457</td><td>20.131404565160956</td><td>19.60687337748707</td><td>25.440792339536046</td><td>25.71341210492551</td><td>25.77487285889792</td><td>25.45</td><td>25.430733485421314</td><td>25.942860987100303</td></tr>\n",
       "</table>"
      ],
      "text/plain": [
       "<Row index=0>\n",
       " LENSID FLAGTYPE  NIMG  ZLENS  VELDISP    ELLIP      PHIE     GAMMA      PHIG     ZSRC     XSRC       YSRC   MAGI_IN   MAGI     IMSEP        XIMG [4]          YIMG [4]           MAG [4]         DELAY [4]    KAPPA [4]  FSTAR [4]      DD      DDLUM      ABMAG_I    APMAG_I      KCORR       DS     DDS   SIGCRIT  DSLUM    L_I     REFF   REFF_T  weight    r_SDSS_lens        g_SDSS_lens       i_SDSS_lens        z_SDSS_lens       u_SDSS_lens       r_SDSS_quasar     g_SDSS_quasar   i_SDSS_quasar   z_SDSS_quasar      u_SDSS_quasar   \n",
       " int32   int16   int16 float64 float64   float64   float64   float64   float64  float64  float64    float64  float64 float64   float64       float64           float64            float64          float64      float64    float64    float64   float64     float64    float64     float64   float64 float64 float64 float64 float64 float64 float64 float32      float64            float64           float64            float64           float64            float64           float64         float64         float64            float64      \n",
       "------- -------- ----- ------- -------- --------- --------- --------- --------- ------- ---------- --------- ------- -------- --------- ----------------- ----------------- ------------------- -------------- ---------- ---------- --------- ---------- ----------- ---------- ----------- ------- ------- ------- ------- ------- ------- ------- ------- ------------------ ----------------- ------------------ ----------------- ------------------ ----------------- ----------------- ------------- ------------------ ------------------\n",
       "6136045        0     4   0.524 149.6236 0.1070683 -134.1357 0.1467352 -16.22032    1.83 0.02024617 0.1071905   25.45 22.09077 0.6987287 -0.0375 .. 0.0071 -0.2501 .. 0.4468 -1.2993 .. -84.5576 6.805 .. 0.026 0.0 .. 0.0 0.0 .. 0.0 1290.3905 2997.02979 -21.7199993 21.1874561 0.523999989  1740.0  1045.1     0.0 13935.5     0.0     0.0     0.0     1.0 21.267590487682597 23.07721476737457 20.131404565160956 19.60687337748707 25.440792339536046 25.71341210492551 25.77487285889792         25.45 25.430733485421314 25.942860987100303"
      ]
     },
     "execution_count": 6,
     "metadata": {},
     "output_type": "execute_result"
    }
   ],
   "source": [
    "test_lensInfo"
   ]
  },
  {
   "cell_type": "markdown",
   "metadata": {},
   "source": [
    "### 1.1 Converting OM10 catalog values into GalSim input parameters"
   ]
  },
  {
   "cell_type": "code",
   "execution_count": 7,
   "metadata": {},
   "outputs": [
    {
     "data": {
      "text/plain": [
       "{'beta': galsim.Angle(-2.3411096094673582, galsim.radians),\n",
       " 'e': 0.1070683,\n",
       " 'flux': 8.860090826280615,\n",
       " 'flux_0': 0.08584389969962691,\n",
       " 'flux_1': 1.4577870583563612,\n",
       " 'flux_2': 4.345420449152838,\n",
       " 'flux_3': 5.586665229924711,\n",
       " 'half_light_radius': 0.0,\n",
       " 'num_objects': 4,\n",
       " 'xy_0': (-0.0375, -0.2501),\n",
       " 'xy_1': (0.254, 0.3703),\n",
       " 'xy_2': (-0.0772, 0.4475),\n",
       " 'xy_3': (0.0071, 0.4468)}"
      ]
     },
     "execution_count": 7,
     "metadata": {},
     "output_type": "execute_result"
    }
   ],
   "source": [
    "galsimInput = om10realizer._from_om10_to_galsim(test_lensInfo, test_obsInfo['filter'])\n",
    "galsimInput"
   ]
  },
  {
   "cell_type": "markdown",
   "metadata": {},
   "source": [
    "### 1.2 Drawing the true image via GalSim's drawImage"
   ]
  },
  {
   "cell_type": "code",
   "execution_count": 8,
   "metadata": {},
   "outputs": [
    {
     "data": {
      "text/plain": [
       "<matplotlib.colorbar.Colorbar at 0x7f01c91fb950>"
      ]
     },
     "execution_count": 8,
     "metadata": {},
     "output_type": "execute_result"
    },
    {
     "data": {
      "image/png": "[encoded data removed]",
      "text/plain": [
       "<matplotlib.figure.Figure at 0x7f01ec6b4990>"
      ]
     },
     "metadata": {},
     "output_type": "display_data"
    }
   ],
   "source": [
    "trueImg = om10realizer.draw_system(lensInfo=test_lensInfo, obsInfo=test_obsInfo)\n",
    "plt.imshow(trueImg.array)\n",
    "plt.colorbar()"
   ]
  },
  {
   "cell_type": "markdown",
   "metadata": {},
   "source": [
    "### 1.3 Running HSM's shape estimation on the true image"
   ]
  },
  {
   "cell_type": "code",
   "execution_count": 9,
   "metadata": {},
   "outputs": [
    {
     "data": {
      "text/plain": [
       "{'appFlux': 20.335790634155273,\n",
       " 'det': 0.4505239486694336,\n",
       " 'e1': -0.11928482353687286,\n",
       " 'e2': -0.004052335396409035,\n",
       " 'hlr': 0.5300217834452212,\n",
       " 'skyErr': 0.08129607826415788,\n",
       " 'trace': 0.40259420080387787,\n",
       " 'x': 0.052706347342357775,\n",
       " 'y': 0.2960949598444799}"
      ]
     },
     "execution_count": 9,
     "metadata": {},
     "output_type": "execute_result"
    }
   ],
   "source": [
    "hsmOutput = om10realizer.estimate_hsm(lensInfo=test_lensInfo, obsInfo=test_obsInfo)\n",
    "hsmOutput"
   ]
  },
  {
   "cell_type": "markdown",
   "metadata": {},
   "source": [
    "### 1.4 Drawing the emulated image via GalSim's drawImage"
   ]
  },
  {
   "cell_type": "code",
   "execution_count": 11,
   "metadata": {},
   "outputs": [
    {
     "data": {
      "text/plain": [
       "<matplotlib.colorbar.Colorbar at 0x7f01c888b7d0>"
      ]
     },
     "execution_count": 11,
     "metadata": {},
     "output_type": "execute_result"
    },
    {
     "data": {
      "image/png": "[encoded data removed]",
      "text/plain": [
       "<matplotlib.figure.Figure at 0x7f01c92c52d0>"
      ]
     },
     "metadata": {},
     "output_type": "display_data"
    }
   ],
   "source": [
    "emulatedImg = om10realizer.draw_emulated_system(lensInfo=test_lensInfo, obsInfo=test_obsInfo)\n",
    "plt.imshow(emulatedImg.array)\n",
    "plt.colorbar()"
   ]
  },
  {
   "cell_type": "markdown",
   "metadata": {},
   "source": [
    "## 2. Comparing the true image vs. emulated image"
   ]
  },
  {
   "cell_type": "markdown",
   "metadata": {},
   "source": [
    "### 2.1 First moments x, y"
   ]
  },
  {
   "cell_type": "markdown",
   "metadata": {},
   "source": [
    "Qualitatively, the two images look similar. When we take the difference of the images, it seems that their centers have a slight offset. Let's investigate why."
   ]
  },
  {
   "cell_type": "code",
   "execution_count": 12,
   "metadata": {},
   "outputs": [
    {
     "data": {
      "text/plain": [
       "<matplotlib.colorbar.Colorbar at 0x7f01c883da50>"
      ]
     },
     "execution_count": 12,
     "metadata": {},
     "output_type": "execute_result"
    },
    {
     "data": {
      "image/png": "[encoded data removed]",
      "text/plain": [
       "<matplotlib.figure.Figure at 0x7f01c9376f50>"
      ]
     },
     "metadata": {},
     "output_type": "display_data"
    }
   ],
   "source": [
    "plt.imshow(trueImg.array-emulatedImg.array)\n",
    "plt.colorbar()"
   ]
  },
  {
   "cell_type": "code",
   "execution_count": 13,
   "metadata": {},
   "outputs": [
    {
     "data": {
      "text/plain": [
       "0.0990374749643042"
      ]
     },
     "execution_count": 13,
     "metadata": {},
     "output_type": "execute_result"
    }
   ],
   "source": [
    "estEmulated = emulatedImg.FindAdaptiveMom()\n",
    "pixel_to_physical(estEmulated.moments_centroid.x, om10realizer.nx, om10realizer.pixel_scale)"
   ]
  },
  {
   "cell_type": "markdown",
   "metadata": {},
   "source": [
    "### 2.2 Second moments (half-light radius)"
   ]
  },
  {
   "cell_type": "markdown",
   "metadata": {},
   "source": [
    "If the shear is not too dramatic, `calculateHLR` works fairly well to estimate the true HLR. Let us first compare the HLR of the emulated image to the true HLR."
   ]
  },
  {
   "cell_type": "code",
   "execution_count": 14,
   "metadata": {},
   "outputs": [],
   "source": [
    "from utils.utils import physical_to_pixel\n",
    "phys_x = physical_to_pixel(hsmOutput['x'], canvasSize=om10realizer.nx, pixel_scale=om10realizer.pixel_scale)\n",
    "phys_y = physical_to_pixel(hsmOutput['y'], canvasSize=om10realizer.ny, pixel_scale=om10realizer.pixel_scale)\n",
    "pixelCenter = galsim.PositionD(x=phys_x, y=phys_y)"
   ]
  },
  {
   "cell_type": "code",
   "execution_count": 15,
   "metadata": {},
   "outputs": [],
   "source": [
    "emulated_hlr = emulatedImg.calculateHLR(center=pixelCenter)"
   ]
  },
  {
   "cell_type": "markdown",
   "metadata": {},
   "source": [
    "The HLRs of the true and emulated images do not agree to floating-point precision."
   ]
  },
  {
   "cell_type": "code",
   "execution_count": 16,
   "metadata": {},
   "outputs": [
    {
     "name": "stdout",
     "output_type": "stream",
     "text": [
      "False\n",
      "(0.5300217834452212, 0.5348277797107199)\n"
     ]
    }
   ],
   "source": [
    "print(np.allclose(hsmOutput['hlr'], emulated_hlr))\n",
    "print(hsmOutput['hlr'], emulated_hlr)"
   ]
  },
  {
   "cell_type": "markdown",
   "metadata": {},
   "source": [
    "It turns out that the emulated image is 1% bigger!"
   ]
  },
  {
   "cell_type": "code",
   "execution_count": 17,
   "metadata": {},
   "outputs": [
    {
     "name": "stdout",
     "output_type": "stream",
     "text": [
      "0.00906754479836473\n"
     ]
    }
   ],
   "source": [
    "print((emulated_hlr-hsmOutput['hlr'])/hsmOutput['hlr'])"
   ]
  },
  {
   "cell_type": "markdown",
   "metadata": {},
   "source": [
    "We've compared the half-light radius, but what goes in the source table (and stored in `hsmOutput['trace']`) is the trace of the second moment from `calculateMomentRadius(rtype='trace')`"
   ]
  },
  {
   "cell_type": "code",
   "execution_count": 18,
   "metadata": {},
   "outputs": [
    {
     "data": {
      "text/plain": [
       "0.40259420080387787"
      ]
     },
     "execution_count": 18,
     "metadata": {},
     "output_type": "execute_result"
    }
   ],
   "source": [
    "hsmOutput['trace']"
   ]
  },
  {
   "cell_type": "markdown",
   "metadata": {},
   "source": [
    "### 2.3 Flux"
   ]
  },
  {
   "cell_type": "markdown",
   "metadata": {},
   "source": [
    "It doesn't make sense to use HSM's flux estimation (`moments.amp`) when we have access to the true flux, i.e. the sum of the lens flux and the four (quasar) image fluxes is the true total flux. So we bypass HSM and store the sum of the true image's pixel values as flux. So we expect that the flux values of true and emulated images agree within floating-point precision."
   ]
  },
  {
   "cell_type": "code",
   "execution_count": 19,
   "metadata": {},
   "outputs": [
    {
     "name": "stdout",
     "output_type": "stream",
     "text": [
      "True\n"
     ]
    }
   ],
   "source": [
    "l_flux = galsimInput['flux']\n",
    "g_fluxes = [galsimInput['flux_' + str(i)] for i in range(4)]\n",
    "true_tot_flux = l_flux + np.sum(g_fluxes)\n",
    "print(np.allclose(true_tot_flux, hsmOutput['appFlux']))"
   ]
  }
 ],
 "metadata": {
  "kernelspec": {
   "display_name": "Python 2",
   "language": "python",
   "name": "python2"
  },
  "language_info": {
   "codemirror_mode": {
    "name": "ipython",
    "version": 2
   },
   "file_extension": ".py",
   "mimetype": "text/x-python",
   "name": "python",
   "nbconvert_exporter": "python",
   "pygments_lexer": "ipython2",
   "version": "2.7.12"
  }
 },
 "nbformat": 4,
 "nbformat_minor": 2
}
