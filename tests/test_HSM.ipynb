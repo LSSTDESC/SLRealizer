{
 "cells": [
  {
   "cell_type": "code",
   "execution_count": 1,
   "metadata": {},
   "outputs": [],
   "source": [
    "import galsim\n",
    "from om10 import DB\n",
    "import os\n",
    "import pandas as pd\n",
    "import numpy as np\n",
    "import matplotlib.pyplot as plt\n",
    "\n",
    "import sys\n",
    "realizer_path = os.path.join(os.environ['SLREALIZERDIR'], 'slrealizer')\n",
    "sys.path.insert(0, realizer_path)\n",
    "from realize_om10 import OM10Realizer\n",
    "from utils.utils import *\n",
    "#from realize_sl import SLRealizer\n",
    "\n",
    "%matplotlib inline\n",
    "%load_ext autoreload\n",
    "%autoreload 2"
   ]
  },
  {
   "cell_type": "code",
   "execution_count": 2,
   "metadata": {},
   "outputs": [],
   "source": [
    "data_path = os.path.join(os.environ['SLREALIZERDIR'], 'data')\n",
    "\n",
    "test_catalog_f = os.path.join(data_path, 'test_catalog.fits')\n",
    "observation_f = os.path.join(data_path, 'twinkles_observation_history.csv')"
   ]
  },
  {
   "cell_type": "code",
   "execution_count": 3,
   "metadata": {},
   "outputs": [
    {
     "name": "stdout",
     "output_type": "stream",
     "text": [
      "OM10: Full db.lenses table contains 1 systems\n",
      "OM10: Initial db.sample contains 1 systems\n"
     ]
    }
   ],
   "source": [
    "test_db = DB(catalog=test_catalog_f)\n",
    "#test_db = test_db.select_random(maglim=23.3, area=18000.0, IQ=0.75)\n",
    "test_db.paint(synthetic=True)\n",
    "\n",
    "test_obs = pd.read_csv(observation_f).sample(1, random_state=123).reset_index(drop=True)\n",
    "\n",
    "realizer = OM10Realizer(observation=test_obs, catalog=test_db)"
   ]
  },
  {
   "cell_type": "code",
   "execution_count": 4,
   "metadata": {},
   "outputs": [],
   "source": [
    "test_obsInfo = test_obs.loc[0]\n",
    "obsDict = test_obsInfo.to_dict()"
   ]
  },
  {
   "cell_type": "code",
   "execution_count": 5,
   "metadata": {},
   "outputs": [],
   "source": [
    "test_lensInfo = test_db.sample[0]"
   ]
  },
  {
   "cell_type": "code",
   "execution_count": 6,
   "metadata": {},
   "outputs": [
    {
     "data": {
      "text/plain": [
       "{'beta': galsim.Angle(-2.3411096094673582, galsim.radians),\n",
       " 'e': 0.1070683,\n",
       " 'flux': 8.408729168468524,\n",
       " 'flux_0': 0.08584389969962691,\n",
       " 'flux_1': 1.4577870583563612,\n",
       " 'flux_2': 4.345420449152838,\n",
       " 'flux_3': 5.586665229924711,\n",
       " 'half_light_radius': 0.0,\n",
       " 'num_objects': 4,\n",
       " 'xy_0': (-0.0375, -0.2501),\n",
       " 'xy_1': (0.254, 0.3703),\n",
       " 'xy_2': (-0.0772, 0.4475),\n",
       " 'xy_3': (0.0071, 0.4468)}"
      ]
     },
     "execution_count": 6,
     "metadata": {},
     "output_type": "execute_result"
    }
   ],
   "source": [
    "galsim_params = realizer._from_om10_to_galsim(test_lensInfo, obsDict['filter'])\n",
    "galsim_params"
   ]
  },
  {
   "cell_type": "code",
   "execution_count": 7,
   "metadata": {},
   "outputs": [],
   "source": [
    "l_flux = galsim_params['flux']\n",
    "g_fluxes = [galsim_params['flux_' + str(i)] for i in range(4)]\n",
    "true_tot_flux = l_flux + np.sum(g_fluxes)"
   ]
  },
  {
   "cell_type": "code",
   "execution_count": 8,
   "metadata": {},
   "outputs": [
    {
     "data": {
      "text/plain": [
       "obsHistID         1907745\n",
       "expMJD            62390.2\n",
       "filter                  i\n",
       "FWHMeff           0.98052\n",
       "fiveSigmaDepth    23.4774\n",
       "Name: 0, dtype: object"
      ]
     },
     "execution_count": 8,
     "metadata": {},
     "output_type": "execute_result"
    }
   ],
   "source": [
    "test_obsInfo"
   ]
  },
  {
   "cell_type": "code",
   "execution_count": 40,
   "metadata": {},
   "outputs": [],
   "source": [
    "trueImg = realizer.draw_system(lensInfo=test_lensInfo, obsInfo=test_obsInfo)"
   ]
  },
  {
   "cell_type": "code",
   "execution_count": 41,
   "metadata": {},
   "outputs": [
    {
     "data": {
      "text/plain": [
       "<matplotlib.colorbar.Colorbar at 0x7f925c69ed50>"
      ]
     },
     "execution_count": 41,
     "metadata": {},
     "output_type": "execute_result"
    },
    {
     "data": {
      "image/png": "[encoded data removed]",
      "text/plain": [
       "<matplotlib.figure.Figure at 0x7f925c755190>"
      ]
     },
     "metadata": {},
     "output_type": "display_data"
    }
   ],
   "source": [
    "plt.imshow(trueImg.array)\n",
    "plt.colorbar()"
   ]
  },
  {
   "cell_type": "code",
   "execution_count": 50,
   "metadata": {},
   "outputs": [
    {
     "data": {
      "text/plain": [
       "0.570087712549569"
      ]
     },
     "execution_count": 50,
     "metadata": {},
     "output_type": "execute_result"
    }
   ],
   "source": [
    "trueImg.calculateHLR()"
   ]
  },
  {
   "cell_type": "code",
   "execution_count": 42,
   "metadata": {},
   "outputs": [],
   "source": [
    "shape_info = realizer.estimate_hsm(lensInfo=test_lensInfo, obsInfo=test_obsInfo)"
   ]
  },
  {
   "cell_type": "code",
   "execution_count": 43,
   "metadata": {},
   "outputs": [
    {
     "data": {
      "text/plain": [
       "{'e1': -0.11789140850305557,\n",
       " 'e2': -0.0042729428969323635,\n",
       " 'flux': 19.956581115722656,\n",
       " 'nx': 52,\n",
       " 'ny': 52,\n",
       " 'size': 0.45038928985595705,\n",
       " 'x': 0.05275762857948969,\n",
       " 'y': 0.30239148148598183}"
      ]
     },
     "execution_count": 43,
     "metadata": {},
     "output_type": "execute_result"
    }
   ],
   "source": [
    "shape_info"
   ]
  },
  {
   "cell_type": "code",
   "execution_count": 44,
   "metadata": {},
   "outputs": [],
   "source": [
    "emulatedImg = realizer.draw_emulated_system(lensInfo=test_lensInfo, obsInfo=test_obsInfo)"
   ]
  },
  {
   "cell_type": "code",
   "execution_count": 45,
   "metadata": {},
   "outputs": [
    {
     "data": {
      "text/plain": [
       "<matplotlib.colorbar.Colorbar at 0x7f925c57a390>"
      ]
     },
     "execution_count": 45,
     "metadata": {},
     "output_type": "execute_result"
    },
    {
     "data": {
      "image/png": "[encoded data removed]",
      "text/plain": [
       "<matplotlib.figure.Figure at 0x7f925c647850>"
      ]
     },
     "metadata": {},
     "output_type": "display_data"
    }
   ],
   "source": [
    "plt.imshow(emulatedImg.array)\n",
    "plt.colorbar()"
   ]
  },
  {
   "cell_type": "code",
   "execution_count": 49,
   "metadata": {},
   "outputs": [
    {
     "data": {
      "text/plain": [
       "0.4758328923827062"
      ]
     },
     "execution_count": 49,
     "metadata": {},
     "output_type": "execute_result"
    }
   ],
   "source": [
    "trueImg.calculateMomentRadius()"
   ]
  },
  {
   "cell_type": "code",
   "execution_count": 16,
   "metadata": {},
   "outputs": [
    {
     "data": {
      "text/plain": [
       "False"
      ]
     },
     "execution_count": 16,
     "metadata": {},
     "output_type": "execute_result"
    }
   ],
   "source": [
    "np.allclose(true_tot_flux, shape_info['flux'])"
   ]
  },
  {
   "cell_type": "code",
   "execution_count": 17,
   "metadata": {},
   "outputs": [
    {
     "data": {
      "text/plain": [
       "(19.884445805602063, 19.956581115722656)"
      ]
     },
     "execution_count": 17,
     "metadata": {},
     "output_type": "execute_result"
    }
   ],
   "source": [
    "true_tot_flux, shape_info['flux']"
   ]
  },
  {
   "cell_type": "code",
   "execution_count": 84,
   "metadata": {},
   "outputs": [
    {
     "data": {
      "text/plain": [
       "galsim.hsm.ShapeData(image_bounds=galsim.BoundsI(xmin=1, xmax=56, ymin=1, ymax=56), moments_status=0, observed_shape=galsim.Shear((-0.05491315392011255-0.0019968655433851876j)), moments_sigma=4.256483554840088, moments_amp=20.000038146972656, moments_centroid=galsim.PositionD(x=28.5000003238549, y=28.499999975228405), moments_rho4=1.9999968681764737, moments_n_iter=6)"
      ]
     },
     "execution_count": 84,
     "metadata": {},
     "output_type": "execute_result"
    }
   ],
   "source": [
    "g = galsim.Gaussian(half_light_radius=0.5, flux=20).shear(e1=-0.11, e2=-0.004)\n",
    "ti = g.drawImage(scale=0.1)\n",
    "h = ti.FindAdaptiveMom()\n",
    "h"
   ]
  },
  {
   "cell_type": "code",
   "execution_count": 85,
   "metadata": {},
   "outputs": [
    {
     "data": {
      "text/plain": [
       "(56, 56)"
      ]
     },
     "execution_count": 85,
     "metadata": {},
     "output_type": "execute_result"
    }
   ],
   "source": [
    "ti.array.shape"
   ]
  },
  {
   "cell_type": "code",
   "execution_count": 86,
   "metadata": {},
   "outputs": [
    {
     "data": {
      "text/plain": [
       "<matplotlib.colorbar.Colorbar at 0x7f925bbeb810>"
      ]
     },
     "execution_count": 86,
     "metadata": {},
     "output_type": "execute_result"
    },
    {
     "data": {
      "image/png": "[encoded data removed]",
      "text/plain": [
       "<matplotlib.figure.Figure at 0x7f925bc9ac90>"
      ]
     },
     "metadata": {},
     "output_type": "display_data"
    }
   ],
   "source": [
    "plt.imshow(ti.array)\n",
    "plt.colorbar()"
   ]
  },
  {
   "cell_type": "code",
   "execution_count": null,
   "metadata": {},
   "outputs": [],
   "source": []
  },
  {
   "cell_type": "code",
   "execution_count": 90,
   "metadata": {},
   "outputs": [],
   "source": [
    "g_e = galsim.Gaussian(sigma=h.moments_sigma*0.1, flux= h.moments_amp).shear(e1=h.observed_shape.e1, e2=h.observed_shape.e2)"
   ]
  },
  {
   "cell_type": "code",
   "execution_count": 91,
   "metadata": {},
   "outputs": [],
   "source": [
    "te = g_e.drawImage(scale=0.1)"
   ]
  },
  {
   "cell_type": "code",
   "execution_count": 92,
   "metadata": {},
   "outputs": [
    {
     "data": {
      "text/plain": [
       "<matplotlib.colorbar.Colorbar at 0x7f925ba20490>"
      ]
     },
     "execution_count": 92,
     "metadata": {},
     "output_type": "execute_result"
    },
    {
     "data": {
      "image/png": "[encoded data removed]",
      "text/plain": [
       "<matplotlib.figure.Figure at 0x7f925bacd650>"
      ]
     },
     "metadata": {},
     "output_type": "display_data"
    }
   ],
   "source": [
    "plt.imshow(te.array)\n",
    "plt.colorbar()"
   ]
  },
  {
   "cell_type": "code",
   "execution_count": 93,
   "metadata": {},
   "outputs": [
    {
     "data": {
      "text/plain": [
       "<matplotlib.colorbar.Colorbar at 0x7f925b8fd090>"
      ]
     },
     "execution_count": 93,
     "metadata": {},
     "output_type": "execute_result"
    },
    {
     "data": {
      "image/png": "[encoded data removed]",
      "text/plain": [
       "<matplotlib.figure.Figure at 0x7f925b9ca450>"
      ]
     },
     "metadata": {},
     "output_type": "display_data"
    }
   ],
   "source": [
    "plt.imshow(te.array-ti.array)\n",
    "plt.colorbar()"
   ]
  },
  {
   "cell_type": "code",
   "execution_count": null,
   "metadata": {},
   "outputs": [],
   "source": []
  }
 ],
 "metadata": {
  "kernelspec": {
   "display_name": "Python 2",
   "language": "python",
   "name": "python2"
  },
  "language_info": {
   "codemirror_mode": {
    "name": "ipython",
    "version": 2
   },
   "file_extension": ".py",
   "mimetype": "text/x-python",
   "name": "python",
   "nbconvert_exporter": "python",
   "pygments_lexer": "ipython2",
   "version": "2.7.12"
  }
 },
 "nbformat": 4,
 "nbformat_minor": 2
}
