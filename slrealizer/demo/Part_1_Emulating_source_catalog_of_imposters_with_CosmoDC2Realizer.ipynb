{
 "cells": [
  {
   "cell_type": "markdown",
   "metadata": {},
   "source": [
    "# Part 1: Emulating the LSST DRP Source Catalog of lens-like imposters with CosmoDC2Realizer\n",
    "\n",
    "__Author:__ Ji Won Park (@jiwoncpark), __Last Run:__ 2018-12-14 (by @jiwoncpark)\n",
    "\n",
    "__Goals:__\n",
    "- In Part 1 (this notebook), learn how CosmoDC2Realizer emulates the LSST DRP Source Catalog from galaxies in the CosmoDC2 extragalactic catalog and point sources in the truth catalog\n",
    "- In Part 2 (next in this series), learn how SprinkledCosmoDC2Realizer emulates the LSST DRP Source Catalog by \"sprinkling\" lensed quasars from the OM10 catalog across the CosmoDC2 field, in the manner of the DC2 Sprinkler module.\n",
    "\n",
    "The following notebook was referenced to access and query the truth catalog:\n",
    "\n",
    "    Scott Daniel's DC2 Tutorial truth_gcr_intro.ipynb"
   ]
  },
  {
   "cell_type": "code",
   "execution_count": 1,
   "metadata": {},
   "outputs": [],
   "source": [
    "import os, sys\n",
    "import numpy as np\n",
    "import pandas as pd \n",
    "pd.options.display.max_columns = None\n",
    "import matplotlib.pyplot as plt\n",
    "# Utility functions for CosmoDC2Realizer\n",
    "sys.path.insert(0, 'hackurdc2_utils')\n",
    "import units\n",
    "import moments\n",
    "import cosmodc2realizer_helper as helper\n",
    "# For reading in the OpSim database\n",
    "import sqlite3\n",
    "import healpy\n",
    "# For accessing and querying the CosmoDC2 extragalactic catalog and truth catalog\n",
    "import GCRCatalogs\n",
    "from GCR import GCRQuery\n",
    "%matplotlib inline\n",
    "%load_ext autoreload\n",
    "%autoreload 2"
   ]
  },
  {
   "cell_type": "markdown",
   "metadata": {},
   "source": [
    "## About CosmoDC2Realizer\n",
    "\n",
    "`CosmoDC2Realizer` is a framework that emulates the LSST DRP Source Catalog. It takes in two DC2 catalogs--the extragalactic and truth catalogs, which contain properties of extended galaxy sources and point sources (e.g. stars, AGNs), respectively--and the OpSim database, which contains the per-visit observation conditions.\n",
    "\n",
    "__Note on Dependencies:__\n",
    "\n",
    "Although `CosmoDC2Realizer` is designed as a class within an LSSTDESC package called `SLRealizer`, we do not interface with the class in this notebook. The emphasis, instead, is to go over the logic of`CosmoDC2Realizer`. So we set aside some class helper modules in the directory `hackurdc2_utils` and use them directly.\n",
    "\n",
    "`CosmoDC2Realizer` does explicitly loop over each blended system to generate the Source Catalog. But it makes heavy use of `NumPy` and `Pandas` to vectorize the moment calculation across the Gaussian components of the system, for an enhanced performance.\n",
    "\n",
    "__Assumptions:__\n",
    "- _Gaussian mixtures to allow analytical moment calculation._ Emulation is made fast by bypassing image generation; we model each object as a mixture of Gaussians and the point-spread function (PSF) as a circular Gaussian so that we can _analytically_ compute the first and second moments required to populate the Source Catalog. Because the galaxies in the extragalactic catalog are modeled as Sersic profiles (de Vaucouleurs bulge and exponential disk), we approximate each Sersic component as a mixture of Gaussians as introduced in Hogg and Lang 2013 (HL13).\n",
    "- _A sufficiently good deblender._ We also assume a fairly good deblender with a fixed deblending scale of 0.5\"--chosen because it roughly corresponds to the full-width half maximum (FWHM) of the best LSST seeing. All sources located within the line-of-sight deblending scale of an object for a given visit will contribute to the moments of that object. Such objects that become blended together are referred to as \"neighbors\" here."
   ]
  },
  {
   "cell_type": "markdown",
   "metadata": {},
   "source": [
    "## 1. Choosing the OpSim fields\n",
    "The OpSim database is organized in terms of 5292 viewing fields generated from a tesselation of the sky ([OpSim catalog schema documentation](https://www.lsst.org/scientists/simulations/opsim/summary-table-column-descriptions-v335)). The observing schedule and conditions are the same within each field so, for computational efficiency, CosmoDC2Realizer first identifies the set of fields over which to realize the comprising objects.\n",
    "\n",
    "The `data` directory already contains all the OpSim data we'll need so running the cells with the jupyter magic `%%time` in this section won't be necessary."
   ]
  },
  {
   "cell_type": "code",
   "execution_count": 2,
   "metadata": {},
   "outputs": [],
   "source": [
    "# Where we'll store our data files\n",
    "data_dir = 'demo_data'"
   ]
  },
  {
   "cell_type": "code",
   "execution_count": 3,
   "metadata": {},
   "outputs": [
    {
     "name": "stdout",
     "output_type": "stream",
     "text": [
      "/usr/bin/sh: wget: command not found\n",
      "gzip: invalid option -- 'k'\n",
      "Try `gzip --help' for more information.\n"
     ]
    }
   ],
   "source": [
    "# Download OpSim db and gunzip\n",
    "# Running this cell is not necessary.\n",
    "# If you want to but it doesn't run, simply run it in the terminal.\n",
    "!mkdir data\n",
    "!cd data\n",
    "!wget opsim.lsst.org/runs/minion_1016/data/minion_1016_sqlite.db.gz\n",
    "!gunzip -k minion_1016_sqlite.db.gz"
   ]
  },
  {
   "cell_type": "code",
   "execution_count": 4,
   "metadata": {},
   "outputs": [
    {
     "name": "stdout",
     "output_type": "stream",
     "text": [
      "[('Session',), ('Config',), ('Field',), ('ObsHistory',), ('Proposal',), ('SeqHistory',), ('SlewHistory',), ('SlewActivities',), ('SlewState',), ('SlewMaxSpeeds',), ('TimeHistory',), ('ObsHistory_Proposal',), ('Cloud',), ('Seeing',), ('Log',), ('Config_File',), ('Proposal_Field',), ('SeqHistory_ObsHistory',), ('MissedHistory',), ('SeqHistory_MissedHistory',), ('Summary',)]\n",
      "CPU times: user 1.64 ms, sys: 852 µs, total: 2.49 ms\n",
      "Wall time: 10.6 ms\n"
     ]
    }
   ],
   "source": [
    "%%time\n",
    "# Read in the minion_1016 opsim database\n",
    "opsim_v3 = os.path.join('..', 'data', 'minion_1016_sqlite.db')\n",
    "conn = sqlite3.connect(opsim_v3)\n",
    "\n",
    "# See which tables the db file has\n",
    "cursor = conn.cursor()\n",
    "cursor.execute(\"SELECT name FROM sqlite_master WHERE type='table';\")\n",
    "print(cursor.fetchall())"
   ]
  },
  {
   "cell_type": "markdown",
   "metadata": {},
   "source": [
    "We are primarily interested in two tables of the `minion_1016` database: `ObsHistory` containing the observation conditions and `Field` containing the field positions."
   ]
  },
  {
   "cell_type": "code",
   "execution_count": 5,
   "metadata": {},
   "outputs": [
    {
     "name": "stdout",
     "output_type": "stream",
     "text": [
      "CPU times: user 42.1 s, sys: 8.74 s, total: 50.8 s\n",
      "Wall time: 52.9 s\n"
     ]
    }
   ],
   "source": [
    "%%time \n",
    "# ~ 40s in Jupyter-dev\n",
    "# Save the tables ObsHistory and Field as Pandas DataFrames\n",
    "obs_history = pd.read_sql(sql='SELECT * from ObsHistory', con=conn)\n",
    "field = pd.read_sql(sql='SELECT * from Field', con=conn)"
   ]
  },
  {
   "cell_type": "markdown",
   "metadata": {},
   "source": [
    "`GCRCatalogs` has made available `cosmoDC2_v1.0_9556`, a test version of the extragalactic catalog restricted to one healpixel. This healpixel, it turns out, roughly coincides with the OpSim field with ID 1188. For speed considerations, we will only work with galaxies in `cosmoDC2_v1.0_9556` that fall within Field 1188."
   ]
  },
  {
   "cell_type": "code",
   "execution_count": 6,
   "metadata": {},
   "outputs": [],
   "source": [
    "# Information about Field 1188\n",
    "field_id = 1188\n",
    "info_1188 = field.loc[field['fieldID']==field_id]\n",
    "ra_1188, dec_1188 = info_1188['fieldRA'].item(), info_1188['fieldDec'].item() # deg\n",
    "field_radius = 0.5*3.5 # deg"
   ]
  },
  {
   "cell_type": "markdown",
   "metadata": {},
   "source": [
    "## 2. Getting galaxies\n",
    "We query the extragalactic catalog for objects that lie in this field. As mentioned earlier, we load `cosmoDC2_v1.0_9556` rather than the full cosmoDC2 catalog in this notebook for fast demonstration."
   ]
  },
  {
   "cell_type": "code",
   "execution_count": 7,
   "metadata": {},
   "outputs": [
    {
     "name": "stdout",
     "output_type": "stream",
     "text": [
      "CPU times: user 3.31 s, sys: 854 ms, total: 4.16 s\n",
      "Wall time: 12.2 s\n"
     ]
    }
   ],
   "source": [
    "%%time\n",
    "# ~10s in Jupyter-dev\n",
    "catalog = GCRCatalogs.load_catalog('cosmoDC2_v1.0_9556')\n",
    "# 'cosmoDC2_v1.0_image' takes ~14 sec\n",
    "quantities = ['galaxy_id', 'ra_true', 'dec_true', 'redshift_true', \n",
    "              'size_bulge_true', 'size_minor_bulge_true', 'sersic_bulge', 'ellipticity_1_bulge_true',\n",
    "              'ellipticity_2_bulge_true', 'ellipticity_bulge_true',\n",
    "              'size_disk_true', 'size_minor_disk_true', 'sersic_disk', 'ellipticity_1_disk_true',\n",
    "              'ellipticity_2_disk_true', 'ellipticity_disk_true',\n",
    "              'bulge_to_total_ratio_i',\n",
    "              'mag_true_u_lsst',\n",
    "              'mag_true_g_lsst',\n",
    "              'mag_true_r_lsst',\n",
    "              'mag_true_i_lsst',\n",
    "              'mag_true_z_lsst',\n",
    "              'mag_true_Y_lsst',\n",
    "              'halo_mass',]\n",
    "\n",
    "cuts = [# Magnitude cut at 5-sigma depth for single exposure\n",
    "        # See https://confluence.lsstcorp.org/display/LKB/LSST+Key+Numbers\n",
    "        GCRQuery('mag_true_i_lsst < 24'), \n",
    "        # Query halo masses likely to host an AGN\n",
    "        GCRQuery('halo_mass > 1.e13'),\n",
    "        # Query sources located in Field 1188\n",
    "        GCRQuery('((ra_true - %f)**2.0 + (dec_true - %f)**2.0)**0.5 < %f' %(ra_1188, dec_1188, field_radius)),\n",
    "        #GCRQuery('abs(dec_true - %f) < %f' %(field_dec, field_radius)),\n",
    "        ]\n",
    "# Add filters as necessary!\n",
    "galaxies = catalog.get_quantities(quantities, filters=cuts)\n",
    "galaxies = pd.DataFrame(galaxies)"
   ]
  },
  {
   "cell_type": "markdown",
   "metadata": {},
   "source": [
    "## 3. Getting line-of-sight neighbors\n",
    "For each galaxy, any other galaxy or point source (unlensed AGN or star) that lie within its blending scale will be its line-of-sight neighbor. Galaxy neighbors will simply be taken from the extragalactic catalog, which we've already fetched. Point-source neighbors will be taken from the truth catalog as below.\n",
    "\n",
    "### Getting the neighbors (unlensed AGNs and stars) from the truth catalog"
   ]
  },
  {
   "cell_type": "code",
   "execution_count": 8,
   "metadata": {},
   "outputs": [
    {
     "name": "stdout",
     "output_type": "stream",
     "text": [
      "CPU times: user 49.3 s, sys: 3.72 s, total: 53.1 s\n",
      "Wall time: 53.6 s\n"
     ]
    }
   ],
   "source": [
    "%%time\n",
    "# truth_catalog = GCRCatalogs.load_catalog('dc2_truth_run1.1_static')\n",
    "truth_catalog = GCRCatalogs.load_catalog('dc2_truth_run1.1', {'md5': None})\n",
    "\n",
    "truth_catalog_columns = ['object_id', 'ra', 'dec', 'star', 'agn', 'sprinkled', 'healpix_2048',\n",
    "                        'u', 'g', 'r', 'i', 'z', 'y',]\n",
    "# ~40 in Jupyter-dev\n",
    "cuts = ['(star==1) | (agn==1)',\n",
    "        'sprinkled==0',\n",
    "        '((ra - %f)**2.0 + (dec - %f)**2.0)**0.5 < %f' %(ra_1188, dec_1188, field_radius),\n",
    "       ]\n",
    "\n",
    "# around 15s on Jupyter-dev\n",
    "point_neighbors = truth_catalog.get_quantities(truth_catalog_columns, filters=cuts)\n",
    "point_neighbors = pd.DataFrame(point_neighbors)"
   ]
  },
  {
   "cell_type": "code",
   "execution_count": 9,
   "metadata": {},
   "outputs": [],
   "source": [
    "# Some config constants to define before entering loop\n",
    "deblending_scale = 0.5 # arcsec\n",
    "fov = units.deg_to_arcsec(field_radius) # arcsec"
   ]
  },
  {
   "cell_type": "code",
   "execution_count": 10,
   "metadata": {},
   "outputs": [],
   "source": [
    "# Some unit conversion and column renaming\n",
    "obs_history_path = os.path.join(data_dir, 'obs_history.csv')\n",
    "galaxies_path = os.path.join(data_dir, 'galaxies.csv')\n",
    "point_neighbors_path = os.path.join(data_dir, 'point_neighbors.csv')\n",
    "\n",
    "obs_history = helper._format_obs_history(obs_history, field, obs_history_path)\n",
    "galaxies = helper._format_extragal_catalog(galaxies, galaxies_path)\n",
    "point_neighbors = helper._format_truth_catalog(point_neighbors, point_neighbors_path)"
   ]
  },
  {
   "cell_type": "code",
   "execution_count": 11,
   "metadata": {},
   "outputs": [
    {
     "name": "stderr",
     "output_type": "stream",
     "text": [
      "/opt/lsst/software/stack/python/miniconda3-4.5.4/envs/lsst-scipipe-fcd27eb/lib/python3.6/site-packages/ipykernel/__main__.py:71: FutureWarning: Sorting because non-concatenation axis is not aligned. A future version\n",
      "of pandas will change to not sort by default.\n",
      "\n",
      "To accept the future behavior, pass 'sort=False'.\n",
      "\n",
      "To retain the current behavior and silence the warning, pass 'sort=True'.\n",
      "\n"
     ]
    },
    {
     "name": "stdout",
     "output_type": "stream",
     "text": [
      "200 systems completed\n",
      "400 systems completed\n",
      "600 systems completed\n",
      "800 systems completed\n",
      "1000 systems completed\n",
      "1200 systems completed\n",
      "1400 systems completed\n",
      "1600 systems completed\n",
      "1800 systems completed\n",
      "2000 systems completed\n",
      "2200 systems completed\n",
      "2400 systems completed\n",
      "2600 systems completed\n",
      "2800 systems completed\n",
      "3000 systems completed\n",
      "3200 systems completed\n",
      "3400 systems completed\n",
      "3600 systems completed\n",
      "3800 systems completed\n",
      "4000 systems completed\n",
      "4200 systems completed\n",
      "4400 systems completed\n",
      "4600 systems completed\n",
      "4800 systems completed\n",
      "5000 systems completed\n",
      "5200 systems completed\n",
      "5400 systems completed\n",
      "5600 systems completed\n",
      "5800 systems completed\n",
      "6000 systems completed\n",
      "6200 systems completed\n",
      "6400 systems completed\n",
      "6600 systems completed\n",
      "6800 systems completed\n",
      "7000 systems completed\n",
      "7200 systems completed\n",
      "7400 systems completed\n",
      "7600 systems completed\n",
      "7800 systems completed\n",
      "8000 systems completed\n",
      "8200 systems completed\n",
      "8400 systems completed\n",
      "8600 systems completed\n",
      "8800 systems completed\n",
      "9000 systems completed\n",
      "9200 systems completed\n",
      "9400 systems completed\n",
      "9600 systems completed\n",
      "9800 systems completed\n",
      "10000 systems completed\n"
     ]
    },
    {
     "name": "stderr",
     "output_type": "stream",
     "text": [
      "/opt/lsst/software/stack/python/miniconda3-4.5.4/envs/lsst-scipipe-fcd27eb/lib/python3.6/site-packages/ipykernel/__main__.py:75: FutureWarning: Sorting because non-concatenation axis is not aligned. A future version\n",
      "of pandas will change to not sort by default.\n",
      "\n",
      "To accept the future behavior, pass 'sort=False'.\n",
      "\n",
      "To retain the current behavior and silence the warning, pass 'sort=True'.\n",
      "\n"
     ]
    },
    {
     "name": "stdout",
     "output_type": "stream",
     "text": [
      "CPU times: user 8h 6min 51s, sys: 1h 19min 47s, total: 9h 26min 39s\n",
      "Wall time: 9h 26min 35s\n"
     ]
    }
   ],
   "source": [
    "%%time\n",
    "source_cols = ['objectId', 'ccdVisitId', \n",
    "               'apFlux', 'Ix', 'Iy', 'Ixx', 'Iyy', 'Ixy', \n",
    "               'Ixx_PSF', 'sky', 'apFluxErr', 'expMJD',\n",
    "               'num_star_neighbors', 'num_agn_neighbors', 'num_sprinkled_neighbors']\n",
    "\n",
    "# Empty source table to be populated\n",
    "source = pd.DataFrame(columns=source_cols)\n",
    "\n",
    "for pointing in [[units.deg_to_arcsec(ra_1188), units.deg_to_arcsec(dec_1188)],]:\n",
    "    pointing_ra, pointing_dec = pointing\n",
    "    # Note: Much of the field querying is redundant to what we did in advance\n",
    "    # in this notebook, outside the loop.\n",
    "    # Query extragalactic catalog for galaxies within field\n",
    "    galaxies_in_fov, galaxies_in_fov_idx = helper.get_neighbors(galaxies, pointing_ra, pointing_dec, fov)\n",
    "    num_galaxies = len(galaxies_in_fov_idx)\n",
    "    # Query truth catalog for stars/AGNs within field\n",
    "    points_in_fov, _ = helper.get_neighbors(point_neighbors, pointing_ra, pointing_dec, fov)\n",
    "    # Initialize DataFrame to populate before joining with obs_history_in_field\n",
    "    source_at_pointing = pd.DataFrame(columns=source_cols)\n",
    "\n",
    "    for gal_idx in range(num_galaxies):\n",
    "        # Central galaxy\n",
    "        central_gal = galaxies_in_fov.iloc[gal_idx]\n",
    "        ra_center, dec_center = central_gal['ra'], central_gal['dec'] # pos of central galaxy\n",
    "\n",
    "        ##########################\n",
    "        # Find blended neighbors #\n",
    "        ##########################\n",
    "        # Galaxy neighbors (extended) : includes the central galaxy, not just neighbors\n",
    "        all_gal, all_gal_idx = helper.get_neighbors(galaxies_in_fov, ra_center, dec_center, deblending_scale) \n",
    "        num_gal_neighbors = len(all_gal_idx) - 1 # subtract central galaxy itself\n",
    "        # Stars/AGN neighbors (point)\n",
    "        point, point_idx = helper.get_neighbors(points_in_fov, ra_center, dec_center, deblending_scale) \n",
    "        num_star_neighbors = point['star'].sum()\n",
    "        num_agn_neighbors = point['agn'].sum()\n",
    "        num_sprinkled_neighbors = point['sprinkled'].sum()\n",
    "\n",
    "        #################\n",
    "        # Sersic to MoG #\n",
    "        #################\n",
    "        # Separate galaxy catalog into bulge and disk\n",
    "        bulge, disk, all_gal = helper.separate_bulge_disk(all_gal)\n",
    "        # Deconstruct bulge/disk into MoG\n",
    "        bulge_mog = helper.sersic_to_mog(sersic_df=bulge, bulge_or_disk='bulge')\n",
    "        disk_mog = helper.sersic_to_mog(sersic_df=disk, bulge_or_disk='disk')\n",
    "        point_mog = helper.point_to_mog(point_df=point)\n",
    "        # Concat the three\n",
    "        full_mog = pd.concat([bulge_mog, disk_mog, point_mog], axis=0)\n",
    "\n",
    "        # Add some metadata\n",
    "        full_mog['objectId'] = central_gal['galaxy_id'] # identifier for blended system\n",
    "        full_mog['num_gal_neighbors'] = num_gal_neighbors\n",
    "        full_mog['num_star_neighbors'] = num_star_neighbors\n",
    "        full_mog['num_agn_neighbors'] = num_agn_neighbors\n",
    "        full_mog['num_sprinkled_neighbors'] = num_sprinkled_neighbors\n",
    "\n",
    "        # Get visits at the system's position\n",
    "        obs_sys_center, _ = helper.get_neighbors(obs_history, ra_center, dec_center, fov, 'ditheredRA', 'ditheredDec')\n",
    "        # Join with observations\n",
    "        mog_observed = helper.join_with_observation(full_mog, obs_sys_center)\n",
    "        # Remove unobserved fluxes (only keep flux of observed filter)\n",
    "        mog_observed = helper.collapse_unobserved_fluxes(mog_observed)\n",
    "        # Calculate moment contribution of each Gaussian of blended system\n",
    "        mog_observed = moments.calculate_total_flux(mog_observed)\n",
    "        mog_observed = moments.calculate_1st_moments(mog_observed)\n",
    "        mog_observed = moments.calculate_2nd_moments(mog_observed)\n",
    "        # Collapse MoGs into one blended system\n",
    "        blended = moments.collapse_mog(mog_observed)\n",
    "        blended = moments.apply_environment(blended)\n",
    "\n",
    "        source_at_pointing = pd.concat([source_at_pointing, blended], axis=0)\n",
    "        if (gal_idx + 1) %200 == 0:\n",
    "            print(\"%d systems completed\" %(gal_idx + 1))\n",
    "\n",
    "    source = pd.concat([source, source_at_pointing], axis=0)"
   ]
  },
  {
   "cell_type": "code",
   "execution_count": 12,
   "metadata": {},
   "outputs": [],
   "source": [
    "source.to_csv(os.path.join(data_dir, 'source_catalog_full.csv'), index=False)"
   ]
  },
  {
   "cell_type": "markdown",
   "metadata": {},
   "source": [
    "Here are sample light curves of a blended system consisting of 2 galaxies."
   ]
  },
  {
   "cell_type": "raw",
   "metadata": {},
   "source": [
    "# Add a 'filter' column to the Source Catalog by joining with the obs_history table\n",
    "source['ccdVisitId'] = source['ccdVisitId'].astype(int)\n",
    "obs_history = obs_history[['ccdVisitId', 'filter']].copy()\n",
    "source = pd.merge(source, obs_history, on='ccdVisitId', how='left')"
   ]
  },
  {
   "cell_type": "raw",
   "metadata": {},
   "source": [
    "# Choose a random system with 2 galaxies blended together.\n",
    "sample_id = source.loc[source['num_gal_neighbors']==1]['objectId'].unique()[1]\n",
    "sample_lc = source.loc[source['objectId']==sample_id][['filter', 'apFlux', 'expMJD', 'ccdVisitId', 'apFluxErr']]"
   ]
  },
  {
   "cell_type": "raw",
   "metadata": {},
   "source": [
    "# Plot light curve\n",
    "color_dict = {'u': 'm', 'g': 'b', 'r': 'c', 'i': 'g', 'z': 'y', 'y': 'r'}\n",
    "for bp in 'ugrizy':\n",
    "    times = sample_lc.loc[sample_lc['filter']==bp]['expMJD'].values\n",
    "    fluxes = sample_lc.loc[sample_lc['filter']==bp]['apFlux'].values\n",
    "    mags = units.flux_to_mag(fluxes, from_unit='nMgy')\n",
    "    plt.plot(times, mags, color_dict[bp] + '.', label=bp)\n",
    "plt.legend(loc='center left', bbox_to_anchor=(1, 0.5))\n",
    "plt.ylabel('magnitude')\n",
    "plt.xlabel('expMJD')"
   ]
  }
 ],
 "metadata": {
  "kernelspec": {
   "display_name": "desc-stack",
   "language": "python",
   "name": "desc-stack"
  },
  "language_info": {
   "codemirror_mode": {
    "name": "ipython",
    "version": 3
   },
   "file_extension": ".py",
   "mimetype": "text/x-python",
   "name": "python",
   "nbconvert_exporter": "python",
   "pygments_lexer": "ipython3",
   "version": "3.6.6"
  }
 },
 "nbformat": 4,
 "nbformat_minor": 2
}
