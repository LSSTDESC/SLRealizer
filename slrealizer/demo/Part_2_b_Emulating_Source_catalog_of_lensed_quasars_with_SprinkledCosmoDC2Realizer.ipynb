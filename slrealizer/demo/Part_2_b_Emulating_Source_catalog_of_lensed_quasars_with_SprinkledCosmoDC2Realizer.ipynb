{
 "cells": [
  {
   "cell_type": "code",
   "execution_count": 10,
   "metadata": {},
   "outputs": [
    {
     "name": "stdout",
     "output_type": "stream",
     "text": [
      "The autoreload extension is already loaded. To reload it, use:\n",
      "  %reload_ext autoreload\n"
     ]
    }
   ],
   "source": [
    "from __future__ import print_function\n",
    "\n",
    "import os, sys\n",
    "import numpy as np\n",
    "import pandas as pd \n",
    "pd.options.display.max_columns = None\n",
    "import matplotlib.pyplot as plt\n",
    "# Utility functions for CosmoDC2Realizer\n",
    "sys.path.insert(0, 'hackurdc2_utils')\n",
    "import units\n",
    "import moments\n",
    "import cosmodc2realizer_helper as helper\n",
    "import sprinkledcosmodc2realizer_helper as sprinkled_helper\n",
    "# For reading in the OpSim database\n",
    "import sqlite3\n",
    "import healpy\n",
    "# For accessing and querying the CosmoDC2 extragalactic catalog and truth catalog\n",
    "import GCRCatalogs\n",
    "from GCR import GCRQuery\n",
    "# For lenses\n",
    "#sys.path.insert(0, '/global/u1/j/jwp/sw/OM10')\n",
    "#sys.path.insert(0, '/global/u1/j/jwp/sw/LensPop')\n",
    "#from om10 import DB\n",
    "from astropy.io import fits\n",
    "%matplotlib inline\n",
    "%load_ext autoreload\n",
    "%autoreload 2"
   ]
  },
  {
   "cell_type": "code",
   "execution_count": 4,
   "metadata": {},
   "outputs": [],
   "source": [
    "data_dir = 'demo_data'\n",
    "obs_history_path = os.path.join(data_dir, 'obs_history.csv')\n",
    "obs_history = pd.read_csv(obs_history_path, index_col=None)"
   ]
  },
  {
   "cell_type": "code",
   "execution_count": 5,
   "metadata": {},
   "outputs": [],
   "source": [
    "augmented_om10 = os.path.join('..', 'data', 'augmented_om10.fits')"
   ]
  },
  {
   "cell_type": "code",
   "execution_count": 11,
   "metadata": {},
   "outputs": [],
   "source": [
    "hdulist_2 = fits.open(augmented_om10)[1]"
   ]
  },
  {
   "cell_type": "code",
   "execution_count": 13,
   "metadata": {},
   "outputs": [
    {
     "name": "stdout",
     "output_type": "stream",
     "text": [
      "0.9899151921272278\n"
     ]
    }
   ],
   "source": [
    "print(hdulist_2.data['REFF'][0])"
   ]
  },
  {
   "cell_type": "code",
   "execution_count": null,
   "metadata": {},
   "outputs": [],
   "source": []
  }
 ],
 "metadata": {
  "kernelspec": {
   "display_name": "desc-stack",
   "language": "python",
   "name": "desc-stack"
  },
  "language_info": {
   "codemirror_mode": {
    "name": "ipython",
    "version": 3
   },
   "file_extension": ".py",
   "mimetype": "text/x-python",
   "name": "python",
   "nbconvert_exporter": "python",
   "pygments_lexer": "ipython3",
   "version": "3.6.6"
  }
 },
 "nbformat": 4,
 "nbformat_minor": 2
}
