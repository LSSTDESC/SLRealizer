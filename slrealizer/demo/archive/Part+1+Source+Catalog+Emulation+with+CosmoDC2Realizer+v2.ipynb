{
 "cells": [
  {
   "cell_type": "markdown",
   "metadata": {},
   "source": [
    "# Emulating the LSST DRP Source Catalog with CosmoDC2Realizer\n",
    "\n",
    "__Author:__ Ji Won Park (@jiwoncpark), __Last Run:__ 2018-12-14 (by @jiwoncpark)\n",
    "\n",
    "__Goals:__\n",
    "- In Part 1 (this notebook), learn how CosmoDC2Realizer emulates the LSST DRP Source Catalog of lensed quasars and contaminants from the CosmoDC2 extragalactic catalog and the truth catalog\n",
    "- In Part 2, visualize sample light curves from the CosmoDC2Realized catalog\n",
    "\n",
    "The following notebook was referenced to access and query the truth catalog:\n",
    "\n",
    "    Scott Daniel's DC2 Tutorial truth_gcr_intro.ipynb"
   ]
  },
  {
   "cell_type": "code",
   "execution_count": 1,
   "metadata": {},
   "outputs": [],
   "source": [
    "import os, sys\n",
    "import numpy as np\n",
    "import pandas as pd \n",
    "pd.options.display.max_columns = None\n",
    "import matplotlib.pyplot as plt\n",
    "import os, sys\n",
    "sys.path.insert(0, 'hackurdc2_utils')\n",
    "import units\n",
    "import moments\n",
    "import cosmodc2realizer_helper as helper\n",
    "# For reading in the OpSim database\n",
    "import sqlite3\n",
    "import healpy\n",
    "# For accessing and querying the CosmoDC2 extragalactic catalog and truth catalog\n",
    "#import GCRCatalogs\n",
    "#from GCR import GCRQuery\n",
    "%matplotlib inline\n",
    "%load_ext autoreload\n",
    "%autoreload 2"
   ]
  },
  {
   "cell_type": "markdown",
   "metadata": {},
   "source": [
    "## About CosmoDC2Realizer\n",
    "\n",
    "CosmoDC2Realizer is a framework that emulates the LSST DRP Source Catalog. It takes in two DC2 catalogs--the extragalactic and truth catalogs, which provide properties of extended galaxy sources and point sources (e.g. stars, AGNs), respectively--and the Opsim database, which provide the per-visit observation conditions. \n",
    "\n",
    "__Assumptions:__\n",
    "- Emulation is made fast by bypassing image generation; we model each object as a mixture of Gaussians and the point-spread function (PSF) as a circular Gaussian so that we can _analytically_ compute the first and second moments required to populate the Source Catalog. \n",
    "- We also assume a fairly good deblender with a fixed deblending scale of 0.5\"--chosen because it roughly corresponds to the full-width half maximum (FWHM) of the best LSST seeing. All sources located within the deblending scale of an object for a given visit will contribute to the moments of that object."
   ]
  },
  {
   "cell_type": "markdown",
   "metadata": {},
   "source": [
    "## 1. Choosing the OpSim fields\n",
    "The OpSim database is organized in terms of 5292 viewing fields generated from a tesselation of the sky ([OpSim catalog schema documentation](https://www.lsst.org/scientists/simulations/opsim/summary-table-column-descriptions-v335)). The observing schedule and conditions are the same within each field so, for computational efficiency, CosmoDC2Realizer first identifies the set of fields over which to realize the comprising objects."
   ]
  },
  {
   "cell_type": "code",
   "execution_count": 2,
   "metadata": {},
   "outputs": [
    {
     "name": "stdout",
     "output_type": "stream",
     "text": [
      "[(u'Session',), (u'Config',), (u'Field',), (u'ObsHistory',), (u'Proposal',), (u'SeqHistory',), (u'SlewHistory',), (u'SlewActivities',), (u'SlewState',), (u'SlewMaxSpeeds',), (u'TimeHistory',), (u'ObsHistory_Proposal',), (u'Cloud',), (u'Seeing',), (u'Log',), (u'Config_File',), (u'Proposal_Field',), (u'SeqHistory_ObsHistory',), (u'MissedHistory',), (u'SeqHistory_MissedHistory',), (u'Summary',)]\n"
     ]
    }
   ],
   "source": [
    "# Read in the minion_1016 opsim database\n",
    "opsim_v3 = os.path.join('..', 'data', 'minion_1016_sqlite.db')\n",
    "conn = sqlite3.connect(opsim_v3)\n",
    "\n",
    "# See which tables the db file has\n",
    "cursor = conn.cursor()\n",
    "cursor.execute(\"SELECT name FROM sqlite_master WHERE type='table';\")\n",
    "print(cursor.fetchall())"
   ]
  },
  {
   "cell_type": "markdown",
   "metadata": {},
   "source": [
    "We are primarily interested in two tables of the `minion_1016` database: `ObsHistory` containing the observation conditions and `Field` containing the field positions."
   ]
  },
  {
   "cell_type": "code",
   "execution_count": 3,
   "metadata": {},
   "outputs": [
    {
     "name": "stdout",
     "output_type": "stream",
     "text": [
      "CPU times: user 24.8 s, sys: 3.35 s, total: 28.1 s\n",
      "Wall time: 28.1 s\n"
     ]
    }
   ],
   "source": [
    "%%time \n",
    "# ~ 25s\n",
    "# Save the tables ObsHistory and Field as Pandas DataFrames\n",
    "obs_history = pd.read_sql(sql='SELECT * from ObsHistory', con=conn)\n",
    "field = pd.read_sql(sql='SELECT * from Field', con=conn)"
   ]
  },
  {
   "cell_type": "markdown",
   "metadata": {},
   "source": [
    "For speed considerations, we will only work with galaxies in `cosmoDC2_v1.0_9556`, a version of the extragalactic catalog restricted to one healpixel. This healpixel, it turns out, roughly coincides with the OpSim field with ID 1188 so we pre-save a subset of the `ObsHistory` table with the columns we'll need."
   ]
  },
  {
   "cell_type": "code",
   "execution_count": 4,
   "metadata": {},
   "outputs": [],
   "source": [
    "obs_history = helper._format_obs_history(obs_history)\n",
    "field = helper._format_field(field)"
   ]
  },
  {
   "cell_type": "markdown",
   "metadata": {},
   "source": [
    "## 2. Getting galaxies\n",
    "We query the extragalactic catalog for objects that lie in this field. As mentioned earlier, we load `cosmoDC2_v1.0_9556` rather than the full cosmoDC2 catalog in this notebook for fast demonstration."
   ]
  },
  {
   "cell_type": "code",
   "execution_count": null,
   "metadata": {},
   "outputs": [],
   "source": [
    "%%time\n",
    "catalog = GCRCatalogs.load_catalog('cosmoDC2_v1.0_9556')\n",
    "#catalog = GCRCatalogs.load_catalog('cosmoDC2_v1.0_image')\n",
    "# 'cosmoDC2_v1.0_image' takes ~14 sec\n",
    "quantities = ['galaxy_id', 'ra_true', 'dec_true', 'redshift_true', \n",
    "              'size_bulge_true', 'size_minor_bulge_true', 'sersic_bulge', 'ellipticity_1_bulge_true',\n",
    "              'ellipticity_2_bulge_true', 'ellipticity_bulge_true',\n",
    "              'size_disk_true', 'size_minor_disk_true', 'sersic_disk', 'ellipticity_1_disk_true',\n",
    "              'ellipticity_2_disk_true', 'ellipticity_disk_true',\n",
    "              #'ellipticity_1_true', 'ellipticity_2_true',\n",
    "              #'position_angle_true', 'ellipticity_true',\n",
    "              #'size_true', 'size_minor_true', 'sersic',\n",
    "              'bulge_to_total_ratio_i',\n",
    "              'mag_true_u_lsst',\n",
    "              'mag_true_g_lsst',\n",
    "              'mag_true_r_lsst',\n",
    "              'mag_true_i_lsst',\n",
    "              'mag_true_z_lsst',\n",
    "              'mag_true_Y_lsst',\n",
    "              'is_central', 'halo_mass',]\n",
    "\n",
    "cuts = [# A loose magnitude cut\n",
    "        #GCRQuery('mag_true_g_lsst < 27'), \n",
    "        # Query halo masses likely to host an AGN\n",
    "        GCRQuery('halo_mass > 1.e13'),\n",
    "        # Query sources belonging to Field 1188\n",
    "        GCRQuery('abs(ra_true - %f) < %f' %(field_ra, field_radius)),\n",
    "        GCRQuery('abs(dec_true - %f) < %f' %(field_dec, field_radius)),]\n",
    "# Add filters as necessary!\n",
    "galaxies = catalog.get_quantities(quantities, filters=cuts)"
   ]
  },
  {
   "cell_type": "markdown",
   "metadata": {},
   "source": [
    "We take a small subset of 1000 galaxies to realize. These galaxies will be at the center of our viewing window."
   ]
  },
  {
   "cell_type": "code",
   "execution_count": null,
   "metadata": {},
   "outputs": [],
   "source": [
    "small_galaxy_df.to_csv('small_galaxy_df.csv', index='galaxy_id')"
   ]
  },
  {
   "cell_type": "markdown",
   "metadata": {},
   "source": [
    "## 3. Getting line-of-sight neighbors\n",
    "For each extended galaxy source, any other galaxy or point source (unlensed AGN or star) that lie within its blending scale will be its line-of-sight neighbor. Galaxy neighbors will simply be taken from the extragalactic catalog, which we've already fetched. Point-source neighbors will be taken from the truth catalog as below.\n",
    "\n",
    "### Getting the neighbors (unlensed AGNs and stars) from the truth catalog"
   ]
  },
  {
   "cell_type": "code",
   "execution_count": null,
   "metadata": {},
   "outputs": [],
   "source": [
    "# truth_catalog = GCRCatalogs.load_catalog('dc2_truth_run1.1_static')\n",
    "truth_catalog = GCRCatalogs.load_catalog('dc2_truth_run1.1', {'md5': None})\n",
    "\n",
    "truth_catalog_columns = ['object_id', 'ra', 'dec', 'star', 'agn', 'sprinkled', 'healpix_2048',\n",
    "                        'u', 'g', 'r', 'i', 'z', 'y',]\n",
    "\n",
    "ra_min, ra_max = field_ra - field_radius, field_ra + field_radius\n",
    "dec_min, dec_max = field_dec - field_radius, field_dec + field_radius\n",
    "\n",
    "field_ra_rad = np.radians(field_ra)\n",
    "field_dec_rad = np.radians(field_dec)\n",
    "\n",
    "center_vec = np.array([np.cos(field_dec_rad)*np.cos(field_ra_rad),\n",
    "                       np.cos(field_dec_rad)*np.sin(field_ra_rad),\n",
    "                       np.sin(field_dec_rad)])\n",
    "\n",
    "list_of_healpix = healpy.query_disc(2048, center_vec, np.radians(radius), nest=True, inclusive=True)\n",
    "\n",
    "def filter_on_healpix(hp):\n",
    "    return np.array([hh in list_of_healpix for hh in hp])\n",
    "\n",
    "coord_filters = [\n",
    "    'ra >= {}'.format(ra_min),\n",
    "    'ra < {}'.format(ra_max),\n",
    "    'dec >= {}'.format(dec_min),\n",
    "    'dec < {}'.format(dec_max),\n",
    "]"
   ]
  },
  {
   "cell_type": "raw",
   "metadata": {},
   "source": [
    "%%time\n",
    "# around 15s on Jupyter-dev\n",
    "point_neighbors = truth_catalog.get_quantities(truth_catalog_columns,\n",
    "                                            native_filters=['(star==1) or (agn==1)',\n",
    "                                                            'sprinkled==0',\n",
    "                                                            'healpix_2048<=%d' % list_of_healpix.max(),\n",
    "                                                            'healpix_2048>=%d' % list_of_healpix.min()],\n",
    "                                            filters=[(filter_on_healpix, 'healpix_2048')]+coord_filters)  \n",
    "point_neighbors = pd.DataFrame(point_neighbors)"
   ]
  },
  {
   "cell_type": "code",
   "execution_count": null,
   "metadata": {},
   "outputs": [],
   "source": [
    "# delete later\n",
    "data_dir = os.path.join('..', 'data')\n",
    "galaxies = pd.read_csv(os.path.join(data_dir, 'small_galaxy_df.csv'))\n",
    "point_neighbors = pd.read_csv(os.path.join(data_dir, 'neighbors.csv'))\n",
    "#field = pd.read_csv(os.path.join(data_dir, 'field.csv'))\n",
    "\n",
    "deblending_scale = 0.5 # arcsec\n",
    "# Information about the field we will work with\n",
    "field_ids = [1188,]\n",
    "field_radius = units.deg_to_arcsec(0.5*3.5) # arcsec"
   ]
  },
  {
   "cell_type": "code",
   "execution_count": null,
   "metadata": {},
   "outputs": [],
   "source": [
    "# Some unit conversion and column renaming\n",
    "galaxies = helper._format_extragal_catalog(galaxies)\n",
    "point_neighbors = helper._format_truth_catalog(point_neighbors)"
   ]
  },
  {
   "cell_type": "code",
   "execution_count": null,
   "metadata": {},
   "outputs": [],
   "source": [
    "%%time\n",
    "\n",
    "mog_pre_observed_cols = ['objectId', 'ra', 'dec', 'gauss_sigma', 'e', 'phi',\n",
    "                         'num_star_neighbors', 'num_agn_neighbors', 'num_sprinkled_neighbors']\n",
    "mog_pre_observed_cols += ['flux_%s' %bp for bp in 'ugrizy']\n",
    "\n",
    "source_cols = ['objectId', 'ccdVisitId', \n",
    "               'apFlux', 'Ix', 'Iy', 'Ixx', 'Iyy', 'Ixy', \n",
    "               'Ixx_PSF', 'sky', 'apFluxErr', 'expMJD',\n",
    "               'num_star_neighbors', 'num_agn_neighbors', 'num_sprinkled_neighbors']\n",
    "\n",
    "source = pd.DataFrame(columns=source_cols)\n",
    "\n",
    "for field_id in field_ids:\n",
    "    # Query obs_history for the field of interest\n",
    "    obs_history_in_field = obs_history.loc[obs_history['Field_fieldID']==field_id]\n",
    "    # Find field center for field id by querying the field table of OpSim db\n",
    "    field_info = field.loc[field['fieldID']==field_id]\n",
    "    field_ra, field_dec = field_info['fieldRA'].item(), field_info['fieldDec'].item()\n",
    "    # Query extragalactic catalog for galaxies within field\n",
    "    galaxies_in_field, galaxies_in_field_idx = helper.get_neighbors(galaxies, field_ra, field_dec, field_radius)\n",
    "    num_galaxies = len(galaxies_in_field_idx)\n",
    "    # Query truth catalog for stars/AGNs within field\n",
    "    points_in_field, _ = helper.get_neighbors(point_neighbors, field_ra, field_dec, field_radius)\n",
    "    # Initialize DataFrame to populate before joining with obs_history_in_field\n",
    "    source_in_field = pd.DataFrame(columns=source_cols)\n",
    "    \n",
    "    for gal_idx in range(num_galaxies):\n",
    "        # Central galaxy\n",
    "        central_gal = galaxies_in_field.iloc[gal_idx]\n",
    "        ra_center, dec_center = central_gal['ra'], central_gal['dec'] # pos of central galaxy\n",
    "        \n",
    "        ##########################\n",
    "        # Find blended neighbors #\n",
    "        ##########################\n",
    "        # Galaxy neighbors (extended) : includes the central galaxy, not just neighbors\n",
    "        all_gal, all_gal_idx = helper.get_neighbors(galaxies_in_field, ra_center, dec_center, deblending_scale) \n",
    "        num_gal_neighbors = len(all_gal_idx) - 1 # subtract central galaxy itself\n",
    "        # Stars/AGN neighbors (point)\n",
    "        point, point_idx = helper.get_neighbors(points_in_field, ra_center, dec_center, deblending_scale) \n",
    "        num_star_neighbors = point['star'].sum()\n",
    "        num_agn_neighbors = point['agn'].sum()\n",
    "        num_sprinkled_neighbors = point['sprinkled'].sum()\n",
    "\n",
    "        #################\n",
    "        # Sersic to MoG #\n",
    "        #################\n",
    "        # Separate galaxy catalog into bulge and disk\n",
    "        bulge, disk, all_gal = helper.separate_bulge_disk(all_gal)\n",
    "        # Deconstruct bulge/disk into MoG\n",
    "        bulge_mog = helper.sersic_to_mog(sersic_df=bulge, bulge_or_disk='bulge')\n",
    "        disk_mog = helper.sersic_to_mog(sersic_df=disk, bulge_or_disk='disk')\n",
    "        point_mog = helper.point_to_mog(point_df=point)\n",
    "        # Concat the three\n",
    "        full_mog = pd.concat([bulge_mog, disk_mog, point_mog], axis=0)\n",
    "        \n",
    "        # Add some metadata\n",
    "        full_mog['objectId'] = central_gal['galaxy_id'] # identifier for blended system\n",
    "        full_mog['num_gal_neighbors'] = num_gal_neighbors\n",
    "        full_mog['num_star_neighbors'] = num_star_neighbors\n",
    "        full_mog['num_agn_neighbors'] = num_agn_neighbors\n",
    "        full_mog['num_sprinkled_neighbors'] = num_sprinkled_neighbors\n",
    "        \n",
    "        # Join with observations\n",
    "        mog_observed = helper.join_with_observation(full_mog, obs_history_in_field)\n",
    "        # Collapse unobserved fluxes\n",
    "        mog_observed = helper.collapse_unobserved_fluxes(mog_observed)\n",
    "        # Calculate moments of blended system\n",
    "        mog_observed = moments.calculate_total_flux(mog_observed)\n",
    "        mog_observed = moments.calculate_1st_moments(mog_observed)\n",
    "        mog_observed = moments.calculate_2nd_moments(mog_observed)\n",
    "        # Collapse MoGs of the blended system\n",
    "        blended = moments.collapse_mog(mog_observed)\n",
    "        blended = moments.apply_psf(blended)\n",
    "        \n",
    "        source_in_field = pd.concat([source_in_field, blended], axis=0)\n",
    "        \n",
    "    source = pd.concat([source, source_in_field], axis=0)"
   ]
  }
 ],
 "metadata": {
  "kernelspec": {
   "display_name": "Python 2",
   "language": "python",
   "name": "python2"
  },
  "language_info": {
   "codemirror_mode": {
    "name": "ipython",
    "version": 2
   },
   "file_extension": ".py",
   "mimetype": "text/x-python",
   "name": "python",
   "nbconvert_exporter": "python",
   "pygments_lexer": "ipython2",
   "version": "2.7.12"
  }
 },
 "nbformat": 4,
 "nbformat_minor": 2
}
