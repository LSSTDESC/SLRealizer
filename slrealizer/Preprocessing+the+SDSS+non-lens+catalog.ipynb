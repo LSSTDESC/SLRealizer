{
 "cells": [
  {
   "cell_type": "code",
   "execution_count": null,
   "metadata": {},
   "outputs": [],
   "source": [
    "import os, sys\n",
    "import numpy as np\n",
    "from astropy.table import Table\n",
    "import pandas as pd\n",
    "\n",
    "%load_ext autoreload\n",
    "%autoreload 2"
   ]
  },
  {
   "cell_type": "markdown",
   "metadata": {},
   "source": [
    "# Proprocessing the SDSS (non-lens) catalog"
   ]
  },
  {
   "cell_type": "markdown",
   "metadata": {},
   "source": [
    "Authors: Mike Baumer (mbaumer), Ji Won Park (jiwoncpark)\n",
    "\n",
    "This notebook contains decision choices behind preprocessing the SDSS catalog queried from the [CFHTLenS catalog query page](http://www.cadc-ccda.hia-iha.nrc-cnrc.gc.ca/en/community/CFHTLens/query.html) before feeding it into SDSSRealizer. As the purpose of this set is to serve as non-lenses that are similar to lenses for a binary classifier, some bold cuts were made."
   ]
  },
  {
   "cell_type": "code",
   "execution_count": null,
   "metadata": {},
   "outputs": [],
   "source": [
    "data_path = os.path.join(os.environ['SLREALIZERDIR'], 'data')\n",
    "sys.path.insert(0, data_path)\n",
    "sdss_f = os.path.join(data_path, 'sdss_object.fits')\n",
    "bands = ['u', 'g', 'r', 'i', 'z']"
   ]
  },
  {
   "cell_type": "code",
   "execution_count": null,
   "metadata": {},
   "outputs": [],
   "source": [
    "%%time\n",
    "data = fits.getdata(sdss_f)"
   ]
  },
  {
   "cell_type": "markdown",
   "metadata": {},
   "source": [
    "Let's take a look at the columns. This is more information than would make sense for making the LSST-like source table!"
   ]
  },
  {
   "cell_type": "code",
   "execution_count": null,
   "metadata": {},
   "outputs": [],
   "source": [
    "data.columns"
   ]
  },
  {
   "cell_type": "markdown",
   "metadata": {},
   "source": [
    "First, we make cuts on reasonableness."
   ]
  },
  {
   "cell_type": "code",
   "execution_count": null,
   "metadata": {},
   "outputs": [],
   "source": [
    "for b in bands:\n",
    "    data = data[(data['err_' + b] < 3)]\n",
    "    data = data[(data['mE1E1Err_' + b] > 0)]\n",
    "    data[(data['mE2E2Err_' + b] > 0)]\n",
    "    data = data[(data['modelFlux_' + b] < 1.e9) & (data['modelFlux_' + b] > 0.001)]\n",
    "    data = data[(data['offsetRa_' + b] < 4) & (data['offsetRa_' + b] > -4)]\n",
    "    data = data[(data['offsetDec_' + b] < 4) & (data['offsetDec_' + b] > -4)]\n",
    "    data = data[(~np.isnan(data['mE1_' + b])) & (data['mE1_' + b] < 15) & (data['mE1_' + b] > -15)]\n",
    "    data = data[(~np.isnan(data['mE2_' + b])) & (data['mE2_' + b] < 15) & (data['mE2_' + b] > -15)]\n",
    "    data = data[(data['mRrCc_' + b] < 300) & (data['mRrCc_' + b] > -300) & (np.abs(data['mRrCc_' + b]) > 1)]"
   ]
  },
  {
   "cell_type": "markdown",
   "metadata": {},
   "source": [
    "We only keep the columns we want."
   ]
  },
  {
   "cell_type": "code",
   "execution_count": null,
   "metadata": {},
   "outputs": [],
   "source": [
    "from itertools import product\n",
    "keep_cols = ['mE1_', 'mE2_', 'offsetRa_', 'offsetDec_', 'modelFlux_', 'mRrCc_']\n",
    "keep_cols = [c + b for c, b in product(keep_cols, bands)]"
   ]
  },
  {
   "cell_type": "markdown",
   "metadata": {},
   "source": [
    "Since fits does not let us select a list of columns, just 1 or all (claim not yet confirmed; please prove me wrong!), we will first export to a Pandas dataframe."
   ]
  },
  {
   "cell_type": "code",
   "execution_count": null,
   "metadata": {},
   "outputs": [],
   "source": [
    "df.columns"
   ]
  },
  {
   "cell_type": "markdown",
   "metadata": {},
   "source": [
    "The byteswap is because of some compiler mismatch between fits and pandas (fits uses big-endian and pandas uses little-endian)."
   ]
  },
  {
   "cell_type": "code",
   "execution_count": null,
   "metadata": {},
   "outputs": [],
   "source": [
    "#fits.writeto('sdss_object_processed.fits', data)\n",
    "df = pd.DataFrame(data.byteswap().newbyteorder())\n",
    "df_processed = df[keep_cols]\n",
    "df_small = df_processed[:2000] # for toydata"
   ]
  },
  {
   "cell_type": "markdown",
   "metadata": {},
   "source": [
    "Save the Dataframe to file, and we're done!"
   ]
  },
  {
   "cell_type": "code",
   "execution_count": null,
   "metadata": {},
   "outputs": [],
   "source": [
    "save_filename = os.path.join(data_path, 'sdss_object_processed.csv')\n",
    "#df_processed.to_csv(save_filename)\n",
    "df_small.to_csv(save_filename)"
   ]
  }
 ],
 "metadata": {
  "kernelspec": {
   "display_name": "Python 2",
   "language": "python",
   "name": "python2"
  },
  "language_info": {
   "codemirror_mode": {
    "name": "ipython",
    "version": 2
   },
   "file_extension": ".py",
   "mimetype": "text/x-python",
   "name": "python",
   "nbconvert_exporter": "python",
   "pygments_lexer": "ipython2",
   "version": "2.7.12"
  }
 },
 "nbformat": 4,
 "nbformat_minor": 2
}
