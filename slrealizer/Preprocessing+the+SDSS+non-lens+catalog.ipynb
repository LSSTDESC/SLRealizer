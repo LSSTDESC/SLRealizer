{
 "cells": [
  {
   "cell_type": "code",
   "execution_count": 1,
   "metadata": {},
   "outputs": [],
   "source": [
    "import os, sys\n",
    "import numpy as np\n",
    "from astropy.table import Table\n",
    "from astropy.io import fits\n",
    "import pandas as pd\n",
    "\n",
    "%load_ext autoreload\n",
    "%autoreload 2"
   ]
  },
  {
   "cell_type": "markdown",
   "metadata": {},
   "source": [
    "# Proprocessing the SDSS (non-lens) catalog"
   ]
  },
  {
   "cell_type": "markdown",
   "metadata": {},
   "source": [
    "Authors: Mike Baumer (mbaumer), Ji Won Park (jiwoncpark)\n",
    "\n",
    "This notebook contains decision choices behind preprocessing the SDSS catalog queried from the [CFHTLenS catalog query page](http://www.cadc-ccda.hia-iha.nrc-cnrc.gc.ca/en/community/CFHTLens/query.html) before feeding it into SDSSRealizer. As the purpose of this set is to serve as non-lenses that are similar to lenses for a binary classifier, some bold cuts were made."
   ]
  },
  {
   "cell_type": "code",
   "execution_count": 2,
   "metadata": {},
   "outputs": [],
   "source": [
    "data_path = os.path.join(os.environ['SLREALIZERDIR'], 'data')\n",
    "sys.path.insert(0, data_path)\n",
    "sdss_f = os.path.join(data_path, 'sdss_original.fits')\n",
    "bands = ['u', 'g', 'r', 'i', 'z']"
   ]
  },
  {
   "cell_type": "code",
   "execution_count": 3,
   "metadata": {},
   "outputs": [
    {
     "name": "stdout",
     "output_type": "stream",
     "text": [
      "CPU times: user 9.33 s, sys: 522 ms, total: 9.86 s\n",
      "Wall time: 9.97 s\n"
     ]
    }
   ],
   "source": [
    "%%time\n",
    "data = Table.read(sdss_f, format='fits')"
   ]
  },
  {
   "cell_type": "markdown",
   "metadata": {},
   "source": [
    "Let's take a look at the columns. This is more information than would make sense for making the LSST-like source table!"
   ]
  },
  {
   "cell_type": "code",
   "execution_count": 4,
   "metadata": {},
   "outputs": [
    {
     "data": {
      "text/plain": [
       "['ra',\n",
       " 'dec',\n",
       " 'flags_r',\n",
       " 'u',\n",
       " 'g',\n",
       " 'r',\n",
       " 'i',\n",
       " 'z',\n",
       " 'modelFlux_u',\n",
       " 'modelFlux_g',\n",
       " 'modelFlux_r',\n",
       " 'modelFlux_i',\n",
       " 'modelFlux_z',\n",
       " 'modelFluxIvar_u',\n",
       " 'modelFluxIvar_g',\n",
       " 'modelFluxIvar_r',\n",
       " 'modelFluxIvar_i',\n",
       " 'modelFluxIvar_z',\n",
       " 'offsetRa_u',\n",
       " 'offsetRa_g',\n",
       " 'offsetRa_r',\n",
       " 'offsetRa_i',\n",
       " 'offsetRa_z',\n",
       " 'offsetDec_u',\n",
       " 'offsetDec_g',\n",
       " 'offsetDec_r',\n",
       " 'offsetDec_i',\n",
       " 'offsetDec_z',\n",
       " 'err_u',\n",
       " 'err_g',\n",
       " 'err_r',\n",
       " 'err_i',\n",
       " 'err_z',\n",
       " 'extinction_u',\n",
       " 'extinction_g',\n",
       " 'extinction_r',\n",
       " 'extinction_i',\n",
       " 'extinction_z',\n",
       " 'mE1_u',\n",
       " 'mE1_g',\n",
       " 'mE1_r',\n",
       " 'mE1_i',\n",
       " 'mE1_z',\n",
       " 'mE2_u',\n",
       " 'mE2_g',\n",
       " 'mE2_r',\n",
       " 'mE2_i',\n",
       " 'mE2_z',\n",
       " 'mE1E1Err_u',\n",
       " 'mE1E1Err_g',\n",
       " 'mE1E1Err_r',\n",
       " 'mE1E1Err_i',\n",
       " 'mE1E1Err_z',\n",
       " 'mE1E2Err_u',\n",
       " 'mE1E2Err_g',\n",
       " 'mE1E2Err_r',\n",
       " 'mE1E2Err_i',\n",
       " 'mE1E2Err_z',\n",
       " 'mE2E2Err_u',\n",
       " 'mE2E2Err_g',\n",
       " 'mE2E2Err_r',\n",
       " 'mE2E2Err_i',\n",
       " 'mE2E2Err_z',\n",
       " 'mRrCc_u',\n",
       " 'mRrCc_g',\n",
       " 'mRrCc_r',\n",
       " 'mRrCc_i',\n",
       " 'mRrCc_z',\n",
       " 'mRrCcErr_u',\n",
       " 'mRrCcErr_g',\n",
       " 'mRrCcErr_r',\n",
       " 'mRrCcErr_i',\n",
       " 'mRrCcErr_z',\n",
       " 'mRrCcPSF_u',\n",
       " 'mRrCcPSF_g',\n",
       " 'mRrCcPSF_r',\n",
       " 'mRrCcPSF_i',\n",
       " 'mRrCcPSF_z']"
      ]
     },
     "execution_count": 4,
     "metadata": {},
     "output_type": "execute_result"
    }
   ],
   "source": [
    "data.colnames"
   ]
  },
  {
   "cell_type": "markdown",
   "metadata": {},
   "source": [
    "First, we make cuts on reasonableness."
   ]
  },
  {
   "cell_type": "code",
   "execution_count": 5,
   "metadata": {},
   "outputs": [],
   "source": [
    "for b in bands:\n",
    "    data = data[(data['err_' + b] < 3)]\n",
    "    data = data[(data['mE1E1Err_' + b] > 0)]\n",
    "    data[(data['mE2E2Err_' + b] > 0)]\n",
    "    data = data[(data['modelFlux_' + b] < 1.e9) & (data['modelFlux_' + b] > 0.001)]\n",
    "    data = data[(data['offsetRa_' + b] < 4) & (data['offsetRa_' + b] > -4)]\n",
    "    data = data[(data['offsetDec_' + b] < 4) & (data['offsetDec_' + b] > -4)]\n",
    "    data = data[(~np.isnan(data['mE1_' + b])) & (data['mE1_' + b] < 15) & (data['mE1_' + b] > -15)]\n",
    "    data = data[(~np.isnan(data['mE2_' + b])) & (data['mE2_' + b] < 15) & (data['mE2_' + b] > -15)]\n",
    "    data = data[(data['mRrCc_' + b] < 300) & (data['mRrCc_' + b] > -300) & (np.abs(data['mRrCc_' + b]) > 1)]"
   ]
  },
  {
   "cell_type": "markdown",
   "metadata": {},
   "source": [
    "We only keep the columns we want."
   ]
  },
  {
   "cell_type": "code",
   "execution_count": 6,
   "metadata": {},
   "outputs": [],
   "source": [
    "from itertools import product\n",
    "keep_cols = ['mE1_', 'mE2_', 'offsetRa_', 'offsetDec_', 'modelFlux_', 'mRrCc_']\n",
    "keep_cols = [c + b for c, b in product(keep_cols, bands)]"
   ]
  },
  {
   "cell_type": "markdown",
   "metadata": {},
   "source": [
    "Since fits does not let us select a list of columns, just 1 or all (claim not yet confirmed; please prove me wrong!), we will first export to a Pandas dataframe."
   ]
  },
  {
   "cell_type": "markdown",
   "metadata": {},
   "source": [
    "I've used astropy's Table instead of the native fits because of a compiler mismatch between fits and pandas. This mismatch calls for a byteswap (fits uses big-endian and pandas uses little-endian)."
   ]
  },
  {
   "cell_type": "code",
   "execution_count": 7,
   "metadata": {},
   "outputs": [],
   "source": [
    "df = data.to_pandas()\n",
    "df_processed = df[keep_cols]\n",
    "df_small = df_processed[:78] # for toydata"
   ]
  },
  {
   "cell_type": "markdown",
   "metadata": {},
   "source": [
    "Lastly, we will add a column representing (fake) object IDs for these non-lenses. To prevent double assignments, the ID number will have to start with the maximum existing ID in the OM10 lens catalog, which happens to be `maxLensId = 222232634`."
   ]
  },
  {
   "cell_type": "code",
   "execution_count": 8,
   "metadata": {},
   "outputs": [
    {
     "name": "stdout",
     "output_type": "stream",
     "text": [
      "222232634\n"
     ]
    }
   ],
   "source": [
    "f = os.path.join(data_path, 'qso_mock.fits')\n",
    "from astropy.io import fits\n",
    "d = fits.getdata(f)\n",
    "print(d['LENSID'].max())"
   ]
  },
  {
   "cell_type": "code",
   "execution_count": 9,
   "metadata": {},
   "outputs": [],
   "source": [
    "def add_objectId_column(df):\n",
    "    idx=0\n",
    "    numRows = len(df)\n",
    "    maxLensId = 222232634\n",
    "    idCol = np.arange(maxLensId, maxLensId + numRows)\n",
    "    df.insert(loc=idx, column='objectId', value=idCol)\n",
    "    return df"
   ]
  },
  {
   "cell_type": "code",
   "execution_count": 10,
   "metadata": {},
   "outputs": [],
   "source": [
    "df_small = add_objectId_column(df_small)"
   ]
  },
  {
   "cell_type": "markdown",
   "metadata": {},
   "source": [
    "Save the Dataframe to file, and we're done!"
   ]
  },
  {
   "cell_type": "code",
   "execution_count": 13,
   "metadata": {},
   "outputs": [],
   "source": [
    "#save_filename = os.path.join(data_path, 'sdss_object_processed.csv')\n",
    "#df_processed.to_csv(save_filename)\n",
    "toy_fname = os.path.join(data_path, 'sdss_toy_processed.csv')\n",
    "df_small.to_csv(toy_fname, index=False)"
   ]
  },
  {
   "cell_type": "code",
   "execution_count": null,
   "metadata": {},
   "outputs": [],
   "source": []
  }
 ],
 "metadata": {
  "kernelspec": {
   "display_name": "Python 2",
   "language": "python",
   "name": "python2"
  },
  "language_info": {
   "codemirror_mode": {
    "name": "ipython",
    "version": 2
   },
   "file_extension": ".py",
   "mimetype": "text/x-python",
   "name": "python",
   "nbconvert_exporter": "python",
   "pygments_lexer": "ipython2",
   "version": "2.7.12"
  }
 },
 "nbformat": 4,
 "nbformat_minor": 2
}
