{
 "cells": [
  {
   "cell_type": "markdown",
   "metadata": {},
   "source": [
    "# Basics\n",
    "\n",
    "_Jenny Kim, Phil Marshall_\n",
    "\n",
    "In this notebook we demonstrate some of the basic functionality of the `SLRealizer` class, including:\n",
    "\n",
    "* Reading in an `OM10` mock lens catalog and selecting a subsample of lenses to work on.\n",
    "\n",
    "* Reading in an observation history, and setting up a list of `LensSystem` objects.\n",
    "\n",
    "* Visualizing the `SLRealizer` model for a given lens system, showing the positions, sizes and brightnesses of lens galaxy and lensed quasars, at each epoch. "
   ]
  },
  {
   "cell_type": "markdown",
   "metadata": {},
   "source": [
    "### Requirements\n",
    "\n",
    "You will need to have the `om10` package installed:\n",
    "```\n",
    "pip install om10\n",
    "```"
   ]
  },
  {
   "cell_type": "markdown",
   "metadata": {},
   "source": [
    "## Reading in the Lens Catalog and Observation History"
   ]
  },
  {
   "cell_type": "markdown",
   "metadata": {},
   "source": [
    "First, we import OM10 and panda to read the data file."
   ]
  },
  {
   "cell_type": "code",
   "execution_count": 4,
   "metadata": {
    "collapsed": false
   },
   "outputs": [],
   "source": [
    "import om10\n",
    "import pandas as pd"
   ]
  },
  {
   "cell_type": "markdown",
   "metadata": {},
   "source": [
    "Then, we import the `twincles_observation_history.csv` file to the variable named `obsHist`."
   ]
  },
  {
   "cell_type": "code",
   "execution_count": 5,
   "metadata": {
    "collapsed": false
   },
   "outputs": [
    {
     "name": "stdout",
     "output_type": "stream",
     "text": [
      "                 expMJD filter   FWHMeff  fiveSigmaDepth\n",
      "obsHistID                                               \n",
      "183767     59823.286523      g  1.093153       24.377204\n",
      "183811     59823.307264      g  1.231930       24.289872\n",
      "184047     59823.418685      z  0.908511       21.923566\n",
      "185595     59825.256044      r  0.949096       24.128617\n",
      "185736     59825.325979      g  1.242407       24.316968\n",
      "185785     59825.352519      g  1.139232       24.436879\n",
      "187493     59827.260300      z  0.807941       22.896684\n",
      "187525     59827.278039      z  0.789221       22.990253\n",
      "187546     59827.287816      z  0.748829       23.078407\n",
      "187589     59827.307705      z  0.783130       23.152559\n",
      "187603     59827.314787      z  0.737639       23.278169\n",
      "188992     59831.282065      y  0.864951       21.637001\n",
      "188998     59831.284749      y  0.865270       21.638293\n",
      "189408     59832.286563      y  0.927227       21.565914\n",
      "189410     59832.287459      y  0.892628       21.607713\n",
      "189438     59832.300037      y  0.901127       21.603858\n",
      "190235     59835.229203      y  0.687516       21.848489\n",
      "190247     59835.234574      y  0.697389       21.839287\n",
      "190261     59835.240838      y  0.682609       21.869248\n",
      "190486     59835.342307      y  0.740154       21.831827\n",
      "190506     59835.352406      y  0.726127       21.853582\n",
      "191253     59836.279210      z  0.805327       22.486820\n",
      "191280     59836.291765      z  0.890640       22.393466\n",
      "191299     59836.300643      z  0.877464       22.419594\n",
      "191340     59836.319672      z  0.842551       22.481365\n",
      "192895     59839.212084      r  0.878970       23.996169\n",
      "193130     59839.325615      r  0.910452       24.026352\n",
      "193170     59839.344630      r  0.727980       24.269137\n",
      "195529     59842.194696      r  0.969729       24.064754\n",
      "196438     59843.199040      i  0.959816       23.441221\n",
      "...                 ...    ...       ...             ...\n",
      "2404056    63157.145070      g  1.454499       24.032664\n",
      "2404114    63157.173664      g  1.362849       24.169551\n",
      "2405824    63159.213534      i  0.812420       23.780451\n",
      "2405868    63159.234024      i  0.800057       23.810075\n",
      "2408020    63162.106015      z  0.924894       22.740930\n",
      "2408050    63162.120082      z  0.883900       22.835895\n",
      "2408884    63163.130403      y  0.961133       21.498754\n",
      "2410561    63165.144328      y  1.005372       21.466802\n",
      "2411313    63166.113510      y  0.889446       21.573572\n",
      "2412961    63168.145756      y  0.858799       21.644572\n",
      "2414735    63170.243352      z  0.836751       22.227443\n",
      "2414774    63170.263096      z  0.842285       22.221023\n",
      "2421698    63188.172748      i  0.964629       23.613157\n",
      "2421764    63188.204176      i  0.966300       23.609814\n",
      "2423655    63191.066192      r  1.111643       23.850872\n",
      "2425000    63193.022712      z  0.975842       21.814278\n",
      "2425035    63193.039572      z  0.925623       22.570716\n",
      "2427470    63196.173577      y  0.883697       21.640569\n",
      "2428018    63197.080837      y  0.719591       21.844841\n",
      "2430798    63201.044678      z  0.842717       22.651209\n",
      "2430843    63201.067521      z  0.807649       22.690272\n",
      "2432446    63204.173004      r  0.768656       24.162181\n",
      "2432472    63204.184802      r  0.774910       24.123840\n",
      "2437926    63213.150191      i  0.882907       23.702038\n",
      "2437959    63213.168341      i  0.894253       23.677370\n",
      "2441332    63219.156278      g  0.778232       24.790301\n",
      "2441364    63219.171699      g  0.792757       24.791360\n",
      "2441817    63220.059298      r  1.226363       23.849111\n",
      "2447509    63229.170251      y  0.784904       21.740602\n",
      "2447515    63229.172944      y  0.789059       21.733021\n",
      "\n",
      "[919 rows x 4 columns]\n"
     ]
    }
   ],
   "source": [
    "# Read the data\n",
    "pd.set_option('display.max_columns', None)\n",
    "obsHist = pd.read_csv(\"../../data/twinkles_observation_history.csv\",index_col=0)\n",
    "print obsHist"
   ]
  },
  {
   "cell_type": "markdown",
   "metadata": {},
   "source": [
    "Next, we read in the lens system from the OM10 catalog. Let's choose one lens system from the db database. If you do not have `qso_mock.fits` file, you can download it here : [OM10 Repository](https://github.com/drphilmarshall/OM10/tree/master/data)."
   ]
  },
  {
   "cell_type": "code",
   "execution_count": 6,
   "metadata": {
    "collapsed": false
   },
   "outputs": [
    {
     "name": "stdout",
     "output_type": "stream",
     "text": [
      "OM10: Full db.lenses table contains 15658 systems\n",
      "OM10: Initial db.sample contains 15658 systems\n",
      "OM10: Extracted OM10 lens number 7176527:\n",
      " LENSID FLAGTYPE NIMG ZLENS ... i_SDSS_quasar z_SDSS_quasar u_SDSS_quasar\n",
      "------- -------- ---- ----- ... ------------- ------------- -------------\n",
      "7176527        0    2 0.556 ...         20.15 20.1126048692 20.5846573621\n"
     ]
    }
   ],
   "source": [
    "db = om10.DB(catalog='/Users/Jenny/Desktop/om10fork/om10/data/qso_mock.fits')\n",
    "db.paint(synthetic=True)\n",
    "# Pull out a specific lens and plot it:\n",
    "id = 7176527\n",
    "lens = db.get_lens(id)"
   ]
  },
  {
   "cell_type": "markdown",
   "metadata": {},
   "source": [
    "## Visualizing a `LensSystem`"
   ]
  },
  {
   "cell_type": "markdown",
   "metadata": {},
   "source": []
  },
  {
   "cell_type": "code",
   "execution_count": null,
   "metadata": {
    "collapsed": true
   },
   "outputs": [],
   "source": []
  }
 ],
 "metadata": {
  "anaconda-cloud": {},
  "kernelspec": {
   "display_name": "Python [default]",
   "language": "python",
   "name": "python2"
  },
  "language_info": {
   "codemirror_mode": {
    "name": "ipython",
    "version": 2
   },
   "file_extension": ".py",
   "mimetype": "text/x-python",
   "name": "python",
   "nbconvert_exporter": "python",
   "pygments_lexer": "ipython2",
   "version": "2.7.12"
  }
 },
 "nbformat": 4,
 "nbformat_minor": 0
}
