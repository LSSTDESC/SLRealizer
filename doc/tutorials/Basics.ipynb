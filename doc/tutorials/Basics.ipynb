{
 "cells": [
  {
   "cell_type": "markdown",
   "metadata": {},
   "source": [
    "# Basics\n",
    "\n",
    "_Jenny Kim, Phil Marshall_\n",
    "\n",
    "In this notebook we demonstrate some of the basic functionality of the `SLRealizer` class, including:\n",
    "\n",
    "* Reading in an `OM10` mock lens catalog and selecting a subsample of lenses to work on.\n",
    "\n",
    "* Reading in an observation history, and setting up a list of `LensSystem` objects.\n",
    "\n",
    "* Visualizing the `SLRealizer` model for a given lens system, showing the positions, sizes and brightnesses of lens galaxy and lensed quasars, at each epoch. "
   ]
  },
  {
   "cell_type": "markdown",
   "metadata": {},
   "source": [
    "### Requirements\n",
    "\n",
    "You will need to have the `om10` package installed:\n",
    "```\n",
    "pip install om10\n",
    "```"
   ]
  },
  {
   "cell_type": "markdown",
   "metadata": {},
   "source": [
    "## Reading in the Lens Catalog and Observation History"
   ]
  },
  {
   "cell_type": "markdown",
   "metadata": {},
   "source": [
    "First, we import OM10 and panda to read the data file."
   ]
  },
  {
   "cell_type": "code",
   "execution_count": 10,
   "metadata": {
    "collapsed": false
   },
   "outputs": [],
   "source": [
    "import om10\n",
    "import pandas as pd\n",
    "import plotting"
   ]
  },
  {
   "cell_type": "markdown",
   "metadata": {},
   "source": [
    "Then, we import the `twincles_observation_history.csv` file to the variable named `obsHist`."
   ]
  },
  {
   "cell_type": "code",
   "execution_count": 11,
   "metadata": {
    "collapsed": false
   },
   "outputs": [],
   "source": [
    "# Read the data\n",
    "pd.set_option('display.max_columns', None)\n",
    "obsHist = pd.read_csv(\"../../data/twinkles_observation_history.csv\",index_col=0).as_matrix()"
   ]
  },
  {
   "cell_type": "markdown",
   "metadata": {},
   "source": [
    "Next, we read in the lens system from the OM10 catalog. Let's choose one lens system from the db database. If you do not have `qso_mock.fits` file, you can download it here : [OM10 Repository](https://github.com/drphilmarshall/OM10/tree/master/data)."
   ]
  },
  {
   "cell_type": "code",
   "execution_count": null,
   "metadata": {
    "collapsed": false
   },
   "outputs": [
    {
     "name": "stdout",
     "output_type": "stream",
     "text": [
      "OM10: Full db.lenses table contains 15658 systems\n",
      "OM10: Initial db.sample contains 15658 systems\n"
     ]
    }
   ],
   "source": [
    "db = om10.DB(catalog='/Users/Jenny/Desktop/om10fork/om10/data/qso_mock.fits')\n",
    "db.paint(synthetic=True)\n",
    "# Pull out a specific lens and plot it:\n",
    "id = 7176527\n",
    "lens = db.get_lens(id)"
   ]
  },
  {
   "cell_type": "markdown",
   "metadata": {},
   "source": [
    "## Visualizing a `LensSystem`"
   ]
  },
  {
   "cell_type": "markdown",
   "metadata": {},
   "source": []
  },
  {
   "cell_type": "code",
   "execution_count": null,
   "metadata": {
    "collapsed": false
   },
   "outputs": [],
   "source": [
    "import pylab\n",
    "import matplotlib\n",
    "%matplotlib inline\n",
    "%pylab inline\n",
    "import matplotlib.pyplot as plt\n",
    "matplotlib.use('TkAgg')\n",
    "matplotlib.rc('text', usetex=False)"
   ]
  },
  {
   "cell_type": "code",
   "execution_count": null,
   "metadata": {
    "collapsed": false
   },
   "outputs": [],
   "source": [
    "# This file def needs stylistic improvement\n",
    "# Not concise at all\n",
    "import plotting"
   ]
  },
  {
   "cell_type": "markdown",
   "metadata": {},
   "source": [
    "XIMG and YIMG are the x and y sky positions, East and North of the lens\n",
    "galaxy center, of the quasar image positions. If NIM=2 then the last two\n",
    "values are zero, but if its a quad system then all four values should be\n",
    "non-zero. Note that the MAG and time delay arrays also have four\n",
    "components, for the image magnifications and time delays. You'll need to\n",
    "use these maginfications when predicting image fluxes in each band based on\n",
    "your painted sources."
   ]
  },
  {
   "cell_type": "markdown",
   "metadata": {},
   "source": [
    "Plot a few observations"
   ]
  },
  {
   "cell_type": "code",
   "execution_count": null,
   "metadata": {
    "collapsed": false
   },
   "outputs": [],
   "source": [
    "import random\n",
    "randomIndex = random.randint(0, 200)\n",
    "# There is no y filter in SDSS system\n",
    "if(obsHist[randomIndex][1]!='y'):\n",
    "    plotting.plot_lens(lens, obsHist[randomIndex])"
   ]
  },
  {
   "cell_type": "code",
   "execution_count": null,
   "metadata": {
    "collapsed": false
   },
   "outputs": [],
   "source": [
    "import random\n",
    "randomIndex = random.randint(0, 200)\n",
    "# There is no y filter in SDSS system\n",
    "if(obsHist[randomIndex][1]!='y'):\n",
    "    plotting.plot_lens(lens, obsHist[randomIndex])"
   ]
  },
  {
   "cell_type": "code",
   "execution_count": null,
   "metadata": {
    "collapsed": false
   },
   "outputs": [],
   "source": [
    "import random\n",
    "randomIndex = random.randint(0, 200)\n",
    "# There is no y filter in SDSS system\n",
    "if(obsHist[randomIndex][1]!='y'):\n",
    "    plotting.plot_lens(lens, obsHist[randomIndex])"
   ]
  },
  {
   "cell_type": "code",
   "execution_count": null,
   "metadata": {
    "collapsed": false
   },
   "outputs": [],
   "source": [
    "import random\n",
    "randomIndex = random.randint(0, 200)\n",
    "# There is no y filter in SDSS system\n",
    "if(obsHist[randomIndex][1]!='y'):\n",
    "    plotting.plot_lens(lens, obsHist[randomIndex])"
   ]
  }
 ],
 "metadata": {
  "anaconda-cloud": {},
  "kernelspec": {
   "display_name": "Python [conda env:python2]",
   "language": "python",
   "name": "conda-env-python2-py"
  },
  "language_info": {
   "codemirror_mode": {
    "name": "ipython",
    "version": 2
   },
   "file_extension": ".py",
   "mimetype": "text/x-python",
   "name": "python",
   "nbconvert_exporter": "python",
   "pygments_lexer": "ipython2",
   "version": "2.7.12"
  }
 },
 "nbformat": 4,
 "nbformat_minor": 0
}
