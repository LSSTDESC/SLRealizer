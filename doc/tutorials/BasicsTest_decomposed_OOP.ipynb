{
 "cells": [
  {
   "cell_type": "markdown",
   "metadata": {},
   "source": [
    "# Basics\n",
    "\n",
    "_Jenny Kim, Phil Marshall_\n",
    "\n",
    "In this notebook we demonstrate some of the basic functionality of the `SLRealizer` class, including:\n",
    "\n",
    "* Reading in an `OM10` mock lens catalog and selecting a subsample of lenses to work on.\n",
    "\n",
    "* Reading in an observation history, and setting up a list of `LensSystem` objects.\n",
    "\n",
    "* Visualizing the `SLRealizer` model for a given lens system, showing the positions, sizes and brightnesses of lens galaxy and lensed quasars, at each epoch. "
   ]
  },
  {
   "cell_type": "markdown",
   "metadata": {},
   "source": [
    "### Requirements\n",
    "\n",
    "You will need to have the `om10` package installed:\n",
    "```\n",
    "pip install om10\n",
    "```"
   ]
  },
  {
   "cell_type": "markdown",
   "metadata": {},
   "source": [
    "## Reading in the Lens Catalog and Observation History"
   ]
  },
  {
   "cell_type": "markdown",
   "metadata": {},
   "source": [
    "First, we import OM10 and panda to read the data file."
   ]
  },
  {
   "cell_type": "code",
   "execution_count": 7,
   "metadata": {
    "collapsed": false
   },
   "outputs": [],
   "source": [
    "import om10\n",
    "import slrealizer"
   ]
  },
  {
   "cell_type": "markdown",
   "metadata": {},
   "source": [
    "Then, we import the `twincles_observation_history.csv` file to the variable named `obsHist`."
   ]
  },
  {
   "cell_type": "markdown",
   "metadata": {},
   "source": [
    "Next, we read in the lens system from the OM10 catalog. Let's choose one lens system from the db database. If you do not have `qso_mock.fits` file, you can download it here : [OM10 Repository](https://github.com/drphilmarshall/OM10/tree/master/data)."
   ]
  },
  {
   "cell_type": "code",
   "execution_count": null,
   "metadata": {
    "collapsed": false
   },
   "outputs": [
    {
     "name": "stdout",
     "output_type": "stream",
     "text": [
      "OM10: Full db.lenses table contains 15658 systems\n",
      "OM10: Initial db.sample contains 15658 systems\n"
     ]
    }
   ],
   "source": [
    "db = om10.DB(catalog='../../data/qso_mock.fits')\n",
    "db.paint(synthetic=True)\n",
    "realizer = slrealizer.SLRealizer(lens = db, observation = \"../../data/twinkles_observation_history.csv\")"
   ]
  },
  {
   "cell_type": "markdown",
   "metadata": {},
   "source": [
    "## Visualizing a `LensSystem`"
   ]
  },
  {
   "cell_type": "markdown",
   "metadata": {},
   "source": [
    "We will pick a lens from OM10 catalog and plot it on a random epoch. We can do this by first picking a lens manually and then passing that lens' ID to the `plot_random_lens_date` in the realizer class, just as the code below. This notebook does this for five times."
   ]
  },
  {
   "cell_type": "code",
   "execution_count": null,
   "metadata": {
    "collapsed": false
   },
   "outputs": [],
   "source": [
    "%matplotlib inline\n",
    "%pylab inline\n",
    "matplotlib.use('TkAgg')\n",
    "matplotlib.rc('text', usetex=False)\n",
    "realizer.plot_lens_random_date(lensID = 7176527)"
   ]
  },
  {
   "cell_type": "code",
   "execution_count": null,
   "metadata": {
    "collapsed": false
   },
   "outputs": [],
   "source": [
    "realizer.plot_lens_random_date(lensID = 7176527)"
   ]
  },
  {
   "cell_type": "code",
   "execution_count": null,
   "metadata": {
    "collapsed": false
   },
   "outputs": [],
   "source": [
    "realizer.plot_lens_random_date(lensID = 7176527)"
   ]
  },
  {
   "cell_type": "code",
   "execution_count": null,
   "metadata": {
    "collapsed": false
   },
   "outputs": [],
   "source": [
    "realizer.plot_lens_random_date(lensID = 7176527)"
   ]
  }
 ],
 "metadata": {
  "anaconda-cloud": {},
  "kernelspec": {
   "display_name": "Python [conda env:python2]",
   "language": "python",
   "name": "conda-env-python2-py"
  },
  "language_info": {
   "codemirror_mode": {
    "name": "ipython",
    "version": 2
   },
   "file_extension": ".py",
   "mimetype": "text/x-python",
   "name": "python",
   "nbconvert_exporter": "python",
   "pygments_lexer": "ipython2",
   "version": "2.7.12"
  }
 },
 "nbformat": 4,
 "nbformat_minor": 0
}
