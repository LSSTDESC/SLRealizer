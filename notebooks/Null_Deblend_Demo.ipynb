{
 "cells": [
  {
   "cell_type": "markdown",
   "metadata": {},
   "source": [
    "### The notebook shows how to use SLRealzer's own deblend method."
   ]
  },
  {
   "cell_type": "code",
   "execution_count": 1,
   "metadata": {
    "collapsed": false,
    "scrolled": true
   },
   "outputs": [],
   "source": [
    "import om10\n",
    "import desc.slrealizer\n",
    "import warnings\n",
    "warnings.filterwarnings(\"ignore\")\n",
    "import numpy as np"
   ]
  },
  {
   "cell_type": "code",
   "execution_count": 2,
   "metadata": {
    "collapsed": false
   },
   "outputs": [
    {
     "name": "stdout",
     "output_type": "stream",
     "text": [
      "Populating the interactive namespace from numpy and matplotlib\n"
     ]
    }
   ],
   "source": [
    "%matplotlib inline\n",
    "%pylab inline\n",
    "matplotlib.use('TkAgg')\n",
    "matplotlib.rc('text', usetex=False)"
   ]
  },
  {
   "cell_type": "code",
   "execution_count": 3,
   "metadata": {
    "collapsed": false
   },
   "outputs": [
    {
     "name": "stdout",
     "output_type": "stream",
     "text": [
      "OM10: Full db.lenses table contains 15658 systems\n",
      "OM10: Initial db.sample contains 15658 systems\n"
     ]
    }
   ],
   "source": [
    "db = om10.DB(catalog='../data/qso_mock.fits')\n",
    "#db.select_random(maglim=23.3,area=18000.0,IQ=0.75)\n",
    "db.paint(synthetic=True)\n",
    "realizer = desc.slrealizer.SLRealizer(catalog=db, observation=\"../data/twinkles_observation_history.csv\")"
   ]
  },
  {
   "cell_type": "code",
   "execution_count": 4,
   "metadata": {
    "collapsed": false
   },
   "outputs": [
    {
     "name": "stdout",
     "output_type": "stream",
     "text": [
      "Number of lenses with image separation > 1.0 arcsec =  10670\n",
      "Number of these with 4 images =  1559\n",
      "Number of these with i3 < 22 =  705\n"
     ]
    }
   ],
   "source": [
    "# Choose a good lens system, with large imsep and 4 images:\n",
    "                      \n",
    "wide = db.sample[np.where(db.sample['IMSEP'] > 1.0)]\n",
    "print \"Number of lenses with image separation > 1.0 arcsec = \",len(wide)\n",
    "\n",
    "wide_quads = wide[np.where(wide['NIMG'] == 4)]\n",
    "print \"Number of these with 4 images = \",len(wide_quads)\n",
    "\n",
    "bright_wide_quads = wide[np.where(wide_quads['MAGI'] < 22)]\n",
    "print \"Number of these with i3 < 22 = \",len(bright_wide_quads)\n",
    "\n",
    "db.sample = bright_wide_quads    \n",
    "                      \n",
    "k = db.sample[0]['LENSID']"
   ]
  },
  {
   "cell_type": "code",
   "execution_count": 5,
   "metadata": {
    "collapsed": false
   },
   "outputs": [
    {
     "name": "stdout",
     "output_type": "stream",
     "text": [
      "OM10: Extracted OM10 lens number 2883888:\n",
      " LENSID FLAGTYPE NIMG ZLENS ... i_SDSS_quasar z_SDSS_quasar u_SDSS_quasar\n",
      "------- -------- ---- ----- ... ------------- ------------- -------------\n",
      "2883888        0    2 0.394 ...         22.05  21.923104371 22.4249882483\n",
      "('currLens: ', <Table length=1>\n",
      " LENSID FLAGTYPE  NIMG  ZLENS  ... i_SDSS_quasar z_SDSS_quasar u_SDSS_quasar\n",
      " int32   int16   int16 float64 ...    float64       float64       float64   \n",
      "------- -------- ----- ------- ... ------------- ------------- -------------\n",
      "2883888        0     2   0.394 ...         22.05  21.923104371 22.4249882483)\n",
      "('currObs: ', array([59823.307263999995, 'g', 1.23193, 24.289872], dtype=object))\n"
     ]
    },
    {
     "data": {
      "image/png": "[encoded data removed]",
      "text/plain": [
       "<matplotlib.figure.Figure at 0x10b5a7250>"
      ]
     },
     "metadata": {},
     "output_type": "display_data"
    }
   ],
   "source": [
    "realizer.plot_lens_random_date(lensID=2883888)"
   ]
  },
  {
   "cell_type": "code",
   "execution_count": 7,
   "metadata": {
    "collapsed": false,
    "scrolled": true
   },
   "outputs": [
    {
     "name": "stdout",
     "output_type": "stream",
     "text": [
      "OM10: Extracted OM10 lens number 2883888:\n",
      " LENSID FLAGTYPE NIMG ZLENS ... i_SDSS_quasar z_SDSS_quasar u_SDSS_quasar\n",
      "------- -------- ---- ----- ... ------------- ------------- -------------\n",
      "2883888        0    2 0.394 ...         22.05  21.923104371 22.4249882483\n",
      "('currLens: ', <Table length=1>\n",
      " LENSID FLAGTYPE  NIMG  ZLENS  ... i_SDSS_quasar z_SDSS_quasar u_SDSS_quasar\n",
      " int32   int16   int16 float64 ...    float64       float64       float64   \n",
      "------- -------- ----- ------- ... ------------- ------------- -------------\n",
      "2883888        0     2   0.394 ...         22.05  21.923104371 22.4249882483)\n",
      "('currObs: ', array([60179.271522, 'i', 1.0252350000000001, 23.348474], dtype=object))\n"
     ]
    },
    {
     "data": {
      "image/png": "[encoded data removed]",
      "text/plain": [
       "<matplotlib.figure.Figure at 0x11b541050>"
      ]
     },
     "metadata": {},
     "output_type": "display_data"
    }
   ],
   "source": [
    "realizer.plot_lens_random_date(lensID=2883888)"
   ]
  },
  {
   "cell_type": "code",
   "execution_count": 10,
   "metadata": {
    "collapsed": false
   },
   "outputs": [
    {
     "name": "stdout",
     "output_type": "stream",
     "text": [
      "OM10: Extracted OM10 lens number 2883888:\n",
      " LENSID FLAGTYPE NIMG ZLENS ... i_SDSS_quasar z_SDSS_quasar u_SDSS_quasar\n",
      "------- -------- ---- ----- ... ------------- ------------- -------------\n",
      "2883888        0    2 0.394 ...         22.05  21.923104371 22.4249882483\n",
      "('currLens: ', <Table length=1>\n",
      " LENSID FLAGTYPE  NIMG  ZLENS  ... i_SDSS_quasar z_SDSS_quasar u_SDSS_quasar\n",
      " int32   int16   int16 float64 ...    float64       float64       float64   \n",
      "------- -------- ----- ------- ... ------------- ------------- -------------\n",
      "2883888        0     2   0.394 ...         22.05  21.923104371 22.4249882483)\n",
      "('currObs: ', array([59851.205001, 'u', 1.1784729999999999, 23.02279], dtype=object))\n"
     ]
    },
    {
     "data": {
      "image/png": "[encoded data removed]",
      "text/plain": [
       "<matplotlib.figure.Figure at 0x1104f8fd0>"
      ]
     },
     "metadata": {},
     "output_type": "display_data"
    }
   ],
   "source": [
    "realizer.plot_lens_random_date(lensID=2883888)"
   ]
  },
  {
   "cell_type": "code",
   "execution_count": null,
   "metadata": {
    "collapsed": true
   },
   "outputs": [],
   "source": []
  },
  {
   "cell_type": "code",
   "execution_count": null,
   "metadata": {
    "collapsed": true
   },
   "outputs": [],
   "source": []
  }
 ],
 "metadata": {
  "anaconda-cloud": {},
  "kernelspec": {
   "display_name": "Python [conda env:python2]",
   "language": "python",
   "name": "conda-env-python2-py"
  },
  "language_info": {
   "codemirror_mode": {
    "name": "ipython",
    "version": 2
   },
   "file_extension": ".py",
   "mimetype": "text/x-python",
   "name": "python",
   "nbconvert_exporter": "python",
   "pygments_lexer": "ipython2",
   "version": "2.7.13"
  }
 },
 "nbformat": 4,
 "nbformat_minor": 1
}
