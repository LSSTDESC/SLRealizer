{
 "cells": [
  {
   "cell_type": "markdown",
   "metadata": {},
   "source": [
    "### The notebook shows how to use SLRealzer's own deblend method."
   ]
  },
  {
   "cell_type": "code",
   "execution_count": 1,
   "metadata": {
    "collapsed": false,
    "scrolled": true
   },
   "outputs": [],
   "source": [
    "import om10\n",
    "import desc.slrealizer\n",
    "import warnings\n",
    "warnings.filterwarnings(\"ignore\")\n",
    "import numpy as np"
   ]
  },
  {
   "cell_type": "code",
   "execution_count": 2,
   "metadata": {
    "collapsed": false
   },
   "outputs": [
    {
     "name": "stdout",
     "output_type": "stream",
     "text": [
      "Populating the interactive namespace from numpy and matplotlib\n"
     ]
    }
   ],
   "source": [
    "%matplotlib inline\n",
    "%pylab inline\n",
    "matplotlib.use('TkAgg')\n",
    "matplotlib.rc('text', usetex=False)"
   ]
  },
  {
   "cell_type": "code",
   "execution_count": 3,
   "metadata": {
    "collapsed": false
   },
   "outputs": [
    {
     "name": "stdout",
     "output_type": "stream",
     "text": [
      "OM10: Full db.lenses table contains 15658 systems\n",
      "OM10: Initial db.sample contains 15658 systems\n"
     ]
    }
   ],
   "source": [
    "db = om10.DB(catalog='../data/qso_mock.fits')\n",
    "#db.select_random(maglim=23.3,area=18000.0,IQ=0.75)\n",
    "db.paint(synthetic=True)\n",
    "db.calculate_size()\n",
    "realizer = desc.slrealizer.SLRealizer(catalog=db, observation=\"../data/twinkles_observation_history.csv\")"
   ]
  },
  {
   "cell_type": "code",
   "execution_count": 4,
   "metadata": {
    "collapsed": false
   },
   "outputs": [
    {
     "name": "stdout",
     "output_type": "stream",
     "text": [
      "Number of lenses with image separation > 1.0 arcsec =  10670\n",
      "Number of these with 4 images =  1559\n",
      "Number of these with i3 < 22 =  705\n"
     ]
    }
   ],
   "source": [
    "# Choose a good lens system, with large imsep and 4 images:\n",
    "                      \n",
    "wide = db.sample[np.where(db.sample['IMSEP'] > 1.0)]\n",
    "print \"Number of lenses with image separation > 1.0 arcsec = \",len(wide)\n",
    "\n",
    "wide_quads = wide[np.where(wide['NIMG'] == 4)]\n",
    "print \"Number of these with 4 images = \",len(wide_quads)\n",
    "\n",
    "bright_wide_quads = wide[np.where(wide_quads['MAGI'] < 22)]\n",
    "print \"Number of these with i3 < 22 = \",len(bright_wide_quads)\n",
    "\n",
    "db.sample = bright_wide_quads    \n",
    "                      \n",
    "k = db.sample[0]['LENSID']"
   ]
  },
  {
   "cell_type": "code",
   "execution_count": 5,
   "metadata": {
    "collapsed": false,
    "scrolled": true
   },
   "outputs": [
    {
     "name": "stdout",
     "output_type": "stream",
     "text": [
      "OM10: selection yields 20 lenses\n",
      "OM10: Extracted OM10 lens number 14428:\n",
      "LENSID FLAGTYPE NIMG ZLENS ... i_SDSS_quasar z_SDSS_quasar u_SDSS_quasar\n",
      "------ -------- ---- ----- ... ------------- ------------- -------------\n",
      " 14428        0    2 0.062 ...         22.81 22.7755357852          99.0\n",
      "THIS IS HOW THE SYSTEM LOOKS LIKE BEFORE DEBLENDING ********************************\n",
      "THIS IS HOW THE SYSTEM LOOKS LIKE AFTER DEBLENDING **************************\n",
      "OM10: Extracted OM10 lens number 14428:\n",
      "LENSID FLAGTYPE NIMG ZLENS ... i_SDSS_quasar z_SDSS_quasar u_SDSS_quasar\n",
      "------ -------- ---- ----- ... ------------- ------------- -------------\n",
      " 14428        0    2 0.062 ...         22.81 22.7755357852          99.0\n",
      "returned\n",
      "[60279.265047, 'i', 0, 0, 0, 0, 0.09491178327687631, 0, 0.10290105177266476, 0, 4784.395348169925, 0.1418949030645497, 10.601069741308635, 0, -0.21339739859104156, 0.028438342735171318, 0.21528397307497588, -0.066242054193228705, 1.141117, 22.872657999999998, 14428]\n",
      "['60279.265047' 'i' '0' '0' '0' '0' '0.0949117832769' '0' '0.102901051773'\n",
      " '0' '4784.39534817' '0.141894903065' '10.6010697413' '0' '-0.213397398591'\n",
      " '0.0284383427352' '0.215283973075' '-0.0662420541932' '1.141117'\n",
      " '22.872658' '14428']\n",
      "4784.39534817\n",
      "<type 'numpy.string_'>\n"
     ]
    },
    {
     "data": {
      "image/png": "[encoded data removed]",
      "text/plain": [
       "<matplotlib.figure.Figure at 0x110df59d0>"
      ]
     },
     "metadata": {},
     "output_type": "display_data"
    }
   ],
   "source": [
    "array = realizer.plot_lens_random_date(lensID=db.sample[0]['LENSID'])"
   ]
  },
  {
   "cell_type": "code",
   "execution_count": 6,
   "metadata": {
    "collapsed": false
   },
   "outputs": [
    {
     "name": "stdout",
     "output_type": "stream",
     "text": [
      "OM10: selection yields 20 lenses\n",
      "OM10: Extracted OM10 lens number 39385880:\n",
      " LENSID  FLAGTYPE NIMG ZLENS ... i_SDSS_quasar z_SDSS_quasar u_SDSS_quasar\n",
      "-------- -------- ---- ----- ... ------------- ------------- -------------\n",
      "39385880        0    2  1.13 ...         22.85 22.7629959745  23.972104031\n",
      "THIS IS HOW THE SYSTEM LOOKS LIKE BEFORE DEBLENDING ********************************\n",
      "THIS IS HOW THE SYSTEM LOOKS LIKE AFTER DEBLENDING **************************\n",
      "OM10: Extracted OM10 lens number 39385880:\n",
      " LENSID  FLAGTYPE NIMG ZLENS ... i_SDSS_quasar z_SDSS_quasar u_SDSS_quasar\n",
      "-------- -------- ---- ----- ... ------------- ------------- -------------\n",
      "39385880        0    2  1.13 ...         22.85 22.7629959745  23.972104031\n",
      "None\n"
     ]
    },
    {
     "ename": "TypeError",
     "evalue": "'NoneType' object has no attribute '__getitem__'",
     "output_type": "error",
     "traceback": [
      "\u001b[0;31m---------------------------------------------------------------------------\u001b[0m",
      "\u001b[0;31mTypeError\u001b[0m                                 Traceback (most recent call last)",
      "\u001b[0;32m<ipython-input-6-1d46986a461d>\u001b[0m in \u001b[0;36m<module>\u001b[0;34m()\u001b[0m\n\u001b[0;32m----> 1\u001b[0;31m \u001b[0marray\u001b[0m \u001b[0;34m=\u001b[0m \u001b[0mrealizer\u001b[0m\u001b[0;34m.\u001b[0m\u001b[0mplot_lens_random_date\u001b[0m\u001b[0;34m(\u001b[0m\u001b[0mlensID\u001b[0m\u001b[0;34m=\u001b[0m\u001b[0mdb\u001b[0m\u001b[0;34m.\u001b[0m\u001b[0msample\u001b[0m\u001b[0;34m[\u001b[0m\u001b[0;36m1\u001b[0m\u001b[0;34m]\u001b[0m\u001b[0;34m[\u001b[0m\u001b[0;34m'LENSID'\u001b[0m\u001b[0;34m]\u001b[0m\u001b[0;34m)\u001b[0m\u001b[0;34m\u001b[0m\u001b[0m\n\u001b[0m",
      "\u001b[0;32m/Users/Jenny/Desktop/SLRealizer/python/desc/slrealizer/SLRealizer.py\u001b[0m in \u001b[0;36mplot_lens_random_date\u001b[0;34m(self, lensID, convolve)\u001b[0m\n\u001b[1;32m     54\u001b[0m         \u001b[0marray\u001b[0m \u001b[0;34m=\u001b[0m \u001b[0mdesc\u001b[0m\u001b[0;34m.\u001b[0m\u001b[0mslrealizer\u001b[0m\u001b[0;34m.\u001b[0m\u001b[0mgenerate_data\u001b[0m\u001b[0;34m(\u001b[0m\u001b[0mself\u001b[0m\u001b[0;34m.\u001b[0m\u001b[0mcatalog\u001b[0m\u001b[0;34m.\u001b[0m\u001b[0mget_lens\u001b[0m\u001b[0;34m(\u001b[0m\u001b[0mlensID\u001b[0m\u001b[0;34m)\u001b[0m\u001b[0;34m,\u001b[0m \u001b[0mself\u001b[0m\u001b[0;34m.\u001b[0m\u001b[0mobservation\u001b[0m\u001b[0;34m[\u001b[0m\u001b[0mrandomIndex\u001b[0m\u001b[0;34m]\u001b[0m\u001b[0;34m)\u001b[0m\u001b[0;34m\u001b[0m\u001b[0m\n\u001b[1;32m     55\u001b[0m         \u001b[0;32mprint\u001b[0m\u001b[0;34m(\u001b[0m\u001b[0marray\u001b[0m\u001b[0;34m)\u001b[0m\u001b[0;34m\u001b[0m\u001b[0m\n\u001b[0;32m---> 56\u001b[0;31m         \u001b[0;32mprint\u001b[0m\u001b[0;34m(\u001b[0m\u001b[0marray\u001b[0m\u001b[0;34m[\u001b[0m\u001b[0;36m10\u001b[0m\u001b[0;34m]\u001b[0m\u001b[0;34m)\u001b[0m\u001b[0;34m\u001b[0m\u001b[0m\n\u001b[0m\u001b[1;32m     57\u001b[0m         \u001b[0;32mprint\u001b[0m\u001b[0;34m(\u001b[0m\u001b[0mtype\u001b[0m\u001b[0;34m(\u001b[0m\u001b[0marray\u001b[0m\u001b[0;34m[\u001b[0m\u001b[0;36m10\u001b[0m\u001b[0;34m]\u001b[0m\u001b[0;34m)\u001b[0m\u001b[0;34m)\u001b[0m\u001b[0;34m\u001b[0m\u001b[0m\n\u001b[1;32m     58\u001b[0m         \u001b[0mgalaxy\u001b[0m \u001b[0;34m=\u001b[0m \u001b[0mgalsim\u001b[0m\u001b[0;34m.\u001b[0m\u001b[0mGaussian\u001b[0m\u001b[0;34m(\u001b[0m\u001b[0mflux\u001b[0m\u001b[0;34m=\u001b[0m\u001b[0mfloat\u001b[0m\u001b[0;34m(\u001b[0m\u001b[0marray\u001b[0m\u001b[0;34m[\u001b[0m\u001b[0;36m10\u001b[0m\u001b[0;34m]\u001b[0m\u001b[0;34m)\u001b[0m\u001b[0;34m,\u001b[0m\u001b[0msigma\u001b[0m\u001b[0;34m=\u001b[0m\u001b[0mfloat\u001b[0m\u001b[0;34m(\u001b[0m\u001b[0marray\u001b[0m\u001b[0;34m[\u001b[0m\u001b[0;36m12\u001b[0m\u001b[0;34m]\u001b[0m\u001b[0;34m)\u001b[0m\u001b[0;34m)\u001b[0m\u001b[0;34m\u001b[0m\u001b[0m\n",
      "\u001b[0;31mTypeError\u001b[0m: 'NoneType' object has no attribute '__getitem__'"
     ]
    },
    {
     "data": {
      "image/png": "[encoded data removed]",
      "text/plain": [
       "<matplotlib.figure.Figure at 0x115419e90>"
      ]
     },
     "metadata": {},
     "output_type": "display_data"
    }
   ],
   "source": [
    "array = realizer.plot_lens_random_date(lensID=db.sample[1]['LENSID'])"
   ]
  },
  {
   "cell_type": "code",
   "execution_count": null,
   "metadata": {
    "collapsed": false
   },
   "outputs": [],
   "source": [
    "array = realizer.plot_lens_random_date(lensID=db.sample[2]['LENSID'])"
   ]
  },
  {
   "cell_type": "code",
   "execution_count": null,
   "metadata": {
    "collapsed": false
   },
   "outputs": [],
   "source": [
    "array = realizer.plot_lens_random_date(lensID=db.sample[3]['LENSID'])"
   ]
  },
  {
   "cell_type": "code",
   "execution_count": null,
   "metadata": {
    "collapsed": false,
    "scrolled": true
   },
   "outputs": [],
   "source": [
    "print array[6] # x first moment\n",
    "print array[8] # y first moment\n",
    "print array[10] # flux\n",
    "print array[12] # size\n",
    "print array[15] # e\n",
    "print array[16] # phi\n",
    "import galsim\n",
    "\n",
    "galaxy = galsim.Gaussian(flux=array[10],sigma=array[12])\n",
    "galaxy = galaxy.shift(array[6],array[8])\n",
    "galaxy = galaxy.shear(e=array[15], beta=array[16]*57.2958*galsim.degrees)\n",
    "img = galaxy.drawImage(scale=0.02)\n",
    "plt.imshow(img.array)"
   ]
  },
  {
   "cell_type": "code",
   "execution_count": null,
   "metadata": {
    "collapsed": false
   },
   "outputs": [],
   "source": [
    "array = realizer.plot_lens_random_date(lensID=db.sample[5]['LENSID'])"
   ]
  },
  {
   "cell_type": "code",
   "execution_count": null,
   "metadata": {
    "collapsed": false
   },
   "outputs": [],
   "source": [
    "array = realizer.plot_lens_random_date(lensID=db.sample[6]['LENSID'])"
   ]
  },
  {
   "cell_type": "code",
   "execution_count": null,
   "metadata": {
    "collapsed": false
   },
   "outputs": [],
   "source": [
    "array = realizer.plot_lens_random_date(lensID=db.sample[7]['LENSID'])"
   ]
  },
  {
   "cell_type": "code",
   "execution_count": null,
   "metadata": {
    "collapsed": false
   },
   "outputs": [],
   "source": [
    "array = realizer.plot_lens_random_date(lensID=db.sample[8]['LENSID'])"
   ]
  },
  {
   "cell_type": "code",
   "execution_count": null,
   "metadata": {
    "collapsed": false
   },
   "outputs": [],
   "source": [
    "array = realizer.plot_lens_random_date(lensID=db.sample[9]['LENSID'])"
   ]
  },
  {
   "cell_type": "code",
   "execution_count": null,
   "metadata": {
    "collapsed": true
   },
   "outputs": [],
   "source": []
  }
 ],
 "metadata": {
  "anaconda-cloud": {},
  "kernelspec": {
   "display_name": "Python [conda env:python2]",
   "language": "python",
   "name": "conda-env-python2-py"
  },
  "language_info": {
   "codemirror_mode": {
    "name": "ipython",
    "version": 2
   },
   "file_extension": ".py",
   "mimetype": "text/x-python",
   "name": "python",
   "nbconvert_exporter": "python",
   "pygments_lexer": "ipython2",
   "version": "2.7.13"
  }
 },
 "nbformat": 4,
 "nbformat_minor": 1
}
