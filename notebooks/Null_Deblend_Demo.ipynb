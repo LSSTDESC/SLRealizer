{
 "cells": [
  {
   "cell_type": "markdown",
   "metadata": {},
   "source": [
    "# How to use SLRealzer's own deblend method"
   ]
  },
  {
   "cell_type": "code",
   "execution_count": 1,
   "metadata": {
    "scrolled": true
   },
   "outputs": [
    {
     "name": "stdout",
     "output_type": "stream",
     "text": [
      "Populating the interactive namespace from numpy and matplotlib\n"
     ]
    }
   ],
   "source": [
    "import om10\n",
    "import desc.slrealizer\n",
    "import warnings\n",
    "warnings.filterwarnings(\"ignore\")\n",
    "from astropy.io import fits\n",
    "import numpy as np\n",
    "%matplotlib inline\n",
    "%pylab inline\n",
    "matplotlib.use('TkAgg')\n",
    "matplotlib.rc('text', usetex=False)"
   ]
  },
  {
   "cell_type": "markdown",
   "metadata": {},
   "source": [
    "First, define filenames that will become our lens catalog and observation history."
   ]
  },
  {
   "cell_type": "code",
   "execution_count": 2,
   "metadata": {},
   "outputs": [],
   "source": [
    "catalog_f = '../data/qso_mock.fits'\n",
    "observation_f = '../data/twinkles_observation_history.csv'"
   ]
  },
  {
   "cell_type": "markdown",
   "metadata": {},
   "source": [
    "We make some initial cuts to only work with LSST-like systems."
   ]
  },
  {
   "cell_type": "code",
   "execution_count": 24,
   "metadata": {
    "scrolled": true
   },
   "outputs": [
    {
     "name": "stdout",
     "output_type": "stream",
     "text": [
      "OM10: Full db.lenses table contains 15658 systems\n",
      "OM10: Initial db.sample contains 15658 systems\n",
      "OM10: selection yields 781 lenses\n"
     ]
    }
   ],
   "source": [
    "# Initialize om10\n",
    "db = om10.DB(catalog=catalog_f)\n",
    "# Select LSST-like lenses by querying with these values\n",
    "# TODO make the values globally configurable\n",
    "db.select_random(maglim=23.3, area=5000.0, IQ=0.75) # fwhm of median psf in arcsec\n",
    "# Calculate the synthetic magnitude for the OM10 catalog -- need this\n",
    "db.paint(synthetic=True)\n",
    "# Calculate the sizes for the OM10 catalog -- if you want to assume the point-source-like-galaxies, get rid of this\n",
    "#db.calculate_size()"
   ]
  },
  {
   "cell_type": "code",
   "execution_count": 4,
   "metadata": {},
   "outputs": [],
   "source": [
    "# Initialize SLRealizer with OM10 lens systems and Twinkles observations\n",
    "realizer = desc.slrealizer.SLRealizer(catalog=db, observation=observation_f)"
   ]
  },
  {
   "cell_type": "markdown",
   "metadata": {},
   "source": [
    "Now we make further cuts to choose particularly good (bright and well-separated) lens systems that consist of two (doubles) or four (quads) objects. To do this, first access the column names of the FITS file (the mock lens catalog), and then select desired systems in numpy."
   ]
  },
  {
   "cell_type": "code",
   "execution_count": 5,
   "metadata": {},
   "outputs": [
    {
     "name": "stdout",
     "output_type": "stream",
     "text": [
      "ColDefs(\n",
      "    name = 'LENSID'; format = 'J'\n",
      "    name = 'FLAGTYPE'; format = 'I'\n",
      "    name = 'NIMG'; format = 'I'\n",
      "    name = 'ZLENS'; format = 'D'\n",
      "    name = 'VELDISP'; format = 'D'\n",
      "    name = 'ELLIP'; format = 'D'\n",
      "    name = 'PHIE'; format = 'D'\n",
      "    name = 'GAMMA'; format = 'D'\n",
      "    name = 'PHIG'; format = 'D'\n",
      "    name = 'ZSRC'; format = 'D'\n",
      "    name = 'XSRC'; format = 'D'\n",
      "    name = 'YSRC'; format = 'D'\n",
      "    name = 'MAGI_IN'; format = 'D'\n",
      "    name = 'MAGI'; format = 'D'\n",
      "    name = 'IMSEP'; format = 'D'\n",
      "    name = 'XIMG'; format = '4D'\n",
      "    name = 'YIMG'; format = '4D'\n",
      "    name = 'MAG'; format = '4D'\n",
      "    name = 'DELAY'; format = '4D'\n",
      "    name = 'KAPPA'; format = '4D'\n",
      "    name = 'FSTAR'; format = '4D'\n",
      "    name = 'DD'; format = 'D'\n",
      "    name = 'DDLUM'; format = 'D'\n",
      "    name = 'ABMAG_I'; format = 'D'\n",
      "    name = 'APMAG_I'; format = 'D'\n",
      "    name = 'KCORR'; format = 'D'\n",
      "    name = 'DS'; format = 'D'\n",
      "    name = 'DDS'; format = 'D'\n",
      "    name = 'SIGCRIT'; format = 'D'\n",
      "    name = 'DSLUM'; format = 'D'\n",
      "    name = 'L_I'; format = 'D'\n",
      "    name = 'REFF'; format = 'D'\n",
      "    name = 'REFF_T'; format = 'D'\n",
      ")\n"
     ]
    }
   ],
   "source": [
    "print fits.getdata(catalog_f).columns"
   ]
  },
  {
   "cell_type": "markdown",
   "metadata": {},
   "source": [
    "Here is what the observation history table looks like, if you are curious:"
   ]
  },
  {
   "cell_type": "code",
   "execution_count": 6,
   "metadata": {},
   "outputs": [
    {
     "data": {
      "text/html": [
       "<div>\n",
       "<style scoped>\n",
       "    .dataframe tbody tr th:only-of-type {\n",
       "        vertical-align: middle;\n",
       "    }\n",
       "\n",
       "    .dataframe tbody tr th {\n",
       "        vertical-align: top;\n",
       "    }\n",
       "\n",
       "    .dataframe thead th {\n",
       "        text-align: right;\n",
       "    }\n",
       "</style>\n",
       "<table border=\"1\" class=\"dataframe\">\n",
       "  <thead>\n",
       "    <tr style=\"text-align: right;\">\n",
       "      <th></th>\n",
       "      <th>expMJD</th>\n",
       "      <th>filter</th>\n",
       "      <th>FWHMeff</th>\n",
       "      <th>fiveSigmaDepth</th>\n",
       "    </tr>\n",
       "    <tr>\n",
       "      <th>obsHistID</th>\n",
       "      <th></th>\n",
       "      <th></th>\n",
       "      <th></th>\n",
       "      <th></th>\n",
       "    </tr>\n",
       "  </thead>\n",
       "  <tbody>\n",
       "    <tr>\n",
       "      <th>183767</th>\n",
       "      <td>59823.286523</td>\n",
       "      <td>g</td>\n",
       "      <td>1.093153</td>\n",
       "      <td>24.377204</td>\n",
       "    </tr>\n",
       "    <tr>\n",
       "      <th>183811</th>\n",
       "      <td>59823.307264</td>\n",
       "      <td>g</td>\n",
       "      <td>1.231930</td>\n",
       "      <td>24.289872</td>\n",
       "    </tr>\n",
       "    <tr>\n",
       "      <th>184047</th>\n",
       "      <td>59823.418685</td>\n",
       "      <td>z</td>\n",
       "      <td>0.908511</td>\n",
       "      <td>21.923566</td>\n",
       "    </tr>\n",
       "    <tr>\n",
       "      <th>185595</th>\n",
       "      <td>59825.256044</td>\n",
       "      <td>r</td>\n",
       "      <td>0.949096</td>\n",
       "      <td>24.128617</td>\n",
       "    </tr>\n",
       "    <tr>\n",
       "      <th>185736</th>\n",
       "      <td>59825.325979</td>\n",
       "      <td>g</td>\n",
       "      <td>1.242407</td>\n",
       "      <td>24.316968</td>\n",
       "    </tr>\n",
       "  </tbody>\n",
       "</table>\n",
       "</div>"
      ],
      "text/plain": [
       "                 expMJD filter   FWHMeff  fiveSigmaDepth\n",
       "obsHistID                                               \n",
       "183767     59823.286523      g  1.093153       24.377204\n",
       "183811     59823.307264      g  1.231930       24.289872\n",
       "184047     59823.418685      z  0.908511       21.923566\n",
       "185595     59825.256044      r  0.949096       24.128617\n",
       "185736     59825.325979      g  1.242407       24.316968"
      ]
     },
     "execution_count": 6,
     "metadata": {},
     "output_type": "execute_result"
    }
   ],
   "source": [
    "import pandas as pd\n",
    "obs_example = pd.read_csv(observation_f, index_col=0).head()\n",
    "obs_example"
   ]
  },
  {
   "cell_type": "code",
   "execution_count": 21,
   "metadata": {},
   "outputs": [],
   "source": [
    "obs = pd.read_csv(observation_f, index_col=0)\n",
    "filtered = obs.query(\"(expMJD < 60919) & (filter != 'y')\")"
   ]
  },
  {
   "cell_type": "code",
   "execution_count": 23,
   "metadata": {},
   "outputs": [
    {
     "data": {
      "text/plain": [
       "210"
      ]
     },
     "execution_count": 23,
     "metadata": {},
     "output_type": "execute_result"
    }
   ],
   "source": [
    "len(filtered)"
   ]
  },
  {
   "cell_type": "markdown",
   "metadata": {},
   "source": [
    "Now we are ready to use SLRealizer to visualize the lens system. In the following cell, we take the first system (`lens_idx = 0`). First, we visualize the system by drawing each object of the system based on the catalog information and overlaying them on on a pixelated canvas -- this is the true model image. Then, after numerically obtaining the flux, position, size, and ellipticity of this image, we draw the system purely from the numerically derived parameters, yielding the emulated image. The pixel scale for both images is 0.2 arcsec/pixel."
   ]
  },
  {
   "cell_type": "code",
   "execution_count": 7,
   "metadata": {
    "scrolled": false
   },
   "outputs": [
    {
     "name": "stdout",
     "output_type": "stream",
     "text": [
      "OM10: Extracted OM10 lens number 15590000:\n",
      " LENSID  FLAGTYPE NIMG ... i_SDSS_quasar   z_SDSS_quasar      u_SDSS_quasar  \n",
      "-------- -------- ---- ... ------------- ------------------ -----------------\n",
      "15590000        0    2 ...         23.15 22.936464658804613 23.44972163923763\n",
      "OM10: Extracted OM10 lens number 15590000:\n",
      " LENSID  FLAGTYPE NIMG ... i_SDSS_quasar   z_SDSS_quasar      u_SDSS_quasar  \n",
      "-------- -------- ---- ... ------------- ------------------ -----------------\n",
      "15590000        0    2 ...         23.15 22.936464658804613 23.44972163923763\n"
     ]
    },
    {
     "data": {
      "image/png": "[encoded data removed]",
      "text/plain": [
       "<matplotlib.figure.Figure at 0x7f56388f7150>"
      ]
     },
     "metadata": {},
     "output_type": "display_data"
    }
   ],
   "source": [
    "lens_idx = 0\n",
    "params = realizer.plot_lens_random_date(lensID=db.sample[lens_idx]['LENSID'])"
   ]
  },
  {
   "cell_type": "markdown",
   "metadata": {},
   "source": [
    "The numerically derived parameters are stored in a dictionary called `params`. Let's take a look at its contents:"
   ]
  },
  {
   "cell_type": "code",
   "execution_count": 8,
   "metadata": {},
   "outputs": [
    {
     "data": {
      "text/plain": [
       "{'DEC': 0,\n",
       " 'DEC_err': 0,\n",
       " 'MJD': 59843.258666999995,\n",
       " 'RA': 0,\n",
       " 'RA_err': 0,\n",
       " 'e1': -0.018082994967699054,\n",
       " 'e2': 0.022051010280847556,\n",
       " 'filter': 'i',\n",
       " 'flux': 46.805415507777965,\n",
       " 'flux_err': 0.07119954129044853,\n",
       " 'lensid': 15590000,\n",
       " 'psf_sigma': 0.909227,\n",
       " 'size': 0.9825827060123012,\n",
       " 'size_err': 0,\n",
       " 'sky': 23.621382,\n",
       " 'x': 0.09204120763546719,\n",
       " 'x_com_err': 0,\n",
       " 'y': 0.08154131766024883,\n",
       " 'y_com_err': 0}"
      ]
     },
     "execution_count": 8,
     "metadata": {},
     "output_type": "execute_result"
    }
   ],
   "source": [
    "params"
   ]
  },
  {
   "cell_type": "code",
   "execution_count": null,
   "metadata": {},
   "outputs": [],
   "source": []
  }
 ],
 "metadata": {
  "anaconda-cloud": {},
  "kernelspec": {
   "display_name": "Python 2",
   "language": "python",
   "name": "python2"
  },
  "language_info": {
   "codemirror_mode": {
    "name": "ipython",
    "version": 2
   },
   "file_extension": ".py",
   "mimetype": "text/x-python",
   "name": "python",
   "nbconvert_exporter": "python",
   "pygments_lexer": "ipython2",
   "version": "2.7.12"
  }
 },
 "nbformat": 4,
 "nbformat_minor": 1
}
