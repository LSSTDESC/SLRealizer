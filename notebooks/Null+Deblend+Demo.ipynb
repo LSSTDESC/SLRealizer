{
 "cells": [
  {
   "cell_type": "markdown",
   "metadata": {},
   "source": [
    "# How to use SLRealzer's own deblend method"
   ]
  },
  {
   "cell_type": "code",
   "execution_count": 1,
   "metadata": {
    "scrolled": true
   },
   "outputs": [
    {
     "name": "stdout",
     "output_type": "stream",
     "text": [
      "Populating the interactive namespace from numpy and matplotlib\n"
     ]
    }
   ],
   "source": [
    "import om10\n",
    "import desc.slrealizer as sl\n",
    "import pandas as pd\n",
    "import warnings\n",
    "warnings.filterwarnings(\"ignore\")\n",
    "from astropy.io import fits\n",
    "import numpy as np\n",
    "%matplotlib inline\n",
    "%pylab inline\n",
    "matplotlib.use('TkAgg')\n",
    "matplotlib.rc('text', usetex=False)"
   ]
  },
  {
   "cell_type": "markdown",
   "metadata": {},
   "source": [
    "First, define filenames that will become our lens catalog and observation history."
   ]
  },
  {
   "cell_type": "code",
   "execution_count": 2,
   "metadata": {},
   "outputs": [],
   "source": [
    "catalog_f = '../data/qso_mock.fits'\n",
    "observation_f = '../data/twinkles_observation_history.csv'"
   ]
  },
  {
   "cell_type": "markdown",
   "metadata": {},
   "source": [
    "We make some initial cuts on the OM10 catalog to only work with LSST-like systems. The OM10 DB object will be an input to the SLRealizer constructor."
   ]
  },
  {
   "cell_type": "code",
   "execution_count": 3,
   "metadata": {
    "scrolled": true
   },
   "outputs": [
    {
     "name": "stdout",
     "output_type": "stream",
     "text": [
      "OM10: Full db.lenses table contains 15658 systems\n",
      "OM10: Initial db.sample contains 15658 systems\n",
      "OM10: selection yields 781 lenses\n"
     ]
    }
   ],
   "source": [
    "# Initialize om10\n",
    "db = om10.DB(catalog=catalog_f)\n",
    "# Select LSST-like lenses by querying with these values\n",
    "# TODO make the values globally configurable\n",
    "db.select_random(maglim=23.3, area=5000.0, IQ=0.75) # fwhm of median psf in arcsec\n",
    "# Calculate the synthetic magnitude for the OM10 catalog -- need this\n",
    "db.paint(synthetic=True)\n",
    "# Calculate the sizes for the OM10 catalog -- if you want to assume the point-source-like-galaxies, get rid of this\n",
    "#db.calculate_size()"
   ]
  },
  {
   "cell_type": "markdown",
   "metadata": {},
   "source": [
    "The other input to the SLRealizer constructor is the observation history dataframe. We look at the first three years for an initial first pass. Here's what the observational history table looks like:"
   ]
  },
  {
   "cell_type": "code",
   "execution_count": 16,
   "metadata": {},
   "outputs": [
    {
     "data": {
      "text/html": [
       "<div>\n",
       "<style scoped>\n",
       "    .dataframe tbody tr th:only-of-type {\n",
       "        vertical-align: middle;\n",
       "    }\n",
       "\n",
       "    .dataframe tbody tr th {\n",
       "        vertical-align: top;\n",
       "    }\n",
       "\n",
       "    .dataframe thead th {\n",
       "        text-align: right;\n",
       "    }\n",
       "</style>\n",
       "<table border=\"1\" class=\"dataframe\">\n",
       "  <thead>\n",
       "    <tr style=\"text-align: right;\">\n",
       "      <th></th>\n",
       "      <th>obsHistID</th>\n",
       "      <th>expMJD</th>\n",
       "      <th>filter</th>\n",
       "      <th>FWHMeff</th>\n",
       "      <th>fiveSigmaDepth</th>\n",
       "    </tr>\n",
       "  </thead>\n",
       "  <tbody>\n",
       "    <tr>\n",
       "      <th>0</th>\n",
       "      <td>183767</td>\n",
       "      <td>59823.286523</td>\n",
       "      <td>g</td>\n",
       "      <td>1.093153</td>\n",
       "      <td>24.377204</td>\n",
       "    </tr>\n",
       "    <tr>\n",
       "      <th>1</th>\n",
       "      <td>183811</td>\n",
       "      <td>59823.307264</td>\n",
       "      <td>g</td>\n",
       "      <td>1.231930</td>\n",
       "      <td>24.289872</td>\n",
       "    </tr>\n",
       "    <tr>\n",
       "      <th>2</th>\n",
       "      <td>184047</td>\n",
       "      <td>59823.418685</td>\n",
       "      <td>z</td>\n",
       "      <td>0.908511</td>\n",
       "      <td>21.923566</td>\n",
       "    </tr>\n",
       "    <tr>\n",
       "      <th>3</th>\n",
       "      <td>185595</td>\n",
       "      <td>59825.256044</td>\n",
       "      <td>r</td>\n",
       "      <td>0.949096</td>\n",
       "      <td>24.128617</td>\n",
       "    </tr>\n",
       "    <tr>\n",
       "      <th>4</th>\n",
       "      <td>185736</td>\n",
       "      <td>59825.325979</td>\n",
       "      <td>g</td>\n",
       "      <td>1.242407</td>\n",
       "      <td>24.316968</td>\n",
       "    </tr>\n",
       "  </tbody>\n",
       "</table>\n",
       "</div>"
      ],
      "text/plain": [
       "   obsHistID        expMJD filter   FWHMeff  fiveSigmaDepth\n",
       "0     183767  59823.286523      g  1.093153       24.377204\n",
       "1     183811  59823.307264      g  1.231930       24.289872\n",
       "2     184047  59823.418685      z  0.908511       21.923566\n",
       "3     185595  59825.256044      r  0.949096       24.128617\n",
       "4     185736  59825.325979      g  1.242407       24.316968"
      ]
     },
     "execution_count": 16,
     "metadata": {},
     "output_type": "execute_result"
    }
   ],
   "source": [
    "obs = pd.read_csv(observation_f)\n",
    "obs = obs.query(\"(expMJD < 60919) & (filter != 'y')\").reset_index(drop=True)\n",
    "obs.head()"
   ]
  },
  {
   "cell_type": "markdown",
   "metadata": {},
   "source": [
    "Now we can initialize SLRealizer with OM10 lens systems and Twinkles observations."
   ]
  },
  {
   "cell_type": "code",
   "execution_count": 17,
   "metadata": {},
   "outputs": [],
   "source": [
    "realizer = sl.SLRealizer(catalog=db, observation=obs)"
   ]
  },
  {
   "cell_type": "markdown",
   "metadata": {},
   "source": [
    "Now we are ready to use SLRealizer to visualize the lens system. In the following cell, we take the first system (`lens_idx = 0`). First, we visualize the system by drawing each object of the system based on the catalog information and overlaying them on on a pixelated canvas -- this is the true model image. Then, after numerically obtaining the flux, position, size, and ellipticity of this image, we draw the system purely from the numerically derived parameters, yielding the emulated image. The pixel scale for both images is 0.2 arcsec/pixel."
   ]
  },
  {
   "cell_type": "code",
   "execution_count": 24,
   "metadata": {
    "scrolled": false
   },
   "outputs": [],
   "source": [
    "#lens_idx = 100\n",
    "#params = realizer.draw_lens_random_date(lensID=db.sample[lens_idx]['LENSID'])"
   ]
  },
  {
   "cell_type": "markdown",
   "metadata": {},
   "source": [
    "The numerically derived parameters are stored in a dictionary called `params`. Let's take a look at its contents:"
   ]
  },
  {
   "cell_type": "code",
   "execution_count": 25,
   "metadata": {},
   "outputs": [],
   "source": [
    "#params"
   ]
  },
  {
   "cell_type": "code",
   "execution_count": null,
   "metadata": {},
   "outputs": [],
   "source": []
  }
 ],
 "metadata": {
  "anaconda-cloud": {},
  "kernelspec": {
   "display_name": "Python 2",
   "language": "python",
   "name": "python2"
  },
  "language_info": {
   "codemirror_mode": {
    "name": "ipython",
    "version": 2
   },
   "file_extension": ".py",
   "mimetype": "text/x-python",
   "name": "python",
   "nbconvert_exporter": "python",
   "pygments_lexer": "ipython2",
   "version": "2.7.12"
  }
 },
 "nbformat": 4,
 "nbformat_minor": 1
}
