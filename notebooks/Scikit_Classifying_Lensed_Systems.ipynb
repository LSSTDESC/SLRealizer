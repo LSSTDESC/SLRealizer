{
 "cells": [
  {
   "cell_type": "markdown",
   "metadata": {},
   "source": [
    "# Cornerplots of various features for lensed system\n",
    "### SDSS vs OM10 (realized by Galsim)"
   ]
  },
  {
   "cell_type": "markdown",
   "metadata": {
    "collapsed": true
   },
   "source": [
    "The OM10 mock lensed quasar catalog qso_mock.fits contains a list of LSST-like samples. Using the OM10 mock catalog and observation history data, we can generate a toy catalog for SLRealizer. Using the toy catalog, we can null-deblend the catalog and generate the cornerplot to easily compare different features. We use Galsim to null-deblend and realize the catalog. Then, we compared the OM10 features with SDSS features."
   ]
  },
  {
   "cell_type": "code",
   "execution_count": 1,
   "metadata": {
    "scrolled": false
   },
   "outputs": [
    {
     "name": "stderr",
     "output_type": "stream",
     "text": [
      "/Users/Jenny/anaconda/envs/python2/lib/python2.7/site-packages/matplotlib/__init__.py:1401: UserWarning:  This call to matplotlib.use() has no effect\n",
      "because the backend has already been chosen;\n",
      "matplotlib.use() must be called *before* pylab, matplotlib.pyplot,\n",
      "or matplotlib.backends is imported for the first time.\n",
      "\n",
      "  warnings.warn(_use_error_msg)\n"
     ]
    }
   ],
   "source": [
    "from __future__ import print_function\n",
    "from astropy.table import Table, hstack\n",
    "import astropy.io.fits as pyfits\n",
    "import sys, os\n",
    "import desc.slrealizer\n",
    "import warnings\n",
    "import numpy as np\n",
    "warnings.filterwarnings(\"ignore\")"
   ]
  },
  {
   "cell_type": "markdown",
   "metadata": {},
   "source": [
    "The lines below enable the jupyter notebook to display inline plots."
   ]
  },
  {
   "cell_type": "code",
   "execution_count": 2,
   "metadata": {},
   "outputs": [],
   "source": [
    "import matplotlib\n",
    "warnings.filterwarnings(\"ignore\")\n",
    "%matplotlib inline\n",
    "matplotlib.use('TkAgg')\n",
    "matplotlib.rc('text', usetex=False)"
   ]
  },
  {
   "cell_type": "markdown",
   "metadata": {},
   "source": [
    "Here, we initialize SLRealizer constructor"
   ]
  },
  {
   "cell_type": "code",
   "execution_count": 3,
   "metadata": {},
   "outputs": [],
   "source": [
    "realizer = desc.slrealizer.SLRealizer()"
   ]
  },
  {
   "cell_type": "markdown",
   "metadata": {},
   "source": [
    "##  Make the feature set"
   ]
  },
  {
   "cell_type": "markdown",
   "metadata": {},
   "source": [
    "Based on the cornerplot that we drew of SDSS and OM10, we make a new catalog that has only useful features. We choose six features:\n",
    "\n",
    "- Difference in sizes between u and z bands\n",
    "- Difference in ellipticities between u and z bands (e)\n",
    "- Difference in rotation angles of the systems between u and z bands (ϕ)\n",
    "- Difference in angles between centroid positions and galactic shears (ω) \n",
    "- Difference in magnitudes between u and z bands\n",
    "- Difference in positions of the centroid between u and z bands (x)"
   ]
  },
  {
   "cell_type": "markdown",
   "metadata": {},
   "source": [
    "In order to do so, we first load the dependencies:"
   ]
  },
  {
   "cell_type": "code",
   "execution_count": 2,
   "metadata": {},
   "outputs": [
    {
     "name": "stderr",
     "output_type": "stream",
     "text": [
      "/home/jwp/stage/sl/LensPop/lenspop/make_lens_pop.py:7: UserWarning: \n",
      "This call to matplotlib.use() has no effect because the backend has already\n",
      "been chosen; matplotlib.use() must be called *before* pylab, matplotlib.pyplot,\n",
      "or matplotlib.backends is imported for the first time.\n",
      "\n",
      "The backend was *originally* set to 'module://ipykernel.pylab.backend_inline' by the following code:\n",
      "  File \"/usr/lib/python2.7/runpy.py\", line 174, in _run_module_as_main\n",
      "    \"__main__\", fname, loader, pkg_name)\n",
      "  File \"/usr/lib/python2.7/runpy.py\", line 72, in _run_code\n",
      "    exec code in run_globals\n",
      "  File \"/home/jwp/.local/lib/python2.7/site-packages/ipykernel_launcher.py\", line 16, in <module>\n",
      "    app.launch_new_instance()\n",
      "  File \"/home/jwp/.local/lib/python2.7/site-packages/traitlets/config/application.py\", line 658, in launch_instance\n",
      "    app.start()\n",
      "  File \"/home/jwp/.local/lib/python2.7/site-packages/ipykernel/kernelapp.py\", line 486, in start\n",
      "    self.io_loop.start()\n",
      "  File \"/home/jwp/.local/lib/python2.7/site-packages/tornado/ioloop.py\", line 888, in start\n",
      "    handler_func(fd_obj, events)\n",
      "  File \"/home/jwp/.local/lib/python2.7/site-packages/tornado/stack_context.py\", line 277, in null_wrapper\n",
      "    return fn(*args, **kwargs)\n",
      "  File \"/home/jwp/.local/lib/python2.7/site-packages/zmq/eventloop/zmqstream.py\", line 450, in _handle_events\n",
      "    self._handle_recv()\n",
      "  File \"/home/jwp/.local/lib/python2.7/site-packages/zmq/eventloop/zmqstream.py\", line 480, in _handle_recv\n",
      "    self._run_callback(callback, msg)\n",
      "  File \"/home/jwp/.local/lib/python2.7/site-packages/zmq/eventloop/zmqstream.py\", line 432, in _run_callback\n",
      "    callback(*args, **kwargs)\n",
      "  File \"/home/jwp/.local/lib/python2.7/site-packages/tornado/stack_context.py\", line 277, in null_wrapper\n",
      "    return fn(*args, **kwargs)\n",
      "  File \"/home/jwp/.local/lib/python2.7/site-packages/ipykernel/kernelbase.py\", line 283, in dispatcher\n",
      "    return self.dispatch_shell(stream, msg)\n",
      "  File \"/home/jwp/.local/lib/python2.7/site-packages/ipykernel/kernelbase.py\", line 233, in dispatch_shell\n",
      "    handler(stream, idents, msg)\n",
      "  File \"/home/jwp/.local/lib/python2.7/site-packages/ipykernel/kernelbase.py\", line 399, in execute_request\n",
      "    user_expressions, allow_stdin)\n",
      "  File \"/home/jwp/.local/lib/python2.7/site-packages/ipykernel/ipkernel.py\", line 208, in do_execute\n",
      "    res = shell.run_cell(code, store_history=store_history, silent=silent)\n",
      "  File \"/home/jwp/.local/lib/python2.7/site-packages/ipykernel/zmqshell.py\", line 537, in run_cell\n",
      "    return super(ZMQInteractiveShell, self).run_cell(*args, **kwargs)\n",
      "  File \"/home/jwp/.local/lib/python2.7/site-packages/IPython/core/interactiveshell.py\", line 2718, in run_cell\n",
      "    interactivity=interactivity, compiler=compiler, result=result)\n",
      "  File \"/home/jwp/.local/lib/python2.7/site-packages/IPython/core/interactiveshell.py\", line 2822, in run_ast_nodes\n",
      "    if self.run_code(code, result):\n",
      "  File \"/home/jwp/.local/lib/python2.7/site-packages/IPython/core/interactiveshell.py\", line 2882, in run_code\n",
      "    exec(code_obj, self.user_global_ns, self.user_ns)\n",
      "  File \"<ipython-input-2-f615fe288bc9>\", line 3, in <module>\n",
      "    import matplotlib.pyplot as plt\n",
      "  File \"/usr/local/lib/python2.7/dist-packages/matplotlib/pyplot.py\", line 72, in <module>\n",
      "    from matplotlib.backends import pylab_setup\n",
      "  File \"/usr/local/lib/python2.7/dist-packages/matplotlib/backends/__init__.py\", line 14, in <module>\n",
      "    line for line in traceback.format_stack()\n",
      "\n",
      "\n",
      "  matplotlib.use('TkAgg')\n"
     ]
    }
   ],
   "source": [
    "import pandas as pd\n",
    "from sklearn.metrics import precision_recall_curve\n",
    "import matplotlib.pyplot as plt\n",
    "import numpy as np\n",
    "import desc.slrealizer"
   ]
  },
  {
   "cell_type": "markdown",
   "metadata": {},
   "source": [
    "Then, we read in the object_table and the sdss_table."
   ]
  },
  {
   "cell_type": "code",
   "execution_count": 1,
   "metadata": {},
   "outputs": [
    {
     "ename": "NameError",
     "evalue": "name 'pd' is not defined",
     "output_type": "error",
     "traceback": [
      "\u001b[0;31m---------------------------------------------------------------------------\u001b[0m",
      "\u001b[0;31mNameError\u001b[0m                                 Traceback (most recent call last)",
      "\u001b[0;32m<ipython-input-1-cd6d987e255b>\u001b[0m in \u001b[0;36m<module>\u001b[0;34m()\u001b[0m\n\u001b[0;32m----> 1\u001b[0;31m \u001b[0mobject_table\u001b[0m \u001b[0;34m=\u001b[0m \u001b[0mpd\u001b[0m\u001b[0;34m.\u001b[0m\u001b[0mread_csv\u001b[0m\u001b[0;34m(\u001b[0m\u001b[0;34m'../data/object_catalog_galsim_noise_perfect.csv'\u001b[0m\u001b[0;34m)\u001b[0m\u001b[0;34m\u001b[0m\u001b[0m\n\u001b[0m\u001b[1;32m      2\u001b[0m \u001b[0msdss_table\u001b[0m \u001b[0;34m=\u001b[0m \u001b[0mpd\u001b[0m\u001b[0;34m.\u001b[0m\u001b[0mread_csv\u001b[0m\u001b[0;34m(\u001b[0m\u001b[0;34m'../data/sdss_object.csv'\u001b[0m\u001b[0;34m)\u001b[0m\u001b[0;34m.\u001b[0m\u001b[0mhead\u001b[0m\u001b[0;34m(\u001b[0m\u001b[0mlen\u001b[0m\u001b[0;34m(\u001b[0m\u001b[0mobject_table\u001b[0m\u001b[0;34m)\u001b[0m\u001b[0;34m)\u001b[0m \u001b[0;31m# make sure that we have the same number of 0s and 1s\u001b[0m\u001b[0;34m\u001b[0m\u001b[0m\n",
      "\u001b[0;31mNameError\u001b[0m: name 'pd' is not defined"
     ]
    }
   ],
   "source": [
    "object_table = pd.read_csv('../data/object_catalog_galsim_noise_perfect.csv')\n",
    "sdss_table = pd.read_csv('../data/sdss_object.csv').head(len(object_table)) # make sure that we have the same number of 0s and 1s"
   ]
  },
  {
   "cell_type": "markdown",
   "metadata": {},
   "source": [
    "Then, we calculate each entrees of six useful features. First, we do that for object_table(om10) and save into `truth_data.csv`."
   ]
  },
  {
   "cell_type": "code",
   "execution_count": 6,
   "metadata": {},
   "outputs": [
    {
     "name": "stdout",
     "output_type": "stream",
     "text": [
      "    truth   delta_e  delta_phi       u_z   delta_x  delta_size  delta_omega\n",
      "0     1.0 -0.005666  -0.163351  1.585354  0.002784    0.440159    -0.146215\n",
      "1     1.0 -0.040801  -0.010858  0.517562  0.015328    0.432209     0.219294\n",
      "2     1.0 -0.131534  -6.825709  3.002194  0.102056   -3.998764    -0.119732\n",
      "3     1.0  0.004525 -38.092872  4.517923  1.406235   -9.764442     0.110046\n",
      "4     1.0 -0.238428  -0.000126  0.561722  0.005139    0.388198    -0.247831\n",
      "5     1.0 -0.093020  41.059029  4.236957  0.304399   -4.778598    -0.124385\n",
      "6     1.0 -0.006636  -0.119291  6.369142  0.072018    0.311473     0.000371\n",
      "7     1.0 -0.022815  17.867169  1.417162  0.050005   -0.232064    -0.027582\n",
      "8     1.0  0.499698  19.361792  5.359843  1.225363   -7.292793    -0.098279\n",
      "9     1.0 -0.104022  28.881267  4.475561  1.450059    8.693007    -0.055464\n",
      "10    1.0 -0.124950  55.173507  5.805991  3.087724   -5.262972     0.104339\n",
      "11    1.0 -0.160861  12.318085  4.425464  1.052916   -3.030865     0.196438\n",
      "12    1.0 -0.050210  -0.163954  1.444663  0.006463    0.352423    -0.000148\n",
      "13    1.0  0.139903   6.624986  6.815785  0.300659   -6.292146    -0.019260\n",
      "14    1.0  0.106420 -46.808295  4.919679  1.439357   -5.583279    -0.098297\n",
      "15    1.0 -0.049345  -0.011127  1.243061  0.004175    0.431136     0.017788\n",
      "16    1.0 -0.056614  -0.345784  0.786631  0.005259    0.336035     0.186121\n",
      "17    1.0 -0.015737   0.459377  3.750271  0.001449    0.391548     0.038266\n",
      "18    1.0 -0.168211  54.908878  4.002434  0.495967   -1.090164     0.058482\n",
      "19    1.0 -0.000601  -0.028212  4.857435  0.112590    0.649182    -0.000346\n",
      "20    1.0  0.053947 -20.308393  1.851148  0.413405    5.198703    -0.062008\n",
      "21    1.0 -0.078552  -0.146964  1.504140  0.014147    0.342369    -0.253316\n",
      "22    1.0 -0.055307  -0.012926  0.549399  0.006962    0.437102    -0.018149\n",
      "23    1.0 -0.003530   0.257132  5.490446  0.061518    0.834483     0.000885\n",
      "24    1.0 -0.134140   3.227286  1.113269  0.031058   -0.162905     0.092512\n",
      "25    1.0 -0.093365  -0.316121  0.517394  0.052198    0.368554    -0.161824\n",
      "26    1.0 -0.127015  -0.005812  3.151183  0.008671    0.353518     0.029618\n",
      "27    1.0 -0.181765   0.015167  1.735054  0.029321    0.356744    -0.079733\n",
      "28    1.0 -0.090576  -0.000603  2.009204  0.004562    0.366464    -0.011473\n",
      "29    1.0 -0.143179   4.252604  2.265883  0.479408   -3.327310     0.003459\n",
      "..    ...       ...        ...       ...       ...         ...          ...\n",
      "70    1.0 -0.003959  -0.285912  4.908678  0.041055    0.301587     0.001884\n",
      "71    1.0 -0.074054   0.261237  0.807658  0.014138    0.292112     0.162196\n",
      "72    1.0 -0.019810  -0.043183  0.544488  0.004314    0.451888     0.242059\n",
      "73    1.0 -0.113103   0.000403  1.212527  0.016596    0.416285    -0.010036\n",
      "74    1.0 -0.047359  -4.426291  1.917306  0.017588    0.068711     0.064835\n",
      "75    1.0 -0.195097  -9.186331  4.079899  0.183786   -1.519438    -0.074430\n",
      "76    1.0 -0.112198  -0.000030  1.114941  0.081919    0.429202     0.104506\n",
      "77    1.0 -0.041442   0.001265  0.770173  0.048258    0.444524     0.183530\n",
      "78    1.0 -0.317496   3.371253  3.180195  0.116120   -1.518451     0.250968\n",
      "79    1.0 -0.118199  11.677059  4.260721  0.713434   -5.882774    -0.002179\n",
      "80    1.0 -0.080726   0.029791  0.647708  0.048750    0.379083     0.012567\n",
      "81    1.0 -0.010388   2.243749  4.278843  0.108061   -1.071555     0.110023\n",
      "82    1.0 -0.010809   0.923263  3.544277  0.006761    0.432708     0.060079\n",
      "83    1.0 -0.008380  -0.002791  0.684213  0.001132    0.447385    -0.062631\n",
      "84    1.0 -0.063181  25.711069  5.335218  1.012829   -7.675321     0.030419\n",
      "85    1.0 -0.007139   0.001276  1.171084  0.138174    0.455280    -0.238658\n",
      "86    1.0 -0.004325   0.466934  5.643759  0.171107    0.585449     0.000678\n",
      "87    1.0 -0.051625  -0.027244  0.481359  0.007550    0.405550     0.236924\n",
      "88    1.0 -0.122721   0.406879  0.608155  0.030723    0.303138     0.026300\n",
      "89    1.0 -0.160965   0.003944  0.433326  0.076167    0.352765    -0.006119\n",
      "90    1.0 -0.038970  -0.110549  1.207955  0.003912    0.410750    -0.065735\n",
      "91    1.0 -0.036319   0.001457  1.681817  0.003094    0.446277     0.177579\n",
      "92    1.0 -0.057808  -0.430303  3.587959  0.009959    0.484743     0.043551\n",
      "93    1.0 -0.009935  -5.981180  0.416398  0.012537    0.432028     0.256294\n",
      "94    1.0 -0.014403   0.230372  0.738244  0.004109    0.411358     0.243537\n",
      "95    1.0 -0.118489   0.004575  1.362726  0.021931    0.396316     0.008802\n",
      "96    1.0 -0.017541   0.313080  2.646177  0.003478    0.453769     0.013750\n",
      "97    1.0 -0.042874  -0.013331  0.311209  0.003729    0.429181    -0.208664\n",
      "98    1.0 -0.150238  14.653044  5.343841  0.449137  -10.754322     0.041115\n",
      "99    1.0 -0.391324 -11.607780  2.359294  0.529568   10.062046    -0.001004\n",
      "\n",
      "[100 rows x 7 columns]\n"
     ]
    }
   ],
   "source": [
    "features = np.array([])\n",
    "u_e = object_table['u_e']\n",
    "z_e = object_table['z_e']\n",
    "u_phi = object_table['u_phi']\n",
    "z_phi = object_table['z_phi']\n",
    "delta_e = u_e - z_e\n",
    "delta_phi = (object_table['u_phi']-object_table['z_phi'])\n",
    "u = desc.slrealizer.return_zeropoint()-2.5*np.log10(object_table['u_flux'])\n",
    "z = desc.slrealizer.return_zeropoint()-2.5*np.log10(object_table['z_flux'])\n",
    "u_z = u - z\n",
    "u_x = object_table['u_x'] - object_table['r_x']\n",
    "u_y = object_table['u_y'] - object_table['r_y']\n",
    "u_e1 = object_table['u_e1']\n",
    "u_e2 = object_table['u_e2']\n",
    "u_ex = u_x* (u_e1*np.cos(u_phi) - u_e2*np.sin(u_phi))\n",
    "u_ey = u_y* (u_e1*np.sin(u_phi) + u_e2*np.cos(u_phi))\n",
    "z_x = object_table['z_x'] - object_table['r_x']\n",
    "z_y = object_table['z_y'] - object_table['r_y']\n",
    "z_e1 = object_table['z_e1']\n",
    "z_e2 = object_table['z_e2']\n",
    "z_ex = z_x * (z_e1*np.cos(z_phi) - z_e2*np.sin(z_phi))\n",
    "z_ey = z_y * (z_e1*np.cos(z_phi) - z_e2*np.sin(z_phi))\n",
    "pos_mod_u = np.sqrt(u_x*u_x + u_y*u_y)\n",
    "pos_mod_z = np.sqrt(z_x*z_x + z_y*z_y)\n",
    "delta_x = np.sqrt((u_x - z_x) * (u_x - z_x) + (u_y - z_y) * (u_y - z_y))\n",
    "delta_size = object_table['u_size']-object_table['z_size']\n",
    "\n",
    "u_omega = (u_ex+u_ey)/(u_e*pos_mod_u)\n",
    "z_omega = (z_ex+z_ey)/(z_e*pos_mod_z)\n",
    "\n",
    "diff_x = u_x - z_x\n",
    "diff_y = u_y - z_y\n",
    "pos_mod_diff = np.sqrt(diff_x * diff_x + diff_y * diff_y)\n",
    "\n",
    "omega_u_num = u_x*u_e*np.cos(2*u_phi) + u_x*u_e*np.sqrt(2)/2*np.sin(2*u_phi) + np.sqrt(2)/2 * u_y * u_e * np.sin(2*u_phi)\n",
    "omega_u_den = pos_mod_u * u_e *10\n",
    "omag_u = omega_u_num / omega_u_den\n",
    "\n",
    "omega_z_num = z_x*z_e*np.cos(2*z_phi) + z_x*z_e*np.sqrt(2)/2*np.sin(2*z_phi) + np.sqrt(2)/2 *z_y * z_e * np.sin(2*z_phi)\n",
    "omega_z_den = pos_mod_z * z_e * 10\n",
    "omag_z = omega_z_num / omega_z_den\n",
    "\n",
    "delta_omega = omag_u-omag_z\n",
    "\n",
    "delta_phi = delta_phi*57.2958\n",
    "\n",
    "truth = [1] * len(delta_omega)\n",
    "\n",
    "features = np.append(features, truth)\n",
    "features = np.append(features, delta_e)\n",
    "features = np.append(features, delta_phi)\n",
    "features = np.append(features, u_z)\n",
    "features = np.append(features, delta_x)\n",
    "features = np.append(features, delta_size)\n",
    "features = np.append(features, delta_omega)\n",
    "features = features.reshape(7, len(u_x)).transpose()\n",
    "data = pd.DataFrame(features, columns=['truth', 'delta_e', 'delta_phi', 'u_z', 'delta_x', 'delta_size', 'delta_omega'])\n",
    "data.to_csv('../data/truth_data.csv')\n",
    "print(data)"
   ]
  },
  {
   "cell_type": "markdown",
   "metadata": {},
   "source": [
    "Do the same for sdss_table, saving into `false_data`."
   ]
  },
  {
   "cell_type": "code",
   "execution_count": 7,
   "metadata": {},
   "outputs": [],
   "source": [
    "features = np.array([])\n",
    "u_e = sdss_table['u_e']\n",
    "z_e = sdss_table['z_e']\n",
    "u_phi = sdss_table['u_phi']\n",
    "z_phi = sdss_table['z_phi']\n",
    "delta_e = u_e - z_e\n",
    "delta_phi = (sdss_table['u_phi']-sdss_table['z_phi'])\n",
    "u = desc.slrealizer.return_zeropoint()-2.5*np.log10(sdss_table['u_flux'])\n",
    "z = desc.slrealizer.return_zeropoint()-2.5*np.log10(sdss_table['z_flux'])\n",
    "u_z = u - z\n",
    "u_x = sdss_table['u_x'] - sdss_table['r_x']\n",
    "u_y = sdss_table['u_y'] - sdss_table['r_y']\n",
    "u_e1 = sdss_table['u_e1']\n",
    "u_e2 = sdss_table['u_e2']\n",
    "u_ex = u_x* (u_e1*np.cos(u_phi) - u_e2*np.sin(u_phi))\n",
    "u_ey = u_y* (u_e1*np.sin(u_phi) + u_e2*np.cos(u_phi))\n",
    "z_x = sdss_table['z_x'] - sdss_table['r_x']\n",
    "z_y = sdss_table['z_y'] - sdss_table['r_y']\n",
    "z_e1 = sdss_table['z_e1']\n",
    "z_e2 = sdss_table['z_e2']\n",
    "z_ex = z_x * (z_e1*np.cos(z_phi) - z_e2*np.sin(z_phi))\n",
    "z_ey = z_y * (z_e1*np.cos(z_phi) - z_e2*np.sin(z_phi))\n",
    "pos_mod_u = np.sqrt(u_x*u_x + u_y*u_y)\n",
    "pos_mod_z = np.sqrt(z_x*z_x + z_y*z_y)\n",
    "delta_x = np.sqrt((u_x - z_x) * (u_x - z_x) + (u_y - z_y) * (u_y - z_y))\n",
    "delta_size = sdss_table['u_size']-sdss_table['z_size']\n",
    "\n",
    "u_omega = (u_ex+u_ey)/(u_e*pos_mod_u)\n",
    "z_omega = (z_ex+z_ey)/(z_e*pos_mod_z)\n",
    "\n",
    "diff_x = u_x - z_x\n",
    "diff_y = u_y - z_y\n",
    "pos_mod_diff = np.sqrt(diff_x * diff_x + diff_y * diff_y)\n",
    "\n",
    "omega_u_num = u_x*u_e*np.cos(2*u_phi) + u_x*u_e*np.sqrt(2)/2*np.sin(2*u_phi) + np.sqrt(2)/2 * u_y * u_e * np.sin(2*u_phi)\n",
    "omega_u_den = pos_mod_u * u_e *10\n",
    "omag_u = omega_u_num / omega_u_den\n",
    "\n",
    "omega_z_num = z_x*z_e*np.cos(2*z_phi) + z_x*z_e*np.sqrt(2)/2*np.sin(2*z_phi) + np.sqrt(2)/2 *z_y * z_e * np.sin(2*z_phi)\n",
    "omega_z_den = pos_mod_z * z_e * 10\n",
    "omag_z = omega_z_num / omega_z_den\n",
    "\n",
    "delta_omega = omag_u-omag_z\n",
    "\n",
    "delta_phi = delta_phi*57.2958\n",
    "\n",
    "truth = [0] * len(delta_omega)\n",
    "\n",
    "features = np.append(features, truth)\n",
    "features = np.append(features, delta_e)\n",
    "features = np.append(features, delta_phi)\n",
    "features = np.append(features, u_z)\n",
    "features = np.append(features, delta_x)\n",
    "features = np.append(features, delta_size)\n",
    "features = np.append(features, delta_omega)\n",
    "features = features.reshape(7, len(u_x)).transpose()\n",
    "sdss_data = pd.DataFrame(features, columns=['truth', 'delta_e', 'delta_phi', 'u_z', 'delta_x', 'delta_size', 'delta_omega'])\n",
    "sdss_data.to_csv('../data/false_data.csv')"
   ]
  },
  {
   "cell_type": "markdown",
   "metadata": {},
   "source": [
    "Then, we merged the truth(om10) and the false(sdss) to one catalog, saving it into `training_data.csv`."
   ]
  },
  {
   "cell_type": "code",
   "execution_count": 8,
   "metadata": {},
   "outputs": [],
   "source": [
    "df_col_merged =pd.concat([data, sdss_data], axis=0)\n",
    "df_col_merged = df_col_merged.sample(frac=1)\n",
    "df_col_merged.to_csv('../data/training_data.csv')"
   ]
  },
  {
   "cell_type": "markdown",
   "metadata": {},
   "source": [
    "# Machine Learning + Precision Recall Curve for various methods"
   ]
  },
  {
   "cell_type": "markdown",
   "metadata": {},
   "source": [
    "We are going two use three different algorithms : linearSVC, K-neighbors, and Random Forest. For the K-neighbors and Random Forest, we are going to change the number of neighbors and leaves. Then, we will see which classifier has the best performance."
   ]
  },
  {
   "cell_type": "markdown",
   "metadata": {},
   "source": [
    "In order to do so, we import the necessary packages:"
   ]
  },
  {
   "cell_type": "code",
   "execution_count": 9,
   "metadata": {},
   "outputs": [],
   "source": [
    "from sklearn import svm\n",
    "import sklearn\n",
    "from sklearn import model_selection\n",
    "from sklearn.neighbors import KNeighborsClassifier\n",
    "from sklearn.ensemble import RandomForestClassifier"
   ]
  },
  {
   "cell_type": "markdown",
   "metadata": {},
   "source": [
    "Then, we divide training set and the test set within the whole data set. "
   ]
  },
  {
   "cell_type": "code",
   "execution_count": 10,
   "metadata": {},
   "outputs": [],
   "source": [
    "df_col_merged = df_col_merged.as_matrix()\n",
    "y = df_col_merged[:,0]\n",
    "last_col_index = len(df_col_merged[0])\n",
    "X = df_col_merged[:,1: last_col_index]\n",
    "X_train, X_test, y_train, y_test = sklearn.model_selection.train_test_split(X, y, test_size=0.33, random_state=42)"
   ]
  },
  {
   "cell_type": "markdown",
   "metadata": {},
   "source": [
    "Then, while training the Machine Learning algorithms, we also produce the precision-recall curve for each method so that we can compare the performances."
   ]
  },
  {
   "cell_type": "code",
   "execution_count": 11,
   "metadata": {
    "scrolled": true
   },
   "outputs": [
    {
     "data": {
      "text/plain": [
       "<matplotlib.text.Text at 0x11b267dd0>"
      ]
     },
     "execution_count": 11,
     "metadata": {},
     "output_type": "execute_result"
    },
    {
     "data": {
      "image/png": "[encoded data removed]",
      "text/plain": [
       "<matplotlib.figure.Figure at 0x110e4a950>"
      ]
     },
     "metadata": {},
     "output_type": "display_data"
    }
   ],
   "source": [
    "# linearsvc\n",
    "clf = svm.LinearSVC()\n",
    "clf.fit(X_train, y_train)\n",
    "y_score = clf.decision_function(X_test)\n",
    "precision, recall, _ = precision_recall_curve(y_test, y_score)\n",
    "plt.plot(recall, precision, label='Linear SVC', color='red')\n",
    "\n",
    "# kneighbors n=3\n",
    "neigh = KNeighborsClassifier(n_neighbors=3)\n",
    "neigh.fit(X_train, y_train) \n",
    "y_score = neigh.predict_proba(X_test)[:,1]\n",
    "precision, recall, _ = precision_recall_curve(y_test, y_score)\n",
    "plt.plot(recall, precision, label='NearestNeighbor N=3', color='orange')\n",
    "\n",
    "# kneighbors n=5\n",
    "neigh = KNeighborsClassifier(n_neighbors=5)\n",
    "neigh.fit(X_train, y_train) \n",
    "y_score = neigh.predict_proba(X_test)[:,1]\n",
    "precision, recall, _ = precision_recall_curve(y_test, y_score)\n",
    "plt.plot(recall, precision, label='NearestNeighbor N=5', color='green')\n",
    "\n",
    "# Random Forest N = 3\n",
    "clf = RandomForestClassifier(n_estimators=3)\n",
    "clf = clf.fit(X_train, y_train)\n",
    "y_score = clf.predict_proba(X_test)[:,1]\n",
    "precision, recall, _ = precision_recall_curve(y_test, y_score)\n",
    "plt.plot(recall, precision, label='Random Forest N=3', color='blue')\n",
    "\n",
    "# Random Forest N = 5\n",
    "clf = RandomForestClassifier(n_estimators=5)\n",
    "clf = clf.fit(X_train, y_train)\n",
    "y_score = clf.predict_proba(X_test)[:,1]\n",
    "precision, recall, _ = precision_recall_curve(y_test, y_score)\n",
    "plt.plot(recall, precision, label='Random Forest N=5', color='purple')\n",
    "\n",
    "# Random Forest N = 10\n",
    "clf = RandomForestClassifier(n_estimators=10)\n",
    "clf = clf.fit(X_train, y_train)\n",
    "y_score = clf.predict_proba(X_test)[:,1]\n",
    "precision, recall, _ = precision_recall_curve(y_test, y_score)\n",
    "plt.plot(recall, precision, label='Random Forest N=10', color='pink')\n",
    "\n",
    "plt.xlabel('Recall')\n",
    "plt.ylabel('Precision')\n",
    "plt.ylim([0.0, 1.05])\n",
    "plt.xlim([0.0, 1.0])\n",
    "plt.legend(loc=\"lower left\")\n",
    "plt.title('Precision Recall Curve for various methods')"
   ]
  },
  {
   "cell_type": "markdown",
   "metadata": {},
   "source": [
    "# ROC Curve for various methods"
   ]
  },
  {
   "cell_type": "markdown",
   "metadata": {},
   "source": [
    "We are going two use three different algorithms : linearSVC, K-neighbors, and Random Forest. For the K-neighbors and Random Forest, we are going to change the number of neighbors and leaves. Then, we will see which classifier has the best performance."
   ]
  },
  {
   "cell_type": "code",
   "execution_count": 12,
   "metadata": {
    "scrolled": true
   },
   "outputs": [
    {
     "data": {
      "text/plain": [
       "<matplotlib.text.Text at 0x11b3c89d0>"
      ]
     },
     "execution_count": 12,
     "metadata": {},
     "output_type": "execute_result"
    },
    {
     "data": {
      "image/png": "[encoded data removed]",
      "text/plain": [
       "<matplotlib.figure.Figure at 0x11b102dd0>"
      ]
     },
     "metadata": {},
     "output_type": "display_data"
    }
   ],
   "source": [
    "# linearsvc\n",
    "clf = svm.LinearSVC()\n",
    "clf.fit(X_train, y_train)\n",
    "y_score = clf.decision_function(X_test)\n",
    "fpr, tpr, _ = sklearn.metrics.roc_curve(y_test, y_score)\n",
    "plt.plot(fpr, tpr, color='red', label='Linear SVC ROC curve')\n",
    "\n",
    "# kneighbors n=3\n",
    "neigh = KNeighborsClassifier(n_neighbors=3)\n",
    "neigh = neigh.fit(X_train, y_train) \n",
    "fpr, tpr, _ = sklearn.metrics.roc_curve(y_test, neigh.predict_proba(X_test)[:,1])\n",
    "roc_auc = sklearn.metrics.auc(fpr, tpr)\n",
    "plt.plot(fpr, tpr, color='yellow', label='Nearest Neighber N=3 ROC curve (area = %0.2f)' % roc_auc)\n",
    "\n",
    "# kneighbors n=5\n",
    "neigh = KNeighborsClassifier(n_neighbors=5)\n",
    "neigh = neigh.fit(X_train, y_train) \n",
    "fpr, tpr, _ = sklearn.metrics.roc_curve(y_test, neigh.predict_proba(X_test)[:,1])\n",
    "roc_auc = sklearn.metrics.auc(fpr, tpr)\n",
    "plt.plot(fpr, tpr, color='#bad64d', label='Nearest Neighber N=5 ROC curve (area = %0.2f)' % roc_auc)\n",
    "\n",
    "# Random Forest N = 3\n",
    "clf = RandomForestClassifier(n_estimators=3, max_features=None)\n",
    "clf = clf.fit(X_train, y_train)\n",
    "fpr, tpr, _ = sklearn.metrics.roc_curve(y_test, clf.predict_proba(X_test)[:,1])\n",
    "roc_auc = sklearn.metrics.auc(fpr, tpr)\n",
    "plt.plot(fpr, tpr, color='#43c6b7', label='RF N=3 ROC curve (area = %0.2f)' % roc_auc)\n",
    "\n",
    "\n",
    "# Random Forest N = 3\n",
    "clf = RandomForestClassifier(n_estimators=5, max_features=None)\n",
    "clf = clf.fit(X_train, y_train)\n",
    "fpr, tpr, _ = sklearn.metrics.roc_curve(y_test, clf.predict_proba(X_test)[:,1])\n",
    "roc_auc = sklearn.metrics.auc(fpr, tpr)\n",
    "plt.plot(fpr, tpr, color='#2b84ad', label='RF N=5 ROC curve (area = %0.2f)' % roc_auc)\n",
    "\n",
    "# Random Forest N = 5\n",
    "clf = RandomForestClassifier(n_estimators=10, max_features=None)\n",
    "clf = clf.fit(X_train, y_train)\n",
    "fpr, tpr, _ = sklearn.metrics.roc_curve(y_test, clf.predict_proba(X_test)[:,1])\n",
    "roc_auc = sklearn.metrics.auc(fpr, tpr)\n",
    "plt.plot(fpr, tpr, color='#8138a0', label='RF N=5 ROC curve (area = %0.2f)' % roc_auc)\n",
    "\n",
    "# Random Forest N = 10\n",
    "clf = RandomForestClassifier(n_estimators=15, max_features=None)\n",
    "clf = clf.fit(X_train, y_train)\n",
    "fpr, tpr, _ = sklearn.metrics.roc_curve(y_test, clf.predict_proba(X_test)[:,1])\n",
    "roc_auc = sklearn.metrics.auc(fpr, tpr)\n",
    "plt.plot(fpr, tpr, color='pink', label='RF N=15 ROC curve (area = %0.2f)' % roc_auc)\n",
    "\n",
    "\n",
    "clf = RandomForestClassifier(n_estimators=20, max_features=None)\n",
    "clf = clf.fit(X_train, y_train)\n",
    "fpr, tpr, _ = sklearn.metrics.roc_curve(y_test, clf.predict_proba(X_test)[:,1])\n",
    "roc_auc = sklearn.metrics.auc(fpr, tpr)\n",
    "plt.plot(fpr, tpr, color='#cc5d94', label='RF N=20 ROC curve (area = %0.2f)' % roc_auc)\n",
    "\n",
    "clf = RandomForestClassifier(n_estimators=5000, max_features=None)\n",
    "clf = clf.fit(X_train, y_train)\n",
    "fpr, tpr, _ = sklearn.metrics.roc_curve(y_test, clf.predict_proba(X_test)[:,1])\n",
    "roc_auc = sklearn.metrics.auc(fpr, tpr)\n",
    "plt.plot(fpr, tpr, color='#d63384', label='RF N=5000 ROC curve (area = %0.2f)' % roc_auc)\n",
    "\n",
    "plt.xlabel('False positive rate')\n",
    "plt.ylabel('True positive rate')\n",
    "plt.ylim([0.0, 1.0])\n",
    "plt.plot([0, 1], [0, 1], 'k--')\n",
    "plt.xlim([0.0, 1.0])\n",
    "plt.legend(loc='center left', bbox_to_anchor=(1, 0.5))\n",
    "plt.title('ROC for various methods')"
   ]
  },
  {
   "cell_type": "markdown",
   "metadata": {},
   "source": [
    "It is a little hard to see where the turn-off points are, so let's concentrate on the top left corner."
   ]
  },
  {
   "cell_type": "code",
   "execution_count": 15,
   "metadata": {},
   "outputs": [
    {
     "data": {
      "text/plain": [
       "<matplotlib.text.Text at 0x11bbe3910>"
      ]
     },
     "execution_count": 15,
     "metadata": {},
     "output_type": "execute_result"
    },
    {
     "data": {
      "image/png": "[encoded data removed]",
      "text/plain": [
       "<matplotlib.figure.Figure at 0x11b53b190>"
      ]
     },
     "metadata": {},
     "output_type": "display_data"
    }
   ],
   "source": [
    "# linearsvc\n",
    "clf = svm.LinearSVC()\n",
    "clf.fit(X_train, y_train)\n",
    "y_score = clf.decision_function(X_test)\n",
    "fpr, tpr, _ = sklearn.metrics.roc_curve(y_test, y_score)\n",
    "plt.plot(fpr, tpr, color='red', label='Linear SVC ROC curve')\n",
    "\n",
    "# kneighbors n=3\n",
    "neigh = KNeighborsClassifier(n_neighbors=3)\n",
    "neigh = neigh.fit(X_train, y_train) \n",
    "fpr, tpr, _ = sklearn.metrics.roc_curve(y_test, neigh.predict_proba(X_test)[:,1])\n",
    "roc_auc = sklearn.metrics.auc(fpr, tpr)\n",
    "plt.plot(fpr, tpr, color='yellow', label='Nearest Neighber N=3 ROC curve (area = %0.2f)' % roc_auc)\n",
    "\n",
    "# kneighbors n=5\n",
    "neigh = KNeighborsClassifier(n_neighbors=5)\n",
    "neigh = neigh.fit(X_train, y_train) \n",
    "fpr, tpr, _ = sklearn.metrics.roc_curve(y_test, neigh.predict_proba(X_test)[:,1])\n",
    "roc_auc = sklearn.metrics.auc(fpr, tpr)\n",
    "plt.plot(fpr, tpr, color='#bad64d', label='Nearest Neighber N=5 ROC curve (area = %0.2f)' % roc_auc)\n",
    "\n",
    "# Random Forest N = 3\n",
    "clf = RandomForestClassifier(n_estimators=3, max_features=None)\n",
    "clf = clf.fit(X_train, y_train)\n",
    "fpr, tpr, _ = sklearn.metrics.roc_curve(y_test, clf.predict_proba(X_test)[:,1])\n",
    "roc_auc = sklearn.metrics.auc(fpr, tpr)\n",
    "plt.plot(fpr, tpr, color='#43c6b7', label='RF N=3 ROC curve (area = %0.2f)' % roc_auc)\n",
    "\n",
    "\n",
    "# Random Forest N = 3\n",
    "clf = RandomForestClassifier(n_estimators=5, max_features=None)\n",
    "clf = clf.fit(X_train, y_train)\n",
    "fpr, tpr, _ = sklearn.metrics.roc_curve(y_test, clf.predict_proba(X_test)[:,1])\n",
    "roc_auc = sklearn.metrics.auc(fpr, tpr)\n",
    "plt.plot(fpr, tpr, color='#2b84ad', label='RF N=5 ROC curve (area = %0.2f)' % roc_auc)\n",
    "\n",
    "# Random Forest N = 5\n",
    "clf = RandomForestClassifier(n_estimators=10, max_features=None)\n",
    "clf = clf.fit(X_train, y_train)\n",
    "fpr, tpr, _ = sklearn.metrics.roc_curve(y_test, clf.predict_proba(X_test)[:,1])\n",
    "roc_auc = sklearn.metrics.auc(fpr, tpr)\n",
    "plt.plot(fpr, tpr, color='#8138a0', label='RF N=5 ROC curve (area = %0.2f)' % roc_auc)\n",
    "\n",
    "# Random Forest N = 10\n",
    "clf = RandomForestClassifier(n_estimators=15, max_features=None)\n",
    "clf = clf.fit(X_train, y_train)\n",
    "fpr, tpr, _ = sklearn.metrics.roc_curve(y_test, clf.predict_proba(X_test)[:,1])\n",
    "roc_auc = sklearn.metrics.auc(fpr, tpr)\n",
    "plt.plot(fpr, tpr, color='pink', label='RF N=15 ROC curve (area = %0.2f)' % roc_auc)\n",
    "\n",
    "\n",
    "clf = RandomForestClassifier(n_estimators=20, max_features=None)\n",
    "clf = clf.fit(X_train, y_train)\n",
    "fpr, tpr, _ = sklearn.metrics.roc_curve(y_test, clf.predict_proba(X_test)[:,1])\n",
    "roc_auc = sklearn.metrics.auc(fpr, tpr)\n",
    "plt.plot(fpr, tpr, color='#cc5d94', label='RF N=20 ROC curve (area = %0.2f)' % roc_auc)\n",
    "\n",
    "clf = RandomForestClassifier(n_estimators=5000, max_features=None)\n",
    "clf = clf.fit(X_train, y_train)\n",
    "fpr, tpr, _ = sklearn.metrics.roc_curve(y_test, clf.predict_proba(X_test)[:,1])\n",
    "roc_auc = sklearn.metrics.auc(fpr, tpr)\n",
    "plt.plot(fpr, tpr, color='#d63384', label='RF N=5000 ROC curve (area = %0.2f)' % roc_auc)\n",
    "\n",
    "plt.xlabel('False positive rate')\n",
    "plt.ylabel('True positive rate')\n",
    "plt.ylim([0.6, 1.00])\n",
    "plt.plot([0, 1], [0, 1], 'k--')\n",
    "plt.xlim([0.0, 0.1])\n",
    "plt.legend(loc='center left', bbox_to_anchor=(1, 0.5))\n",
    "plt.title('ROC for various methods')"
   ]
  },
  {
   "cell_type": "markdown",
   "metadata": {},
   "source": [
    "# Feature Selection"
   ]
  },
  {
   "cell_type": "markdown",
   "metadata": {
    "collapsed": true
   },
   "source": [
    "We could see that the random forest classifier with N=10 and above performed the best. Because Random Forest can also give the measures of how the useful each feature was, we can draw the simple histogram that shows feature importance."
   ]
  },
  {
   "cell_type": "code",
   "execution_count": 14,
   "metadata": {},
   "outputs": [
    {
     "data": {
      "image/png": "[encoded data removed]",
      "text/plain": [
       "<matplotlib.figure.Figure at 0x11bbaa550>"
      ]
     },
     "metadata": {},
     "output_type": "display_data"
    }
   ],
   "source": [
    "# Random Forest N = 10\n",
    "from sklearn.ensemble import RandomForestClassifier\n",
    "clf = RandomForestClassifier(n_estimators=10)\n",
    "clf = clf.fit(X_train, y_train)\n",
    "\n",
    "col = pd.DataFrame(df_col_merged[:,1: last_col_index], columns=['$\\Delta e_{u-z}$', '$\\Delta \\phi_{u-z}$', 'u-z', '$\\Delta x_{u-z}$', '$\\Delta size_{u-z}$', '$\\Delta \\omega_{u-z}$'])\n",
    "importance = sorted(zip(col.columns.values,clf.feature_importances_),key=lambda q: q[1],reverse=True)\n",
    "row = zip(*importance)[0]\n",
    "column = zip(*importance)[1]\n",
    "x_pos = np.arange(len(row))\n",
    "plt.bar(x_pos, column, align='center', color='#890b22')\n",
    "plt.xticks(x_pos, row)\n",
    "plt.ylabel('Feature importance')\n",
    "\n",
    "# Determine the false positive and true positive rates\n",
    "fpr, tpr, _ = sklearn.metrics.roc_curve(y_test, clf.predict_proba(X_test)[:,1])\n",
    " \n",
    "# Calculate the AUC\n",
    "roc_auc = sklearn.metrics.auc(fpr, tpr)"
   ]
  },
  {
   "cell_type": "code",
   "execution_count": null,
   "metadata": {
    "collapsed": true
   },
   "outputs": [],
   "source": []
  }
 ],
 "metadata": {
  "anaconda-cloud": {},
  "kernelspec": {
   "display_name": "Python 2",
   "language": "python",
   "name": "python2"
  },
  "language_info": {
   "codemirror_mode": {
    "name": "ipython",
    "version": 2
   },
   "file_extension": ".py",
   "mimetype": "text/x-python",
   "name": "python",
   "nbconvert_exporter": "python",
   "pygments_lexer": "ipython2",
   "version": "2.7.12"
  }
 },
 "nbformat": 4,
 "nbformat_minor": 1
}
