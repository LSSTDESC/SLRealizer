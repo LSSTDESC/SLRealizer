{
 "cells": [
  {
   "cell_type": "markdown",
   "metadata": {},
   "source": [
    "# Cornerplots of various features for lensed system\n",
    "### SDSS vs OM10 (realized by Galsim)"
   ]
  },
  {
   "cell_type": "markdown",
   "metadata": {
    "collapsed": true
   },
   "source": [
    "The OM10 mock lensed quasar catalog qso_mock.fits contains a list of LSST-like samples. Using the OM10 mock catalog and observation history data, we can generate a toy catalog for SLRealizer. Using the toy catalog, we can null-deblend the catalog and generate the cornerplot to easily compare different features. We use Galsim to null-deblend and realize the catalog. Then, we compared the OM10 features with SDSS features."
   ]
  },
  {
   "cell_type": "code",
   "execution_count": 1,
   "metadata": {
    "collapsed": false,
    "scrolled": false
   },
   "outputs": [
    {
     "name": "stderr",
     "output_type": "stream",
     "text": [
      "/Users/Jenny/anaconda/envs/python2/lib/python2.7/site-packages/matplotlib/__init__.py:1401: UserWarning:  This call to matplotlib.use() has no effect\n",
      "because the backend has already been chosen;\n",
      "matplotlib.use() must be called *before* pylab, matplotlib.pyplot,\n",
      "or matplotlib.backends is imported for the first time.\n",
      "\n",
      "  warnings.warn(_use_error_msg)\n"
     ]
    }
   ],
   "source": [
    "from __future__ import print_function\n",
    "from astropy.table import Table, hstack\n",
    "import astropy.io.fits as pyfits\n",
    "import sys, os\n",
    "import desc.slrealizer\n",
    "import warnings\n",
    "import numpy as np\n",
    "warnings.filterwarnings(\"ignore\")"
   ]
  },
  {
   "cell_type": "markdown",
   "metadata": {},
   "source": [
    "The lines below enable the jupyter notebook to display inline plots."
   ]
  },
  {
   "cell_type": "code",
   "execution_count": 2,
   "metadata": {
    "collapsed": false
   },
   "outputs": [],
   "source": [
    "import matplotlib\n",
    "warnings.filterwarnings(\"ignore\")\n",
    "%matplotlib inline\n",
    "matplotlib.use('TkAgg')\n",
    "matplotlib.rc('text', usetex=False)"
   ]
  },
  {
   "cell_type": "markdown",
   "metadata": {},
   "source": [
    "Here, we initialize SLRealizer constructor"
   ]
  },
  {
   "cell_type": "code",
   "execution_count": 3,
   "metadata": {
    "collapsed": false
   },
   "outputs": [],
   "source": [
    "realizer = desc.slrealizer.SLRealizer()"
   ]
  },
  {
   "cell_type": "markdown",
   "metadata": {},
   "source": [
    "##  Make the feature set"
   ]
  },
  {
   "cell_type": "markdown",
   "metadata": {},
   "source": [
    "Based on the cornerplot that we drew of SDSS and OM10, we make a new catalog that has only useful features. We choose six features:\n",
    "\n",
    "- Difference in sizes between u and z bands\n",
    "- Difference in ellipticities between u and z bands (e)\n",
    "- Difference in rotation angles of the systems between u and z bands (ϕ)\n",
    "- Difference in angles between centroid positions and galactic shears (ω) \n",
    "- Difference in magnitudes between u and z bands\n",
    "- Difference in positions of the centroid between u and z bands (x)"
   ]
  },
  {
   "cell_type": "markdown",
   "metadata": {},
   "source": [
    "In order to do so, we first load the dependencies:"
   ]
  },
  {
   "cell_type": "code",
   "execution_count": 4,
   "metadata": {
    "collapsed": true
   },
   "outputs": [],
   "source": [
    "import pandas as pd\n",
    "from sklearn.metrics import precision_recall_curve\n",
    "import matplotlib.pyplot as plt\n",
    "import numpy as np\n",
    "import desc.slrealizer"
   ]
  },
  {
   "cell_type": "markdown",
   "metadata": {},
   "source": [
    "Then, we read in the object_table and the sdss_table."
   ]
  },
  {
   "cell_type": "code",
   "execution_count": 5,
   "metadata": {
    "collapsed": true
   },
   "outputs": [],
   "source": [
    "object_table = pd.read_csv('../data/object_catalog_galsim_noise_perfect.csv')\n",
    "sdss_table = pd.read_csv('../data/sdss_object.csv')"
   ]
  },
  {
   "cell_type": "markdown",
   "metadata": {},
   "source": [
    "Then, we calculate each entrees of six useful features. First, we do that for object_table(om10) and save into `truth_data.csv`."
   ]
  },
  {
   "cell_type": "code",
   "execution_count": 6,
   "metadata": {
    "collapsed": false
   },
   "outputs": [
    {
     "name": "stdout",
     "output_type": "stream",
     "text": [
      "    truth   delta_e  delta_phi       u_z   delta_x  delta_size  delta_omega\n",
      "0     1.0 -0.042928  -3.098847  3.682228  0.071500    0.429980     0.007772\n",
      "1     1.0 -0.008526   0.345306  1.789120  0.022381    0.473309    -0.118135\n",
      "2     1.0  0.164834  -0.559679  3.204197  1.387791    0.572237    -0.166451\n",
      "3     1.0  0.236084   0.333506  3.812810  0.791489    0.630373     0.004158\n",
      "4     1.0 -0.058419  28.446840  7.015920  0.035888    0.429552    -0.013995\n",
      "5     1.0  0.065184   3.307969  2.771349  0.163881    0.496074     0.164813\n",
      "6     1.0 -0.093475   1.768486  4.045872  0.463268    0.444743     0.001958\n",
      "7     1.0 -0.176681  -0.025844  3.340654  0.058331    0.415623     0.155464\n",
      "8     1.0  0.262993   0.025931  4.925616  0.897239    0.661353    -0.010535\n",
      "9     1.0  0.110230  -0.839413  2.994881  0.845561    0.547994     0.244650\n",
      "10    1.0  0.387162  -1.236834  4.770204  0.369576    0.744321    -0.098905\n",
      "11    1.0 -0.007007   1.730544  4.940340  0.004674    0.454815     0.005151\n",
      "12    1.0 -0.056404  -1.527331  1.795374  0.938527    0.463412     0.014376\n",
      "13    1.0 -0.034261   2.122032  1.725011  0.129008    0.451201    -0.033943\n",
      "14    1.0 -0.006027   0.193310  2.454269  0.288876    0.461376    -0.057640\n",
      "15    1.0  0.008832   0.344740  2.708050  0.026957    0.471904    -0.186396\n",
      "16    1.0  0.029161   0.836090  4.762068  0.024070    0.471991    -0.240833\n",
      "17    1.0  0.033072   0.038070  3.082785  0.935897    0.486509     0.058345\n",
      "18    1.0 -0.053843   0.895367  4.775240  0.420672    0.430728    -0.243861\n",
      "19    1.0 -0.005891  -1.885358  2.582839  0.258533    0.433535    -0.009917\n",
      "20    1.0  0.063982  -6.051435  3.431948  0.269479    0.510826     0.008042\n",
      "21    1.0  0.046434   0.207254  4.527843  0.103651    0.485938    -0.090901\n",
      "22    1.0  0.087456   2.652197  2.230019  0.293997    0.528662     0.078500\n",
      "23    1.0 -0.112111  -1.741646  1.476295  0.530316    0.434420     0.100339\n",
      "24    1.0  0.029667   1.936117  3.579994  0.411082    0.474756     0.067950\n",
      "25    1.0 -0.003786  -1.013466  2.367860  0.143022    0.464134    -0.155848\n",
      "26    1.0  0.226631  -1.079208  5.616148  0.648367    0.615008     0.250574\n",
      "27    1.0 -0.117273  -1.516209  2.594766  0.569089    0.412504    -0.003106\n",
      "28    1.0  0.079052  -0.051321  3.960880  0.887744    0.527119     0.105449\n",
      "29    1.0  0.005319  -7.585898  3.999153  0.250053    0.484847    -0.072988\n",
      "..    ...       ...        ...       ...       ...         ...          ...\n",
      "70    1.0 -0.010464   0.119880  2.990022  0.000420    0.438918    -0.000155\n",
      "71    1.0 -0.114704   0.238966  1.567864  0.224530    0.408302    -0.261174\n",
      "72    1.0  0.123659  -0.466503  5.158257  0.160951    0.554448    -0.162645\n",
      "73    1.0  0.240591   1.846115  3.104162  0.293834    0.636372    -0.232927\n",
      "74    1.0  0.178926  -0.201669  2.648424  1.032900    0.580874     0.032987\n",
      "75    1.0  0.167489   0.092441  2.756501  1.015496    0.602713    -0.003425\n",
      "76    1.0  0.107901   0.025838  2.630573  0.125776    0.530145    -0.119791\n",
      "77    1.0 -0.002691  -3.668983  3.282072  0.342449    0.473360    -0.030565\n",
      "78    1.0  0.077311   0.481272  3.065804  0.314917    0.513686     0.014425\n",
      "79    1.0  0.280819  -0.802161  4.142271  0.858686    0.662278     0.037702\n",
      "80    1.0 -0.025055   2.021310  1.324908  0.204272    0.455452    -0.018339\n",
      "81    1.0  0.083679  11.372103  2.577815  0.624500    0.538266    -0.172673\n",
      "82    1.0  0.030523  -2.349026  3.022044  0.084839    0.502543     0.029144\n",
      "83    1.0  0.121649  -0.720862  2.353955  1.024734    0.581679     0.077183\n",
      "84    1.0  0.223127   1.418203  4.952375  0.189080    0.618856     0.155148\n",
      "85    1.0  0.070146 -11.428785  4.482974  0.445623    0.530830     0.078567\n",
      "86    1.0  0.180895   0.336079  5.076202  0.378704    0.611441     0.069566\n",
      "87    1.0 -0.022957  -7.269221  6.794339  0.022780    0.450424     0.012926\n",
      "88    1.0  0.043754  -3.091446  2.083941  0.265725    0.494356     0.238268\n",
      "89    1.0 -0.037161   0.571716  1.208930  0.160313    0.453094    -0.013082\n",
      "90    1.0  0.068314  11.392941  3.924844  0.552812    0.510180     0.081214\n",
      "91    1.0  0.066071   1.997226  2.985677  0.748538    0.539357    -0.207387\n",
      "92    1.0  0.042476   1.614310  3.236765  0.121931    0.497396     0.078140\n",
      "93    1.0  0.007976   4.994957  4.177517  0.519761    0.515777    -0.002562\n",
      "94    1.0 -0.014522  -2.508317  1.815861  0.387171    0.442300    -0.110921\n",
      "95    1.0 -0.007088   0.024070  4.113501  0.036501    0.457848     0.000153\n",
      "96    1.0  0.049868   0.455244  4.728915  0.107205    0.491402    -0.001022\n",
      "97    1.0  0.194716   1.055624  4.738926  0.462034    0.582513    -0.245223\n",
      "98    1.0 -0.003626   1.125846  2.607805  0.041978    0.446619    -0.003025\n",
      "99    1.0  0.116672  -3.958239  4.288971  0.161109    0.546760     0.216940\n",
      "\n",
      "[100 rows x 7 columns]\n"
     ]
    }
   ],
   "source": [
    "features = np.array([])\n",
    "u_e = object_table['u_e']\n",
    "z_e = object_table['z_e']\n",
    "u_phi = object_table['u_phi']\n",
    "z_phi = object_table['z_phi']\n",
    "delta_e = u_e - z_e\n",
    "delta_phi = (object_table['u_phi']-object_table['z_phi'])\n",
    "u = desc.slrealizer.return_zeropoint()-2.5*np.log10(object_table['u_flux'])\n",
    "z = desc.slrealizer.return_zeropoint()-2.5*np.log10(object_table['z_flux'])\n",
    "u_z = u - z\n",
    "u_x = object_table['u_x'] - object_table['r_x']\n",
    "u_y = object_table['u_y'] - object_table['r_y']\n",
    "u_e1 = object_table['u_e1']\n",
    "u_e2 = object_table['u_e2']\n",
    "u_ex = u_x* (u_e1*np.cos(u_phi) - u_e2*np.sin(u_phi))\n",
    "u_ey = u_y* (u_e1*np.sin(u_phi) + u_e2*np.cos(u_phi))\n",
    "z_x = object_table['z_x'] - object_table['r_x']\n",
    "z_y = object_table['z_y'] - object_table['r_y']\n",
    "z_e1 = object_table['z_e1']\n",
    "z_e2 = object_table['z_e2']\n",
    "z_ex = z_x * (z_e1*np.cos(z_phi) - z_e2*np.sin(z_phi))\n",
    "z_ey = z_y * (z_e1*np.cos(z_phi) - z_e2*np.sin(z_phi))\n",
    "pos_mod_u = np.sqrt(u_x*u_x + u_y*u_y)\n",
    "pos_mod_z = np.sqrt(z_x*z_x + z_y*z_y)\n",
    "delta_x = np.sqrt((u_x - z_x) * (u_x - z_x) + (u_y - z_y) * (u_y - z_y))\n",
    "delta_size = object_table['u_size']-object_table['z_size']\n",
    "\n",
    "u_omega = (u_ex+u_ey)/(u_e*pos_mod_u)\n",
    "z_omega = (z_ex+z_ey)/(z_e*pos_mod_z)\n",
    "\n",
    "diff_x = u_x - z_x\n",
    "diff_y = u_y - z_y\n",
    "pos_mod_diff = np.sqrt(diff_x * diff_x + diff_y * diff_y)\n",
    "\n",
    "omega_u_num = u_x*u_e*np.cos(2*u_phi) + u_x*u_e*np.sqrt(2)/2*np.sin(2*u_phi) + np.sqrt(2)/2 * u_y * u_e * np.sin(2*u_phi)\n",
    "omega_u_den = pos_mod_u * u_e *10\n",
    "omag_u = omega_u_num / omega_u_den\n",
    "\n",
    "omega_z_num = z_x*z_e*np.cos(2*z_phi) + z_x*z_e*np.sqrt(2)/2*np.sin(2*z_phi) + np.sqrt(2)/2 *z_y * z_e * np.sin(2*z_phi)\n",
    "omega_z_den = pos_mod_z * z_e * 10\n",
    "omag_z = omega_z_num / omega_z_den\n",
    "\n",
    "delta_omega = omag_u-omag_z\n",
    "\n",
    "delta_phi = delta_phi*57.2958\n",
    "\n",
    "truth = [1] * len(delta_omega)\n",
    "\n",
    "features = np.append(features, truth)\n",
    "features = np.append(features, delta_e)\n",
    "features = np.append(features, delta_phi)\n",
    "features = np.append(features, u_z)\n",
    "features = np.append(features, delta_x)\n",
    "features = np.append(features, delta_size)\n",
    "features = np.append(features, delta_omega)\n",
    "features = features.reshape(7, len(u_x)).transpose()\n",
    "data = pd.DataFrame(features, columns=['truth', 'delta_e', 'delta_phi', 'u_z', 'delta_x', 'delta_size', 'delta_omega'])\n",
    "data.to_csv('../data/truth_data.csv')\n",
    "print(data)"
   ]
  },
  {
   "cell_type": "markdown",
   "metadata": {},
   "source": [
    "Do the same for sdss_table, saving into `false_data`."
   ]
  },
  {
   "cell_type": "code",
   "execution_count": 7,
   "metadata": {
    "collapsed": false
   },
   "outputs": [],
   "source": [
    "features = np.array([])\n",
    "u_e = sdss_table['u_e']\n",
    "z_e = sdss_table['z_e']\n",
    "u_phi = sdss_table['u_phi']\n",
    "z_phi = sdss_table['z_phi']\n",
    "delta_e = u_e - z_e\n",
    "delta_phi = (sdss_table['u_phi']-sdss_table['z_phi'])\n",
    "u = desc.slrealizer.return_zeropoint()-2.5*np.log10(sdss_table['u_flux'])\n",
    "z = desc.slrealizer.return_zeropoint()-2.5*np.log10(sdss_table['z_flux'])\n",
    "u_z = u - z\n",
    "u_x = sdss_table['u_x'] - sdss_table['r_x']\n",
    "u_y = sdss_table['u_y'] - sdss_table['r_y']\n",
    "u_e1 = sdss_table['u_e1']\n",
    "u_e2 = sdss_table['u_e2']\n",
    "u_ex = u_x* (u_e1*np.cos(u_phi) - u_e2*np.sin(u_phi))\n",
    "u_ey = u_y* (u_e1*np.sin(u_phi) + u_e2*np.cos(u_phi))\n",
    "z_x = sdss_table['z_x'] - sdss_table['r_x']\n",
    "z_y = sdss_table['z_y'] - sdss_table['r_y']\n",
    "z_e1 = sdss_table['z_e1']\n",
    "z_e2 = sdss_table['z_e2']\n",
    "z_ex = z_x * (z_e1*np.cos(z_phi) - z_e2*np.sin(z_phi))\n",
    "z_ey = z_y * (z_e1*np.cos(z_phi) - z_e2*np.sin(z_phi))\n",
    "pos_mod_u = np.sqrt(u_x*u_x + u_y*u_y)\n",
    "pos_mod_z = np.sqrt(z_x*z_x + z_y*z_y)\n",
    "delta_x = np.sqrt((u_x - z_x) * (u_x - z_x) + (u_y - z_y) * (u_y - z_y))\n",
    "delta_size = sdss_table['u_size']-sdss_table['z_size']\n",
    "\n",
    "u_omega = (u_ex+u_ey)/(u_e*pos_mod_u)\n",
    "z_omega = (z_ex+z_ey)/(z_e*pos_mod_z)\n",
    "\n",
    "diff_x = u_x - z_x\n",
    "diff_y = u_y - z_y\n",
    "pos_mod_diff = np.sqrt(diff_x * diff_x + diff_y * diff_y)\n",
    "\n",
    "omega_u_num = u_x*u_e*np.cos(2*u_phi) + u_x*u_e*np.sqrt(2)/2*np.sin(2*u_phi) + np.sqrt(2)/2 * u_y * u_e * np.sin(2*u_phi)\n",
    "omega_u_den = pos_mod_u * u_e *10\n",
    "omag_u = omega_u_num / omega_u_den\n",
    "\n",
    "omega_z_num = z_x*z_e*np.cos(2*z_phi) + z_x*z_e*np.sqrt(2)/2*np.sin(2*z_phi) + np.sqrt(2)/2 *z_y * z_e * np.sin(2*z_phi)\n",
    "omega_z_den = pos_mod_z * z_e * 10\n",
    "omag_z = omega_z_num / omega_z_den\n",
    "\n",
    "delta_omega = omag_u-omag_z\n",
    "\n",
    "delta_phi = delta_phi*57.2958\n",
    "\n",
    "truth = [0] * len(delta_omega)\n",
    "\n",
    "features = np.append(features, truth)\n",
    "features = np.append(features, delta_e)\n",
    "features = np.append(features, delta_phi)\n",
    "features = np.append(features, u_z)\n",
    "features = np.append(features, delta_x)\n",
    "features = np.append(features, delta_size)\n",
    "features = np.append(features, delta_omega)\n",
    "features = features.reshape(7, len(u_x)).transpose()\n",
    "sdss_data = pd.DataFrame(features, columns=['truth', 'delta_e', 'delta_phi', 'u_z', 'delta_x', 'delta_size', 'delta_omega'])\n",
    "sdss_data.to_csv('../data/false_data.csv')"
   ]
  },
  {
   "cell_type": "markdown",
   "metadata": {},
   "source": [
    "Then, we merged the truth(om10) and the false(sdss) to one catalog, saving it into `training_data.csv`."
   ]
  },
  {
   "cell_type": "code",
   "execution_count": 8,
   "metadata": {
    "collapsed": false
   },
   "outputs": [],
   "source": [
    "df_col_merged =pd.concat([data, sdss_data], axis=0)\n",
    "df_col_merged = df_col_merged.sample(frac=1)\n",
    "df_col_merged.to_csv('../data/training_data.csv')"
   ]
  },
  {
   "cell_type": "markdown",
   "metadata": {},
   "source": [
    "# Machine Learning + Precision Recall Curve for various methods"
   ]
  },
  {
   "cell_type": "markdown",
   "metadata": {},
   "source": [
    "We are going two use three different algorithms : linearSVC, K-neighbors, and Random Forest. For the K-neighbors and Random Forest, we are going to change the number of neighbors and leaves. Then, we will see which classifier has the best performance."
   ]
  },
  {
   "cell_type": "markdown",
   "metadata": {},
   "source": [
    "In order to do so, we import the necessary packages:"
   ]
  },
  {
   "cell_type": "code",
   "execution_count": 9,
   "metadata": {
    "collapsed": false
   },
   "outputs": [],
   "source": [
    "from sklearn import svm\n",
    "import sklearn\n",
    "from sklearn import model_selection\n",
    "from sklearn.neighbors import KNeighborsClassifier\n",
    "from sklearn.ensemble import RandomForestClassifier"
   ]
  },
  {
   "cell_type": "markdown",
   "metadata": {},
   "source": [
    "Then, we divide training set and the test set within the whole data set. "
   ]
  },
  {
   "cell_type": "code",
   "execution_count": 10,
   "metadata": {
    "collapsed": false
   },
   "outputs": [],
   "source": [
    "df_col_merged = df_col_merged.as_matrix()\n",
    "y = df_col_merged[:,0]\n",
    "last_col_index = len(df_col_merged[0])\n",
    "X = df_col_merged[:,1: last_col_index]\n",
    "X_train, X_test, y_train, y_test = sklearn.model_selection.train_test_split(X, y, test_size=0.33, random_state=42)"
   ]
  },
  {
   "cell_type": "markdown",
   "metadata": {},
   "source": [
    "Then, while training the Machine Learning algorithms, we also produce the precision-recall curve for each method so that we can compare the performances."
   ]
  },
  {
   "cell_type": "code",
   "execution_count": 11,
   "metadata": {
    "collapsed": false,
    "scrolled": true
   },
   "outputs": [
    {
     "data": {
      "text/plain": [
       "<matplotlib.text.Text at 0x11dea6e50>"
      ]
     },
     "execution_count": 11,
     "metadata": {},
     "output_type": "execute_result"
    },
    {
     "data": {
      "image/png": "[encoded data removed]",
      "text/plain": [
       "<matplotlib.figure.Figure at 0x1114b4550>"
      ]
     },
     "metadata": {},
     "output_type": "display_data"
    }
   ],
   "source": [
    "# linearsvc\n",
    "clf = svm.LinearSVC()\n",
    "clf.fit(X_train, y_train)\n",
    "y_score = clf.decision_function(X_test)\n",
    "precision, recall, _ = precision_recall_curve(y_test, y_score)\n",
    "plt.plot(recall, precision, label='Linear SVC', color='red')\n",
    "\n",
    "# kneighbors n=3\n",
    "neigh = KNeighborsClassifier(n_neighbors=3)\n",
    "neigh.fit(X_train, y_train) \n",
    "y_score = neigh.predict_proba(X_test)[:,1]\n",
    "precision, recall, _ = precision_recall_curve(y_test, y_score)\n",
    "plt.plot(recall, precision, label='NearestNeighbor N=3', color='orange')\n",
    "\n",
    "# kneighbors n=5\n",
    "neigh = KNeighborsClassifier(n_neighbors=5)\n",
    "neigh.fit(X_train, y_train) \n",
    "y_score = neigh.predict_proba(X_test)[:,1]\n",
    "precision, recall, _ = precision_recall_curve(y_test, y_score)\n",
    "plt.plot(recall, precision, label='NearestNeighbor N=5', color='green')\n",
    "\n",
    "# Random Forest N = 3\n",
    "clf = RandomForestClassifier(n_estimators=3)\n",
    "clf = clf.fit(X_train, y_train)\n",
    "y_score = clf.predict_proba(X_test)[:,1]\n",
    "precision, recall, _ = precision_recall_curve(y_test, y_score)\n",
    "plt.plot(recall, precision, label='Random Forest N=3', color='blue')\n",
    "\n",
    "# Random Forest N = 5\n",
    "clf = RandomForestClassifier(n_estimators=5)\n",
    "clf = clf.fit(X_train, y_train)\n",
    "y_score = clf.predict_proba(X_test)[:,1]\n",
    "precision, recall, _ = precision_recall_curve(y_test, y_score)\n",
    "plt.plot(recall, precision, label='Random Forest N=5', color='purple')\n",
    "\n",
    "# Random Forest N = 10\n",
    "clf = RandomForestClassifier(n_estimators=10)\n",
    "clf = clf.fit(X_train, y_train)\n",
    "y_score = clf.predict_proba(X_test)[:,1]\n",
    "precision, recall, _ = precision_recall_curve(y_test, y_score)\n",
    "plt.plot(recall, precision, label='Random Forest N=10', color='pink')\n",
    "\n",
    "plt.xlabel('Recall')\n",
    "plt.ylabel('Precision')\n",
    "plt.ylim([0.0, 1.05])\n",
    "plt.xlim([0.0, 1.0])\n",
    "plt.legend(loc=\"lower left\")\n",
    "plt.title('Precision Recall Curve for various methods')"
   ]
  },
  {
   "cell_type": "markdown",
   "metadata": {},
   "source": [
    "# ROC Curve for various methods"
   ]
  },
  {
   "cell_type": "markdown",
   "metadata": {},
   "source": [
    "We are going two use three different algorithms : linearSVC, K-neighbors, and Random Forest. For the K-neighbors and Random Forest, we are going to change the number of neighbors and leaves. Then, we will see which classifier has the best performance."
   ]
  },
  {
   "cell_type": "code",
   "execution_count": null,
   "metadata": {
    "collapsed": false,
    "scrolled": true
   },
   "outputs": [
    {
     "data": {
      "text/plain": [
       "<matplotlib.text.Text at 0x11cdaaa10>"
      ]
     },
     "execution_count": 12,
     "metadata": {},
     "output_type": "execute_result"
    },
    {
     "data": {
      "image/png": "[encoded data removed]",
      "text/plain": [
       "<matplotlib.figure.Figure at 0x11dd29b50>"
      ]
     },
     "metadata": {},
     "output_type": "display_data"
    }
   ],
   "source": [
    "# linearsvc\n",
    "clf = svm.LinearSVC()\n",
    "clf.fit(X_train, y_train)\n",
    "y_score = clf.decision_function(X_test)\n",
    "fpr, tpr, _ = sklearn.metrics.roc_curve(y_test, y_score)\n",
    "plt.plot(fpr, tpr, color='red', label='Linear SVC ROC curve')\n",
    "\n",
    "# kneighbors n=3\n",
    "neigh = KNeighborsClassifier(n_neighbors=3)\n",
    "neigh = neigh.fit(X_train, y_train) \n",
    "fpr, tpr, _ = sklearn.metrics.roc_curve(y_test, neigh.predict_proba(X_test)[:,1])\n",
    "roc_auc = sklearn.metrics.auc(fpr, tpr)\n",
    "plt.plot(fpr, tpr, color='yellow', label='Nearest Neighber N=3 ROC curve (area = %0.2f)' % roc_auc)\n",
    "\n",
    "# kneighbors n=5\n",
    "neigh = KNeighborsClassifier(n_neighbors=5)\n",
    "neigh = neigh.fit(X_train, y_train) \n",
    "fpr, tpr, _ = sklearn.metrics.roc_curve(y_test, neigh.predict_proba(X_test)[:,1])\n",
    "roc_auc = sklearn.metrics.auc(fpr, tpr)\n",
    "plt.plot(fpr, tpr, color='#bad64d', label='Nearest Neighber N=5 ROC curve (area = %0.2f)' % roc_auc)\n",
    "\n",
    "# Random Forest N = 3\n",
    "clf = RandomForestClassifier(n_estimators=3, max_features=None)\n",
    "clf = clf.fit(X_train, y_train)\n",
    "fpr, tpr, _ = sklearn.metrics.roc_curve(y_test, clf.predict_proba(X_test)[:,1])\n",
    "roc_auc = sklearn.metrics.auc(fpr, tpr)\n",
    "plt.plot(fpr, tpr, color='#43c6b7', label='RF N=3 ROC curve (area = %0.2f)' % roc_auc)\n",
    "\n",
    "\n",
    "# Random Forest N = 3\n",
    "clf = RandomForestClassifier(n_estimators=5, max_features=None)\n",
    "clf = clf.fit(X_train, y_train)\n",
    "fpr, tpr, _ = sklearn.metrics.roc_curve(y_test, clf.predict_proba(X_test)[:,1])\n",
    "roc_auc = sklearn.metrics.auc(fpr, tpr)\n",
    "plt.plot(fpr, tpr, color='#2b84ad', label='RF N=5 ROC curve (area = %0.2f)' % roc_auc)\n",
    "\n",
    "# Random Forest N = 5\n",
    "clf = RandomForestClassifier(n_estimators=10, max_features=None)\n",
    "clf = clf.fit(X_train, y_train)\n",
    "fpr, tpr, _ = sklearn.metrics.roc_curve(y_test, clf.predict_proba(X_test)[:,1])\n",
    "roc_auc = sklearn.metrics.auc(fpr, tpr)\n",
    "plt.plot(fpr, tpr, color='#8138a0', label='RF N=5 ROC curve (area = %0.2f)' % roc_auc)\n",
    "\n",
    "# Random Forest N = 10\n",
    "clf = RandomForestClassifier(n_estimators=15, max_features=None)\n",
    "clf = clf.fit(X_train, y_train)\n",
    "fpr, tpr, _ = sklearn.metrics.roc_curve(y_test, clf.predict_proba(X_test)[:,1])\n",
    "roc_auc = sklearn.metrics.auc(fpr, tpr)\n",
    "plt.plot(fpr, tpr, color='pink', label='RF N=15 ROC curve (area = %0.2f)' % roc_auc)\n",
    "\n",
    "\n",
    "clf = RandomForestClassifier(n_estimators=20, max_features=None)\n",
    "clf = clf.fit(X_train, y_train)\n",
    "fpr, tpr, _ = sklearn.metrics.roc_curve(y_test, clf.predict_proba(X_test)[:,1])\n",
    "roc_auc = sklearn.metrics.auc(fpr, tpr)\n",
    "plt.plot(fpr, tpr, color='#cc5d94', label='RF N=20 ROC curve (area = %0.2f)' % roc_auc)\n",
    "\n",
    "clf = RandomForestClassifier(n_estimators=5000, max_features=None)\n",
    "clf = clf.fit(X_train, y_train)\n",
    "fpr, tpr, _ = sklearn.metrics.roc_curve(y_test, clf.predict_proba(X_test)[:,1])\n",
    "roc_auc = sklearn.metrics.auc(fpr, tpr)\n",
    "plt.plot(fpr, tpr, color='#d63384', label='RF N=5000 ROC curve (area = %0.2f)' % roc_auc)\n",
    "\n",
    "plt.xlabel('False positive rate')\n",
    "plt.ylabel('True positive rate')\n",
    "plt.ylim([0.0, 1.0])\n",
    "plt.plot([0, 1], [0, 1], 'k--')\n",
    "plt.xlim([0.0, 1.0])\n",
    "plt.legend(loc=\"lower left\")\n",
    "plt.title('ROC for various methods')"
   ]
  },
  {
   "cell_type": "markdown",
   "metadata": {},
   "source": [
    "It is a little hard to see where the turn-off points are, so let's concentrate on the top left corner."
   ]
  },
  {
   "cell_type": "code",
   "execution_count": null,
   "metadata": {
    "collapsed": false
   },
   "outputs": [],
   "source": [
    "# linearsvc\n",
    "clf = svm.LinearSVC()\n",
    "clf.fit(X_train, y_train)\n",
    "y_score = clf.decision_function(X_test)\n",
    "fpr, tpr, _ = sklearn.metrics.roc_curve(y_test, y_score)\n",
    "plt.plot(fpr, tpr, color='red', label='Linear SVC ROC curve')\n",
    "\n",
    "# kneighbors n=3\n",
    "neigh = KNeighborsClassifier(n_neighbors=3)\n",
    "neigh = neigh.fit(X_train, y_train) \n",
    "fpr, tpr, _ = sklearn.metrics.roc_curve(y_test, neigh.predict_proba(X_test)[:,1])\n",
    "roc_auc = sklearn.metrics.auc(fpr, tpr)\n",
    "plt.plot(fpr, tpr, color='yellow', label='Nearest Neighber N=3 ROC curve (area = %0.2f)' % roc_auc)\n",
    "\n",
    "# kneighbors n=5\n",
    "neigh = KNeighborsClassifier(n_neighbors=5)\n",
    "neigh = neigh.fit(X_train, y_train) \n",
    "fpr, tpr, _ = sklearn.metrics.roc_curve(y_test, neigh.predict_proba(X_test)[:,1])\n",
    "roc_auc = sklearn.metrics.auc(fpr, tpr)\n",
    "plt.plot(fpr, tpr, color='#bad64d', label='Nearest Neighber N=5 ROC curve (area = %0.2f)' % roc_auc)\n",
    "\n",
    "# Random Forest N = 3\n",
    "clf = RandomForestClassifier(n_estimators=3, max_features=None)\n",
    "clf = clf.fit(X_train, y_train)\n",
    "fpr, tpr, _ = sklearn.metrics.roc_curve(y_test, clf.predict_proba(X_test)[:,1])\n",
    "roc_auc = sklearn.metrics.auc(fpr, tpr)\n",
    "plt.plot(fpr, tpr, color='#43c6b7', label='RF N=3 ROC curve (area = %0.2f)' % roc_auc)\n",
    "\n",
    "\n",
    "# Random Forest N = 3\n",
    "clf = RandomForestClassifier(n_estimators=5, max_features=None)\n",
    "clf = clf.fit(X_train, y_train)\n",
    "fpr, tpr, _ = sklearn.metrics.roc_curve(y_test, clf.predict_proba(X_test)[:,1])\n",
    "roc_auc = sklearn.metrics.auc(fpr, tpr)\n",
    "plt.plot(fpr, tpr, color='#2b84ad', label='RF N=5 ROC curve (area = %0.2f)' % roc_auc)\n",
    "\n",
    "# Random Forest N = 5\n",
    "clf = RandomForestClassifier(n_estimators=10, max_features=None)\n",
    "clf = clf.fit(X_train, y_train)\n",
    "fpr, tpr, _ = sklearn.metrics.roc_curve(y_test, clf.predict_proba(X_test)[:,1])\n",
    "roc_auc = sklearn.metrics.auc(fpr, tpr)\n",
    "plt.plot(fpr, tpr, color='#8138a0', label='RF N=5 ROC curve (area = %0.2f)' % roc_auc)\n",
    "\n",
    "# Random Forest N = 10\n",
    "clf = RandomForestClassifier(n_estimators=15, max_features=None)\n",
    "clf = clf.fit(X_train, y_train)\n",
    "fpr, tpr, _ = sklearn.metrics.roc_curve(y_test, clf.predict_proba(X_test)[:,1])\n",
    "roc_auc = sklearn.metrics.auc(fpr, tpr)\n",
    "plt.plot(fpr, tpr, color='pink', label='RF N=15 ROC curve (area = %0.2f)' % roc_auc)\n",
    "\n",
    "\n",
    "clf = RandomForestClassifier(n_estimators=20, max_features=None)\n",
    "clf = clf.fit(X_train, y_train)\n",
    "fpr, tpr, _ = sklearn.metrics.roc_curve(y_test, clf.predict_proba(X_test)[:,1])\n",
    "roc_auc = sklearn.metrics.auc(fpr, tpr)\n",
    "plt.plot(fpr, tpr, color='#cc5d94', label='RF N=20 ROC curve (area = %0.2f)' % roc_auc)\n",
    "\n",
    "clf = RandomForestClassifier(n_estimators=5000, max_features=None)\n",
    "clf = clf.fit(X_train, y_train)\n",
    "fpr, tpr, _ = sklearn.metrics.roc_curve(y_test, clf.predict_proba(X_test)[:,1])\n",
    "roc_auc = sklearn.metrics.auc(fpr, tpr)\n",
    "plt.plot(fpr, tpr, color='#d63384', label='RF N=5000 ROC curve (area = %0.2f)' % roc_auc)\n",
    "\n",
    "plt.xlabel('False positive rate')\n",
    "plt.ylabel('True positive rate')\n",
    "plt.ylim([0.6, 1.00])\n",
    "plt.plot([0, 1], [0, 1], 'k--')\n",
    "plt.xlim([0.0, 0.002])\n",
    "plt.legend(loc=\"lower left\")\n",
    "plt.title('ROC for various methods')"
   ]
  },
  {
   "cell_type": "markdown",
   "metadata": {},
   "source": [
    "# Feature Selection"
   ]
  },
  {
   "cell_type": "markdown",
   "metadata": {
    "collapsed": true
   },
   "source": [
    "We could see that the random forest classifier with N=10 and above performed the best. Because Random Forest can also give the measures of how the useful each feature was, we can draw the simple histogram that shows feature importance."
   ]
  },
  {
   "cell_type": "code",
   "execution_count": null,
   "metadata": {
    "collapsed": false
   },
   "outputs": [],
   "source": [
    "# Random Forest N = 10\n",
    "from sklearn.ensemble import RandomForestClassifier\n",
    "clf = RandomForestClassifier(n_estimators=10)\n",
    "clf = clf.fit(X_train, y_train)\n",
    "\n",
    "col = pd.DataFrame(df_col_merged[:,1: last_col_index], columns=['$\\Delta e_{u-z}$', '$\\Delta \\phi_{u-z}$', 'u-z', '$\\Delta x_{u-z}$', '$\\Delta size_{u-z}$', '$\\Delta \\omega_{u-z}$'])\n",
    "importance = sorted(zip(col.columns.values,clf.feature_importances_),key=lambda q: q[1],reverse=True)\n",
    "row = zip(*importance)[0]\n",
    "column = zip(*importance)[1]\n",
    "x_pos = np.arange(len(row))\n",
    "plt.bar(x_pos, column, align='center', color='#890b22')\n",
    "plt.xticks(x_pos, row)\n",
    "plt.ylabel('Feature importance')\n",
    "\n",
    "# Determine the false positive and true positive rates\n",
    "fpr, tpr, _ = sklearn.metrics.roc_curve(y_test, clf.predict_proba(X_test)[:,1])\n",
    " \n",
    "# Calculate the AUC\n",
    "roc_auc = sklearn.metrics.auc(fpr, tpr)"
   ]
  },
  {
   "cell_type": "code",
   "execution_count": null,
   "metadata": {
    "collapsed": true
   },
   "outputs": [],
   "source": []
  }
 ],
 "metadata": {
  "anaconda-cloud": {},
  "kernelspec": {
   "display_name": "Python [conda env:python2]",
   "language": "python",
   "name": "conda-env-python2-py"
  },
  "language_info": {
   "codemirror_mode": {
    "name": "ipython",
    "version": 2
   },
   "file_extension": ".py",
   "mimetype": "text/x-python",
   "name": "python",
   "nbconvert_exporter": "python",
   "pygments_lexer": "ipython2",
   "version": "2.7.13"
  }
 },
 "nbformat": 4,
 "nbformat_minor": 1
}
