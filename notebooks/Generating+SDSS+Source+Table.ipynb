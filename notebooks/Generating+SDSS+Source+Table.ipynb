{
 "cells": [
  {
   "cell_type": "code",
   "execution_count": 9,
   "metadata": {},
   "outputs": [],
   "source": [
    "%%capture\n",
    "import os\n",
    "import desc.slrealizer\n",
    "import pandas as pd\n",
    "import numpy as np\n",
    "from itertools import product\n",
    "import galsim"
   ]
  },
  {
   "cell_type": "code",
   "execution_count": 10,
   "metadata": {},
   "outputs": [],
   "source": [
    "realizer_path = os.path.join(os.path.expanduser('~'), 'stage', 'sl', 'SLRealizer')\n",
    "twinkles_path = os.path.join(realizer_path, 'data', 'twinkles_observation_history.csv')\n",
    "sdss_obj_path = os.path.join(realizer_path, 'data', 'sdss_object.csv')\n",
    "sdss_src_path = os.path.join(realizer_path, 'data', 'source_catalog_sdss.csv')"
   ]
  },
  {
   "cell_type": "code",
   "execution_count": 11,
   "metadata": {},
   "outputs": [],
   "source": [
    "NUM_LENSES = 15"
   ]
  },
  {
   "cell_type": "code",
   "execution_count": 12,
   "metadata": {},
   "outputs": [],
   "source": [
    "# TODO merge constants with positive example code\n",
    "attributes = ['x', 'y', 'flux', 'size', 'e1', 'e2'] # no psf_sigma or sky\n",
    "bands = ['g', 'i', 'r', 'u', 'z']\n",
    "keep_cols = ['lensID'] + sorted([b+'_'+a for a, b in product(attributes, bands)])"
   ]
  },
  {
   "cell_type": "code",
   "execution_count": 13,
   "metadata": {},
   "outputs": [],
   "source": [
    "# TODO filter catalog to have similar properties as positive examples\n",
    "catalog = pd.read_csv(filepath_or_buffer=sdss_obj_path)[keep_cols]\\\n",
    "            .head(NUM_LENSES)\n",
    "observation = pd.read_csv(filepath_or_buffer=twinkles_path, index_col=0)\\\n",
    "                .query(\"(expMJD < 60919) & (filter != 'y')\")\\\n",
    "                .as_matrix()"
   ]
  },
  {
   "cell_type": "code",
   "execution_count": 14,
   "metadata": {},
   "outputs": [],
   "source": [
    "NUM_OBS = len(observation)"
   ]
  },
  {
   "cell_type": "code",
   "execution_count": 15,
   "metadata": {},
   "outputs": [],
   "source": [
    "def draw_gal_image(currLens, currObs):\n",
    "    MJD, band, PSF_HWHM, sky_mag = currObs[0], currObs[1], currObs[2], currObs[3]\n",
    "    \n",
    "    galaxy = galsim.Gaussian(half_light_radius=currLens[band+'_size'], \n",
    "                             flux=currLens[band+'_flux'])\n",
    "    big_fft_params = galsim.GSParams(maximum_fft_size=10240)\n",
    "    galaxy = galaxy.shift([currLens[band+'_x'], currLens[band+'_y']])\n",
    "    galaxy = galaxy.shear(e1=currLens[band+'_e1'], e2=currLens[band+'_e2'])\n",
    "    \n",
    "    psf = galsim.Gaussian(flux=1.0, fwhm=2.*PSF_HWHM)\n",
    "    obj = galsim.Convolve(galaxy, psf, gsparams=big_fft_params)\n",
    "    img = obj.drawImage(scale=0.2)\n",
    "    return img, obj"
   ]
  },
  {
   "cell_type": "code",
   "execution_count": 16,
   "metadata": {},
   "outputs": [],
   "source": [
    "def create_row(currLens, currObs, manual_error=True):\n",
    "    MJD, band, PSF_HWHM, sky_mag = currObs[0], currObs[1], currObs[2], currObs[3]\n",
    "    \n",
    "    img, obj = draw_gal_image(currLens, currObs)\n",
    "    flux_err_calc = np.power(10, (22.5 - sky_mag)/2.5)/5. # because Fb = 5 \\sigma_b\n",
    "    try:\n",
    "        shape_info = img.FindAdaptiveMom()\n",
    "    except:\n",
    "        print \"HSM failed\"\n",
    "        return None\n",
    "    nx, ny = img.array.shape\n",
    "    # TODO make pixel scale globally configurable\n",
    "    pixel_scale = 0.2 # arcsec/pixel\n",
    "    # Calculate the real position from the arbitrary pixel position\n",
    "    first_moment_x, first_moment_y = (shape_info.moments_centroid.x - 0.5*nx)*pixel_scale, \\\n",
    "                                     (shape_info.moments_centroid.y - 0.5*ny)*pixel_scale \n",
    "    # Total image intensity for best-fit elliptical Gaussian from adaptive moments\n",
    "    flux = shape_info.moments_amp\n",
    "    size = shape_info.moments_sigma * pixel_scale # unit of pixels is returned, so change units for arcsec\n",
    "    lensID = currLens['lensID']\n",
    "    \n",
    "    e1 = shape_info.observed_shape.e1\n",
    "    e2 = shape_info.observed_shape.e2\n",
    "    \n",
    "    if manual_error:\n",
    "        size += size * noissify_data(desc.slrealizer.get_second_moment_err(), desc.slrealizer.get_second_moment_err_std())\n",
    "        first_moment_x += noissify_data(desc.slrealizer.get_first_moment_err(), desc.slrealizer.get_first_moment_err_std()) * first_moment_x\n",
    "        first_moment_y += noissify_data(desc.slrealizer.get_first_moment_err(), desc.slrealizer.get_first_moment_err_std()) * first_moment_y\n",
    "        flux += flux*noissify_data(desc.slrealizer.get_flux_err(), desc.slrealizer.get_flux_err_std())\n",
    "    # TODO consider just returning shear object, etc.\n",
    "    params_dict = {'MJD': MJD, 'filter': band,\n",
    "                   'x': first_moment_x,'y': first_moment_y, \n",
    "                   'flux': flux, 'flux_err': flux_err_calc, 'size': size, 'e1': e1, 'e2': e2,\n",
    "                    'lensID': lensID}\n",
    "    return params_dict\n",
    "\n",
    "def noissify_data(mean, stdev):\n",
    "    \"\"\"\n",
    "    Given a mean and a standard deviation of a measurement, add a noise to the data\n",
    "    \"\"\"\n",
    "    return np.random.normal(loc=mean, scale=stdev)\n"
   ]
  },
  {
   "cell_type": "code",
   "execution_count": 17,
   "metadata": {},
   "outputs": [
    {
     "name": "stdout",
     "output_type": "stream",
     "text": [
      "number of systems: 15, number of observations: 210\n"
     ]
    },
    {
     "ename": "ValueError",
     "evalue": "Requested distortion exceeds 1: 32.00020670428471",
     "output_type": "error",
     "traceback": [
      "\u001b[0;31m---------------------------------------------------------------------------\u001b[0m",
      "\u001b[0;31mValueError\u001b[0m                                Traceback (most recent call last)",
      "\u001b[0;32m<ipython-input-17-6c109b0ed0f2>\u001b[0m in \u001b[0;36m<module>\u001b[0;34m()\u001b[0m\n\u001b[1;32m      8\u001b[0m     \u001b[0;32mfor\u001b[0m \u001b[0mi\u001b[0m \u001b[0;32min\u001b[0m \u001b[0mxrange\u001b[0m\u001b[0;34m(\u001b[0m\u001b[0mNUM_LENSES\u001b[0m\u001b[0;34m)\u001b[0m\u001b[0;34m:\u001b[0m\u001b[0;34m\u001b[0m\u001b[0m\n\u001b[1;32m      9\u001b[0m         \u001b[0;31m#if self.catalog.sample[i]['ELLIP'] < ellipticity_upper_limit: # ellipticity cut : 0.5\u001b[0m\u001b[0;34m\u001b[0m\u001b[0;34m\u001b[0m\u001b[0m\n\u001b[0;32m---> 10\u001b[0;31m         \u001b[0mparams_dict\u001b[0m \u001b[0;34m=\u001b[0m \u001b[0mcreate_row\u001b[0m\u001b[0;34m(\u001b[0m\u001b[0mcurrLens\u001b[0m\u001b[0;34m=\u001b[0m\u001b[0mcatalog\u001b[0m\u001b[0;34m.\u001b[0m\u001b[0mloc\u001b[0m\u001b[0;34m[\u001b[0m\u001b[0mi\u001b[0m\u001b[0;34m]\u001b[0m\u001b[0;34m,\u001b[0m                                 \u001b[0mcurrObs\u001b[0m\u001b[0;34m=\u001b[0m\u001b[0mobservation\u001b[0m\u001b[0;34m[\u001b[0m\u001b[0mj\u001b[0m\u001b[0;34m]\u001b[0m\u001b[0;34m)\u001b[0m\u001b[0;34m\u001b[0m\u001b[0m\n\u001b[0m\u001b[1;32m     11\u001b[0m         \u001b[0;32mif\u001b[0m \u001b[0mparams_dict\u001b[0m \u001b[0;34m==\u001b[0m \u001b[0mNone\u001b[0m\u001b[0;34m:\u001b[0m\u001b[0;34m\u001b[0m\u001b[0m\n\u001b[1;32m     12\u001b[0m             \u001b[0mhsm_failed\u001b[0m \u001b[0;34m+=\u001b[0m \u001b[0;36m1\u001b[0m\u001b[0;34m\u001b[0m\u001b[0m\n",
      "\u001b[0;32m<ipython-input-16-6c9ed98a8b48>\u001b[0m in \u001b[0;36mcreate_row\u001b[0;34m(currLens, currObs, manual_error)\u001b[0m\n\u001b[1;32m      2\u001b[0m     \u001b[0mMJD\u001b[0m\u001b[0;34m,\u001b[0m \u001b[0mband\u001b[0m\u001b[0;34m,\u001b[0m \u001b[0mPSF_HWHM\u001b[0m\u001b[0;34m,\u001b[0m \u001b[0msky_mag\u001b[0m \u001b[0;34m=\u001b[0m \u001b[0mcurrObs\u001b[0m\u001b[0;34m[\u001b[0m\u001b[0;36m0\u001b[0m\u001b[0;34m]\u001b[0m\u001b[0;34m,\u001b[0m \u001b[0mcurrObs\u001b[0m\u001b[0;34m[\u001b[0m\u001b[0;36m1\u001b[0m\u001b[0;34m]\u001b[0m\u001b[0;34m,\u001b[0m \u001b[0mcurrObs\u001b[0m\u001b[0;34m[\u001b[0m\u001b[0;36m2\u001b[0m\u001b[0;34m]\u001b[0m\u001b[0;34m,\u001b[0m \u001b[0mcurrObs\u001b[0m\u001b[0;34m[\u001b[0m\u001b[0;36m3\u001b[0m\u001b[0;34m]\u001b[0m\u001b[0;34m\u001b[0m\u001b[0m\n\u001b[1;32m      3\u001b[0m \u001b[0;34m\u001b[0m\u001b[0m\n\u001b[0;32m----> 4\u001b[0;31m     \u001b[0mimg\u001b[0m\u001b[0;34m,\u001b[0m \u001b[0mobj\u001b[0m \u001b[0;34m=\u001b[0m \u001b[0mdraw_gal_image\u001b[0m\u001b[0;34m(\u001b[0m\u001b[0mcurrLens\u001b[0m\u001b[0;34m,\u001b[0m \u001b[0mcurrObs\u001b[0m\u001b[0;34m)\u001b[0m\u001b[0;34m\u001b[0m\u001b[0m\n\u001b[0m\u001b[1;32m      5\u001b[0m     \u001b[0mflux_err_calc\u001b[0m \u001b[0;34m=\u001b[0m \u001b[0mnp\u001b[0m\u001b[0;34m.\u001b[0m\u001b[0mpower\u001b[0m\u001b[0;34m(\u001b[0m\u001b[0;36m10\u001b[0m\u001b[0;34m,\u001b[0m \u001b[0;34m(\u001b[0m\u001b[0;36m22.5\u001b[0m \u001b[0;34m-\u001b[0m \u001b[0msky_mag\u001b[0m\u001b[0;34m)\u001b[0m\u001b[0;34m/\u001b[0m\u001b[0;36m2.5\u001b[0m\u001b[0;34m)\u001b[0m\u001b[0;34m/\u001b[0m\u001b[0;36m5.\u001b[0m \u001b[0;31m# because Fb = 5 \\sigma_b\u001b[0m\u001b[0;34m\u001b[0m\u001b[0m\n\u001b[1;32m      6\u001b[0m     \u001b[0;32mtry\u001b[0m\u001b[0;34m:\u001b[0m\u001b[0;34m\u001b[0m\u001b[0m\n",
      "\u001b[0;32m<ipython-input-15-571730f32cf4>\u001b[0m in \u001b[0;36mdraw_gal_image\u001b[0;34m(currLens, currObs)\u001b[0m\n\u001b[1;32m      6\u001b[0m     \u001b[0mbig_fft_params\u001b[0m \u001b[0;34m=\u001b[0m \u001b[0mgalsim\u001b[0m\u001b[0;34m.\u001b[0m\u001b[0mGSParams\u001b[0m\u001b[0;34m(\u001b[0m\u001b[0mmaximum_fft_size\u001b[0m\u001b[0;34m=\u001b[0m\u001b[0;36m10240\u001b[0m\u001b[0;34m)\u001b[0m\u001b[0;34m\u001b[0m\u001b[0m\n\u001b[1;32m      7\u001b[0m     \u001b[0mgalaxy\u001b[0m \u001b[0;34m=\u001b[0m \u001b[0mgalaxy\u001b[0m\u001b[0;34m.\u001b[0m\u001b[0mshift\u001b[0m\u001b[0;34m(\u001b[0m\u001b[0;34m[\u001b[0m\u001b[0mcurrLens\u001b[0m\u001b[0;34m[\u001b[0m\u001b[0mband\u001b[0m\u001b[0;34m+\u001b[0m\u001b[0;34m'_x'\u001b[0m\u001b[0;34m]\u001b[0m\u001b[0;34m,\u001b[0m \u001b[0mcurrLens\u001b[0m\u001b[0;34m[\u001b[0m\u001b[0mband\u001b[0m\u001b[0;34m+\u001b[0m\u001b[0;34m'_y'\u001b[0m\u001b[0;34m]\u001b[0m\u001b[0;34m]\u001b[0m\u001b[0;34m)\u001b[0m\u001b[0;34m\u001b[0m\u001b[0m\n\u001b[0;32m----> 8\u001b[0;31m     \u001b[0mgalaxy\u001b[0m \u001b[0;34m=\u001b[0m \u001b[0mgalaxy\u001b[0m\u001b[0;34m.\u001b[0m\u001b[0mshear\u001b[0m\u001b[0;34m(\u001b[0m\u001b[0me1\u001b[0m\u001b[0;34m=\u001b[0m\u001b[0mcurrLens\u001b[0m\u001b[0;34m[\u001b[0m\u001b[0mband\u001b[0m\u001b[0;34m+\u001b[0m\u001b[0;34m'_e1'\u001b[0m\u001b[0;34m]\u001b[0m\u001b[0;34m,\u001b[0m \u001b[0me2\u001b[0m\u001b[0;34m=\u001b[0m\u001b[0mcurrLens\u001b[0m\u001b[0;34m[\u001b[0m\u001b[0mband\u001b[0m\u001b[0;34m+\u001b[0m\u001b[0;34m'_e2'\u001b[0m\u001b[0;34m]\u001b[0m\u001b[0;34m)\u001b[0m\u001b[0;34m\u001b[0m\u001b[0m\n\u001b[0m\u001b[1;32m      9\u001b[0m \u001b[0;34m\u001b[0m\u001b[0m\n\u001b[1;32m     10\u001b[0m     \u001b[0mpsf\u001b[0m \u001b[0;34m=\u001b[0m \u001b[0mgalsim\u001b[0m\u001b[0;34m.\u001b[0m\u001b[0mGaussian\u001b[0m\u001b[0;34m(\u001b[0m\u001b[0mflux\u001b[0m\u001b[0;34m=\u001b[0m\u001b[0;36m1.0\u001b[0m\u001b[0;34m,\u001b[0m \u001b[0mfwhm\u001b[0m\u001b[0;34m=\u001b[0m\u001b[0;36m2.\u001b[0m\u001b[0;34m*\u001b[0m\u001b[0mPSF_HWHM\u001b[0m\u001b[0;34m)\u001b[0m\u001b[0;34m\u001b[0m\u001b[0m\n",
      "\u001b[0;32m/usr/lib/python2.7/dist-packages/galsim/gsobject.py\u001b[0m in \u001b[0;36mshear\u001b[0;34m(self, *args, **kwargs)\u001b[0m\n\u001b[1;32m    827\u001b[0m             \u001b[0;32mraise\u001b[0m \u001b[0mTypeError\u001b[0m\u001b[0;34m(\u001b[0m\u001b[0;34m\"Error, too many unnamed arguments to GSObject.shear!\"\u001b[0m\u001b[0;34m)\u001b[0m\u001b[0;34m\u001b[0m\u001b[0m\n\u001b[1;32m    828\u001b[0m         \u001b[0;32melse\u001b[0m\u001b[0;34m:\u001b[0m\u001b[0;34m\u001b[0m\u001b[0m\n\u001b[0;32m--> 829\u001b[0;31m             \u001b[0mshear\u001b[0m \u001b[0;34m=\u001b[0m \u001b[0mgalsim\u001b[0m\u001b[0;34m.\u001b[0m\u001b[0mShear\u001b[0m\u001b[0;34m(\u001b[0m\u001b[0;34m**\u001b[0m\u001b[0mkwargs\u001b[0m\u001b[0;34m)\u001b[0m\u001b[0;34m\u001b[0m\u001b[0m\n\u001b[0m\u001b[1;32m    830\u001b[0m         \u001b[0;32mreturn\u001b[0m \u001b[0mgalsim\u001b[0m\u001b[0;34m.\u001b[0m\u001b[0mTransform\u001b[0m\u001b[0;34m(\u001b[0m\u001b[0mself\u001b[0m\u001b[0;34m,\u001b[0m \u001b[0mjac\u001b[0m\u001b[0;34m=\u001b[0m\u001b[0mshear\u001b[0m\u001b[0;34m.\u001b[0m\u001b[0mgetMatrix\u001b[0m\u001b[0;34m(\u001b[0m\u001b[0;34m)\u001b[0m\u001b[0;34m.\u001b[0m\u001b[0mravel\u001b[0m\u001b[0;34m(\u001b[0m\u001b[0;34m)\u001b[0m\u001b[0;34m.\u001b[0m\u001b[0mtolist\u001b[0m\u001b[0;34m(\u001b[0m\u001b[0;34m)\u001b[0m\u001b[0;34m)\u001b[0m\u001b[0;34m\u001b[0m\u001b[0m\n\u001b[1;32m    831\u001b[0m \u001b[0;34m\u001b[0m\u001b[0m\n",
      "\u001b[0;32m/usr/lib/python2.7/dist-packages/galsim/shear.py\u001b[0m in \u001b[0;36m__init__\u001b[0;34m(self, *args, **kwargs)\u001b[0m\n\u001b[1;32m    122\u001b[0m             \u001b[0mabsesq\u001b[0m \u001b[0;34m=\u001b[0m \u001b[0me1\u001b[0m\u001b[0;34m**\u001b[0m\u001b[0;36m2\u001b[0m \u001b[0;34m+\u001b[0m \u001b[0me2\u001b[0m\u001b[0;34m**\u001b[0m\u001b[0;36m2\u001b[0m\u001b[0;34m\u001b[0m\u001b[0m\n\u001b[1;32m    123\u001b[0m             \u001b[0;32mif\u001b[0m \u001b[0mabsesq\u001b[0m \u001b[0;34m>\u001b[0m \u001b[0;36m1.\u001b[0m\u001b[0;34m:\u001b[0m\u001b[0;34m\u001b[0m\u001b[0m\n\u001b[0;32m--> 124\u001b[0;31m                 \u001b[0;32mraise\u001b[0m \u001b[0mValueError\u001b[0m\u001b[0;34m(\u001b[0m\u001b[0;34m\"Requested distortion exceeds 1: %s\"\u001b[0m\u001b[0;34m%\u001b[0m\u001b[0mnp\u001b[0m\u001b[0;34m.\u001b[0m\u001b[0msqrt\u001b[0m\u001b[0;34m(\u001b[0m\u001b[0mabsesq\u001b[0m\u001b[0;34m)\u001b[0m\u001b[0;34m)\u001b[0m\u001b[0;34m\u001b[0m\u001b[0m\n\u001b[0m\u001b[1;32m    125\u001b[0m             \u001b[0mself\u001b[0m\u001b[0;34m.\u001b[0m\u001b[0m_g\u001b[0m \u001b[0;34m=\u001b[0m \u001b[0;34m(\u001b[0m\u001b[0me1\u001b[0m \u001b[0;34m+\u001b[0m \u001b[0;36m1j\u001b[0m \u001b[0;34m*\u001b[0m \u001b[0me2\u001b[0m\u001b[0;34m)\u001b[0m \u001b[0;34m*\u001b[0m \u001b[0mself\u001b[0m\u001b[0;34m.\u001b[0m\u001b[0m_e2g\u001b[0m\u001b[0;34m(\u001b[0m\u001b[0mabsesq\u001b[0m\u001b[0;34m)\u001b[0m\u001b[0;34m\u001b[0m\u001b[0m\n\u001b[1;32m    126\u001b[0m \u001b[0;34m\u001b[0m\u001b[0m\n",
      "\u001b[0;31mValueError\u001b[0m: Requested distortion exceeds 1: 32.00020670428471"
     ]
    }
   ],
   "source": [
    "keep_cols.append('MJD')\n",
    "df = pd.DataFrame(columns=keep_cols)\n",
    "\n",
    "print(\"number of systems: %d, number of observations: %d\" %(NUM_LENSES, NUM_OBS))\n",
    "# TODO get rid of nested for loop\n",
    "hsm_failed = 0\n",
    "for j in xrange(NUM_OBS):\n",
    "    for i in xrange(NUM_LENSES):\n",
    "        #if self.catalog.sample[i]['ELLIP'] < ellipticity_upper_limit: # ellipticity cut : 0.5\n",
    "        params_dict = create_row(currLens=catalog.loc[i],\\\n",
    "                                 currObs=observation[j])\n",
    "        if params_dict == None:\n",
    "            hsm_failed += 1\n",
    "        else:\n",
    "            # FIXIT try not to use list comprehension...\n",
    "            vals_arr = np.array([params_dict[k] for k in keep_cols])\n",
    "            df.loc[len(df)]= vals_arr\n",
    "    if j % 20 == 0:\n",
    "        print(\"Done with %d observations...\" %j)\n",
    "df.set_index('lensid', inplace=True)\n",
    "df.to_csv(save_dir, index=True)\n",
    "print(\"Done making the source table, with %d errors from HSM failure.\" %hsm_failed)"
   ]
  },
  {
   "cell_type": "code",
   "execution_count": 92,
   "metadata": {},
   "outputs": [
    {
     "data": {
      "text/plain": [
       "lensID     0.000000\n",
       "g_e1      -0.115018\n",
       "g_e2      32.000000\n",
       "g_flux     7.626726\n",
       "g_size     1.481102\n",
       "g_x       -0.022303\n",
       "g_y       -0.099109\n",
       "i_e1      -0.150845\n",
       "i_e2      32.000000\n",
       "i_flux    28.261839\n",
       "i_size     1.493424\n",
       "i_x        0.028494\n",
       "i_y       -0.047769\n",
       "r_e1      -0.062747\n",
       "r_e2      32.000000\n",
       "r_flux    17.846327\n",
       "r_size     1.454404\n",
       "r_x        0.000000\n",
       "r_y        0.000000\n",
       "u_e1       0.035465\n",
       "u_e2      32.000000\n",
       "u_flux     4.025442\n",
       "u_size     1.169923\n",
       "u_x       -0.145644\n",
       "u_y        0.183524\n",
       "z_e1      -0.321149\n",
       "z_e2      32.000000\n",
       "z_flux    41.126091\n",
       "z_size     1.576665\n",
       "z_x        0.047437\n",
       "z_y       -0.146184\n",
       "Name: 0, dtype: float64"
      ]
     },
     "execution_count": 92,
     "metadata": {},
     "output_type": "execute_result"
    }
   ],
   "source": [
    "catalog.loc[0]"
   ]
  },
  {
   "cell_type": "code",
   "execution_count": null,
   "metadata": {},
   "outputs": [],
   "source": []
  }
 ],
 "metadata": {
  "kernelspec": {
   "display_name": "Python 2",
   "language": "python",
   "name": "python2"
  },
  "language_info": {
   "codemirror_mode": {
    "name": "ipython",
    "version": 2
   },
   "file_extension": ".py",
   "mimetype": "text/x-python",
   "name": "python",
   "nbconvert_exporter": "python",
   "pygments_lexer": "ipython2",
   "version": "2.7.12"
  }
 },
 "nbformat": 4,
 "nbformat_minor": 2
}
