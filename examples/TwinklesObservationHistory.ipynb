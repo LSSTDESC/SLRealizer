{
 "cells": [
  {
   "cell_type": "markdown",
   "metadata": {},
   "source": [
    "This notebook contains an observation history of the Twinkles Field for the 'baseline' minion_1016 OpSim Summary. In order to run it, change the definition of `dbfileName` to your location of the opsim database. The opsim databases can be downloaded from [here](https://www.lsst.org/scientists/simulations/opsim/opsim-v335-benchmark-surveys)"
   ]
  },
  {
   "cell_type": "code",
   "execution_count": 1,
   "metadata": {
    "collapsed": true
   },
   "outputs": [],
   "source": [
    "from sqlalchemy import create_engine\n",
    "import pandas as pd\n",
    "import os"
   ]
  },
  {
   "cell_type": "code",
   "execution_count": 2,
   "metadata": {
    "collapsed": false
   },
   "outputs": [],
   "source": [
    "dbfileName = os.path.join('/Users/rbiswas/data/LSST/OpSimData/', 'minion_1016_sqlite.db')\n",
    "engine = create_engine('sqlite:///'+dbfileName)"
   ]
  },
  {
   "cell_type": "code",
   "execution_count": 3,
   "metadata": {
    "collapsed": false
   },
   "outputs": [],
   "source": [
    "query = 'SELECT obsHistID, expMJD, Filter, FWHMeff, fiveSigmaDepth FROM Summary WHERE FIELDID is 1427 and PROPID is 54'\n",
    "df = pd.read_sql_query(query, engine)"
   ]
  },
  {
   "cell_type": "code",
   "execution_count": 4,
   "metadata": {
    "collapsed": false
   },
   "outputs": [
    {
     "data": {
      "text/html": [
       "<div>\n",
       "<table border=\"1\" class=\"dataframe\">\n",
       "  <thead>\n",
       "    <tr style=\"text-align: right;\">\n",
       "      <th></th>\n",
       "      <th>obsHistID</th>\n",
       "      <th>expMJD</th>\n",
       "      <th>filter</th>\n",
       "      <th>FWHMeff</th>\n",
       "      <th>fiveSigmaDepth</th>\n",
       "    </tr>\n",
       "  </thead>\n",
       "  <tbody>\n",
       "    <tr>\n",
       "      <th>0</th>\n",
       "      <td>183767</td>\n",
       "      <td>59823.286523</td>\n",
       "      <td>g</td>\n",
       "      <td>1.093153</td>\n",
       "      <td>24.377204</td>\n",
       "    </tr>\n",
       "    <tr>\n",
       "      <th>1</th>\n",
       "      <td>183811</td>\n",
       "      <td>59823.307264</td>\n",
       "      <td>g</td>\n",
       "      <td>1.231930</td>\n",
       "      <td>24.289872</td>\n",
       "    </tr>\n",
       "    <tr>\n",
       "      <th>2</th>\n",
       "      <td>184047</td>\n",
       "      <td>59823.418685</td>\n",
       "      <td>z</td>\n",
       "      <td>0.908511</td>\n",
       "      <td>21.923566</td>\n",
       "    </tr>\n",
       "    <tr>\n",
       "      <th>3</th>\n",
       "      <td>185595</td>\n",
       "      <td>59825.256044</td>\n",
       "      <td>r</td>\n",
       "      <td>0.949096</td>\n",
       "      <td>24.128617</td>\n",
       "    </tr>\n",
       "    <tr>\n",
       "      <th>4</th>\n",
       "      <td>185736</td>\n",
       "      <td>59825.325979</td>\n",
       "      <td>g</td>\n",
       "      <td>1.242407</td>\n",
       "      <td>24.316968</td>\n",
       "    </tr>\n",
       "  </tbody>\n",
       "</table>\n",
       "</div>"
      ],
      "text/plain": [
       "   obsHistID        expMJD filter   FWHMeff  fiveSigmaDepth\n",
       "0     183767  59823.286523      g  1.093153       24.377204\n",
       "1     183811  59823.307264      g  1.231930       24.289872\n",
       "2     184047  59823.418685      z  0.908511       21.923566\n",
       "3     185595  59825.256044      r  0.949096       24.128617\n",
       "4     185736  59825.325979      g  1.242407       24.316968"
      ]
     },
     "execution_count": 4,
     "metadata": {},
     "output_type": "execute_result"
    }
   ],
   "source": [
    "df.head()"
   ]
  },
  {
   "cell_type": "code",
   "execution_count": 5,
   "metadata": {
    "collapsed": true
   },
   "outputs": [],
   "source": [
    "df.to_csv('Twinkles_ObservationHistory.csv', index=False)"
   ]
  },
  {
   "cell_type": "code",
   "execution_count": null,
   "metadata": {
    "collapsed": true
   },
   "outputs": [],
   "source": []
  }
 ],
 "metadata": {
  "anaconda-cloud": {},
  "kernelspec": {
   "display_name": "Python [default]",
   "language": "python",
   "name": "python2"
  },
  "language_info": {
   "codemirror_mode": {
    "name": "ipython",
    "version": 2
   },
   "file_extension": ".py",
   "mimetype": "text/x-python",
   "name": "python",
   "nbconvert_exporter": "python",
   "pygments_lexer": "ipython2",
   "version": "2.7.12"
  }
 },
 "nbformat": 4,
 "nbformat_minor": 1
}
