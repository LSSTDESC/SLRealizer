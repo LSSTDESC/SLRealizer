{
 "cells": [
  {
   "cell_type": "code",
   "execution_count": null,
   "metadata": {},
   "outputs": [],
   "source": [
    "%matplotlib inline\n",
    "from astropy.io import fits\n",
    "import pandas as pd\n",
    "import numpy as np\n",
    "import matplotlib.pyplot as plt\n",
    "from corner import corner\n",
    "#data = fits.getdata('/Users/mbaumer/Downloads/MyTable_0_mbaumer.fit')"
   ]
  },
  {
   "cell_type": "markdown",
   "metadata": {},
   "source": [
    "# Feature analysis on SDSS (non-lens) galaxies"
   ]
  },
  {
   "cell_type": "markdown",
   "metadata": {},
   "source": [
    "Author: Mike Baumer (mbaumer)\n",
    "\n",
    "This notebook includes some feature analysis on the SDSS (non-lens) galaxies. While it starts with some querying, the querying component has migrated to the `slrealizer/Preprocessing+the+SDSS+non-lens+catalog.ipynb` notebook."
   ]
  },
  {
   "cell_type": "code",
   "execution_count": null,
   "metadata": {},
   "outputs": [],
   "source": [
    "data.columns"
   ]
  },
  {
   "cell_type": "markdown",
   "metadata": {},
   "source": [
    "## Cuts on Reasonableness"
   ]
  },
  {
   "cell_type": "code",
   "execution_count": null,
   "metadata": {},
   "outputs": [],
   "source": [
    "# no crazy magnitudes\n",
    "data = data[(data['u'] < 30) & (data['u'] > 0)]\n",
    "data = data[(data['g'] < 30) & (data['g'] > 0)]\n",
    "data = data[(data['r'] < 30) & (data['r'] > 0)]\n",
    "data = data[(data['i'] < 30) & (data['i'] > 0)]\n",
    "data = data[(data['z'] < 30) & (data['z'] > 0)]\n",
    "\n",
    "data = data[(data['err_u'] < 3)]\n",
    "data = data[(data['err_g'] < 3)]\n",
    "data = data[(data['err_r'] < 3)]\n",
    "data = data[(data['err_i'] < 3)]\n",
    "data = data[(data['err_z'] < 3)]\n",
    "\n",
    "# no crazy offsets between bands (to deal with bad matches)\n",
    "data = data[(data['offsetRa_u'] < 4) & (data['offsetRa_u'] > -4)]\n",
    "data = data[(data['offsetRa_g'] < 4) & (data['offsetRa_g'] > -4)]\n",
    "data = data[(data['offsetRa_r'] < 4) & (data['offsetRa_r'] > -4)]\n",
    "data = data[(data['offsetRa_i'] < 4) & (data['offsetRa_i'] > -4)]\n",
    "data = data[(data['offsetRa_z'] < 4) & (data['offsetRa_z'] > -4)]\n",
    "\n",
    "data = data[(data['offsetDec_u'] < 4) & (data['offsetDec_u'] > -4)]\n",
    "data = data[(data['offsetDec_g'] < 4) & (data['offsetDec_g'] > -4)]\n",
    "data = data[(data['offsetDec_r'] < 4) & (data['offsetDec_r'] > -4)]\n",
    "data = data[(data['offsetDec_i'] < 4) & (data['offsetDec_i'] > -4)]\n",
    "data = data[(data['offsetDec_z'] < 4) & (data['offsetDec_z'] > -4)]\n",
    "\n",
    "data = data[(~np.isnan(data['mE1_u'])) & (data['mE1_u'] < 15) & (data['mE1_u'] > -15)]\n",
    "data = data[(~np.isnan(data['mE1_g'])) & (data['mE1_g'] < 15) & (data['mE1_g'] > -15)]\n",
    "data = data[(~np.isnan(data['mE1_r'])) & (data['mE1_r'] < 15) & (data['mE1_r'] > -15)]\n",
    "data = data[(~np.isnan(data['mE1_i'])) & (data['mE1_i'] < 15) & (data['mE1_i'] > -15)]\n",
    "data = data[(~np.isnan(data['mE1_z'])) & (data['mE1_z'] < 15) & (data['mE1_z'] > -15)]\n",
    "\n",
    "data = data[(~np.isnan(data['mE2_u'])) & (data['mE2_u'] < 15) & (data['mE2_u'] > -15)]\n",
    "data = data[(~np.isnan(data['mE2_g'])) & (data['mE2_g'] < 15) & (data['mE2_g'] > -15)]\n",
    "data = data[(~np.isnan(data['mE2_r'])) & (data['mE2_r'] < 15) & (data['mE2_r'] > -15)]\n",
    "data = data[(~np.isnan(data['mE2_i'])) & (data['mE2_i'] < 15) & (data['mE2_i'] > -15)]\n",
    "data = data[(~np.isnan(data['mE2_z'])) & (data['mE2_z'] < 15) & (data['mE2_z'] > -15)]\n",
    "\n",
    "data = data[(data['mRrCc_u'] < 300) & (data['mRrCc_u'] > -300) & (np.abs(data['mRrCc_u']) > 1)]\n",
    "data = data[(data['mRrCc_g'] < 300) & (data['mRrCc_g'] > -300) & (np.abs(data['mRrCc_g']) > 1)]\n",
    "data = data[(data['mRrCc_r'] < 300) & (data['mRrCc_r'] > -300) & (np.abs(data['mRrCc_r']) > 1)]\n",
    "data = data[(data['mRrCc_i'] < 300) & (data['mRrCc_i'] > -300) & (np.abs(data['mRrCc_i']) > 1)]\n",
    "data = data[(data['mRrCc_z'] < 300) & (data['mRrCc_z'] > -300) & (np.abs(data['mRrCc_z']) > 1)]\n",
    "\n",
    "data = data[(data['mE1E1Err_u'] > 0)]\n",
    "data = data[(data['mE1E1Err_g'] > 0)]\n",
    "data = data[(data['mE1E1Err_r'] > 0)]\n",
    "data = data[(data['mE1E1Err_i'] > 0)]\n",
    "data = data[(data['mE1E1Err_z'] > 0)]\n",
    "\n",
    "#redundant if e1 err cuts pass, but w/e\n",
    "data = data[(data['mE2E2Err_u'] > 0)]\n",
    "data = data[(data['mE2E2Err_g'] > 0)]\n",
    "data = data[(data['mE2E2Err_r'] > 0)]\n",
    "data = data[(data['mE2E2Err_i'] > 0)]\n",
    "data = data[(data['mE2E2Err_z'] > 0)]\n",
    "\n",
    "#define normalized ellipticities\n",
    "e1_u = data.mE1_u\n",
    "e1_g = data.mE1_g\n",
    "e1_r = data.mE1_r\n",
    "e1_i = data.mE1_i\n",
    "e1_z = data.mE1_z\n",
    "\n",
    "e2_u = data.mE2_u\n",
    "e2_g = data.mE2_g\n",
    "e2_r = data.mE2_r\n",
    "e2_i = data.mE2_i\n",
    "e2_z = data.mE2_z\n",
    "\n",
    "offset_u = np.sqrt(data.offsetRa_u**2+data.offsetDec_u**2)\n",
    "offset_g = np.sqrt(data.offsetRa_g**2+data.offsetDec_g**2)\n",
    "offset_r = np.sqrt(data.offsetRa_r**2+data.offsetDec_r**2)\n",
    "offset_i = np.sqrt(data.offsetRa_i**2+data.offsetDec_i**2)\n",
    "offset_z = np.sqrt(data.offsetRa_z**2+data.offsetDec_z**2)\n",
    "\n",
    "def offset_between_bands(band1,band2):\n",
    "    return np.sqrt((data['offsetRa_'+band1]-data['offsetRa_'+band2])**2\n",
    "                   +(data['offsetDec_'+band1]-data['offsetDec_'+band2])**2)"
   ]
  },
  {
   "cell_type": "code",
   "execution_count": null,
   "metadata": {},
   "outputs": [],
   "source": [
    "len(data)"
   ]
  },
  {
   "cell_type": "markdown",
   "metadata": {},
   "source": [
    "## Magnitudes/Colors"
   ]
  },
  {
   "cell_type": "code",
   "execution_count": null,
   "metadata": {},
   "outputs": [],
   "source": [
    "corner(np.array([data.i,data.u-data.g,data.g-data.r,data.r-data.i,data.i-data.z]).T,labels=['i','u-g','g-r','r-i','i-z']);"
   ]
  },
  {
   "cell_type": "code",
   "execution_count": null,
   "metadata": {},
   "outputs": [],
   "source": [
    "corner(np.array([offset_u,offset_g,offset_i,offset_z]).T,bins=100,labels=['offset u','offset g','offset i','offset z']);"
   ]
  },
  {
   "cell_type": "code",
   "execution_count": null,
   "metadata": {},
   "outputs": [],
   "source": [
    "corner(np.array([e1_u,e1_g,e1_r,e1_i,e1_z]).T,labels=['e1_u','e1_g','e1_r','e1_i','e1_z']);"
   ]
  },
  {
   "cell_type": "code",
   "execution_count": null,
   "metadata": {},
   "outputs": [],
   "source": [
    "corner(np.array([e2_u,e2_g,e2_r,e2_i,e2_z]).T,labels=['e2_u','e2_g','e2_r','e2_i','e2_z']);"
   ]
  },
  {
   "cell_type": "code",
   "execution_count": null,
   "metadata": {},
   "outputs": [],
   "source": [
    "plt.hist(np.sqrt(data['mRrCc_u']/np.pi),bins=100);\n",
    "plt.hist(np.sqrt(data['mRrCcPSF_u']/np.pi),bins=100);\n",
    "plt.title('Galaxies are much bigger than the PSF')\n",
    "plt.xlabel('Object radius (pixels)')"
   ]
  },
  {
   "cell_type": "markdown",
   "metadata": {},
   "source": [
    "## Creating a \"source-like\" data table...or maybe we need the object table at this point?\n",
    "Yeah, I'm going with object tables, both bc it's simpler and since we need multiband info!"
   ]
  },
  {
   "cell_type": "code",
   "execution_count": null,
   "metadata": {},
   "outputs": [],
   "source": [
    "data.columns"
   ]
  },
  {
   "cell_type": "code",
   "execution_count": null,
   "metadata": {},
   "outputs": [],
   "source": [
    "len(data)"
   ]
  },
  {
   "cell_type": "code",
   "execution_count": null,
   "metadata": {},
   "outputs": [],
   "source": [
    "fits.writeto('sdss_for_jenny.fits',data)"
   ]
  },
  {
   "cell_type": "code",
   "execution_count": null,
   "metadata": {},
   "outputs": [],
   "source": [
    "#test\n",
    "data2 = fits.getdata('sdss_for_jenny.fits')"
   ]
  }
 ],
 "metadata": {
  "kernelspec": {
   "display_name": "Python 2",
   "language": "python",
   "name": "python2"
  },
  "language_info": {
   "codemirror_mode": {
    "name": "ipython",
    "version": 2
   },
   "file_extension": ".py",
   "mimetype": "text/x-python",
   "name": "python",
   "nbconvert_exporter": "python",
   "pygments_lexer": "ipython2",
   "version": "2.7.12"
  }
 },
 "nbformat": 4,
 "nbformat_minor": 2
}
