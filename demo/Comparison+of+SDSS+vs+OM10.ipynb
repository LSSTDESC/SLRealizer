{
 "cells": [
  {
   "cell_type": "markdown",
   "metadata": {},
   "source": [
    "# Cornerplots of various features for lensed system\n",
    "### SDSS vs OM10 (realized by Galsim)"
   ]
  },
  {
   "cell_type": "markdown",
   "metadata": {
    "collapsed": true
   },
   "source": [
    "The OM10 mock lensed quasar catalog qso_mock.fits contains a list of LSST-like samples. Using the OM10 mock catalog and observation history data, we can generate a toy catalog for SLRealizer. Using the toy catalog, we can null-deblend the catalog and generate the cornerplot to easily compare different features. We use Galsim to null-deblend and realize the catalog. Then, we compared the OM10 features with SDSS features."
   ]
  },
  {
   "cell_type": "code",
   "execution_count": 2,
   "metadata": {
    "scrolled": true
   },
   "outputs": [],
   "source": [
    "from __future__ import print_function\n",
    "from astropy.table import Table, hstack\n",
    "import astropy.io.fits as pyfits\n",
    "import sys, os\n",
    "#import desc.slrealizer\n",
    "import warnings\n",
    "warnings.filterwarnings(\"ignore\")\n",
    "import numpy as np\n",
    "np.set_printoptions(threshold=np.nan)"
   ]
  },
  {
   "cell_type": "markdown",
   "metadata": {},
   "source": [
    "The lines below enable the jupyter notebook to display inline plots."
   ]
  },
  {
   "cell_type": "code",
   "execution_count": 3,
   "metadata": {},
   "outputs": [
    {
     "name": "stdout",
     "output_type": "stream",
     "text": [
      "Populating the interactive namespace from numpy and matplotlib\n"
     ]
    }
   ],
   "source": [
    "warnings.filterwarnings(\"ignore\")\n",
    "%matplotlib inline\n",
    "%pylab inline"
   ]
  },
  {
   "cell_type": "markdown",
   "metadata": {},
   "source": [
    "Here, we initialize SLRealizer constructor"
   ]
  },
  {
   "cell_type": "code",
   "execution_count": 4,
   "metadata": {},
   "outputs": [],
   "source": [
    "catalog_f = '../data/qso_mock.fits'\n",
    "observation_f = '../data/twinkles_observation_history.csv'"
   ]
  },
  {
   "cell_type": "code",
   "execution_count": null,
   "metadata": {},
   "outputs": [],
   "source": [
    "realizer = desc.slrealizer.SLRealizer(observation=observation_f)"
   ]
  },
  {
   "cell_type": "markdown",
   "metadata": {},
   "source": [
    "## Drawing the cornerplot\n",
    "\n",
    "##### For all the cornerplots, the purple ones are SDSS galaxies and the orange ones are OM10 lensed systems."
   ]
  },
  {
   "cell_type": "markdown",
   "metadata": {},
   "source": [
    "### I. Size"
   ]
  },
  {
   "cell_type": "markdown",
   "metadata": {},
   "source": [
    "For `galsim=False` option, the size is defined to be the determinant of covariance matrix, which can be also simplified as:\n",
    "$$q_{xx} * q_{yy} - q_{xy} * q_{xy}$$. We can notice that the size of the lensed system decreased when we go from $u$ , $g$ , $r$ , $i$, and $z$. This is reasonable because the quasar images will be brighter in the bluer filters, creating larger blended objects. This plot shows a strong correlation between adjacent bands.\n",
    "\n",
    "For `galsim=True` option, the size is defined to be the convolved gaussian's sigma value.\n",
    "\n",
    "SDSS samples had a larger spread than the OM10 samples, and their peaks were similar.\n",
    "\n",
    "##### The size comparison fails because of different unit systems"
   ]
  },
  {
   "cell_type": "code",
   "execution_count": null,
   "metadata": {},
   "outputs": [],
   "source": [
    "option = ['size']\n",
    "# This doesnt work\n",
    "\n",
    "fig1 = realizer.generate_cornerplot(object_table_dir='../data/sdss_object.csv', color='orange', normed=True, option=option)\n",
    "fig = realizer.generate_cornerplot(object_table_dir='../data/object_catalog_galsim_noise_perfect.csv', overlap = fig1, color='purple', option=option, normed=True)"
   ]
  },
  {
   "cell_type": "markdown",
   "metadata": {},
   "source": [
    "### II. First moment along the x axis"
   ]
  },
  {
   "cell_type": "code",
   "execution_count": null,
   "metadata": {
    "scrolled": true
   },
   "outputs": [],
   "source": [
    "warnings.filterwarnings(\"ignore\")\n",
    "option = ['x_position']\n",
    "fig1 = realizer.generate_cornerplot(object_table_dir='../data/sdss_object.csv', color='orange', option=option, normed=True)\n",
    "fig = realizer.generate_cornerplot(object_table_dir='../data/object_catalog_galsim_noise_perfect.csv', color='purple', overlap=fig1, option=option, normed=True)"
   ]
  },
  {
   "cell_type": "markdown",
   "metadata": {},
   "source": [
    "### III. First moment along the y axis"
   ]
  },
  {
   "cell_type": "code",
   "execution_count": null,
   "metadata": {
    "scrolled": true
   },
   "outputs": [],
   "source": [
    "option = ['y_position']\n",
    "fig1 = realizer.generate_cornerplot(object_table_dir='../data/sdss_object.csv', color='orange', option=option, normed=True)\n",
    "fig = realizer.generate_cornerplot(object_table_dir='../data/object_catalog_galsim_noise_perfect.csv', color='purple', overlap=fig1, option=option, normed=True)"
   ]
  },
  {
   "cell_type": "code",
   "execution_count": null,
   "metadata": {},
   "outputs": [],
   "source": [
    "option = ['position']\n",
    "fig1 = realizer.generate_cornerplot(object_table_dir='../data/sdss_object.csv', color='orange', option=option, normed=True)\n",
    "fig = realizer.generate_cornerplot(object_table_dir='../data/object_catalog_galsim_noise_perfect.csv', color='purple', option=option, overlap=fig1, normed=True)"
   ]
  },
  {
   "cell_type": "markdown",
   "metadata": {},
   "source": [
    "### IV. Ellipticity"
   ]
  },
  {
   "cell_type": "markdown",
   "metadata": {},
   "source": [
    "Ellipticity is defined as $e = \\sqrt{e1^2+e2^2}$ where\n",
    "\n",
    "$e1 = (qxx-qyy)/(qxx+qyy)$\n",
    "\n",
    "$e2 = 2*qxy/(qxx+qyy)$\n",
    "\n",
    "By looking at $e$ in each filter, for OM10 lenses, we could notice that $e$ decreased when we went from u, g, r, i, to z. This is also reasonable -- quasar images will be much brighter in the bluer filters. Because the null-deblended source will be stretched in bluer filters, ellipticity will decrease as the wavelength of filters decrease.\n",
    "\n",
    "* By definition, $e$ has a value from zero to one[0, 1].\n",
    "\n",
    "The SDSS and OM10 samples have different shapes, and the SDSS samples had a wider spread. However, the peaks of the two distributions were similar."
   ]
  },
  {
   "cell_type": "code",
   "execution_count": null,
   "metadata": {
    "scrolled": true
   },
   "outputs": [],
   "source": [
    "option = ['ellipticity']\n",
    "fig1 = realizer.generate_cornerplot(object_table_dir='../data/sdss_object.csv', color='orange', option=option, normed=True, range=[(0, 1), (0, 1), (0, 1), (0, 1), (0, 1)])\n",
    "fig = realizer.generate_cornerplot(object_table_dir='../data/object_catalog_galsim_noise_perfect.csv', color='purple', option=option, overlap=fig1, normed=True)"
   ]
  },
  {
   "cell_type": "markdown",
   "metadata": {},
   "source": [
    "### V. Color"
   ]
  },
  {
   "cell_type": "markdown",
   "metadata": {},
   "source": [
    "The distributions had different patterns, but the peaks overlapped with each other. Still, there were significant numbers of OM10 lensed systems that were seperated from SDSS samples."
   ]
  },
  {
   "cell_type": "code",
   "execution_count": null,
   "metadata": {
    "scrolled": true
   },
   "outputs": [],
   "source": [
    "option = ['color']\n",
    "fig1 = realizer.generate_cornerplot(object_table_dir='../data/sdss_object.csv', color='orange', option=option, normed=True, range=[(-1.0, 2.0), (-1.0, 2.0), (-1.0, 2.0), (-1.0, 2.0)])\n",
    "fig = realizer.generate_cornerplot(object_table_dir='../data/object_catalog_galsim_noise_perfect.csv', color='purple', option=option, overlap=fig1, normed=True, range=[(-1.0, 3.0), (-1.0, 3.0), (-1.0, 3.0), (-1.0, 3.0)])"
   ]
  },
  {
   "cell_type": "code",
   "execution_count": null,
   "metadata": {},
   "outputs": [],
   "source": [
    "option = ['phi']\n",
    "fig1 = realizer.generate_cornerplot(object_table_dir='../data/sdss_object.csv', color='orange', option=option, range=[(-90, 90), (-90, 90),(-90, 90),(-90, 90),(-90, 90)], normed=True)\n",
    "fig = realizer.generate_cornerplot(object_table_dir='../data/object_catalog_galsim_noise_perfect.csv', color='purple', range=[(-90, 90), (-90, 90),(-90, 90),(-90, 90),(-90, 90)], option=option, overlap=fig1, normed=True)"
   ]
  },
  {
   "cell_type": "markdown",
   "metadata": {},
   "source": [
    "### VII. Magnitude"
   ]
  },
  {
   "cell_type": "markdown",
   "metadata": {},
   "source": [
    "This cornerplot plots different magnitudes in different bands. The magnitudes of SDSS and om10 lenses were not that different."
   ]
  },
  {
   "cell_type": "code",
   "execution_count": null,
   "metadata": {
    "scrolled": true
   },
   "outputs": [],
   "source": [
    "option = ['magnitude']\n",
    "fig1 = realizer.generate_cornerplot(object_table_dir='../data/sdss_object.csv', color='orange', option=option, normed=True)\n",
    "fig = realizer.generate_cornerplot(object_table_dir='../data/object_catalog_galsim_noise_perfect.csv', color='purple', option=option, overlap=fig1, normed=True)"
   ]
  },
  {
   "cell_type": "markdown",
   "metadata": {},
   "source": [
    "### VII. Custom Options"
   ]
  },
  {
   "cell_type": "markdown",
   "metadata": {},
   "source": [
    "We can enable the custom option -- we can just format the data and draw the cornerplot without using the default option. In order to do so, we have to import pandas, read th sdss and om10 object catalogs, and pass in the `custom` option."
   ]
  },
  {
   "cell_type": "code",
   "execution_count": null,
   "metadata": {},
   "outputs": [],
   "source": [
    "# custom input\n",
    "import pandas as pd\n",
    "object_table = pd.read_csv('../data/object_catalog_galsim_noise_perfect.csv')\n",
    "sdss_table = pd.read_csv('../data/sdss_object.csv')\n",
    "option = ['custom']"
   ]
  },
  {
   "cell_type": "markdown",
   "metadata": {},
   "source": [
    "#### Color index for u-r, r-z, and u-z magnitudes"
   ]
  },
  {
   "cell_type": "markdown",
   "metadata": {},
   "source": [
    "There were few OM10 systems that could be easily separated from SDSS galaxies, but the patterns were generally similar."
   ]
  },
  {
   "cell_type": "code",
   "execution_count": null,
   "metadata": {},
   "outputs": [],
   "source": [
    "labels = ['$u-r$', '$r-z$', '$u-z$']\n",
    "features = np.array([])\n",
    "u = object_table['u_flux']\n",
    "r = object_table['r_flux']\n",
    "z = object_table['z_flux']\n",
    "flux_mag_u = desc.slrealizer.return_zeropoint()-2.5*np.log10(u)\n",
    "flux_mag_z = desc.slrealizer.return_zeropoint()-2.5*np.log10(z)\n",
    "flux_mag_r = desc.slrealizer.return_zeropoint()-2.5*np.log10(r)\n",
    "ur = flux_mag_u - flux_mag_r\n",
    "rz = flux_mag_r - flux_mag_z\n",
    "uz = flux_mag_u - flux_mag_z\n",
    "features= np.append(features, ur)\n",
    "features= np.append(features, rz)\n",
    "features= np.append(features, uz)\n",
    "features = features.reshape(3, len(ur)).transpose()\n",
    "# sdss\n",
    "u_sdss = sdss_table['u_flux']\n",
    "r_sdss = sdss_table['r_flux']\n",
    "z_sdss = sdss_table['z_flux']\n",
    "features_sdss = np.array([])\n",
    "flux_mag_u_sdss = desc.slrealizer.return_zeropoint()-2.5*np.log10(u_sdss)\n",
    "flux_mag_z_sdss = desc.slrealizer.return_zeropoint()-2.5*np.log10(z_sdss)\n",
    "flux_mag_r_sdss = desc.slrealizer.return_zeropoint()-2.5*np.log10(r_sdss)\n",
    "ur_sdss = flux_mag_u_sdss - flux_mag_r_sdss\n",
    "rz_sdss = flux_mag_r_sdss - flux_mag_z_sdss\n",
    "uz_sdss = flux_mag_u_sdss - flux_mag_z_sdss\n",
    "features_sdss= np.append(features_sdss, ur_sdss)\n",
    "features_sdss= np.append(features_sdss, rz_sdss)\n",
    "features_sdss= np.append(features_sdss, uz_sdss)\n",
    "features_sdss = features_sdss.reshape(3, len(ur_sdss)).transpose()\n",
    "print(features_sdss)\n",
    "\n",
    "fig1 = realizer.generate_cornerplot(color='orange', option=option, \n",
    "                                    data=features_sdss, label=labels, normed=True)\n",
    "fig = realizer.generate_cornerplot(color='purple', option=option, overlap=fig1, \n",
    "                                   data=features, label=labels, normed=True)\n"
   ]
  },
  {
   "cell_type": "markdown",
   "metadata": {},
   "source": [
    "#### Color index for u-z, u-i, and g-z magnitudes"
   ]
  },
  {
   "cell_type": "markdown",
   "metadata": {},
   "source": [
    "Here, as the bands' wavelengths got farther apart from each other, the difference between the OM10 lensed systems and SDSS systems became really different. Especially, for $u-z$ filter vs other filters, the differences were obvious."
   ]
  },
  {
   "cell_type": "code",
   "execution_count": null,
   "metadata": {
    "scrolled": true
   },
   "outputs": [],
   "source": [
    "labels = ['$u-z$', '$u-i$', '$g-z$']\n",
    "features = np.array([])\n",
    "u = object_table['u_flux']\n",
    "g = object_table['g_flux']\n",
    "z = object_table['r_flux']\n",
    "z = object_table['z_flux']\n",
    "flux_mag_u = desc.slrealizer.return_zeropoint()-2.5*np.log10(u)\n",
    "flux_mag_z = desc.slrealizer.return_zeropoint()-2.5*np.log10(z)\n",
    "flux_mag_r = desc.slrealizer.return_zeropoint()-2.5*np.log10(r)\n",
    "flux_mag_g = desc.slrealizer.return_zeropoint()-2.5*np.log10(g)\n",
    "uz = flux_mag_u - flux_mag_z\n",
    "ur = flux_mag_u - flux_mag_r\n",
    "gz = flux_mag_g - flux_mag_z\n",
    "features= np.append(features, uz)\n",
    "features= np.append(features, ur)\n",
    "features= np.append(features, gz)\n",
    "features = features.reshape(3, len(u)).transpose()\n",
    "# sdss\n",
    "u_sdss = sdss_table['u_flux']\n",
    "r_sdss = sdss_table['r_flux']\n",
    "z_sdss = sdss_table['z_flux']\n",
    "g_sdss = sdss_table['g_flux']\n",
    "sdss_features = np.array([])\n",
    "flux_mag_u_sdss = desc.slrealizer.return_zeropoint()-2.5*np.log10(u_sdss)\n",
    "flux_mag_z_sdss = desc.slrealizer.return_zeropoint()-2.5*np.log10(z_sdss)\n",
    "flux_mag_r_sdss = desc.slrealizer.return_zeropoint()-2.5*np.log10(r_sdss)\n",
    "flux_mag_g_sdss = desc.slrealizer.return_zeropoint()-2.5*np.log10(g_sdss)\n",
    "uz_sdss = flux_mag_u_sdss - flux_mag_r_sdss\n",
    "ur_sdss = flux_mag_u_sdss - flux_mag_r_sdss\n",
    "gz_sdss = flux_mag_g_sdss - flux_mag_z_sdss\n",
    "sdss_features= np.append(sdss_features, uz_sdss)\n",
    "sdss_features= np.append(sdss_features, ur_sdss)\n",
    "sdss_features= np.append(sdss_features, gz_sdss)\n",
    "sdss_features = sdss_features.reshape(3, len(u_sdss)).transpose()\n",
    "\n",
    "fig1 = realizer.generate_cornerplot(color='orange', option=option, \n",
    "                                    data=sdss_features, label=labels, normed=True)\n",
    "fig = realizer.generate_cornerplot(color='purple', option=option, overlap=fig1, \n",
    "                                   data=features, label=labels, normed=True)"
   ]
  },
  {
   "cell_type": "markdown",
   "metadata": {},
   "source": [
    "#### Color index for u-z, u-i, and g-z magnitudes"
   ]
  },
  {
   "cell_type": "code",
   "execution_count": null,
   "metadata": {},
   "outputs": [],
   "source": [
    "labels = ['$u-z$', '$u-i$', '$g-z$']\n",
    "features = np.array([])\n",
    "u = object_table['u_flux']\n",
    "g = object_table['g_flux']\n",
    "z = object_table['r_flux']\n",
    "z = object_table['z_flux']\n",
    "flux_mag_u = desc.slrealizer.return_zeropoint()-2.5*np.log10(u)\n",
    "flux_mag_z = desc.slrealizer.return_zeropoint()-2.5*np.log10(z)\n",
    "flux_mag_r = desc.slrealizer.return_zeropoint()-2.5*np.log10(r)\n",
    "flux_mag_g = desc.slrealizer.return_zeropoint()-2.5*np.log10(g)\n",
    "uz = flux_mag_u - flux_mag_z\n",
    "zr = flux_mag_z - flux_mag_r\n",
    "rg = flux_mag_r - flux_mag_g\n",
    "features= np.append(features, uz)\n",
    "features= np.append(features, zr)\n",
    "features= np.append(features, rg)\n",
    "features = features.reshape(3, len(u)).transpose()\n",
    "# sdss\n",
    "u_sdss = sdss_table['u_flux']\n",
    "r_sdss = sdss_table['r_flux']\n",
    "z_sdss = sdss_table['z_flux']\n",
    "g_sdss = sdss_table['g_flux']\n",
    "sdss_features = np.array([])\n",
    "flux_mag_u_sdss = desc.slrealizer.return_zeropoint()-2.5*np.log10(u_sdss)\n",
    "flux_mag_z_sdss = desc.slrealizer.return_zeropoint()-2.5*np.log10(z_sdss)\n",
    "flux_mag_r_sdss = desc.slrealizer.return_zeropoint()-2.5*np.log10(r_sdss)\n",
    "flux_mag_g_sdss = desc.slrealizer.return_zeropoint()-2.5*np.log10(g_sdss)\n",
    "uz_sdss = flux_mag_u_sdss - flux_mag_r_sdss\n",
    "zr_sdss = flux_mag_z_sdss - flux_mag_r_sdss\n",
    "rg_sdss = flux_mag_r_sdss - flux_mag_g_sdss\n",
    "sdss_features= np.append(sdss_features, uz_sdss)\n",
    "sdss_features= np.append(sdss_features, zr_sdss)\n",
    "sdss_features= np.append(sdss_features, rg_sdss)\n",
    "sdss_features = sdss_features.reshape(3, len(u_sdss)).transpose()\n",
    "\n",
    "fig1 = realizer.generate_cornerplot(color='orange', option=option, \n",
    "                                    data=sdss_features, label=labels, normed=True)\n",
    "fig = realizer.generate_cornerplot(color='purple', option=option, overlap=fig1, \n",
    "                                   data=features, label=labels, normed=True)"
   ]
  },
  {
   "cell_type": "markdown",
   "metadata": {},
   "source": [
    "#### Color index (u-z) vs Ellipticty"
   ]
  },
  {
   "cell_type": "markdown",
   "metadata": {},
   "source": [
    "Because we saw the strong differences between OM10 lensed systems and SDSS galaxies, I plotted $u-z$ vs ellipticity. We can spot the differences in the distribution in the first column, suggesting that this could also be a useful feature."
   ]
  },
  {
   "cell_type": "code",
   "execution_count": null,
   "metadata": {},
   "outputs": [],
   "source": [
    "option = ['custom']\n",
    "labels = ['$u-z$', '$u_e$', '$g_e$', '$r_e$', '$i_e$', '$z_e$']\n",
    "features = np.array([])\n",
    "u = object_table['u_flux']\n",
    "z = object_table['z_flux']\n",
    "flux_mag_u = desc.slrealizer.return_zeropoint()-2.5*np.log10(u)\n",
    "flux_mag_z = desc.slrealizer.return_zeropoint()-2.5*np.log10(z)\n",
    "uz = flux_mag_u - flux_mag_z\n",
    "features= np.append(features, uz)\n",
    "u_e = object_table['u_e']\n",
    "g_e = object_table['g_e']\n",
    "r_e = object_table['r_e']\n",
    "i_e = object_table['i_e']\n",
    "z_e = object_table['z_e']\n",
    "features= np.append(features, u_e)\n",
    "features= np.append(features, g_e)\n",
    "features= np.append(features, r_e)\n",
    "features= np.append(features, i_e)\n",
    "features= np.append(features, z_e)\n",
    "features = features.reshape(6, len(u)).transpose()\n",
    "# sdss\n",
    "u_sdss = sdss_table['u_flux']\n",
    "z_sdss = sdss_table['z_flux']\n",
    "sdss_features = np.array([])\n",
    "flux_mag_u_sdss = desc.slrealizer.return_zeropoint()-2.5*np.log10(u_sdss)\n",
    "flux_mag_z_sdss = desc.slrealizer.return_zeropoint()-2.5*np.log10(z_sdss)\n",
    "uz_sdss = flux_mag_u_sdss - flux_mag_r_sdss\n",
    "sdss_features= np.append(sdss_features, uz_sdss)\n",
    "u_e_sdss = sdss_table['u_e']\n",
    "g_e_sdss = sdss_table['g_e']\n",
    "r_e_sdss = sdss_table['r_e']\n",
    "i_e_sdss = sdss_table['i_e']\n",
    "z_e_sdss = sdss_table['z_e']\n",
    "sdss_features= np.append(sdss_features, u_e_sdss)\n",
    "sdss_features= np.append(sdss_features, g_e_sdss)\n",
    "sdss_features= np.append(sdss_features, r_e_sdss)\n",
    "sdss_features= np.append(sdss_features, i_e_sdss)\n",
    "sdss_features= np.append(sdss_features, z_e_sdss)\n",
    "sdss_features = sdss_features.reshape(6, len(u_sdss)).transpose()\n",
    "\n",
    "fig1 = realizer.generate_cornerplot(color='orange', option=option, \n",
    "                                    data=sdss_features, label=labels, normed=True)\n",
    "fig = realizer.generate_cornerplot(color='purple', option=option, overlap=fig1, \n",
    "                                   data=features, label=labels, normed=True)"
   ]
  },
  {
   "cell_type": "markdown",
   "metadata": {},
   "source": [
    "### '$u-z$' vs ('$u_e - z_e$', '$g_e - z_e$', '$r_e - z_e$', '$i_e - z_e$')"
   ]
  },
  {
   "cell_type": "code",
   "execution_count": null,
   "metadata": {
    "scrolled": false
   },
   "outputs": [],
   "source": [
    "option = ['custom']\n",
    "labels = ['$u-z$', '$u_e - z_e$', '$g_e - z_e$', '$r_e - z_e$', '$i_e - z_e$']\n",
    "features = np.array([])\n",
    "u = object_table['u_flux']\n",
    "z = object_table['z_flux']\n",
    "flux_mag_u = desc.slrealizer.return_zeropoint()-2.5*np.log10(u)\n",
    "flux_mag_z = desc.slrealizer.return_zeropoint()-2.5*np.log10(z)\n",
    "uz = flux_mag_u - flux_mag_z\n",
    "\n",
    "features= np.append(features, uz)\n",
    "u_e = (object_table['u_e'] - object_table['z_e'])\n",
    "g_e = (object_table['g_e'] - object_table['z_e'])\n",
    "r_e = (object_table['r_e'] - object_table['z_e'])\n",
    "i_e = (object_table['i_e'] - object_table['z_e'])\n",
    "features= np.append(features, u_e)\n",
    "features= np.append(features, g_e)\n",
    "features= np.append(features, r_e)\n",
    "features= np.append(features, i_e)\n",
    "features = features.reshape(5, len(u_e)).transpose()\n",
    "\n",
    "# sdss\n",
    "u_sdss = sdss_table['u_flux']\n",
    "z_sdss = sdss_table['z_flux']\n",
    "sdss_features = np.array([])\n",
    "flux_mag_u_sdss = desc.slrealizer.return_zeropoint()-2.5*np.log10(u_sdss)\n",
    "flux_mag_z_sdss = desc.slrealizer.return_zeropoint()-2.5*np.log10(z_sdss)\n",
    "uz_sdss = flux_mag_u_sdss - flux_mag_r_sdss\n",
    "sdss_features= np.append(sdss_features, uz_sdss)\n",
    "u_e_sdss = (sdss_table['u_e'] - sdss_table['z_e'])\n",
    "g_e_sdss = (sdss_table['g_e'] - sdss_table['z_e'])\n",
    "r_e_sdss = (sdss_table['r_e'] - sdss_table['z_e'])\n",
    "i_e_sdss = (sdss_table['i_e'] - sdss_table['z_e'])\n",
    "\n",
    "sdss_features= np.append(sdss_features, u_e_sdss)\n",
    "sdss_features= np.append(sdss_features, g_e_sdss)\n",
    "sdss_features= np.append(sdss_features, r_e_sdss)\n",
    "sdss_features= np.append(sdss_features, i_e_sdss)\n",
    "sdss_features = sdss_features.reshape(5, len(u_e_sdss)).transpose()\n",
    "\n",
    "fig1 = realizer.generate_cornerplot(color='orange', option=option, \n",
    "                                    data=sdss_features, label=labels, normed=True, range=[(-3, 3), (-1, 1), (-1, 1), (-1, 1), (-1, 1)])\n",
    "fig = realizer.generate_cornerplot(color='purple', option=option, overlap=fig1, \n",
    "                                   data=features, label=labels, normed=True, range=[(-3, 3), (-1, 1), (-1, 1), (-1, 1), (-1, 1)])"
   ]
  },
  {
   "cell_type": "markdown",
   "metadata": {},
   "source": [
    "### (u-z) vs total_ellipticity"
   ]
  },
  {
   "cell_type": "code",
   "execution_count": null,
   "metadata": {},
   "outputs": [],
   "source": [
    "option = ['custom']\n",
    "labels = ['$u-z$', '$total_e$']\n",
    "features = np.array([])\n",
    "u = object_table['u_flux']\n",
    "z = object_table['z_flux']\n",
    "flux_mag_u = desc.slrealizer.return_zeropoint()-2.5*np.log10(u)\n",
    "flux_mag_z = desc.slrealizer.return_zeropoint()-2.5*np.log10(z)\n",
    "uz = flux_mag_u - flux_mag_z\n",
    "features= np.append(features, uz)\n",
    "total_e = object_table['u_e'] + object_table['g_e'] + object_table['r_e'] + object_table['i_e'] + object_table['z_e']\n",
    "features= np.append(features, total_e)\n",
    "features = features.reshape(2, len(uz)).transpose()\n",
    "# sdss\n",
    "u_sdss = sdss_table['u_flux']\n",
    "z_sdss = sdss_table['z_flux']\n",
    "sdss_features = np.array([])\n",
    "flux_mag_u_sdss = desc.slrealizer.return_zeropoint()-2.5*np.log10(u_sdss)\n",
    "flux_mag_z_sdss = desc.slrealizer.return_zeropoint()-2.5*np.log10(z_sdss)\n",
    "uz_sdss = flux_mag_u_sdss - flux_mag_r_sdss\n",
    "sdss_features= np.append(sdss_features, uz_sdss)\n",
    "total_e_sdss = sdss_table['u_e'] + sdss_table['g_e'] + sdss_table['r_e'] + sdss_table['i_e'] + sdss_table['z_e']\n",
    "sdss_features = np.append(sdss_features, total_e_sdss)\n",
    "sdss_features = sdss_features.reshape(2, len(uz_sdss)).transpose()\n",
    "\n",
    "fig1 = realizer.generate_cornerplot(color='orange', option=option, \n",
    "                                    data=sdss_features, label=labels, normed=True)\n",
    "fig = realizer.generate_cornerplot(color='purple', option=option, overlap=fig1, \n",
    "                                   data=features, label=labels, normed=True)"
   ]
  },
  {
   "cell_type": "markdown",
   "metadata": {},
   "source": [
    "#### (u-z) vs first moment along the x axis"
   ]
  },
  {
   "cell_type": "code",
   "execution_count": null,
   "metadata": {
    "scrolled": true
   },
   "outputs": [],
   "source": [
    "option = ['custom']\n",
    "labels = ['$u-z$', '$u_x$', '$g_x$', '$i_x$', '$z_x$']\n",
    "features = np.array([])\n",
    "u = object_table['u_flux']\n",
    "z = object_table['z_flux']\n",
    "flux_mag_u = desc.slrealizer.return_zeropoint()-2.5*np.log10(u)\n",
    "flux_mag_z = desc.slrealizer.return_zeropoint()-2.5*np.log10(z)\n",
    "uz = flux_mag_u - flux_mag_z\n",
    "features= np.append(features, uz)\n",
    "u_x = object_table['u_x']\n",
    "g_x = object_table['g_x']\n",
    "i_x = object_table['i_x']\n",
    "z_x = object_table['z_x']\n",
    "features= np.append(features, u_x)\n",
    "features= np.append(features, g_x)\n",
    "features= np.append(features, i_x)\n",
    "features= np.append(features, z_x)\n",
    "features = features.reshape(5, len(u_x)).transpose()\n",
    "# sdss\n",
    "u_sdss = sdss_table['u_flux']\n",
    "z_sdss = sdss_table['z_flux']\n",
    "sdss_features = np.array([])\n",
    "flux_mag_u_sdss = desc.slrealizer.return_zeropoint()-2.5*np.log10(u_sdss)\n",
    "flux_mag_z_sdss = desc.slrealizer.return_zeropoint()-2.5*np.log10(z_sdss)\n",
    "uz_sdss = flux_mag_u_sdss - flux_mag_r_sdss\n",
    "sdss_features= np.append(sdss_features, uz_sdss)\n",
    "u_x_sdss = sdss_table['u_x']\n",
    "g_x_sdss = sdss_table['g_x']\n",
    "i_x_sdss = sdss_table['i_x']\n",
    "z_x_sdss = sdss_table['z_x']\n",
    "sdss_features= np.append(sdss_features, u_x_sdss)\n",
    "sdss_features= np.append(sdss_features, g_x_sdss)\n",
    "sdss_features= np.append(sdss_features, i_x_sdss)\n",
    "sdss_features= np.append(sdss_features, z_x_sdss)\n",
    "sdss_features = sdss_features.reshape(5, len(u_x_sdss)).transpose()\n",
    "\n",
    "fig1 = realizer.generate_cornerplot(color='orange', option=option, \n",
    "                                    data=sdss_features, label=labels, normed=True)\n",
    "fig = realizer.generate_cornerplot(color='purple', option=option, overlap=fig1, \n",
    "                                   data=features, label=labels, normed=True)"
   ]
  },
  {
   "cell_type": "markdown",
   "metadata": {},
   "source": [
    "#### (u-z) vs first moment along the y axis"
   ]
  },
  {
   "cell_type": "code",
   "execution_count": null,
   "metadata": {},
   "outputs": [],
   "source": [
    "option = ['custom']\n",
    "labels = ['$u-z$', '$u_y$', '$g_y$', '$i_y$', '$z_y$']\n",
    "features = np.array([])\n",
    "u = object_table['u_flux']\n",
    "z = object_table['z_flux']\n",
    "flux_mag_u = desc.slrealizer.return_zeropoint()-2.5*np.log10(u)\n",
    "flux_mag_z = desc.slrealizer.return_zeropoint()-2.5*np.log10(z)\n",
    "uz = flux_mag_u - flux_mag_z\n",
    "features= np.append(features, uz)\n",
    "u_x = object_table['u_y']\n",
    "g_x = object_table['g_y']\n",
    "i_x = object_table['i_y']\n",
    "z_x = object_table['z_y']\n",
    "features= np.append(features, u_x)\n",
    "features= np.append(features, g_x)\n",
    "features= np.append(features, i_x)\n",
    "features= np.append(features, z_x)\n",
    "features = features.reshape(5, len(u_x)).transpose()\n",
    "# sdss\n",
    "u_sdss = sdss_table['u_flux']\n",
    "z_sdss = sdss_table['z_flux']\n",
    "sdss_features = np.array([])\n",
    "flux_mag_u_sdss = desc.slrealizer.return_zeropoint()-2.5*np.log10(u_sdss)\n",
    "flux_mag_z_sdss = desc.slrealizer.return_zeropoint()-2.5*np.log10(z_sdss)\n",
    "uz_sdss = flux_mag_u_sdss - flux_mag_r_sdss\n",
    "sdss_features= np.append(sdss_features, uz_sdss)\n",
    "u_x_sdss = sdss_table['u_y']\n",
    "g_x_sdss = sdss_table['g_y']\n",
    "i_x_sdss = sdss_table['i_y']\n",
    "z_x_sdss = sdss_table['z_y']\n",
    "sdss_features= np.append(sdss_features, u_x_sdss)\n",
    "sdss_features= np.append(sdss_features, g_x_sdss)\n",
    "sdss_features= np.append(sdss_features, i_x_sdss)\n",
    "sdss_features= np.append(sdss_features, z_x_sdss)\n",
    "sdss_features = sdss_features.reshape(5, len(u_x_sdss)).transpose()\n",
    "\n",
    "fig1 = realizer.generate_cornerplot(color='orange', option=option, \n",
    "                                    data=sdss_features, label=labels, normed=True)\n",
    "fig = realizer.generate_cornerplot(color='purple', option=option, overlap=fig1, \n",
    "                                   data=features, label=labels, normed=True)"
   ]
  },
  {
   "cell_type": "code",
   "execution_count": null,
   "metadata": {},
   "outputs": [],
   "source": [
    "#### $u-z$ vs $x first moment - y first moment$"
   ]
  },
  {
   "cell_type": "code",
   "execution_count": null,
   "metadata": {},
   "outputs": [],
   "source": [
    "option = ['custom']\n",
    "labels = ['$u-z$', '$u_y - u_x$', '$g_y - g_x$', '$i_y - i_x$', '$z_y - z_x$']\n",
    "features = np.array([])\n",
    "u = object_table['u_flux']\n",
    "z = object_table['z_flux']\n",
    "flux_mag_u = desc.slrealizer.return_zeropoint()-2.5*np.log10(u)\n",
    "flux_mag_z = desc.slrealizer.return_zeropoint()-2.5*np.log10(z)\n",
    "uz = flux_mag_u - flux_mag_z\n",
    "features= np.append(features, uz)\n",
    "u_x = object_table['u_y'] - object_table['u_x'] \n",
    "g_x = object_table['g_y'] - object_table['g_x']\n",
    "i_x = object_table['i_y'] - object_table['i_x']\n",
    "z_x = object_table['z_y'] - object_table['z_x']\n",
    "features= np.append(features, u_x)\n",
    "features= np.append(features, g_x)\n",
    "features= np.append(features, i_x)\n",
    "features= np.append(features, z_x)\n",
    "features = features.reshape(5, len(u_x)).transpose()\n",
    "# sdss\n",
    "u_sdss = sdss_table['u_flux']\n",
    "z_sdss = sdss_table['z_flux']\n",
    "sdss_features = np.array([])\n",
    "flux_mag_u_sdss = desc.slrealizer.return_zeropoint()-2.5*np.log10(u_sdss)\n",
    "flux_mag_z_sdss = desc.slrealizer.return_zeropoint()-2.5*np.log10(z_sdss)\n",
    "uz_sdss = flux_mag_u_sdss - flux_mag_r_sdss\n",
    "sdss_features= np.append(sdss_features, uz_sdss)\n",
    "u_x_sdss = sdss_table['u_y'] - sdss_table['u_x']\n",
    "g_x_sdss = sdss_table['g_y'] - sdss_table['g_x']\n",
    "i_x_sdss = sdss_table['i_y'] - sdss_table['i_x']\n",
    "z_x_sdss = sdss_table['z_y'] - sdss_table['z_x']\n",
    "sdss_features= np.append(sdss_features, u_x_sdss)\n",
    "sdss_features= np.append(sdss_features, g_x_sdss)\n",
    "sdss_features= np.append(sdss_features, i_x_sdss)\n",
    "sdss_features= np.append(sdss_features, z_x_sdss)\n",
    "sdss_features = sdss_features.reshape(5, len(u_x_sdss)).transpose()\n",
    "\n",
    "fig1 = realizer.generate_cornerplot(color='orange', option=option, \n",
    "                                    data=sdss_features, label=labels, normed=True)\n",
    "fig = realizer.generate_cornerplot(color='purple', option=option, overlap=fig1, \n",
    "                                   data=features, label=labels, normed=True)"
   ]
  },
  {
   "cell_type": "code",
   "execution_count": null,
   "metadata": {},
   "outputs": [],
   "source": [
    "#### Sum of e vs (y first moment - x first moment)"
   ]
  },
  {
   "cell_type": "code",
   "execution_count": null,
   "metadata": {},
   "outputs": [],
   "source": [
    "np.set_printoptions(threshold=numpy.nan)\n",
    "option = ['custom']\n",
    "labels = ['$ \\Delta e_{u-z}$', '$ \\Delta \\phi_{u-z} (deg) $', '$u-z (mag)$', '$\\Delta x_{u-z} (arcsec) $', '$\\Delta size_{u-z} (arcsec)$', '$\\Delta \\omega_{u-z}$']\n",
    "features = np.array([])\n",
    "u_e = object_table['u_e']\n",
    "z_e = object_table['z_e']\n",
    "u_phi = object_table['u_phi']\n",
    "z_phi = object_table['z_phi']\n",
    "delta_e = u_e - z_e\n",
    "delta_phi = (object_table['u_phi']-object_table['z_phi'])\n",
    "u = desc.slrealizer.return_zeropoint()-2.5*np.log10(object_table['u_flux'])\n",
    "z = desc.slrealizer.return_zeropoint()-2.5*np.log10(object_table['z_flux'])\n",
    "u_z = u - z\n",
    "u_x = object_table['u_x'] - object_table['r_x']\n",
    "u_y = object_table['u_y'] - object_table['r_y']\n",
    "u_e1 = object_table['u_e1']\n",
    "u_e2 = object_table['u_e2']\n",
    "u_ex = u_x* (u_e1*np.cos(u_phi) - u_e2*np.sin(u_phi))\n",
    "u_ey = u_y* (u_e1*np.sin(u_phi) + u_e2*np.cos(u_phi))\n",
    "z_x = object_table['z_x'] - object_table['r_x']\n",
    "z_y = object_table['z_y'] - object_table['r_y']\n",
    "z_e1 = object_table['z_e1']\n",
    "z_e2 = object_table['z_e2']\n",
    "z_ex = z_x * (z_e1*np.cos(z_phi) - z_e2*np.sin(z_phi))\n",
    "z_ey = z_y * (z_e1*np.cos(z_phi) - z_e2*np.sin(z_phi))\n",
    "pos_mod_u = np.sqrt(u_x*u_x + u_y*u_y)\n",
    "pos_mod_z = np.sqrt(z_x*z_x + z_y*z_y)\n",
    "delta_x = np.sqrt((u_x - z_x) * (u_x - z_x) + (u_y - z_y) * (u_y - z_y))\n",
    "delta_size = object_table['u_size']-object_table['z_size']\n",
    "\n",
    "u_omega = (u_ex+u_ey)/(u_e*pos_mod_u)\n",
    "z_omega = (z_ex+z_ey)/(z_e*pos_mod_z)\n",
    "\n",
    "diff_x = u_x - z_x\n",
    "diff_y = u_y - z_y\n",
    "pos_mod_diff = np.sqrt(diff_x * diff_x + diff_y * diff_y)\n",
    "\n",
    "omega_u_num = u_x*u_e*np.cos(2*u_phi) + u_x*u_e*np.sqrt(2)/2*np.sin(2*u_phi) + np.sqrt(2)/2 * u_y * u_e * np.sin(2*u_phi)\n",
    "omega_u_den = pos_mod_u * u_e *10\n",
    "omag_u = omega_u_num / omega_u_den\n",
    "\n",
    "omega_z_num = z_x*z_e*np.cos(2*z_phi) + z_x*z_e*np.sqrt(2)/2*np.sin(2*z_phi) + np.sqrt(2)/2 *z_y * z_e * np.sin(2*z_phi)\n",
    "omega_z_den = pos_mod_z * z_e * 10\n",
    "omag_z = omega_z_num / omega_z_den\n",
    "\n",
    "delta_omega = omag_u-omag_z\n",
    "\n",
    "delta_phi = delta_phi*57.2958\n",
    "\n",
    "features = np.append(features, delta_e)\n",
    "features = np.append(features, delta_phi)\n",
    "features = np.append(features, u_z)\n",
    "features = np.append(features, delta_x)\n",
    "features = np.append(features, delta_size)\n",
    "features = np.append(features, delta_omega)\n",
    "features = features.reshape(6, len(u_x)).transpose()\n",
    "\n",
    "# start with sdss\n",
    "\n",
    "sdss_features = np.array([])\n",
    "u_e = sdss_table['u_e']\n",
    "z_e = sdss_table['z_e']\n",
    "u_phi = sdss_table['u_phi']\n",
    "z_phi = sdss_table['z_phi']\n",
    "delta_e = u_e - z_e\n",
    "delta_phi = (sdss_table['u_phi']-sdss_table['z_phi'])\n",
    "u = desc.slrealizer.return_zeropoint()-2.5*np.log10(sdss_table['u_flux'])\n",
    "z = desc.slrealizer.return_zeropoint()-2.5*np.log10(sdss_table['z_flux'])\n",
    "u_z = u - z\n",
    "u_x = sdss_table['u_x'] - sdss_table['r_x']\n",
    "u_y = sdss_table['u_y'] - sdss_table['r_y']\n",
    "u_e1 = sdss_table['u_e1']\n",
    "u_e2 = sdss_table['u_e2']\n",
    "u_ex = u_x* (u_e1*np.cos(u_phi) - u_e2*np.sin(u_phi))\n",
    "u_ey = u_y* (u_e1*np.sin(u_phi) + u_e2*np.cos(u_phi))\n",
    "z_x = sdss_table['z_x'] - sdss_table['r_x']\n",
    "z_y = sdss_table['z_y'] - sdss_table['r_y']\n",
    "z_e1 = sdss_table['z_e1']\n",
    "z_e2 = sdss_table['z_e2']\n",
    "z_ex = z_x * (z_e1*np.cos(z_phi) - z_e2*np.sin(z_phi))\n",
    "z_ey = z_y * (z_e1*np.cos(z_phi) - z_e2*np.sin(z_phi))\n",
    "pos_mod_u = np.sqrt(u_x*u_x + u_y*u_y)\n",
    "pos_mod_z = np.sqrt(z_x*z_x + z_y*z_y)\n",
    "delta_x = np.sqrt((u_x - z_x) * (u_x - z_x) + (u_y - z_y) * (u_y - z_y))\n",
    "delta_size = sdss_table['u_size']-sdss_table['z_size']\n",
    "\n",
    "u_omega = (u_ex+u_ey)/(u_e*pos_mod_u)\n",
    "z_omega = (z_ex+z_ey)/(z_e*pos_mod_z)\n",
    "\n",
    "diff_x = u_x - z_x\n",
    "diff_y = u_y - z_y\n",
    "pos_mod_diff = np.sqrt(diff_x * diff_x + diff_y * diff_y)\n",
    "\n",
    "omega_u_num = u_x*u_e*np.cos(2*u_phi) + u_x*u_e*np.sqrt(2)/2*np.sin(2*u_phi) + np.sqrt(2)/2 * u_y * u_e * np.sin(2*u_phi)\n",
    "omega_u_den = pos_mod_u * u_e *10\n",
    "omag_u = omega_u_num / omega_u_den\n",
    "\n",
    "omega_z_num = z_x*z_e*np.cos(2*z_phi) + z_x*z_e*np.sqrt(2)/2*np.sin(2*z_phi) + np.sqrt(2)/2 *z_y * z_e * np.sin(2*z_phi)\n",
    "omega_z_den = pos_mod_z * z_e * 10\n",
    "omag_z = omega_z_num / omega_z_den\n",
    "\n",
    "delta_omega = omag_u-omag_z\n",
    "\n",
    "delta_phi = delta_phi*57.2958\n",
    "\n",
    "sdss_features = np.append(sdss_features, delta_e)\n",
    "sdss_features = np.append(sdss_features, delta_phi)\n",
    "sdss_features = np.append(sdss_features, u_z)\n",
    "sdss_features = np.append(sdss_features, delta_x)\n",
    "sdss_features = np.append(sdss_features, delta_size)\n",
    "sdss_features = np.append(sdss_features, delta_omega)\n",
    "sdss_features = sdss_features.reshape(6, len(u_x)).transpose()\n",
    "\n",
    "fig1 = realizer.generate_cornerplot(color='#cdcfd3', option=option, \n",
    "                                    data=sdss_features, label=labels, range=[(-1, 1), (-90, 90), (-2, 10), (0, 1.8), (-12, 3.5), (-0.5, 0.5)], normed=True)\n",
    "\n",
    "fig = realizer.generate_cornerplot(color='#aa4b40', option=option,\n",
    "                                   data=features, overlap=fig1, label=labels, range=[(-1, 1), (-90, 90), (-2, 10), (0, 1.8), (-12, 3.5), (-0.5, 0.5)], normed=True)"
   ]
  },
  {
   "cell_type": "code",
   "execution_count": null,
   "metadata": {},
   "outputs": [],
   "source": [
    "u_e = object_table['u_e']\n",
    "u_phi = object_table['u_phi']\n",
    "# check units - should be radian\n",
    "omega_u_num = (object_table['u_x']*u_e*np.cos(2*u_phi))+np.sqrt(2)*(object_table['u_x']*u_e*np.cos(2*u_phi))/2+(object_table['u_y']*u_e*np.sin(2*u_phi))\n",
    "omega_u_den = np.multiply(np.sqrt(np.power(object_table['u_x'] - object_table['r_x'], 2)+np.power(object_table['u_y'] - object_table['r_y'], 2)), u_e)\n",
    "omag_u = omega_u_num / omega_u_den\n",
    "\n",
    "z_e = object_table['z_e']\n",
    "z_phi = object_table['u_phi']\n",
    "# check units - should be radian\n",
    "omega_z_num = (object_table['z_x']*z_e*np.cos(2*z_phi))+np.sqrt(2)*(object_table['z_x']*z_e*np.cos(2*z_phi))/2+(object_table['z_y']*z_e*np.sin(2*z_phi))\n",
    "omega_z_den = np.multiply(np.sqrt(np.power(object_table['z_x'] - object_table['r_x'], 2)+np.power(object_table['z_y'] - object_table['r_y'], 2)), z_e)\n",
    "omag_z = omega_z_num / omega_z_den\n",
    "\n",
    "u_e = sdss_table['u_e']\n",
    "u_phi = sdss_table['u_phi']\n",
    "# check units - should be radian\n",
    "omega_u_num = (sdss_table['u_x']*u_e*np.cos(2*u_phi))+np.sqrt(2)*(sdss_table['u_x']*u_e*np.cos(2*u_phi))/2+(sdss_table['u_y']*u_e*np.sin(2*u_phi))\n",
    "omega_u_den = np.multiply(np.sqrt(np.power(sdss_table['u_x'] - sdss_table['r_x'], 2)+np.power(sdss_table['u_y'] - sdss_table['r_y'], 2)), u_e)\n",
    "omag_u = omega_u_num / omega_u_den\n",
    "#print('sdss_omega_num: ', omega_u_num)\n",
    "#print('sdss_omega_den: ', omega_u_den)\n",
    "#print('sdss_omega_u: ', omag_u)\n",
    "\n",
    "\n",
    "z_e = sdss_table['z_e']\n",
    "z_phi = sdss_table['u_phi']\n",
    "# check units - should be radian\n",
    "omega_z_num = (sdss_table['z_x']*z_e*np.cos(2*z_phi))+np.sqrt(2)*(sdss_table['z_x']*z_e*np.cos(2*z_phi))/2+(sdss_table['z_y']*z_e*np.sin(2*z_phi))\n",
    "omega_z_den = np.multiply(np.sqrt(np.power(sdss_table['z_x'] - sdss_table['r_x'], 2)+np.power(sdss_table['z_y'] - sdss_table['r_y'], 2)), z_e)\n",
    "omag_z = omega_z_num / omega_z_den"
   ]
  },
  {
   "cell_type": "code",
   "execution_count": null,
   "metadata": {},
   "outputs": [],
   "source": [
    "option = ['custom']\n",
    "labels = ['$usize$', '$zsize$']\n",
    "features = np.array([])\n",
    "u = object_table['u_size']\n",
    "z = object_table['z_size']\n",
    "features= np.append(features, u)\n",
    "features= np.append(features, z)\n",
    "features = features.reshape(2, len(uz)).transpose()\n",
    "# sdss\n",
    "#u_sdss = np.sqrt(sdss_table['u_size']*0.396/np.pi)*2\n",
    "#z_sdss = np.sqrt(sdss_table['z_size']*0.396/np.pi)*2 # pixel\n",
    "u_sdss = sdss_table['u_size']\n",
    "z_sdss = sdss_table['z_size']\n",
    "sdss_features = np.array([])\n",
    "sdss_features= np.append(sdss_features, u_sdss)\n",
    "sdss_features= np.append(sdss_features, z_sdss)\n",
    "sdss_features = sdss_features.reshape(2, len(uz_sdss)).transpose()\n",
    "\n",
    "\n",
    "\n",
    "fig1 = realizer.generate_cornerplot(color='orange', option=option, \n",
    "                                    data=sdss_features, label=labels, range=[(0,2), (0,2)], normed=True)\n",
    "fig = realizer.generate_cornerplot(color='purple', option=option, overlap=fig1, \n",
    "                                   data=features, label=labels,  range=[(0,2), (0,2)], normed=True)"
   ]
  },
  {
   "cell_type": "code",
   "execution_count": null,
   "metadata": {},
   "outputs": [],
   "source": [
    "plt.hist(z_sdss)\n",
    "print(z_sdss)"
   ]
  },
  {
   "cell_type": "code",
   "execution_count": null,
   "metadata": {},
   "outputs": [],
   "source": []
  }
 ],
 "metadata": {
  "anaconda-cloud": {},
  "kernelspec": {
   "display_name": "Python 2",
   "language": "python",
   "name": "python2"
  },
  "language_info": {
   "codemirror_mode": {
    "name": "ipython",
    "version": 2
   },
   "file_extension": ".py",
   "mimetype": "text/x-python",
   "name": "python",
   "nbconvert_exporter": "python",
   "pygments_lexer": "ipython2",
   "version": "2.7.12"
  }
 },
 "nbformat": 4,
 "nbformat_minor": 1
}
