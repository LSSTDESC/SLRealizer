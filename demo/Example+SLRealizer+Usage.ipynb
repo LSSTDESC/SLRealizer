{
 "cells": [
  {
   "cell_type": "code",
   "execution_count": null,
   "metadata": {},
   "outputs": [],
   "source": [
    "from __future__ import absolute_import\n",
    "from __future__ import division\n",
    "from __future__ import print_function\n",
    "\n",
    "import os, sys\n",
    "import pandas as pd\n",
    "import numpy as np\n",
    "realizer_path = os.path.join(os.environ['SLREALIZERDIR'], 'slrealizer')\n",
    "sys.path.insert(0, realizer_path)"
   ]
  },
  {
   "cell_type": "markdown",
   "metadata": {},
   "source": [
    "# How to interface with SLRealizer\n",
    "\n",
    "Author: Ji Won Park (jiwoncpark)\n",
    "\n",
    "This notebook demonstrates how to create an SLRealizer instance and use its methods to emulate the LSST DRP Source and Object catalogs (\"source and object tables\"). We will use the OM10Realizer subclass to realize lensed quasar systems from OM10 (Oguri and Marshall 2010) and the SDSS subclass to realize galaxies from SDSS DR14 (Abolfathi et al. 2018).\n",
    "\n",
    "To use SLRealizer, we need two types of catalogs: one defining the static properties of objects such as size and flux (\"object catalog\") and another defining the observation conditions such as atmospheric seeing and the cadence schedule (\"observation catalog\"). The subclasses of SLRealizer are named after the object catalog; OM10Realizer realizes objects in the OM10 mock quasar catalog and SDSSRealizer realizes objects in SDSS data release products.\n",
    "\n",
    "We will use the same observation catalog in our realization of lenses and non-lenses. Called `minion_1016`, this is the current official Reference Simulated Survey for the LSST. Let's begin by defining the path to our observation catalog."
   ]
  },
  {
   "cell_type": "code",
   "execution_count": null,
   "metadata": {},
   "outputs": [],
   "source": [
    "# This is the directory where all our data files will be stored.\n",
    "data_dir = os.path.join(os.environ['SLREALIZERDIR'], 'data')\n",
    "# Observation catalog filename\n",
    "observation_fname = os.path.join(data_dir, 'twinkles_observation_history.csv')\n",
    "# Observation catalog dataframe\n",
    "observation_df = pd.read_csv(observation_fname).query(\"(filter != 'y')\").reset_index(drop=True)"
   ]
  },
  {
   "cell_type": "markdown",
   "metadata": {},
   "source": [
    "Note I have queried out entries with the y-band; this is simply because the SDSS does not have a y-band!"
   ]
  },
  {
   "cell_type": "markdown",
   "metadata": {},
   "source": [
    "## 1. Realizing lensed quasar systems with OM10Realizer"
   ]
  },
  {
   "cell_type": "markdown",
   "metadata": {},
   "source": [
    "We first define the paths for the output source and object tables."
   ]
  },
  {
   "cell_type": "code",
   "execution_count": null,
   "metadata": {},
   "outputs": [],
   "source": [
    "output_lens_source_path = os.path.join(data_dir, 'lens_source_table.csv')\n",
    "output_lens_object_path = os.path.join(data_dir, 'lens_object_table.csv')"
   ]
  },
  {
   "cell_type": "markdown",
   "metadata": {},
   "source": [
    "We then use OM10's native interface instead of Pandas to read in the OM10 catalog. "
   ]
  },
  {
   "cell_type": "code",
   "execution_count": null,
   "metadata": {},
   "outputs": [],
   "source": [
    "from om10 import DB\n",
    "\n",
    "# OM10 catalog filename\n",
    "om10_fname = os.path.join(data_dir, 'qso_mock.fits')\n",
    "# OM10's DB object\n",
    "om10_db = DB(catalog=om10_fname)\n",
    "# Selection to simulate LSST conditions\n",
    "om10_db.select_random(maglim=23.3, area=1.e2, IQ=0.75)\n",
    "# Giving colors using a framework called LensPop (Collett 2015)\n",
    "om10_db.paint(synthetic=True)"
   ]
  },
  {
   "cell_type": "markdown",
   "metadata": {},
   "source": [
    "More about the selection line: `maglim` is the magnitude of the third brightest quasar image in the lens system. Note that, when querying a catalog of blended objects, we can only select on the total magnitude of the system (all the quasar images and the lens galaxy) so we need to be inclusive with the `maglim` selection here and then apply cuts later as necessary. `IQ` is the survey image quality. `area` refers to the total survey area, but entering a number above 1.e5 sq. ft. allows us to get all the lenses that meet our `maglim` and `IQ` criteria. We advise keeping the area small, say 100.0, if you just want to see that the cell runs!\n",
    "\n",
    "Now we're ready to instantiate OM10Realizer."
   ]
  },
  {
   "cell_type": "code",
   "execution_count": null,
   "metadata": {},
   "outputs": [],
   "source": [
    "from realize_om10 import OM10Realizer\n",
    "\n",
    "# OM10 instance\n",
    "om10realizer = OM10Realizer(observation=observation_df,\n",
    "                        catalog=om10_db, \n",
    "                        debug=False, add_moment_noise=True, add_flux_noise=True)"
   ]
  },
  {
   "cell_type": "markdown",
   "metadata": {},
   "source": [
    "The `debug` mode simply returns more objects and is more verbose. The two noise-related keywords `add_moment_noise` and `add_flux_noise` ask whether you want to add random noise to the output catalog, and are passed into the constructor because they are a source of randomness (which you might not want when debugging).\n",
    "\n",
    "Finally, we can make our source and object tables. When making the source table, we can optionally choose to include the intrinsic quasar time variability. Note that object tables are generated by time-averaging the source table for each filter, so the `make_object_table` requires a source table as input."
   ]
  },
  {
   "cell_type": "code",
   "execution_count": null,
   "metadata": {},
   "outputs": [],
   "source": [
    "import warnings; warnings.simplefilter('ignore')\n",
    "\n",
    "# Make source table\n",
    "om10realizer.make_source_table_vectorized(output_source_path=output_lens_source_path,\n",
    "                                          include_time_variability=True)\n",
    "# Make object table from the source table just made\n",
    "om10realizer.make_object_table(include_std=False,\n",
    "                               source_table_path=output_lens_source_path,\n",
    "                               object_table_path=output_lens_object_path)"
   ]
  },
  {
   "cell_type": "markdown",
   "metadata": {},
   "source": [
    "## 2. Realizing non-lenses with SDSSRealizer"
   ]
  },
  {
   "cell_type": "markdown",
   "metadata": {},
   "source": [
    "The steps for realizing non-lenses are similar! Let's define the output catalog paths."
   ]
  },
  {
   "cell_type": "code",
   "execution_count": null,
   "metadata": {},
   "outputs": [],
   "source": [
    "output_nonlens_source_path = os.path.join(data_dir, 'nonlens_source_table.csv')\n",
    "output_nonlens_object_path = os.path.join(data_dir, 'nonlens_object_table.csv')"
   ]
  },
  {
   "cell_type": "markdown",
   "metadata": {},
   "source": [
    "We read in the object catalog using Pandas. You might want to sample a small number of objects (say, 20) if you just want to see that the cells run."
   ]
  },
  {
   "cell_type": "code",
   "execution_count": null,
   "metadata": {},
   "outputs": [],
   "source": [
    "# SDSS catalog filename\n",
    "sdss_fname = os.path.join(data_dir, 'sdss_processed.csv')\n",
    "# SDSS catalog dataframe\n",
    "sdss_df = pd.read_csv(sdss_fname).sample(20, random_state=123).reset_index(drop=True)"
   ]
  },
  {
   "cell_type": "markdown",
   "metadata": {},
   "source": [
    "As above, we instantiate SDSSRealizer and make the source and object tables. Note that, since SDSS objects are not lenses, there is no option to add intrinsic variability."
   ]
  },
  {
   "cell_type": "code",
   "execution_count": null,
   "metadata": {},
   "outputs": [],
   "source": [
    "from realize_sdss import SDSSRealizer\n",
    "\n",
    "sdssrealizer = SDSSRealizer(observation=observation_df, \n",
    "                            catalog=sdss_df, \n",
    "                            debug=False, add_moment_noise=True, add_flux_noise=True)\n",
    "\n",
    "sdssrealizer.make_source_table_vectorized(save_path=output_nonlens_source_path)\n",
    "sdssrealizer.make_object_table(include_std=True,\n",
    "                               source_table_path=output_nonlens_source_path,\n",
    "                               object_table_path=output_nonlens_object_path)"
   ]
  },
  {
   "cell_type": "code",
   "execution_count": null,
   "metadata": {},
   "outputs": [],
   "source": []
  }
 ],
 "metadata": {
  "kernelspec": {
   "display_name": "Python 2",
   "language": "python",
   "name": "python2"
  },
  "language_info": {
   "codemirror_mode": {
    "name": "ipython",
    "version": 2
   },
   "file_extension": ".py",
   "mimetype": "text/x-python",
   "name": "python",
   "nbconvert_exporter": "python",
   "pygments_lexer": "ipython2",
   "version": "2.7.12"
  }
 },
 "nbformat": 4,
 "nbformat_minor": 2
}
