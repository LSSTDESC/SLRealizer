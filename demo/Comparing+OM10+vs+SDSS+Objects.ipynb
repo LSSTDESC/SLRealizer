{
 "cells": [
  {
   "cell_type": "markdown",
   "metadata": {},
   "source": [
    "# Comparison of various properties between SDSS and OM10 objects\n",
    "\n",
    "Authors: Jenny Kim (jennykim1016), Ji Won Park (jiwoncpark)"
   ]
  },
  {
   "cell_type": "markdown",
   "metadata": {
    "collapsed": true
   },
   "source": [
    "In this notebook, we draw cornerplots of various features, such as size and ellipticities, for both the lenses (OM10 objects) and non-lenses (SDSS objects). This will allow us to compare the distribution of the features and ensure that the lens vs. non-lens classification task is not too easy."
   ]
  },
  {
   "cell_type": "code",
   "execution_count": null,
   "metadata": {
    "scrolled": true
   },
   "outputs": [],
   "source": [
    "%%capture \n",
    "# ^ To hide a long warning passage from lenspop\n",
    "from __future__ import print_function\n",
    "#from astropy.table import Table, hstack\n",
    "import numpy as np\n",
    "import pandas as pd\n",
    "#np.set_printoptions(threshold=np.nan)\n",
    "import corner\n",
    "import matplotlib.pyplot as plt\n",
    "import os, sys\n",
    "realizer_path = os.path.join(os.environ['SLREALIZERDIR'], 'slrealizer')\n",
    "sys.path.insert(0, realizer_path)\n",
    "#from realize_om10 import OM10Realizer\n",
    "#import astropy.io.fits as pyfits\n",
    "#import desc.slrealizer\n",
    "#import warnings\n",
    "#warnings.filterwarnings(\"ignore\")\n",
    "%matplotlib inline\n",
    "%load_ext autoreload\n",
    "%autoreload 2"
   ]
  },
  {
   "cell_type": "code",
   "execution_count": null,
   "metadata": {},
   "outputs": [],
   "source": [
    "data_path = os.path.join(os.environ['SLREALIZERDIR'], 'data')\n",
    "\n",
    "lens_object_f = os.path.join(data_path, 'lens_object_table.csv')\n",
    "nonlens_object_f = os.path.join(data_path, 'nonlens_object_table.csv')\n",
    "\n",
    "lens_obj = pd.read_csv(lens_object_f)\n",
    "num_data = len(lens_obj)\n",
    "print(num_data)\n",
    "nonlens_obj = pd.read_csv(nonlens_object_f).sample(num_data, random_state=123).reset_index(drop=True)\n",
    "# query('(mRrCc_u < 4.55) & (mRrCc_ < 4.10) & (r_trace < 3.9) & (i_trace < 3.8) & (z_trace < 3.4)')\n",
    "assert len(lens_obj) == len(nonlens_obj)\n",
    "nonlens_obj = pd.read_csv(nonlens_object_f)"
   ]
  },
  {
   "cell_type": "markdown",
   "metadata": {},
   "source": [
    "In this dictionary, we will save all the figures of cornerplots we generate."
   ]
  },
  {
   "cell_type": "code",
   "execution_count": null,
   "metadata": {},
   "outputs": [],
   "source": [
    "fig_dict = {}"
   ]
  },
  {
   "cell_type": "code",
   "execution_count": null,
   "metadata": {},
   "outputs": [],
   "source": [
    "def draw_cornerplot(attribute_list, df, units='arcsec', fig=None, color='black'):\n",
    "    num_attributes = len(attribute_list)\n",
    "    num_data = len(df)\n",
    "    labels = [a + ' / ' + units for a in attribute_list]\n",
    "    data = df[attribute_list][:].values.reshape(-1, num_attributes)\n",
    "    plot = corner.corner(data, \n",
    "                        color=color, \n",
    "                        smooth=1.0, \n",
    "                        #show_titles=True,\n",
    "                        labels=labels,\n",
    "                        fill_contours=True,\n",
    "                        bins=50,\n",
    "                        fig=fig,\n",
    "                        range=[0.999]*num_attributes,\n",
    "                        hist_kwargs=dict(normed=True, ))\n",
    "    return plot"
   ]
  },
  {
   "cell_type": "markdown",
   "metadata": {},
   "source": [
    "### 1. Size"
   ]
  },
  {
   "cell_type": "markdown",
   "metadata": {},
   "source": [
    "With our initial sample of lenses and nonlenses, the lenses seem to be smaller than non-lenses. The trace of lenses also showed a much smaller spread than that of non-lenses. As far as the lens vs. non-lens classification was concerned, we had to query non-lenses to have similar size as the lenses, as we did not want the size to be the distinguishing feature."
   ]
  },
  {
   "cell_type": "code",
   "execution_count": null,
   "metadata": {
    "scrolled": true
   },
   "outputs": [],
   "source": [
    "lens_obj.columns"
   ]
  },
  {
   "cell_type": "code",
   "execution_count": null,
   "metadata": {},
   "outputs": [],
   "source": [
    "for df in [lens_obj, nonlens_obj]:\n",
    "    for b in 'gz':\n",
    "        df[b + '_apMag'][~np.isfinite(df[b + '_apMag'])] = 100.0\n",
    "        #df[b + '_mag-std'] = from_flux_to_mag(df[b + '_apFluxErr'], from_unit='nMgy')\n",
    "        #df[b + '_posmod'] = np.power(np.power(df[b + '_x'], 2.0) + np.power(df[b + '_y'], 2.0), 0.5)\n",
    "        #df[b + '_omega'] = (df[b + '_e1']*df[b + '_x'] + df[b + '_e2']*df[b + '_y'])/(df[b + '_e']*df[b + '_posmod'])\n",
    "    df['delta_pos'] = np.hypot(df['g_x']-df['z_x'], df['g_y']-df['z_y'])"
   ]
  },
  {
   "cell_type": "code",
   "execution_count": null,
   "metadata": {},
   "outputs": [],
   "source": [
    "for df in [lens_obj, nonlens_obj]:\n",
    "    \n",
    "    df['delta_apMag-std'] = df['g_apMag-std'] - df['z_apMag-std']\n",
    "    df['delta_size-std'] = df['g_trace-std'] - df['z_trace-std']\n",
    "    df['delta_e-std'] = df['g_e-std'] - df['z_e-std']\n",
    "    df['delta_phi-std'] = df['g_phi-std'] - df['z_phi-std']\n",
    "    df['delta_pos-std'] = df['g_x-std']-df['z_x-std']"
   ]
  },
  {
   "cell_type": "code",
   "execution_count": null,
   "metadata": {
    "scrolled": true
   },
   "outputs": [],
   "source": [
    "alist = []\n",
    "\n",
    "for a in ['_size-std',  '_apMag-std', '_e-std', '_phi-std', '_pos-std', ]:\n",
    "        alist.append('delta' + a)"
   ]
  },
  {
   "cell_type": "code",
   "execution_count": null,
   "metadata": {},
   "outputs": [],
   "source": [
    "#feature, units = 'trace', 'arcsec^2'\n",
    "a = alist\n",
    "fig_dict['lens_' + 'object'] = draw_cornerplot(a, lens_obj, units='', color='blue')\n",
    "fig_dict['nonlens_' + 'object'] = draw_cornerplot(a, nonlens_obj, fig=fig_dict['lens_' + 'object'], units='', color='red')"
   ]
  },
  {
   "cell_type": "code",
   "execution_count": null,
   "metadata": {},
   "outputs": [],
   "source": [
    "#feature, units = 'trace', 'arcsec^2'\n",
    "a = alist\n",
    "fig_dict['lens_' + 'object'] = draw_cornerplot(a, lens_obj, units='', color='blue')\n",
    "fig_dict['nonlens_' + 'object'] = draw_cornerplot(a, nonlens_obj, fig=fig_dict['lens_' + 'object'], units='', color='red')"
   ]
  },
  {
   "cell_type": "code",
   "execution_count": null,
   "metadata": {
    "scrolled": true
   },
   "outputs": [],
   "source": [
    "#feature, units = 'trace', 'arcsec^2'\n",
    "a = alist\n",
    "fig_dict['lens_' + 'object'] = draw_cornerplot(a, lens_obj, units='', color='blue')\n",
    "fig_dict['nonlens_' + 'object'] = draw_cornerplot(a, nonlens_obj, fig=fig_dict['lens_' + 'object'], units='', color='red')"
   ]
  },
  {
   "cell_type": "code",
   "execution_count": null,
   "metadata": {},
   "outputs": [],
   "source": [
    "alist = []\n",
    "for b in 'gz':\n",
    "    for a in ['_trace-std',  '_apMag-std','_x', '_y',  '_e',  '_phi']:\n",
    "        alist.append(b + a)"
   ]
  },
  {
   "cell_type": "code",
   "execution_count": null,
   "metadata": {
    "scrolled": false
   },
   "outputs": [],
   "source": [
    "feature, units = 'trace', 'arcsec^2'\n",
    "a = [b + '_' + feature for b in 'ugriz']\n",
    "fig_dict['lens_' + feature] = draw_cornerplot(a, lens_obj, units=units, color='blue')\n",
    "fig_dict['nonlens_' + feature] = draw_cornerplot(a, nonlens_obj, fig=fig_dict['lens_' + feature], units=units, color='red')"
   ]
  },
  {
   "cell_type": "markdown",
   "metadata": {},
   "source": [
    "We've queried non-lenses to have u-band trace below the maximum lens u-band trace."
   ]
  },
  {
   "cell_type": "code",
   "execution_count": null,
   "metadata": {},
   "outputs": [],
   "source": [
    "for b in 'ugriz':\n",
    "    print(np.max(lens_obj['%s_trace' %b].values), np.max(nonlens_obj['%s_trace' %b].values))\n",
    "    #print(np.min(lens_obj['%s_trace' %b].values), np.min(nonlens_obj['%s_trace' %b].values))\n",
    "    #print(np.mean(lens_obj['%s_trace' %b].values), np.mean(nonlens_obj['%s_trace' %b].values))\n"
   ]
  },
  {
   "cell_type": "markdown",
   "metadata": {},
   "source": [
    "### 2. First moment\n",
    "\n",
    "Technically, it wouldn't be right to refer to the quantities 'x' and 'y' as the first moments. They are offsets given as separations (in arcseconds) of the image in each band from the centroid of the r-band image. The r-band \"first moments\" are all zero, so it wouldn't make sense to include the r band in the cornerplot! "
   ]
  },
  {
   "cell_type": "markdown",
   "metadata": {},
   "source": [
    "### 2.1 First moment along the x axis"
   ]
  },
  {
   "cell_type": "code",
   "execution_count": null,
   "metadata": {},
   "outputs": [],
   "source": [
    "feature, units = 'x', 'arcsec'\n",
    "a = [b + '_' + feature for b in 'ugiz']\n",
    "fig_dict['lens_' + feature] = draw_cornerplot(a, lens_obj, units=units, color='blue')\n",
    "fig_dict['nonlens_' + feature] = draw_cornerplot(a, nonlens_obj, fig=fig_dict['lens_' + feature], units=units, color='red')"
   ]
  },
  {
   "cell_type": "markdown",
   "metadata": {},
   "source": [
    "### 2.1 First moment along the y axis"
   ]
  },
  {
   "cell_type": "code",
   "execution_count": null,
   "metadata": {},
   "outputs": [],
   "source": [
    "feature, units = 'y', 'arcsec'\n",
    "a = [b + '_' + feature for b in 'ugiz']\n",
    "fig_dict['lens_' + feature] = draw_cornerplot(a, lens_obj, units=units, color='blue')\n",
    "fig_dict['nonlens_' + feature] = draw_cornerplot(a, nonlens_obj, fig=fig_dict['lens_' + feature], units=units, color='red')"
   ]
  },
  {
   "cell_type": "markdown",
   "metadata": {},
   "source": [
    "### 3. Ellipticities"
   ]
  },
  {
   "cell_type": "markdown",
   "metadata": {},
   "source": [
    "The ellipcities $e_1$ and $e_2$ are defined as follows:\n",
    "\n",
    "$e1 = (Qxx-Qyy)/(Qxx+Qyy)$\n",
    "\n",
    "$e2 = 2*Qxy/(Qxx+Qyy)$\n",
    "\n",
    "where $Q$ is the matrix of second moments."
   ]
  },
  {
   "cell_type": "code",
   "execution_count": null,
   "metadata": {
    "scrolled": false
   },
   "outputs": [],
   "source": [
    "feature, units = 'e1', 'no unit'\n",
    "a = [b + '_' + feature for b in 'ugiz']\n",
    "fig_dict['lens_' + feature] = draw_cornerplot(a, lens_obj, units=units, color='blue')\n",
    "fig_dict['nonlens_' + feature] = draw_cornerplot(a, nonlens_obj, fig=fig_dict['lens_' + feature], units=units, color='red')"
   ]
  },
  {
   "cell_type": "code",
   "execution_count": null,
   "metadata": {},
   "outputs": [],
   "source": [
    "feature, units = 'e2', 'no unit'\n",
    "a = [b + '_' + feature for b in 'ugiz']\n",
    "fig_dict['lens_' + feature] = draw_cornerplot(a, lens_obj, units=units, color='blue')\n",
    "fig_dict['nonlens_' + feature] = draw_cornerplot(a, nonlens_obj, fig=fig_dict['lens_' + feature], units=units, color='red')"
   ]
  },
  {
   "cell_type": "markdown",
   "metadata": {},
   "source": [
    "### 4. Flux"
   ]
  },
  {
   "cell_type": "markdown",
   "metadata": {},
   "source": [
    "The distributions had different patterns, but the peaks overlapped with each other. Still, there were significant numbers of OM10 lensed systems that were seperated from SDSS samples."
   ]
  },
  {
   "cell_type": "code",
   "execution_count": null,
   "metadata": {
    "scrolled": false
   },
   "outputs": [],
   "source": [
    "feature, units = 'apFlux', 'nMgy'\n",
    "a = [b + '_' + feature for b in 'ugiz']\n",
    "fig_dict['lens_' + feature] = draw_cornerplot(a, lens_obj, units=units, color='blue')\n",
    "fig_dict['nonlens_' + feature] = draw_cornerplot(a, nonlens_obj, fig=fig_dict['lens_' + feature], units=units, color='red')"
   ]
  },
  {
   "cell_type": "markdown",
   "metadata": {},
   "source": [
    "### 5. Magnitude"
   ]
  },
  {
   "cell_type": "markdown",
   "metadata": {},
   "source": [
    "This cornerplot plots different magnitudes in different bands. In effect, this is the same as plotting the flux in log scale.\n",
    "\n",
    "We first compute the magnitudes from the fluxes."
   ]
  },
  {
   "cell_type": "code",
   "execution_count": null,
   "metadata": {
    "scrolled": true
   },
   "outputs": [],
   "source": [
    "from utils.utils import *\n",
    "\n",
    "for b in 'ugriz':\n",
    "    lens_obj[b + '_mag'] = from_flux_to_mag(lens_obj[b + '_apFlux'], from_unit='nMgy')\n",
    "    nonlens_obj[b + '_mag'] = from_flux_to_mag(nonlens_obj[b + '_apFlux'], from_unit='nMgy')"
   ]
  },
  {
   "cell_type": "code",
   "execution_count": null,
   "metadata": {},
   "outputs": [],
   "source": [
    "%%capture\n",
    "# Checking for numerical overflow values...\n",
    "for b in 'ugriz':\n",
    "    vals = lens_obj[b + '_mag']\n",
    "    print(\"lens in \", b)\n",
    "    print(\"min, max: \", np.min(vals), np.min(vals))\n",
    "    print(\"NaNs\", len(vals[~np.isfinite(vals)]))\n",
    "    if len(vals[~np.isfinite(vals)]) != 0:\n",
    "        lens_obj[b + '_mag'][~np.isfinite(lens_obj[b + '_mag'])] = 100.0\n",
    "    vals = nonlens_obj[b + '_mag']\n",
    "    print(\"nonlens in \", b)\n",
    "    print(\"min, max: \", np.min(vals), np.min(vals))\n",
    "    print(\"NaNs\", len(vals[~np.isfinite(vals)]))"
   ]
  },
  {
   "cell_type": "code",
   "execution_count": null,
   "metadata": {
    "scrolled": false
   },
   "outputs": [],
   "source": [
    "feature, units = 'mag', 'mag'\n",
    "a = [b + '_' + feature for b in 'ugriz']\n",
    "fig_dict['lens_' + feature] = draw_cornerplot(a, lens_obj, units=units, color='blue')\n",
    "fig_dict['nonlens_' + feature] = draw_cornerplot(a, nonlens_obj, fig=fig_dict['lens_' + feature], units=units, color='red')"
   ]
  },
  {
   "cell_type": "markdown",
   "metadata": {},
   "source": [
    "### 6. Hand-engineered features"
   ]
  },
  {
   "cell_type": "markdown",
   "metadata": {},
   "source": [
    "There are a few features worth looking at, such as color, that are not in the object table but can be computed from values in the object table."
   ]
  },
  {
   "cell_type": "markdown",
   "metadata": {},
   "source": [
    "### 6.1 Magnitude difference from z (u-z, g-z, r-z, i-z)"
   ]
  },
  {
   "cell_type": "code",
   "execution_count": null,
   "metadata": {},
   "outputs": [],
   "source": [
    "for b in 'ugri':\n",
    "    lens_obj[b + '_minus_z'] = lens_obj[b + '_mag'] - lens_obj['z_mag']\n",
    "    nonlens_obj[b + '_minus_z'] = nonlens_obj[b + '_mag'] - nonlens_obj['z_mag']"
   ]
  },
  {
   "cell_type": "code",
   "execution_count": null,
   "metadata": {},
   "outputs": [],
   "source": [
    "feature, units = 'minus_z', 'mag'\n",
    "a = [b + '_' + feature for b in 'ugri']\n",
    "fig_dict['lens_' + feature] = draw_cornerplot(a, lens_obj, units=units, color='blue')\n",
    "fig_dict['nonlens_' + feature] = draw_cornerplot(a, nonlens_obj, fig=fig_dict['lens_' + feature], units=units, color='red')"
   ]
  },
  {
   "cell_type": "markdown",
   "metadata": {},
   "source": [
    "The color seems to be the feature that differentiates between lenses and non-lenses the most! This makes sense because quasars tend to be blue (brighter in the smaller wavelengths). In the next few cells, we see that the magnitude difference from the r-band will work just as well as that from the z-band."
   ]
  },
  {
   "cell_type": "markdown",
   "metadata": {},
   "source": [
    "### 6.2 Magnitude difference from r (u-r, g-r, i-r, z-r)"
   ]
  },
  {
   "cell_type": "code",
   "execution_count": null,
   "metadata": {},
   "outputs": [],
   "source": [
    "for b in 'ugiz':\n",
    "    lens_obj[b + '_minus_r'] = lens_obj[b + '_mag'] - lens_obj['r_mag']\n",
    "    nonlens_obj[b + '_minus_r'] = nonlens_obj[b + '_mag'] - nonlens_obj['r_mag']"
   ]
  },
  {
   "cell_type": "code",
   "execution_count": null,
   "metadata": {},
   "outputs": [],
   "source": [
    "2feature, units = 'minus_r', 'mag'\n",
    "a = [b + '_' + feature for b in 'ugiz']\n",
    "fig_dict['lens_' + feature] = draw_cornerplot(a, lens_obj, units=units, color='blue')\n",
    "fig_dict['nonlens_' + feature] = draw_cornerplot(a, nonlens_obj, fig=fig_dict['lens_' + feature], units=units, color='red')"
   ]
  },
  {
   "cell_type": "markdown",
   "metadata": {},
   "source": [
    "### 6.3 Ellipticity measures $|e|$ and $\\phi$"
   ]
  },
  {
   "cell_type": "markdown",
   "metadata": {},
   "source": [
    "The $e_1$ and $e_2$ features in the object table are not very informative of the total \"degree of shear\", so we investigate the magnitude of the complex shear $|e|$ and the ellipticity angle $\\phi$. \n",
    "\n",
    "Quasar images are brighter in smaller wavelengths, effectively stretching the image of the lens system, so depending on the images' relative positions, we expect the ellipticity to be smaller in smaller wavelengths.\n",
    "\n",
    "We first perform the conversion from $e_1$ and $e_2$."
   ]
  },
  {
   "cell_type": "code",
   "execution_count": null,
   "metadata": {},
   "outputs": [],
   "source": [
    "for b in 'ugriz':\n",
    "    lens_obj[b + '_e'] = np.power(np.power(lens_obj[b + '_e1'], 2.0) + np.power(lens_obj[b + '_e2'], 2.0), 0.5)\n",
    "    nonlens_obj[b + '_e'] = np.power(np.power(nonlens_obj[b + '_e1'], 2.0) + np.power(nonlens_obj[b + '_e2'], 2.0), 0.5)\n",
    "    lens_obj[b + '_phi'] = np.arctan(lens_obj[b + '_e2']/lens_obj[b + '_e1'])\n",
    "    nonlens_obj[b + '_phi'] = np.arctan(nonlens_obj[b + '_e2']/nonlens_obj[b + '_e1'])"
   ]
  },
  {
   "cell_type": "code",
   "execution_count": null,
   "metadata": {},
   "outputs": [],
   "source": [
    "feature, units = 'e', 'no units'\n",
    "a = [b + '_' + feature for b in 'ugriz']\n",
    "fig_dict['lens_' + feature] = draw_cornerplot(a, lens_obj, units=units, color='blue')\n",
    "fig_dict['nonlens_' + feature] = draw_cornerplot(a, nonlens_obj, fig=fig_dict['lens_' + feature], units=units, color='red')"
   ]
  },
  {
   "cell_type": "markdown",
   "metadata": {},
   "source": [
    "The ellipticity angle distribution seems to be quite uniform."
   ]
  },
  {
   "cell_type": "code",
   "execution_count": null,
   "metadata": {},
   "outputs": [],
   "source": [
    "feature, units = 'phi', 'radians'\n",
    "a = [b + '_' + feature for b in 'ugriz']\n",
    "fig_dict['lens_' + feature] = draw_cornerplot(a, lens_obj, units=units, color='blue')\n",
    "fig_dict['nonlens_' + feature] = draw_cornerplot(a, nonlens_obj, fig=fig_dict['lens_' + feature], units=units, color='red')"
   ]
  },
  {
   "cell_type": "markdown",
   "metadata": {},
   "source": [
    "### 6.4 Ellipticity difference from z (u-z, g-z, r-z, i-z)"
   ]
  },
  {
   "cell_type": "markdown",
   "metadata": {},
   "source": [
    "Taking the difference of ellipticity between bands will allow us to see the effect of quasar images' being blue."
   ]
  },
  {
   "cell_type": "code",
   "execution_count": null,
   "metadata": {},
   "outputs": [],
   "source": [
    "for b in 'ugri':\n",
    "    lens_obj[b + '_minus_z_e'] = lens_obj[b + '_e'] - lens_obj['z_e']\n",
    "    nonlens_obj[b + '_minus_z_e'] = nonlens_obj[b + '_e'] - nonlens_obj['z_e']"
   ]
  },
  {
   "cell_type": "code",
   "execution_count": null,
   "metadata": {},
   "outputs": [],
   "source": [
    "feature, units = 'minus_z_e', 'no units'\n",
    "a = [b + '_' + feature for b in 'ugri']\n",
    "fig_dict['lens_' + feature] = draw_cornerplot(a, lens_obj, units=units, color='blue')\n",
    "fig_dict['nonlens_' + feature] = draw_cornerplot(a, nonlens_obj, fig=fig_dict['lens_' + feature], units=units, color='red')"
   ]
  },
  {
   "cell_type": "markdown",
   "metadata": {},
   "source": [
    "### 6.5 Ellipticity difference from r (u-r, g-r, i-r, z-r)"
   ]
  },
  {
   "cell_type": "code",
   "execution_count": null,
   "metadata": {},
   "outputs": [],
   "source": [
    "for b in 'ugiz':\n",
    "    lens_obj[b + '_minus_r_e'] = lens_obj[b + '_e'] - lens_obj['r_e']\n",
    "    nonlens_obj[b + '_minus_r_e'] = nonlens_obj[b + '_e'] - nonlens_obj['r_e']"
   ]
  },
  {
   "cell_type": "code",
   "execution_count": null,
   "metadata": {},
   "outputs": [],
   "source": [
    "feature, units = 'minus_r_e', 'no units'\n",
    "a = [b + '_' + feature for b in 'ugiz']\n",
    "fig_dict['lens_' + feature] = draw_cornerplot(a, lens_obj, units=units, color='blue')\n",
    "fig_dict['nonlens_' + feature] = draw_cornerplot(a, nonlens_obj, fig=fig_dict['lens_' + feature], units=units, color='red')"
   ]
  },
  {
   "cell_type": "markdown",
   "metadata": {},
   "source": [
    "### 6.5 Size difference from z (u-z, g-z, r-z, i-z)"
   ]
  },
  {
   "cell_type": "code",
   "execution_count": null,
   "metadata": {},
   "outputs": [],
   "source": [
    "for b in 'ugri':\n",
    "    lens_obj[b + '_minus_z_trace'] = lens_obj[b + '_trace'] - lens_obj['z_trace']\n",
    "    nonlens_obj[b + '_minus_z_trace'] = nonlens_obj[b + '_trace'] - nonlens_obj['z_trace']"
   ]
  },
  {
   "cell_type": "code",
   "execution_count": null,
   "metadata": {},
   "outputs": [],
   "source": [
    "feature, units = 'minus_z_trace', 'arcsec^2'\n",
    "a = [b + '_' + feature for b in 'ugri']\n",
    "fig_dict['lens_' + feature] = draw_cornerplot(a, lens_obj, units=units, color='blue')\n",
    "fig_dict['nonlens_' + feature] = draw_cornerplot(a, nonlens_obj, fig=fig_dict['lens_' + feature], units=units, color='red')"
   ]
  },
  {
   "cell_type": "code",
   "execution_count": null,
   "metadata": {},
   "outputs": [],
   "source": []
  }
 ],
 "metadata": {
  "anaconda-cloud": {},
  "kernelspec": {
   "display_name": "Python 2",
   "language": "python",
   "name": "python2"
  },
  "language_info": {
   "codemirror_mode": {
    "name": "ipython",
    "version": 2
   },
   "file_extension": ".py",
   "mimetype": "text/x-python",
   "name": "python",
   "nbconvert_exporter": "python",
   "pygments_lexer": "ipython2",
   "version": "2.7.12"
  }
 },
 "nbformat": 4,
 "nbformat_minor": 1
}
