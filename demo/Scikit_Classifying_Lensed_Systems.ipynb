{
 "cells": [
  {
   "cell_type": "markdown",
   "metadata": {},
   "source": [
    "# Cornerplots of various features for lensed system\n",
    "### SDSS vs OM10 (realized by Galsim)"
   ]
  },
  {
   "cell_type": "markdown",
   "metadata": {
    "collapsed": true
   },
   "source": [
    "The OM10 mock lensed quasar catalog qso_mock.fits contains a list of LSST-like samples. Using the OM10 mock catalog and observation history data, we can generate a toy catalog for SLRealizer. Using the toy catalog, we can null-deblend the catalog and generate the cornerplot to easily compare different features. We use Galsim to null-deblend and realize the catalog. Then, we compared the OM10 features with SDSS features."
   ]
  },
  {
   "cell_type": "code",
   "execution_count": 16,
   "metadata": {
    "scrolled": false
   },
   "outputs": [],
   "source": [
    "from __future__ import print_function\n",
    "from astropy.table import Table, hstack\n",
    "import astropy.io.fits as pyfits\n",
    "import sys, os\n",
    "import galsim\n",
    "import warnings\n",
    "import numpy as np\n",
    "warnings.filterwarnings(\"ignore\")"
   ]
  },
  {
   "cell_type": "markdown",
   "metadata": {},
   "source": [
    "The lines below enable the jupyter notebook to display inline plots."
   ]
  },
  {
   "cell_type": "code",
   "execution_count": 46,
   "metadata": {},
   "outputs": [],
   "source": [
    "import matplotlib.pyplot as plt\n",
    "#warnings.filterwarnings(\"ignore\")\n",
    "%matplotlib inline\n",
    "#matplotlib.use('TkAgg')\n",
    "#matplotlib.rc('text', usetex=False)"
   ]
  },
  {
   "cell_type": "markdown",
   "metadata": {},
   "source": [
    "Here, we initialize SLRealizer constructor"
   ]
  },
  {
   "cell_type": "code",
   "execution_count": null,
   "metadata": {},
   "outputs": [],
   "source": [
    "realizer = desc.slrealizer.SLRealizer()"
   ]
  },
  {
   "cell_type": "markdown",
   "metadata": {},
   "source": [
    "##  Make the feature set"
   ]
  },
  {
   "cell_type": "markdown",
   "metadata": {},
   "source": [
    "Based on the cornerplot that we drew of SDSS and OM10, we make a new catalog that has only useful features. We choose six features:\n",
    "\n",
    "- Difference in sizes between u and z bands\n",
    "- Difference in ellipticities between u and z bands (e)\n",
    "- Difference in rotation angles of the systems between u and z bands (ϕ)\n",
    "- Difference in angles between centroid positions and galactic shears (ω) \n",
    "- Difference in magnitudes between u and z bands\n",
    "- Difference in positions of the centroid between u and z bands (x)"
   ]
  },
  {
   "cell_type": "markdown",
   "metadata": {},
   "source": [
    "In order to do so, we first load the dependencies:"
   ]
  },
  {
   "cell_type": "code",
   "execution_count": 4,
   "metadata": {},
   "outputs": [],
   "source": [
    "import pandas as pd\n",
    "from sklearn.metrics import precision_recall_curve\n",
    "#import matplotlib.pyplot as plt\n",
    "#import numpy as np\n",
    "#import desc.slrealizer"
   ]
  },
  {
   "cell_type": "markdown",
   "metadata": {},
   "source": [
    "Then, we read in the object_table and the sdss_table."
   ]
  },
  {
   "cell_type": "code",
   "execution_count": 58,
   "metadata": {},
   "outputs": [],
   "source": [
    "object_table = pd.read_csv('../data/toy_object_catalog.csv')\n",
    "sdss_table = pd.read_csv('../data/sdss_object.csv').head(len(object_table)) # make sure that we have the same number of 0s and 1s"
   ]
  },
  {
   "cell_type": "markdown",
   "metadata": {},
   "source": [
    "Then, we calculate each entrees of six useful features. First, we do that for object_table(om10) and save into `truth_data.csv`."
   ]
  },
  {
   "cell_type": "code",
   "execution_count": 75,
   "metadata": {},
   "outputs": [
    {
     "data": {
      "text/plain": [
       "2234"
      ]
     },
     "execution_count": 75,
     "metadata": {},
     "output_type": "execute_result"
    }
   ],
   "source": [
    "len(sdss_table)"
   ]
  },
  {
   "cell_type": "code",
   "execution_count": 59,
   "metadata": {},
   "outputs": [
    {
     "data": {
      "text/plain": [
       "Index([u'lensid', u'g_flux', u'g_x', u'g_y', u'g_size', u'g_flux_err',\n",
       "       u'g_x_com_err', u'g_y_com_err', u'g_size_err', u'g_e1', u'g_e2', u'g_e',\n",
       "       u'g_phi', u'z_flux', u'z_x', u'z_y', u'z_size', u'z_flux_err',\n",
       "       u'z_x_com_err', u'z_y_com_err', u'z_size_err', u'z_e1', u'z_e2', u'z_e',\n",
       "       u'z_phi', u'i_flux', u'i_x', u'i_y', u'i_size', u'i_flux_err',\n",
       "       u'i_x_com_err', u'i_y_com_err', u'i_size_err', u'i_e1', u'i_e2', u'i_e',\n",
       "       u'i_phi', u'r_flux', u'r_x', u'r_y', u'r_size', u'r_flux_err',\n",
       "       u'r_x_com_err', u'r_y_com_err', u'r_size_err', u'r_e1', u'r_e2', u'r_e',\n",
       "       u'r_phi', u'u_flux', u'u_x', u'u_y', u'u_size', u'u_flux_err',\n",
       "       u'u_x_com_err', u'u_y_com_err', u'u_size_err', u'u_e1', u'u_e2', u'u_e',\n",
       "       u'u_phi'],\n",
       "      dtype='object')"
      ]
     },
     "execution_count": 59,
     "metadata": {},
     "output_type": "execute_result"
    }
   ],
   "source": [
    "object_table.columns"
   ]
  },
  {
   "cell_type": "code",
   "execution_count": 60,
   "metadata": {},
   "outputs": [],
   "source": [
    "realizer_path = os.path.join(os.environ['SLREALIZERDIR'], 'slrealizer')\n",
    "sys.path.insert(0, realizer_path)\n",
    "from utils.utils import *"
   ]
  },
  {
   "cell_type": "code",
   "execution_count": 79,
   "metadata": {},
   "outputs": [],
   "source": [
    "def make_truth_table(catalog, truth_value, save_file):\n",
    "    features = np.array([])\n",
    "    \n",
    "    # 1, 2\n",
    "    u_e1 = catalog['u_e1']\n",
    "    z_e1 = catalog['z_e1']\n",
    "    u_e2 = catalog['u_e2']\n",
    "    z_e2 = catalog['z_e2']\n",
    "    delta_e1 = u_e1 - z_e1 # u-z difference in e1\n",
    "    delta_e2 = u_e2 - z_e2 # u-z difference in e2\n",
    "    features = np.append(features, delta_e1)\n",
    "    features = np.append(features, delta_e2)\n",
    "\n",
    "    # 3\n",
    "    u = from_flux_to_mag(catalog['u_flux'], zeropoint_mag=22.5)\n",
    "    z = from_flux_to_mag(catalog['z_flux'], zeropoint_mag=22.5)\n",
    "    u_z = u - z # u-z difference in magnitude\n",
    "    features = np.append(features, u_z)\n",
    "\n",
    "    # 4\n",
    "    u_x = catalog['u_x'] - catalog['r_x']\n",
    "    u_y = catalog['u_y'] - catalog['r_y']\n",
    "    z_x = catalog['z_x'] - catalog['r_x']\n",
    "    z_y = catalog['z_y'] - catalog['r_y']\n",
    "    #Squared L2 distance between offset positions of u and z wrt r\n",
    "    delta_x = np.sqrt((u_x - z_x) * (u_x - z_x) + (u_y - z_y) * (u_y - z_y)) \n",
    "    features = np.append(features, delta_x)\n",
    "\n",
    "    # 5\n",
    "    delta_size = catalog['u_size']-catalog['z_size']\n",
    "    features = np.append(features, delta_size)\n",
    "\n",
    "    # 6\n",
    "    u_e = (u_e1**2.0 + u_e2**2.0)**0.5\n",
    "    z_e = (z_e1**2.0 + z_e2**2.0)**0.5\n",
    "    u_phi = np.arctan(u_e2/u_e1)\n",
    "    z_phi = np.arctan(z_e2/z_e1)\n",
    "\n",
    "    u_ex = u_x* (u_e1*np.cos(u_phi) - u_e2*np.sin(u_phi))\n",
    "    u_ey = u_y* (u_e1*np.sin(u_phi) + u_e2*np.cos(u_phi))\n",
    "    z_ex = z_x * (z_e1*np.cos(z_phi) - z_e2*np.sin(z_phi))\n",
    "    z_ey = z_y * (z_e1*np.cos(z_phi) - z_e2*np.sin(z_phi))\n",
    "    pos_mod_u = np.sqrt(u_x*u_x + u_y*u_y)\n",
    "    pos_mod_z = np.sqrt(z_x*z_x + z_y*z_y)\n",
    "    u_omega = (u_ex+u_ey)/(u_e*pos_mod_u)\n",
    "    z_omega = (z_ex+z_ey)/(z_e*pos_mod_z)\n",
    "    diff_x = u_x - z_x\n",
    "    diff_y = u_y - z_y\n",
    "    pos_mod_diff = np.sqrt(diff_x * diff_x + diff_y * diff_y)\n",
    "    omega_u_num = u_x*u_e*np.cos(2*u_phi) + u_x*u_e*np.sqrt(2)/2*np.sin(2*u_phi) + np.sqrt(2)/2 * u_y * u_e * np.sin(2*u_phi)\n",
    "    omega_u_den = pos_mod_u * u_e *10\n",
    "    omag_u = omega_u_num / omega_u_den\n",
    "    omega_z_num = z_x*z_e*np.cos(2*z_phi) + z_x*z_e*np.sqrt(2)/2*np.sin(2*z_phi) + np.sqrt(2)/2 *z_y * z_e * np.sin(2*z_phi)\n",
    "    omega_z_den = pos_mod_z * z_e * 10\n",
    "    omag_z = omega_z_num / omega_z_den\n",
    "    delta_omega = omag_u-omag_z\n",
    "    features = np.append(features, delta_omega)\n",
    "\n",
    "    truth = [truth_value] * len(delta_omega)\n",
    "    features = np.append(features, truth)\n",
    "\n",
    "    features = features.reshape(7, len(u_x)).transpose()\n",
    "    data = pd.DataFrame(features, columns=['delta_e1', 'delta_e2', 'u_z', 'delta_x', 'delta_size', 'delta_omega', 'truth', ])\n",
    "    data.to_csv(save_file)\n",
    "    return data\n",
    "    print(data)"
   ]
  },
  {
   "cell_type": "markdown",
   "metadata": {},
   "source": [
    "Do the same for sdss_table, saving into `false_data`."
   ]
  },
  {
   "cell_type": "code",
   "execution_count": 95,
   "metadata": {},
   "outputs": [],
   "source": [
    "lens_data = make_truth_table(catalog=object_table, truth_value=1, save_file='../data/lens_truth_table.csv')\n",
    "nonlens_data = make_truth_table(catalog=sdss_table, truth_value=0, save_file='../data/nonlens_truth_table.csv')"
   ]
  },
  {
   "cell_type": "code",
   "execution_count": 103,
   "metadata": {},
   "outputs": [
    {
     "name": "stdout",
     "output_type": "stream",
     "text": [
      "      truth   delta_e  delta_phi       u_z   delta_x  delta_size  delta_omega\n",
      "0       1.0 -0.025915  -1.107102 -0.681569  0.021173    0.160582     0.255302\n",
      "1       1.0  0.021835   0.402320 -0.425839  0.004656   -0.091169    -0.017974\n",
      "2       1.0  0.028419  -1.151119 -0.685951  0.000564    0.010715    -0.093143\n",
      "3       1.0  0.025229   0.006974 -0.493946  0.004960   -0.122463     0.010931\n",
      "4       1.0  0.022732   0.877403 -1.684077  0.123083    0.650938    -0.016721\n",
      "5       1.0 -0.011331   0.631168 -3.027182  1.012805    3.046674     0.257477\n",
      "6       1.0 -0.408916  42.646809 -3.358599  0.450436    3.971045    -0.014255\n",
      "7       1.0  0.066158   0.073507 -0.665486  0.000968    0.016784     0.005122\n",
      "8       1.0  0.027425  -0.000346 -0.401236  0.004111   -0.135346    -0.260779\n",
      "9       1.0  0.165400  17.737848 -3.566221  0.131018    4.694982     0.187466\n",
      "10      1.0 -0.171364  -5.669029 -3.888808  0.437288    9.102211     0.147529\n",
      "11      1.0  0.023907   0.781761 -0.656193  0.002466    0.072344    -0.003878\n",
      "12      1.0  0.070047  -0.005552 -0.602118  0.002771   -0.022031     0.112476\n",
      "13      1.0  0.010184   0.259656 -0.405501  0.002140   -0.121356    -0.105321\n",
      "14      1.0  0.009243   1.725098 -0.510371  0.002023   -0.094819     0.257867\n",
      "15      1.0  0.036739  -6.201537 -1.868076  0.013025    0.119968    -0.042635\n",
      "16      1.0  0.146682  46.100469 -5.259482  1.173047   12.772221     0.007984\n",
      "17      1.0 -0.067850 -30.935170 -3.639953  0.555668    6.775002     0.031121\n",
      "18      1.0  0.019208  -0.001827 -0.353509  0.000223   -0.139103     0.137596\n",
      "19      1.0 -0.015738  42.061188 -3.891833  0.734938    4.351738     0.154634\n",
      "20      1.0  0.021635  -0.004826 -0.401950  0.003660   -0.136480    -0.172913\n",
      "21      1.0 -0.100185 -38.353023 -3.737902  0.175857    5.138753    -0.002424\n",
      "22      1.0  0.026850 -31.483571 -4.136858  0.401327    4.580143    -0.005854\n",
      "23      1.0  0.029591   0.082067 -0.524074  0.000249   -0.061933    -0.025065\n",
      "24      1.0 -0.002254   3.085823 -0.733993  0.021009    0.031996    -0.230500\n",
      "25      1.0  0.047158   0.170141 -0.475939  0.016622   -0.074812    -0.001463\n",
      "26      1.0  0.250130  55.036192 -1.963104  0.118262    1.185596     0.074321\n",
      "27      1.0  0.031668   0.183378 -1.192242  0.008744    0.493589     0.000596\n",
      "28      1.0  0.086502  76.150132 -3.372362  0.122785    5.600194    -0.038137\n",
      "29      1.0  0.021456   2.107281 -0.836507  0.009603    0.123636     0.026946\n",
      "...     ...       ...        ...       ...       ...         ...          ...\n",
      "2204    1.0  0.028944   0.013126 -0.328853  0.003653   -0.134539    -0.105381\n",
      "2205    1.0 -0.182391  32.786701 -3.868461  0.582563    4.055372     0.031476\n",
      "2206    1.0  0.098644  22.889429 -2.458192  0.610626    3.323823    -0.081370\n",
      "2207    1.0  0.010606  -1.238306 -2.664464  0.000309   -0.086094    -0.205574\n",
      "2208    1.0 -0.015599   6.011201 -2.181204  0.241995    2.562483     0.129890\n",
      "2209    1.0  0.017303   0.131445 -0.449540  0.005888   -0.117739     0.018536\n",
      "2210    1.0  0.088141 -10.132497 -2.194536  0.228330    2.598552    -0.034394\n",
      "2211    1.0  0.293144 -25.393719 -4.273194  0.275796    6.361968    -0.081916\n",
      "2212    1.0  0.028418  -2.701945 -0.808183  0.011696    0.005137    -0.127532\n",
      "2213    1.0  0.008979  -0.080276 -1.271878  0.001398   -0.125402     0.123044\n",
      "2214    1.0  0.015262  -0.014762 -0.428533  0.004297   -0.139704    -0.021578\n",
      "2215    1.0  0.013160  -0.002736 -1.110177  0.015473   -0.134804    -0.140366\n",
      "2216    1.0 -0.130825   0.973313 -3.910250  1.587435    3.684332    -0.230049\n",
      "2217    1.0  0.151645  -5.891834 -3.217029  0.042893    5.817500     0.124756\n",
      "2218    1.0 -0.000489  -0.170317 -1.885741  0.087563    0.215457    -0.211757\n",
      "2219    1.0 -0.016154 -10.046051 -2.924576  0.818175    2.629933     0.080669\n",
      "2220    1.0  0.012101  -0.007067 -0.439980  0.001299   -0.128862     0.165880\n",
      "2221    1.0 -0.493303 -50.973723 -3.524779  0.284758    4.042707    -0.095922\n",
      "2222    1.0  0.043266   1.658323 -1.794497  0.282148    0.383969     0.218702\n",
      "2223    1.0 -0.054038 -17.706515 -3.598934  0.519941    5.965909     0.201567\n",
      "2224    1.0  0.015504  -4.911745 -2.823873  0.005290    0.036688    -0.205544\n",
      "2225    1.0  0.054590  -0.047372 -1.666034  0.004199   -0.039895     0.091718\n",
      "2226    1.0  0.021008   0.004370 -0.310950  0.004485   -0.127230     0.090825\n",
      "2227    1.0  0.054587   0.933710 -0.997261  0.026258    0.464077     0.019797\n",
      "2228    1.0 -0.365166 -61.216349 -3.780091  0.510266    6.210079    -0.050492\n",
      "2229    1.0  0.166102  70.558219 -2.405533  0.297245    2.115177     0.021872\n",
      "2230    1.0 -0.136773 -32.126327 -3.323390  1.095391    1.782997     0.037751\n",
      "2231    1.0  0.238729 -51.622532 -2.544898  0.481802    2.902046    -0.040371\n",
      "2232    1.0  0.067187  -0.022869 -0.445660  0.002662   -0.032642     0.152514\n",
      "2233    1.0  0.015824  -0.480887 -0.511841  0.001026   -0.066832    -0.020459\n",
      "\n",
      "[2234 rows x 7 columns]\n"
     ]
    }
   ],
   "source": [
    "features = np.array([])\n",
    "u_e = object_table['u_e']\n",
    "z_e = object_table['z_e']\n",
    "u_phi = object_table['u_phi']\n",
    "z_phi = object_table['z_phi']\n",
    "delta_e = u_e - z_e\n",
    "delta_phi = (object_table['u_phi']-object_table['z_phi'])\n",
    "u = 22.5-2.5*np.log10(object_table['u_flux'])\n",
    "z = 22.5-2.5*np.log10(object_table['z_flux'])\n",
    "u_z = u - z\n",
    "u_x = object_table['u_x'] - object_table['r_x']\n",
    "u_y = object_table['u_y'] - object_table['r_y']\n",
    "u_e1 = object_table['u_e1']\n",
    "u_e2 = object_table['u_e2']\n",
    "u_ex = u_x* (u_e1*np.cos(u_phi) - u_e2*np.sin(u_phi))\n",
    "u_ey = u_y* (u_e1*np.sin(u_phi) + u_e2*np.cos(u_phi))\n",
    "z_x = object_table['z_x'] - object_table['r_x']\n",
    "z_y = object_table['z_y'] - object_table['r_y']\n",
    "z_e1 = object_table['z_e1']\n",
    "z_e2 = object_table['z_e2']\n",
    "z_ex = z_x * (z_e1*np.cos(z_phi) - z_e2*np.sin(z_phi))\n",
    "z_ey = z_y * (z_e1*np.cos(z_phi) - z_e2*np.sin(z_phi))\n",
    "pos_mod_u = np.sqrt(u_x*u_x + u_y*u_y)\n",
    "pos_mod_z = np.sqrt(z_x*z_x + z_y*z_y)\n",
    "delta_x = np.sqrt((u_x - z_x) * (u_x - z_x) + (u_y - z_y) * (u_y - z_y))\n",
    "delta_size = object_table['u_size']-object_table['z_size']\n",
    "\n",
    "u_omega = (u_ex+u_ey)/(u_e*pos_mod_u)\n",
    "z_omega = (z_ex+z_ey)/(z_e*pos_mod_z)\n",
    "\n",
    "diff_x = u_x - z_x\n",
    "diff_y = u_y - z_y\n",
    "pos_mod_diff = np.sqrt(diff_x * diff_x + diff_y * diff_y)\n",
    "\n",
    "omega_u_num = u_x*u_e*np.cos(2*u_phi) + u_x*u_e*np.sqrt(2)/2*np.sin(2*u_phi) + np.sqrt(2)/2 * u_y * u_e * np.sin(2*u_phi)\n",
    "omega_u_den = pos_mod_u * u_e *10\n",
    "omag_u = omega_u_num / omega_u_den\n",
    "\n",
    "omega_z_num = z_x*z_e*np.cos(2*z_phi) + z_x*z_e*np.sqrt(2)/2*np.sin(2*z_phi) + np.sqrt(2)/2 *z_y * z_e * np.sin(2*z_phi)\n",
    "omega_z_den = pos_mod_z * z_e * 10\n",
    "omag_z = omega_z_num / omega_z_den\n",
    "\n",
    "delta_omega = omag_u-omag_z\n",
    "\n",
    "delta_phi = delta_phi*57.2958\n",
    "\n",
    "truth = [1] * len(delta_omega)\n",
    "\n",
    "features = np.append(features, truth)\n",
    "features = np.append(features, delta_e)\n",
    "features = np.append(features, delta_phi)\n",
    "features = np.append(features, u_z)\n",
    "features = np.append(features, delta_x)\n",
    "features = np.append(features, delta_size)\n",
    "features = np.append(features, delta_omega)\n",
    "features = features.reshape(7, len(u_x)).transpose()\n",
    "data = pd.DataFrame(features, columns=['truth', 'delta_e', 'delta_phi', 'u_z', 'delta_x', 'delta_size', 'delta_omega'])\n",
    "data.to_csv('../data/truth_data.csv')\n",
    "print(data)"
   ]
  },
  {
   "cell_type": "code",
   "execution_count": 105,
   "metadata": {},
   "outputs": [],
   "source": [
    "features = np.array([])\n",
    "u_e = sdss_table['u_e']\n",
    "z_e = sdss_table['z_e']\n",
    "u_phi = sdss_table['u_phi']\n",
    "z_phi = sdss_table['z_phi']\n",
    "delta_e = u_e - z_e\n",
    "delta_phi = (sdss_table['u_phi']-sdss_table['z_phi'])\n",
    "u = 22.5-2.5*np.log10(sdss_table['u_flux'])\n",
    "z = 22.5-2.5*np.log10(sdss_table['z_flux'])\n",
    "u_z = u - z\n",
    "u_x = sdss_table['u_x'] - sdss_table['r_x']\n",
    "u_y = sdss_table['u_y'] - sdss_table['r_y']\n",
    "u_e1 = sdss_table['u_e1']\n",
    "u_e2 = sdss_table['u_e2']\n",
    "u_ex = u_x* (u_e1*np.cos(u_phi) - u_e2*np.sin(u_phi))\n",
    "u_ey = u_y* (u_e1*np.sin(u_phi) + u_e2*np.cos(u_phi))\n",
    "z_x = sdss_table['z_x'] - sdss_table['r_x']\n",
    "z_y = sdss_table['z_y'] - sdss_table['r_y']\n",
    "z_e1 = sdss_table['z_e1']\n",
    "z_e2 = sdss_table['z_e2']\n",
    "z_ex = z_x * (z_e1*np.cos(z_phi) - z_e2*np.sin(z_phi))\n",
    "z_ey = z_y * (z_e1*np.cos(z_phi) - z_e2*np.sin(z_phi))\n",
    "pos_mod_u = np.sqrt(u_x*u_x + u_y*u_y)\n",
    "pos_mod_z = np.sqrt(z_x*z_x + z_y*z_y)\n",
    "delta_x = np.sqrt((u_x - z_x) * (u_x - z_x) + (u_y - z_y) * (u_y - z_y))\n",
    "delta_size = sdss_table['u_size']-sdss_table['z_size']\n",
    "\n",
    "u_omega = (u_ex+u_ey)/(u_e*pos_mod_u)\n",
    "z_omega = (z_ex+z_ey)/(z_e*pos_mod_z)\n",
    "\n",
    "diff_x = u_x - z_x\n",
    "diff_y = u_y - z_y\n",
    "pos_mod_diff = np.sqrt(diff_x * diff_x + diff_y * diff_y)\n",
    "\n",
    "omega_u_num = u_x*u_e*np.cos(2*u_phi) + u_x*u_e*np.sqrt(2)/2*np.sin(2*u_phi) + np.sqrt(2)/2 * u_y * u_e * np.sin(2*u_phi)\n",
    "omega_u_den = pos_mod_u * u_e *10\n",
    "omag_u = omega_u_num / omega_u_den\n",
    "\n",
    "omega_z_num = z_x*z_e*np.cos(2*z_phi) + z_x*z_e*np.sqrt(2)/2*np.sin(2*z_phi) + np.sqrt(2)/2 *z_y * z_e * np.sin(2*z_phi)\n",
    "omega_z_den = pos_mod_z * z_e * 10\n",
    "omag_z = omega_z_num / omega_z_den\n",
    "\n",
    "delta_omega = omag_u-omag_z\n",
    "\n",
    "delta_phi = delta_phi*57.2958\n",
    "\n",
    "truth = [0] * len(delta_omega)\n",
    "\n",
    "features = np.append(features, truth)\n",
    "features = np.append(features, delta_e)\n",
    "features = np.append(features, delta_phi)\n",
    "features = np.append(features, u_z)\n",
    "features = np.append(features, delta_x)\n",
    "features = np.append(features, delta_size)\n",
    "features = np.append(features, delta_omega)\n",
    "features = features.reshape(7, len(u_x)).transpose()\n",
    "sdss_data = pd.DataFrame(features, columns=['truth', 'delta_e', 'delta_phi', 'u_z', 'delta_x', 'delta_size', 'delta_omega'])\n",
    "sdss_data.to_csv('../data/false_data.csv')"
   ]
  },
  {
   "cell_type": "code",
   "execution_count": 106,
   "metadata": {},
   "outputs": [],
   "source": [
    "df_col_merged = pd.concat([data, sdss_data], axis=0)\n",
    "df_col_merged = df_col_merged.sample(frac=1)\n",
    "df_col_merged.to_csv('../data/training_data_jenny.csv')"
   ]
  },
  {
   "cell_type": "markdown",
   "metadata": {},
   "source": [
    "Then, we merged the truth(om10) and the false(sdss) to one catalog, saving it into `training_data.csv`."
   ]
  },
  {
   "cell_type": "code",
   "execution_count": 96,
   "metadata": {},
   "outputs": [],
   "source": [
    "df_col_merged = pd.concat([lens_data, nonlens_data], axis=0)\n",
    "df_col_merged = df_col_merged.sample(frac=1)\n",
    "df_col_merged.to_csv('../data/training_data.csv')"
   ]
  },
  {
   "cell_type": "markdown",
   "metadata": {},
   "source": [
    "# Machine Learning + Precision Recall Curve for various methods"
   ]
  },
  {
   "cell_type": "markdown",
   "metadata": {},
   "source": [
    "We are going two use three different algorithms : linearSVC, K-neighbors, and Random Forest. For the K-neighbors and Random Forest, we are going to change the number of neighbors and leaves. Then, we will see which classifier has the best performance."
   ]
  },
  {
   "cell_type": "markdown",
   "metadata": {},
   "source": [
    "In order to do so, we import the necessary packages:"
   ]
  },
  {
   "cell_type": "code",
   "execution_count": 97,
   "metadata": {},
   "outputs": [],
   "source": [
    "from sklearn import svm\n",
    "import sklearn\n",
    "from sklearn import model_selection\n",
    "from sklearn.neighbors import KNeighborsClassifier\n",
    "from sklearn.ensemble import RandomForestClassifier"
   ]
  },
  {
   "cell_type": "markdown",
   "metadata": {},
   "source": [
    "Then, we divide training set and the test set within the whole data set. "
   ]
  },
  {
   "cell_type": "code",
   "execution_count": 98,
   "metadata": {},
   "outputs": [],
   "source": [
    "df_col_merged_m = df_col_merged.as_matrix()\n",
    "y = df_col_merged_m[:, -1]\n",
    "X = df_col_merged_m[:, :-1]\n",
    "X_train, X_test, y_train, y_test = sklearn.model_selection.train_test_split(X, y, test_size=0.33, random_state=123, shuffle=True) #42"
   ]
  },
  {
   "cell_type": "code",
   "execution_count": 107,
   "metadata": {},
   "outputs": [],
   "source": [
    "df_col_merged = df_col_merged.as_matrix()\n",
    "y = df_col_merged[:,0]\n",
    "last_col_index = len(df_col_merged[0])\n",
    "X = df_col_merged[:,1: last_col_index]\n",
    "X_train, X_test, y_train, y_test = sklearn.model_selection.train_test_split(X, y, test_size=0.33, random_state=42)"
   ]
  },
  {
   "cell_type": "markdown",
   "metadata": {},
   "source": [
    "Then, while training the Machine Learning algorithms, we also produce the precision-recall curve for each method so that we can compare the performances."
   ]
  },
  {
   "cell_type": "code",
   "execution_count": 108,
   "metadata": {
    "scrolled": true
   },
   "outputs": [
    {
     "data": {
      "text/plain": [
       "Text(0.5,1,u'Precision Recall Curve for various methods')"
      ]
     },
     "execution_count": 108,
     "metadata": {},
     "output_type": "execute_result"
    },
    {
     "data": {
      "image/png": "[encoded data removed]",
      "text/plain": [
       "<matplotlib.figure.Figure at 0x7f4a987faf90>"
      ]
     },
     "metadata": {},
     "output_type": "display_data"
    }
   ],
   "source": [
    "# linearsvc\n",
    "clf = svm.LinearSVC()\n",
    "clf.fit(X_train, y_train)\n",
    "y_score = clf.decision_function(X_test)\n",
    "precision, recall, _ = precision_recall_curve(y_test, y_score)\n",
    "plt.plot(recall, precision, label='Linear SVC', color='red')\n",
    "\n",
    "# kneighbors n=3\n",
    "neigh = KNeighborsClassifier(n_neighbors=3)\n",
    "neigh.fit(X_train, y_train) \n",
    "y_score = neigh.predict_proba(X_test)[:,1]\n",
    "precision, recall, _ = precision_recall_curve(y_test, y_score)\n",
    "plt.plot(recall, precision, label='NearestNeighbor N=3', color='orange')\n",
    "\n",
    "# kneighbors n=5\n",
    "neigh = KNeighborsClassifier(n_neighbors=5)\n",
    "neigh.fit(X_train, y_train) \n",
    "y_score = neigh.predict_proba(X_test)[:,1]\n",
    "precision, recall, _ = precision_recall_curve(y_test, y_score)\n",
    "plt.plot(recall, precision, label='NearestNeighbor N=5', color='green')\n",
    "\n",
    "# Random Forest N = 3\n",
    "clf = RandomForestClassifier(n_estimators=3)\n",
    "clf = clf.fit(X_train, y_train)\n",
    "y_score = clf.predict_proba(X_test)[:,1]\n",
    "precision, recall, _ = precision_recall_curve(y_test, y_score)\n",
    "plt.plot(recall, precision, label='Random Forest N=3', color='blue')\n",
    "\n",
    "# Random Forest N = 5\n",
    "clf = RandomForestClassifier(n_estimators=5)\n",
    "clf = clf.fit(X_train, y_train)\n",
    "y_score = clf.predict_proba(X_test)[:,1]\n",
    "precision, recall, _ = precision_recall_curve(y_test, y_score)\n",
    "plt.plot(recall, precision, label='Random Forest N=5', color='purple')\n",
    "\n",
    "# Random Forest N = 10\n",
    "clf = RandomForestClassifier(n_estimators=10)\n",
    "clf = clf.fit(X_train, y_train)\n",
    "y_score = clf.predict_proba(X_test)[:,1]\n",
    "precision, recall, _ = precision_recall_curve(y_test, y_score)\n",
    "plt.plot(recall, precision, label='Random Forest N=10', color='pink')\n",
    "\n",
    "plt.xlabel('Recall')\n",
    "plt.ylabel('Precision')\n",
    "plt.ylim([0.0, 1.05])\n",
    "plt.xlim([0.0, 1.0])\n",
    "plt.legend(loc=\"lower left\")\n",
    "plt.title('Precision Recall Curve for various methods')"
   ]
  },
  {
   "cell_type": "markdown",
   "metadata": {},
   "source": [
    "# ROC Curve for various methods"
   ]
  },
  {
   "cell_type": "markdown",
   "metadata": {},
   "source": [
    "We are going two use three different algorithms : linearSVC, K-neighbors, and Random Forest. For the K-neighbors and Random Forest, we are going to change the number of neighbors and leaves. Then, we will see which classifier has the best performance."
   ]
  },
  {
   "cell_type": "code",
   "execution_count": 119,
   "metadata": {
    "scrolled": true
   },
   "outputs": [
    {
     "data": {
      "text/plain": [
       "Text(0.5,1,u'ROC for various methods')"
      ]
     },
     "execution_count": 119,
     "metadata": {},
     "output_type": "execute_result"
    },
    {
     "data": {
      "image/png": "[encoded data removed]",
      "text/plain": [
       "<matplotlib.figure.Figure at 0x7f4a986a36d0>"
      ]
     },
     "metadata": {},
     "output_type": "display_data"
    }
   ],
   "source": [
    "# linearsvc\n",
    "clf = svm.LinearSVC()\n",
    "clf.fit(X_train, y_train)\n",
    "y_score = clf.decision_function(X_test)\n",
    "fpr, tpr, _ = sklearn.metrics.roc_curve(y_test, y_score)\n",
    "plt.plot(fpr, tpr, color='red', label='Linear SVC ROC curve')\n",
    "\n",
    "# kneighbors n=3\n",
    "neigh = KNeighborsClassifier(n_neighbors=3)\n",
    "neigh = neigh.fit(X_train, y_train) \n",
    "fpr, tpr, _ = sklearn.metrics.roc_curve(y_test, neigh.predict_proba(X_test)[:,1])\n",
    "roc_auc = sklearn.metrics.auc(fpr, tpr)\n",
    "plt.plot(fpr, tpr, color='yellow', label='Nearest Neighber N=3 ROC curve (area = %0.2f)' % roc_auc)\n",
    "\n",
    "# kneighbors n=5\n",
    "neigh = KNeighborsClassifier(n_neighbors=5)\n",
    "neigh = neigh.fit(X_train, y_train) \n",
    "fpr, tpr, _ = sklearn.metrics.roc_curve(y_test, neigh.predict_proba(X_test)[:,1])\n",
    "roc_auc = sklearn.metrics.auc(fpr, tpr)\n",
    "plt.plot(fpr, tpr, color='#bad64d', label='Nearest Neighber N=5 ROC curve (area = %0.2f)' % roc_auc)\n",
    "\n",
    "# Random Forest N = 3\n",
    "clf = RandomForestClassifier(n_estimators=3, max_features=None)\n",
    "clf = clf.fit(X_train, y_train)\n",
    "fpr, tpr, _ = sklearn.metrics.roc_curve(y_test, clf.predict_proba(X_test)[:,1])\n",
    "roc_auc = sklearn.metrics.auc(fpr, tpr)\n",
    "plt.plot(fpr, tpr, color='#43c6b7', label='RF N=3 ROC curve (area = %0.2f)' % roc_auc)\n",
    "\n",
    "# Random Forest N = 3\n",
    "clf = RandomForestClassifier(n_estimators=5, max_features=None)\n",
    "clf = clf.fit(X_train, y_train)\n",
    "fpr, tpr, _ = sklearn.metrics.roc_curve(y_test, clf.predict_proba(X_test)[:,1])\n",
    "roc_auc = sklearn.metrics.auc(fpr, tpr)\n",
    "plt.plot(fpr, tpr, color='#2b84ad', label='RF N=5 ROC curve (area = %0.2f)' % roc_auc)\n",
    "\n",
    "# Random Forest N = 5\n",
    "clf = RandomForestClassifier(n_estimators=10, max_features=None)\n",
    "clf = clf.fit(X_train, y_train)\n",
    "fpr, tpr, _ = sklearn.metrics.roc_curve(y_test, clf.predict_proba(X_test)[:,1])\n",
    "roc_auc = sklearn.metrics.auc(fpr, tpr)\n",
    "plt.plot(fpr, tpr, color='#8138a0', label='RF N=5 ROC curve (area = %0.2f)' % roc_auc)\n",
    "\n",
    "# Random Forest N = 10\n",
    "clf = RandomForestClassifier(n_estimators=15, max_features=None)\n",
    "clf = clf.fit(X_train, y_train)\n",
    "fpr, tpr, _ = sklearn.metrics.roc_curve(y_test, clf.predict_proba(X_test)[:,1])\n",
    "roc_auc = sklearn.metrics.auc(fpr, tpr)\n",
    "plt.plot(fpr, tpr, color='pink', label='RF N=15 ROC curve (area = %0.2f)' % roc_auc)\n",
    "\n",
    "\n",
    "clf = RandomForestClassifier(n_estimators=20, max_features=None)\n",
    "clf = clf.fit(X_train, y_train)\n",
    "fpr, tpr, _ = sklearn.metrics.roc_curve(y_test, clf.predict_proba(X_test)[:,1])\n",
    "roc_auc = sklearn.metrics.auc(fpr, tpr)\n",
    "plt.plot(fpr, tpr, color='#cc5d94', label='RF N=20 ROC curve (area = %0.2f)' % roc_auc)\n",
    "\n",
    "clf = RandomForestClassifier(n_estimators=5000, max_features=None)\n",
    "clf = clf.fit(X_train, y_train)\n",
    "fpr, tpr, _ = sklearn.metrics.roc_curve(y_test, clf.predict_proba(X_test)[:,1])\n",
    "roc_auc = sklearn.metrics.auc(fpr, tpr)\n",
    "plt.plot(fpr, tpr, color='#d63384', label='RF N=5000 ROC curve (area = %0.2f)' % roc_auc)\n",
    "\n",
    "plt.xlabel('False positive rate')\n",
    "plt.ylabel('True positive rate')\n",
    "plt.ylim([-0.1, 1.1])\n",
    "plt.plot([-0.1, 1.1], [-0.1, 1.1], 'k--')\n",
    "plt.xlim([-0.1, 1.1])\n",
    "plt.legend(loc='center left', bbox_to_anchor=(1, 0.5))\n",
    "plt.title('ROC for various methods')"
   ]
  },
  {
   "cell_type": "markdown",
   "metadata": {},
   "source": [
    "It is a little hard to see where the turn-off points are, so let's concentrate on the top left corner."
   ]
  },
  {
   "cell_type": "code",
   "execution_count": 56,
   "metadata": {},
   "outputs": [
    {
     "data": {
      "text/plain": [
       "Text(0.5,1,u'ROC for various methods')"
      ]
     },
     "execution_count": 56,
     "metadata": {},
     "output_type": "execute_result"
    },
    {
     "data": {
      "image/png": "[encoded data removed]",
      "text/plain": [
       "<matplotlib.figure.Figure at 0x7f4a98b2d650>"
      ]
     },
     "metadata": {},
     "output_type": "display_data"
    }
   ],
   "source": [
    "# linearsvc\n",
    "clf = svm.LinearSVC()\n",
    "clf.fit(X_train, y_train)\n",
    "y_score = clf.decision_function(X_test)\n",
    "fpr, tpr, _ = sklearn.metrics.roc_curve(y_test, y_score)\n",
    "plt.plot(fpr, tpr, color='red', label='Linear SVC ROC curve')\n",
    "\n",
    "# kneighbors n=3\n",
    "neigh = KNeighborsClassifier(n_neighbors=3)\n",
    "neigh = neigh.fit(X_train, y_train) \n",
    "fpr, tpr, _ = sklearn.metrics.roc_curve(y_test, neigh.predict_proba(X_test)[:,1])\n",
    "roc_auc = sklearn.metrics.auc(fpr, tpr)\n",
    "plt.plot(fpr, tpr, color='yellow', label='Nearest Neighber N=3 ROC curve (area = %0.2f)' % roc_auc)\n",
    "\n",
    "# kneighbors n=5\n",
    "neigh = KNeighborsClassifier(n_neighbors=5)\n",
    "neigh = neigh.fit(X_train, y_train) \n",
    "fpr, tpr, _ = sklearn.metrics.roc_curve(y_test, neigh.predict_proba(X_test)[:,1])\n",
    "roc_auc = sklearn.metrics.auc(fpr, tpr)\n",
    "plt.plot(fpr, tpr, color='#bad64d', label='Nearest Neighber N=5 ROC curve (area = %0.2f)' % roc_auc)\n",
    "\n",
    "# Random Forest N = 3\n",
    "clf = RandomForestClassifier(n_estimators=3, max_features=None)\n",
    "clf = clf.fit(X_train, y_train)\n",
    "fpr, tpr, _ = sklearn.metrics.roc_curve(y_test, clf.predict_proba(X_test)[:,1])\n",
    "roc_auc = sklearn.metrics.auc(fpr, tpr)\n",
    "plt.plot(fpr, tpr, color='#43c6b7', label='RF N=3 ROC curve (area = %0.2f)' % roc_auc)\n",
    "\n",
    "\n",
    "# Random Forest N = 3\n",
    "clf = RandomForestClassifier(n_estimators=5, max_features=None)\n",
    "clf = clf.fit(X_train, y_train)\n",
    "fpr, tpr, _ = sklearn.metrics.roc_curve(y_test, clf.predict_proba(X_test)[:,1])\n",
    "roc_auc = sklearn.metrics.auc(fpr, tpr)\n",
    "plt.plot(fpr, tpr, color='#2b84ad', label='RF N=5 ROC curve (area = %0.2f)' % roc_auc)\n",
    "\n",
    "# Random Forest N = 5\n",
    "clf = RandomForestClassifier(n_estimators=10, max_features=None)\n",
    "clf = clf.fit(X_train, y_train)\n",
    "fpr, tpr, _ = sklearn.metrics.roc_curve(y_test, clf.predict_proba(X_test)[:,1])\n",
    "roc_auc = sklearn.metrics.auc(fpr, tpr)\n",
    "plt.plot(fpr, tpr, color='#8138a0', label='RF N=5 ROC curve (area = %0.2f)' % roc_auc)\n",
    "\n",
    "# Random Forest N = 10\n",
    "clf = RandomForestClassifier(n_estimators=15, max_features=None)\n",
    "clf = clf.fit(X_train, y_train)\n",
    "fpr, tpr, _ = sklearn.metrics.roc_curve(y_test, clf.predict_proba(X_test)[:,1])\n",
    "roc_auc = sklearn.metrics.auc(fpr, tpr)\n",
    "plt.plot(fpr, tpr, color='pink', label='RF N=15 ROC curve (area = %0.2f)' % roc_auc)\n",
    "\n",
    "\n",
    "clf = RandomForestClassifier(n_estimators=20, max_features=None)\n",
    "clf = clf.fit(X_train, y_train)\n",
    "fpr, tpr, _ = sklearn.metrics.roc_curve(y_test, clf.predict_proba(X_test)[:,1])\n",
    "roc_auc = sklearn.metrics.auc(fpr, tpr)\n",
    "plt.plot(fpr, tpr, color='#cc5d94', label='RF N=20 ROC curve (area = %0.2f)' % roc_auc)\n",
    "\n",
    "clf = RandomForestClassifier(n_estimators=5000, max_features=None)\n",
    "clf = clf.fit(X_train, y_train)\n",
    "fpr, tpr, _ = sklearn.metrics.roc_curve(y_test, clf.predict_proba(X_test)[:,1])\n",
    "roc_auc = sklearn.metrics.auc(fpr, tpr)\n",
    "plt.plot(fpr, tpr, color='#d63384', label='RF N=5000 ROC curve (area = %0.2f)' % roc_auc)\n",
    "\n",
    "plt.xlabel('False positive rate')\n",
    "plt.ylabel('True positive rate')\n",
    "plt.ylim([0.6, 1.00])\n",
    "plt.plot([0, 1], [0, 1], 'k--')\n",
    "plt.xlim([0.0, 0.1])\n",
    "plt.legend(loc='center left', bbox_to_anchor=(1, 0.5))\n",
    "plt.title('ROC for various methods')"
   ]
  },
  {
   "cell_type": "markdown",
   "metadata": {},
   "source": [
    "# Feature Selection"
   ]
  },
  {
   "cell_type": "markdown",
   "metadata": {
    "collapsed": true
   },
   "source": [
    "We could see that the random forest classifier with N=10 and above performed the best. Because Random Forest can also give the measures of how the useful each feature was, we can draw the simple histogram that shows feature importance."
   ]
  },
  {
   "cell_type": "code",
   "execution_count": 57,
   "metadata": {},
   "outputs": [
    {
     "data": {
      "image/png": "[encoded data removed]",
      "text/plain": [
       "<matplotlib.figure.Figure at 0x7f4a986a3d90>"
      ]
     },
     "metadata": {},
     "output_type": "display_data"
    }
   ],
   "source": [
    "# Random Forest N = 10\n",
    "from sklearn.ensemble import RandomForestClassifier\n",
    "clf = RandomForestClassifier(n_estimators=10)\n",
    "clf = clf.fit(X_train, y_train)\n",
    "\n",
    "col = pd.DataFrame(df_col_merged[:,1: last_col_index], columns=['$\\Delta e_{u-z}$', '$\\Delta \\phi_{u-z}$', 'u-z', '$\\Delta x_{u-z}$', '$\\Delta size_{u-z}$', '$\\Delta \\omega_{u-z}$'])\n",
    "importance = sorted(zip(col.columns.values,clf.feature_importances_),key=lambda q: q[1],reverse=True)\n",
    "row = zip(*importance)[0]\n",
    "column = zip(*importance)[1]\n",
    "x_pos = np.arange(len(row))\n",
    "plt.bar(x_pos, column, align='center', color='#890b22')\n",
    "plt.xticks(x_pos, row)\n",
    "plt.ylabel('Feature importance')\n",
    "\n",
    "# Determine the false positive and true positive rates\n",
    "fpr, tpr, _ = sklearn.metrics.roc_curve(y_test, clf.predict_proba(X_test)[:,1])\n",
    " \n",
    "# Calculate the AUC\n",
    "roc_auc = sklearn.metrics.auc(fpr, tpr)"
   ]
  }
 ],
 "metadata": {
  "anaconda-cloud": {},
  "kernelspec": {
   "display_name": "Python 2",
   "language": "python",
   "name": "python2"
  },
  "language_info": {
   "codemirror_mode": {
    "name": "ipython",
    "version": 2
   },
   "file_extension": ".py",
   "mimetype": "text/x-python",
   "name": "python",
   "nbconvert_exporter": "python",
   "pygments_lexer": "ipython2",
   "version": "2.7.12"
  }
 },
 "nbformat": 4,
 "nbformat_minor": 1
}
