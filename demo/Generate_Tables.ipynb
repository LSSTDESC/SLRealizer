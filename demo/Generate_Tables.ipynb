{
 "cells": [
  {
   "cell_type": "markdown",
   "metadata": {},
   "source": [
    "## How to Generate Source and Object Tables"
   ]
  },
  {
   "cell_type": "code",
   "execution_count": null,
   "metadata": {},
   "outputs": [],
   "source": [
    "import lenspop\n",
    "import om10\n",
    "import desc.slrealizer\n",
    "import format_sdss_to_om10\n",
    "import time"
   ]
  },
  {
   "cell_type": "code",
   "execution_count": null,
   "metadata": {},
   "outputs": [],
   "source": [
    "# initialize om10\n",
    "db = om10.DB(vb=False, catalog='../../../data/qso_mock.fits')\n",
    "# we select LSST-like lenses by quering with these values\n",
    "db.select_random(maglim=23.3,area=5000.0,IQ=0.75)\n",
    "# calculate the synthetic magnitude for the OM10 catalog -- need this\n",
    "db.paint(synthetic=True)\n",
    "# calculate the sizes for the OM10 catalog -- if you want to assume the point-source-like-galaxies, get rid of this\n",
    "#db.calculate_size()\n",
    "# initialize realizer\n",
    "realizer = desc.slrealizer.SLRealizer(catalog=db, observation='../../../data/twinkles_observation_history.csv')\n",
    "t0 = time.time()\n",
    "realizer.make_source_catalog(save_dir='../../../data/source_catalog_galsim_noise_perfect.csv')\n",
    "t1 = time.time()\n",
    "print(\"Making the source catalog took %f seconds.\" %(t1-t0))\n",
    "realizer.make_object_catalog(source_table_dir='../../../data/source_catalog_galsim_noise_perfect.csv',\n",
    "                             save_dir='../../../data/object_catalog_galsim_noise_perfect.csv')\n",
    "t2 = time.time()\n",
    "print(\"Making the object catalog took %f seconds.\" %(t2-t1))"
   ]
  }
 ],
 "metadata": {
  "kernelspec": {
   "display_name": "Python 2",
   "language": "python",
   "name": "python2"
  },
  "language_info": {
   "codemirror_mode": {
    "name": "ipython",
    "version": 2
   },
   "file_extension": ".py",
   "mimetype": "text/x-python",
   "name": "python",
   "nbconvert_exporter": "python",
   "pygments_lexer": "ipython2",
   "version": "2.7.12"
  }
 },
 "nbformat": 4,
 "nbformat_minor": 2
}
