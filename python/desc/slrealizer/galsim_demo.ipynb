{
 "cells": [
  {
   "cell_type": "code",
   "execution_count": 94,
   "metadata": {
    "collapsed": true
   },
   "outputs": [],
   "source": [
    "%matplotlib inline\n",
    "import galsim\n",
    "import matplotlib.pyplot as plt"
   ]
  },
  {
   "cell_type": "code",
   "execution_count": 136,
   "metadata": {
    "collapsed": true
   },
   "outputs": [],
   "source": [
    "galaxy = galsim.Gaussian(flux=10,sigma=1)"
   ]
  },
  {
   "cell_type": "code",
   "execution_count": 183,
   "metadata": {},
   "outputs": [],
   "source": [
    "galaxy2 = galsim.Gaussian(flux=10,sigma=1)\n",
    "galaxy2 = galaxy2.shift(0,3)\n",
    "realization = galaxy + galaxy2\n",
    "img = realization.drawImage(scale=.2)"
   ]
  },
  {
   "cell_type": "code",
   "execution_count": 174,
   "metadata": {},
   "outputs": [
    {
     "data": {
      "text/plain": [
       "<matplotlib.text.Text at 0x7f077c3e8f90>"
      ]
     },
     "execution_count": 174,
     "metadata": {},
     "output_type": "execute_result"
    },
    {
     "data": {
      "image/png": "[encoded data removed]",
      "text/plain": [
       "<matplotlib.figure.Figure at 0x7f077c580dd0>"
      ]
     },
     "metadata": {},
     "output_type": "display_data"
    }
   ],
   "source": [
    "plt.imshow(img.array,interpolation='None')\n",
    "plt.xlabel('x (pixels)')\n",
    "plt.ylabel('y (pixels)')"
   ]
  },
  {
   "cell_type": "code",
   "execution_count": 186,
   "metadata": {},
   "outputs": [],
   "source": [
    "shape_info = img.FindAdaptiveMom()"
   ]
  },
  {
   "cell_type": "code",
   "execution_count": 189,
   "metadata": {},
   "outputs": [
    {
     "name": "stdout",
     "output_type": "stream",
     "text": [
      "flux(?) 21.0948848724\n",
      "centroid 0.5 7.99999999998\n",
      "e1 -10.0\n"
     ]
    }
   ],
   "source": [
    "print 'flux(?)', shape_info.moments_amp\n",
    "print 'centroid', shape_info.moments_centroid.x-46,shape_info.moments_centroid.y-46\n",
    "print 'e1', shape_info.corrected_g1"
   ]
  },
  {
   "cell_type": "code",
   "execution_count": 196,
   "metadata": {},
   "outputs": [
    {
     "data": {
      "text/plain": [
       "<bound method Shear.getMatrix of Shear(g1=-0.368579783372, g2=6.81836793674e-18)>"
      ]
     },
     "execution_count": 196,
     "metadata": {},
     "output_type": "execute_result"
    }
   ],
   "source": [
    "shape_info."
   ]
  },
  {
   "cell_type": "markdown",
   "metadata": {},
   "source": [
    "## Example realization"
   ]
  },
  {
   "cell_type": "code",
   "execution_count": 211,
   "metadata": {},
   "outputs": [],
   "source": [
    "obs_hist_hwhm =.4\n",
    "ximg = [2,4,-.5,-.2]\n",
    "yimg = [-.3,.1,20,0]\n",
    "flux = [23,12,45,34]\n",
    "reff = 2\n",
    "phi = 60*galsim.degrees\n",
    "e = .6\n",
    "lens = galsim.Gaussian(half_light_radius=reff)\n",
    "lens = lens.shear(e1=e)\n",
    "lens = lens.rotate(theta=phi)"
   ]
  },
  {
   "cell_type": "code",
   "execution_count": 212,
   "metadata": {
    "collapsed": true
   },
   "outputs": [],
   "source": [
    "img0 = galsim.Gaussian(fwhm=2*obs_hist_hwhm).shift(ximg[0],yimg[0])\n",
    "img1 = galsim.Gaussian(fwhm=2*obs_hist_hwhm).shift(ximg[1],yimg[1])\n",
    "img2 = galsim.Gaussian(fwhm=2*obs_hist_hwhm).shift(ximg[2],yimg[2])\n",
    "img3 = galsim.Gaussian(fwhm=2*obs_hist_hwhm).shift(ximg[3],yimg[3])"
   ]
  },
  {
   "cell_type": "code",
   "execution_count": 213,
   "metadata": {
    "collapsed": true
   },
   "outputs": [],
   "source": [
    "realization = lens+img0+img1+img2+img3"
   ]
  },
  {
   "cell_type": "code",
   "execution_count": 214,
   "metadata": {},
   "outputs": [],
   "source": [
    "img = realization.drawImage(scale=.2)"
   ]
  },
  {
   "cell_type": "code",
   "execution_count": 215,
   "metadata": {},
   "outputs": [
    {
     "data": {
      "text/plain": [
       "<matplotlib.image.AxesImage at 0x7f077c2687d0>"
      ]
     },
     "execution_count": 215,
     "metadata": {},
     "output_type": "execute_result"
    },
    {
     "data": {
      "image/png": "[encoded data removed]",
      "text/plain": [
       "<matplotlib.figure.Figure at 0x7f077c734d10>"
      ]
     },
     "metadata": {},
     "output_type": "display_data"
    }
   ],
   "source": [
    "plt.imshow(img.array)"
   ]
  },
  {
   "cell_type": "code",
   "execution_count": 216,
   "metadata": {
    "collapsed": true
   },
   "outputs": [],
   "source": [
    "shape_info = img.FindAdaptiveMom()"
   ]
  },
  {
   "cell_type": "code",
   "execution_count": 221,
   "metadata": {},
   "outputs": [
    {
     "data": {
      "text/plain": [
       "4.897073745727539"
      ]
     },
     "execution_count": 221,
     "metadata": {},
     "output_type": "execute_result"
    }
   ],
   "source": [
    "shape_info.moments_sigma"
   ]
  },
  {
   "cell_type": "code",
   "execution_count": null,
   "metadata": {
    "collapsed": true
   },
   "outputs": [],
   "source": []
  }
 ],
 "metadata": {
  "kernelspec": {
   "display_name": "Python 2",
   "language": "python",
   "name": "python2"
  },
  "language_info": {
   "codemirror_mode": {
    "name": "ipython",
    "version": 2
   },
   "file_extension": ".py",
   "mimetype": "text/x-python",
   "name": "python",
   "nbconvert_exporter": "python",
   "pygments_lexer": "ipython2",
   "version": "2.7.12"
  }
 },
 "nbformat": 4,
 "nbformat_minor": 2
}
