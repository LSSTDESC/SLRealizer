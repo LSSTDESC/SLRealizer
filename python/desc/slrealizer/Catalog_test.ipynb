{
 "cells": [
  {
   "cell_type": "markdown",
   "metadata": {},
   "source": [
    "# Generating a toy catalog for SLRealizer"
   ]
  },
  {
   "cell_type": "markdown",
   "metadata": {},
   "source": [
    "The OM10 mock lensed quasar catalog qso_mock.fits contains a list of LSST-like samples. Using the OM10 mock catalog and observation history data, we can generate a toy catalog for SLRealizer. The toy catalog assumes a null-deblender, where none of the light sources is deblended -- all the light sources in the system will be perceived as one huge source. This notebook shows how we can make a toy catalog."
   ]
  },
  {
   "cell_type": "markdown",
   "metadata": {},
   "source": [
    "## Requirements"
   ]
  },
  {
   "cell_type": "markdown",
   "metadata": {},
   "source": [
    "OM10 and desc.slrealizer(SLRealizer) are the only requirements."
   ]
  },
  {
   "cell_type": "code",
   "execution_count": 1,
   "metadata": {
    "collapsed": false
   },
   "outputs": [
    {
     "name": "stderr",
     "output_type": "stream",
     "text": [
      "/Users/Jenny/anaconda/envs/python2/lib/python2.7/site-packages/matplotlib/font_manager.py:273: UserWarning: Matplotlib is building the font cache using fc-list. This may take a moment.\n",
      "  warnings.warn('Matplotlib is building the font cache using fc-list. This may take a moment.')\n"
     ]
    }
   ],
   "source": [
    "import om10\n",
    "import desc.slrealizer\n",
    "import warnings\n",
    "warnings.filterwarnings(\"ignore\")"
   ]
  },
  {
   "cell_type": "markdown",
   "metadata": {},
   "source": [
    "We get the OM10 data, and paint the lenses in the OM10 catalog. Then, we pass that catalog data with an observation data to the SLRealizer constructor."
   ]
  },
  {
   "cell_type": "code",
   "execution_count": 2,
   "metadata": {
    "collapsed": false,
    "scrolled": true
   },
   "outputs": [
    {
     "name": "stdout",
     "output_type": "stream",
     "text": [
      "OM10: Full db.lenses table contains 15658 systems\n",
      "OM10: Initial db.sample contains 15658 systems\n",
      "<type 'numpy.ndarray'>\n",
      "[[59823.286523 'g' 1.093153 24.377204000000003]\n",
      " [59823.307263999995 'g' 1.23193 24.289872]\n",
      " [59823.418685000004 'z' 0.9085110000000001 21.923566]\n",
      " ..., \n",
      " [63220.059298 'r' 1.2263629999999999 23.849110999999997]\n",
      " [63229.170250999996 'y' 0.784904 21.740602]\n",
      " [63229.172944000005 'y' 0.7890590000000001 21.733021]]\n"
     ]
    }
   ],
   "source": [
    "db = om10.DB()\n",
    "db.paint(synthetic=True)\n",
    "realizer = desc.slrealizer.SLRealizer(catalog=db, observation=\"../../../data/twinkles_observation_history.csv\")"
   ]
  },
  {
   "cell_type": "markdown",
   "metadata": {},
   "source": [
    "Then, we call the method `make_catalog` and pass in the number of systems that we want to be in the catalog. If we do not want to save the catalog, we can pass in `save = False`. The default is `save = True`, and the catalog will be saved in the `data` folder."
   ]
  },
  {
   "cell_type": "code",
   "execution_count": 3,
   "metadata": {
    "collapsed": false
   },
   "outputs": [
    {
     "name": "stdout",
     "output_type": "stream",
     "text": [
      "From the OM10 catalog, I am selecting LSST lenses\n",
      "OM10: selection yields 679 lenses\n"
     ]
    },
    {
     "ename": "TypeError",
     "evalue": "object of type 'DB' has no len()",
     "output_type": "error",
     "traceback": [
      "\u001b[0;31m---------------------------------------------------------------------------\u001b[0m",
      "\u001b[0;31mTypeError\u001b[0m                                 Traceback (most recent call last)",
      "\u001b[0;32m<ipython-input-3-4e5eae9461ab>\u001b[0m in \u001b[0;36m<module>\u001b[0;34m()\u001b[0m\n\u001b[0;32m----> 1\u001b[0;31m \u001b[0mrealizer\u001b[0m\u001b[0;34m.\u001b[0m\u001b[0mmake_catalog\u001b[0m\u001b[0;34m(\u001b[0m\u001b[0mnum_system\u001b[0m \u001b[0;34m=\u001b[0m \u001b[0;36m3\u001b[0m\u001b[0;34m)\u001b[0m\u001b[0;34m\u001b[0m\u001b[0m\n\u001b[0m",
      "\u001b[0;32m/Users/Jenny/Desktop/SLRealizer/python/desc/slrealizer/SLRealizer.pyc\u001b[0m in \u001b[0;36mmake_catalog\u001b[0;34m(self, num_system, save)\u001b[0m\n\u001b[1;32m     67\u001b[0m         \u001b[0mself\u001b[0m\u001b[0;34m.\u001b[0m\u001b[0mcatalog\u001b[0m\u001b[0;34m.\u001b[0m\u001b[0mselect_random\u001b[0m\u001b[0;34m(\u001b[0m\u001b[0mmaglim\u001b[0m\u001b[0;34m=\u001b[0m\u001b[0;36m21.3\u001b[0m\u001b[0;34m,\u001b[0m\u001b[0marea\u001b[0m\u001b[0;34m=\u001b[0m\u001b[0;36m20000.0\u001b[0m\u001b[0;34m,\u001b[0m\u001b[0mIQ\u001b[0m\u001b[0;34m=\u001b[0m\u001b[0;36m0.75\u001b[0m\u001b[0;34m)\u001b[0m\u001b[0;34m\u001b[0m\u001b[0m\n\u001b[1;32m     68\u001b[0m         \u001b[0mdf\u001b[0m \u001b[0;34m=\u001b[0m \u001b[0mpd\u001b[0m\u001b[0;34m.\u001b[0m\u001b[0mDataFrame\u001b[0m\u001b[0;34m(\u001b[0m\u001b[0mcolumns\u001b[0m\u001b[0;34m=\u001b[0m\u001b[0;34m[\u001b[0m\u001b[0;34m'MJD'\u001b[0m\u001b[0;34m,\u001b[0m \u001b[0;34m'filter'\u001b[0m\u001b[0;34m,\u001b[0m \u001b[0;34m'RA'\u001b[0m\u001b[0;34m,\u001b[0m \u001b[0;34m'RA_err'\u001b[0m\u001b[0;34m,\u001b[0m \u001b[0;34m'DEC'\u001b[0m\u001b[0;34m,\u001b[0m \u001b[0;34m'DEC_err'\u001b[0m\u001b[0;34m,\u001b[0m \u001b[0;34m'x'\u001b[0m\u001b[0;34m,\u001b[0m \u001b[0;34m'x_com_err'\u001b[0m\u001b[0;34m,\u001b[0m \u001b[0;34m'y'\u001b[0m\u001b[0;34m,\u001b[0m \u001b[0;34m'y_com_err'\u001b[0m\u001b[0;34m,\u001b[0m \u001b[0;34m'flux'\u001b[0m\u001b[0;34m,\u001b[0m \u001b[0;34m'flux_err'\u001b[0m\u001b[0;34m,\u001b[0m \u001b[0;34m'qxx'\u001b[0m\u001b[0;34m,\u001b[0m \u001b[0;34m'qxx_err'\u001b[0m\u001b[0;34m,\u001b[0m \u001b[0;34m'qyy'\u001b[0m\u001b[0;34m,\u001b[0m \u001b[0;34m'qyy_err'\u001b[0m\u001b[0;34m,\u001b[0m \u001b[0;34m'qxy'\u001b[0m\u001b[0;34m,\u001b[0m \u001b[0;34m'qxy_err'\u001b[0m\u001b[0;34m,\u001b[0m \u001b[0;34m'psf_sigma'\u001b[0m\u001b[0;34m,\u001b[0m \u001b[0;34m'sky'\u001b[0m\u001b[0;34m,\u001b[0m \u001b[0;34m'lensid'\u001b[0m\u001b[0;34m]\u001b[0m\u001b[0;34m)\u001b[0m\u001b[0;34m\u001b[0m\u001b[0m\n\u001b[0;32m---> 69\u001b[0;31m         \u001b[0;32mfor\u001b[0m \u001b[0mi\u001b[0m \u001b[0;32min\u001b[0m \u001b[0mxrange\u001b[0m\u001b[0;34m(\u001b[0m\u001b[0mlen\u001b[0m\u001b[0;34m(\u001b[0m\u001b[0mself\u001b[0m\u001b[0;34m.\u001b[0m\u001b[0mcatalog\u001b[0m\u001b[0;34m)\u001b[0m\u001b[0;34m)\u001b[0m\u001b[0;34m:\u001b[0m \u001b[0;31m# for all lenses\u001b[0m\u001b[0;34m\u001b[0m\u001b[0m\n\u001b[0m\u001b[1;32m     70\u001b[0m             \u001b[0mlensID\u001b[0m \u001b[0;34m=\u001b[0m \u001b[0mself\u001b[0m\u001b[0;34m.\u001b[0m\u001b[0mcatalog\u001b[0m\u001b[0;34m.\u001b[0m\u001b[0msample\u001b[0m\u001b[0;34m[\u001b[0m\u001b[0mi\u001b[0m\u001b[0;34m]\u001b[0m\u001b[0;34m[\u001b[0m\u001b[0;34m'LENSID'\u001b[0m\u001b[0;34m]\u001b[0m\u001b[0;34m\u001b[0m\u001b[0m\n\u001b[1;32m     71\u001b[0m             \u001b[0;32mprint\u001b[0m\u001b[0;34m(\u001b[0m\u001b[0;34m'length is:'\u001b[0m\u001b[0;34m,\u001b[0m \u001b[0mlen\u001b[0m\u001b[0;34m(\u001b[0m\u001b[0mself\u001b[0m\u001b[0;34m.\u001b[0m\u001b[0mcatalog\u001b[0m\u001b[0;34m)\u001b[0m\u001b[0;34m)\u001b[0m\u001b[0;34m\u001b[0m\u001b[0m\n",
      "\u001b[0;31mTypeError\u001b[0m: object of type 'DB' has no len()"
     ]
    }
   ],
   "source": [
    "realizer.make_catalog(num_system = 3)"
   ]
  },
  {
   "cell_type": "markdown",
   "metadata": {},
   "source": [
    "If we want to read the saved catalog, this is what we can do:"
   ]
  },
  {
   "cell_type": "code",
   "execution_count": null,
   "metadata": {
    "collapsed": false,
    "scrolled": true
   },
   "outputs": [],
   "source": [
    "import pandas\n",
    "df = pandas.read_csv('../../../data/catalog.csv')\n",
    "print df"
   ]
  }
 ],
 "metadata": {
  "anaconda-cloud": {},
  "kernelspec": {
   "display_name": "Python [conda env:python2]",
   "language": "python",
   "name": "conda-env-python2-py"
  },
  "language_info": {
   "codemirror_mode": {
    "name": "ipython",
    "version": 2
   },
   "file_extension": ".py",
   "mimetype": "text/x-python",
   "name": "python",
   "nbconvert_exporter": "python",
   "pygments_lexer": "ipython2",
   "version": "2.7.12"
  }
 },
 "nbformat": 4,
 "nbformat_minor": 1
}
