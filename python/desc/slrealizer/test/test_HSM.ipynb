{
 "cells": [
  {
   "cell_type": "code",
   "execution_count": 1,
   "metadata": {},
   "outputs": [],
   "source": [
    "import galsim\n",
    "import om10\n",
    "from desc.slrealizer.utils import *\n",
    "from desc.slrealizer.constants import *\n",
    "import os\n",
    "from desc.slrealizer.realize_om10 import OM10Realizer\n",
    "import pandas as pd\n",
    "import numpy as np\n",
    "import matplotlib.pyplot as plt\n",
    "%load_ext autoreload\n",
    "%autoreload 2"
   ]
  },
  {
   "cell_type": "code",
   "execution_count": 2,
   "metadata": {},
   "outputs": [
    {
     "name": "stdout",
     "output_type": "stream",
     "text": [
      "OM10: Full db.lenses table contains 15658 systems\n",
      "OM10: Initial db.sample contains 15658 systems\n",
      "OM10: selection yields 1 lenses\n"
     ]
    }
   ],
   "source": [
    "#curr_dir = os.path.dirname(os.path.abspath(__file__))\n",
    "    \n",
    "catalog_f = os.path.join('..', '..', '..', '..', 'data', 'qso_mock.fits')\n",
    "observation_f = os.path.join('..', '..', '..', '..', 'data', 'twinkles_observation_history.csv')\n",
    "\n",
    "test_db = om10.DB(catalog=catalog_f)\n",
    "test_db.select_random(maglim=23.3, area=10.0, IQ=0.75) \n",
    "test_db.paint(synthetic=True)\n",
    "\n",
    "test_obs = pd.read_csv(observation_f).sample(1, random_state=123).reset_index(drop=True)\n",
    "\n",
    "realizer = OM10Realizer(observation=test_obs, catalog=test_db)\n",
    "db_dict = test_db.sample[0]\n",
    "obs_dict = test_obs.loc[0].to_dict()"
   ]
  },
  {
   "cell_type": "code",
   "execution_count": 3,
   "metadata": {},
   "outputs": [
    {
     "data": {
      "text/html": [
       "&lt;Row index=0&gt;\n",
       "<table id=\"table139638383137360\">\n",
       "<thead><tr><th>LENSID</th><th>FLAGTYPE</th><th>NIMG</th><th>ZLENS</th><th>VELDISP</th><th>ELLIP</th><th>PHIE</th><th>GAMMA</th><th>PHIG</th><th>ZSRC</th><th>XSRC</th><th>YSRC</th><th>MAGI_IN</th><th>MAGI</th><th>IMSEP</th><th>XIMG [4]</th><th>YIMG [4]</th><th>MAG [4]</th><th>DELAY [4]</th><th>KAPPA [4]</th><th>FSTAR [4]</th><th>DD</th><th>DDLUM</th><th>ABMAG_I</th><th>APMAG_I</th><th>KCORR</th><th>DS</th><th>DDS</th><th>SIGCRIT</th><th>DSLUM</th><th>L_I</th><th>REFF</th><th>REFF_T</th><th>weight</th><th>r_SDSS_lens</th><th>g_SDSS_lens</th><th>i_SDSS_lens</th><th>z_SDSS_lens</th><th>u_SDSS_lens</th><th>r_SDSS_quasar</th><th>g_SDSS_quasar</th><th>i_SDSS_quasar</th><th>z_SDSS_quasar</th><th>u_SDSS_quasar</th></tr></thead>\n",
       "<thead><tr><th>int32</th><th>int16</th><th>int16</th><th>float64</th><th>float64</th><th>float64</th><th>float64</th><th>float64</th><th>float64</th><th>float64</th><th>float64</th><th>float64</th><th>float64</th><th>float64</th><th>float64</th><th>float64</th><th>float64</th><th>float64</th><th>float64</th><th>float64</th><th>float64</th><th>float64</th><th>float64</th><th>float64</th><th>float64</th><th>float64</th><th>float64</th><th>float64</th><th>float64</th><th>float64</th><th>float64</th><th>float64</th><th>float64</th><th>float32</th><th>float64</th><th>float64</th><th>float64</th><th>float64</th><th>float64</th><th>float64</th><th>float64</th><th>float64</th><th>float64</th><th>float64</th></tr></thead>\n",
       "<tr><td>8436704</td><td>0</td><td>4</td><td>0.592</td><td>176.1976</td><td>0.4141749</td><td>171.8776</td><td>0.1049033</td><td>-157.5586</td><td>3.09</td><td>0.04510087</td><td>-0.1167591</td><td>21.87</td><td>20.79409</td><td>1.315902</td><td>-0.1002 .. -0.0384</td><td>-0.6125 .. 0.3919</td><td>-2.8705 .. -0.9157</td><td>5.806 .. 16.383</td><td>0.0 .. 0.0</td><td>0.0 .. 0.0</td><td>1370.33618</td><td>3473.06763</td><td>-22.1998405</td><td>21.095726</td><td>0.592000008</td><td>1574.71</td><td>1041.31</td><td>0.0</td><td>26341.9</td><td>0.0</td><td>0.0</td><td>0.0</td><td>1.0</td><td>20.862966876098916</td><td>22.697614060144993</td><td>19.572937254467618</td><td>19.01367952811551</td><td>25.514140294971043</td><td>21.926216926449015</td><td>22.29658949769489</td><td>21.87</td><td>21.841646865313418</td><td>23.499788743603787</td></tr>\n",
       "</table>"
      ],
      "text/plain": [
       "<Row index=0>\n",
       " LENSID FLAGTYPE  NIMG  ZLENS  VELDISP    ELLIP     PHIE     GAMMA      PHIG     ZSRC     XSRC       YSRC    MAGI_IN   MAGI    IMSEP        XIMG [4]           YIMG [4]          MAG [4]          DELAY [4]    KAPPA [4]  FSTAR [4]      DD       DDLUM      ABMAG_I    APMAG_I     KCORR       DS     DDS   SIGCRIT  DSLUM    L_I     REFF   REFF_T  weight    r_SDSS_lens        g_SDSS_lens        i_SDSS_lens        z_SDSS_lens       u_SDSS_lens       r_SDSS_quasar      g_SDSS_quasar   i_SDSS_quasar   z_SDSS_quasar      u_SDSS_quasar   \n",
       " int32   int16   int16 float64 float64   float64  float64   float64   float64  float64  float64    float64   float64 float64  float64       float64            float64           float64           float64      float64    float64    float64    float64     float64    float64    float64   float64 float64 float64 float64 float64 float64 float64 float32      float64            float64            float64            float64           float64            float64            float64         float64         float64            float64      \n",
       "------- -------- ----- ------- -------- --------- -------- --------- --------- ------- ---------- ---------- ------- -------- -------- ------------------ ----------------- ------------------ --------------- ---------- ---------- ---------- ---------- ----------- --------- ----------- ------- ------- ------- ------- ------- ------- ------- ------- ------------------ ------------------ ------------------ ----------------- ------------------ ------------------ ----------------- ------------- ------------------ ------------------\n",
       "8436704        0     4   0.592 176.1976 0.4141749 171.8776 0.1049033 -157.5586    3.09 0.04510087 -0.1167591   21.87 20.79409 1.315902 -0.1002 .. -0.0384 -0.6125 .. 0.3919 -2.8705 .. -0.9157 5.806 .. 16.383 0.0 .. 0.0 0.0 .. 0.0 1370.33618 3473.06763 -22.1998405 21.095726 0.592000008 1574.71 1041.31     0.0 26341.9     0.0     0.0     0.0     1.0 20.862966876098916 22.697614060144993 19.572937254467618 19.01367952811551 25.514140294971043 21.926216926449015 22.29658949769489         21.87 21.841646865313418 23.499788743603787"
      ]
     },
     "execution_count": 3,
     "metadata": {},
     "output_type": "execute_result"
    }
   ],
   "source": [
    "db_dict"
   ]
  },
  {
   "cell_type": "code",
   "execution_count": 17,
   "metadata": {},
   "outputs": [
    {
     "data": {
      "text/plain": [
       "{'FWHMeff': 0.9805200000000001,\n",
       " 'expMJD': 62390.249821000005,\n",
       " 'filter': 'i',\n",
       " 'fiveSigmaDepth': 23.477401,\n",
       " 'obsHistID': 1907745}"
      ]
     },
     "execution_count": 17,
     "metadata": {},
     "output_type": "execute_result"
    }
   ],
   "source": [
    "obs_dict"
   ]
  },
  {
   "cell_type": "code",
   "execution_count": 18,
   "metadata": {},
   "outputs": [
    {
     "data": {
      "text/plain": [
       "{'beta': galsim.Angle(2.9998300304258056, galsim.radians),\n",
       " 'e': 0.4141749,\n",
       " 'flux': 14.819211564080376,\n",
       " 'flux_0': nan,\n",
       " 'flux_1': 6.176244843778498,\n",
       " 'flux_2': 4.812440229136447,\n",
       " 'flux_3': nan,\n",
       " 'half_light_radius': 0.0,\n",
       " 'num_objects': 4,\n",
       " 'xy_0': (-0.1002, -0.6125),\n",
       " 'xy_1': (-0.5951, -0.369),\n",
       " 'xy_2': (0.7102, -0.2023),\n",
       " 'xy_3': (-0.0384, 0.3919)}"
      ]
     },
     "execution_count": 18,
     "metadata": {},
     "output_type": "execute_result"
    }
   ],
   "source": [
    "galsim_params = realizer._from_om10_to_galsim(test_db.sample[0], obs_dict['filter'])\n",
    "galsim_params"
   ]
  },
  {
   "cell_type": "code",
   "execution_count": 21,
   "metadata": {},
   "outputs": [
    {
     "data": {
      "text/plain": [
       "14.060475241299143"
      ]
     },
     "execution_count": 21,
     "metadata": {},
     "output_type": "execute_result"
    }
   ],
   "source": [
    "from desc.slrealizer.utils import *\n",
    "from_mag_to_flux(-2.87)"
   ]
  },
  {
   "cell_type": "code",
   "execution_count": 14,
   "metadata": {},
   "outputs": [
    {
     "data": {
      "text/plain": [
       "array([-2.8705,  3.4572,  2.6938, -0.9157])"
      ]
     },
     "execution_count": 14,
     "metadata": {},
     "output_type": "execute_result"
    }
   ],
   "source": [
    "test_db.sample[0]['MAG']"
   ]
  },
  {
   "cell_type": "code",
   "execution_count": 15,
   "metadata": {},
   "outputs": [
    {
     "ename": "ValueError",
     "evalue": "negative number cannot be raised to a fractional power",
     "output_type": "error",
     "traceback": [
      "\u001b[0;31m---------------------------------------------------------------------------\u001b[0m",
      "\u001b[0;31mValueError\u001b[0m                                Traceback (most recent call last)",
      "\u001b[0;32m<ipython-input-15-5a9a4517b9b9>\u001b[0m in \u001b[0;36m<module>\u001b[0;34m()\u001b[0m\n\u001b[0;32m----> 1\u001b[0;31m \u001b[0;34m(\u001b[0m\u001b[0;34m-\u001b[0m\u001b[0;36m2.5\u001b[0m\u001b[0;34m)\u001b[0m\u001b[0;34m**\u001b[0m\u001b[0;36m2.5\u001b[0m\u001b[0;34m\u001b[0m\u001b[0m\n\u001b[0m",
      "\u001b[0;31mValueError\u001b[0m: negative number cannot be raised to a fractional power"
     ]
    }
   ],
   "source": [
    "(-2.5)**2.5"
   ]
  },
  {
   "cell_type": "code",
   "execution_count": null,
   "metadata": {},
   "outputs": [],
   "source": []
  }
 ],
 "metadata": {
  "kernelspec": {
   "display_name": "Python 2",
   "language": "python",
   "name": "python2"
  },
  "language_info": {
   "codemirror_mode": {
    "name": "ipython",
    "version": 2
   },
   "file_extension": ".py",
   "mimetype": "text/x-python",
   "name": "python",
   "nbconvert_exporter": "python",
   "pygments_lexer": "ipython2",
   "version": "2.7.12"
  }
 },
 "nbformat": 4,
 "nbformat_minor": 2
}
