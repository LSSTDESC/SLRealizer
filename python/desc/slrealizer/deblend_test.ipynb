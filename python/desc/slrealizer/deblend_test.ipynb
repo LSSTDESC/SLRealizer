{
 "cells": [
  {
   "cell_type": "code",
   "execution_count": 6,
   "metadata": {
    "collapsed": false
   },
   "outputs": [],
   "source": [
    "import deblend\n",
    "import om10\n",
    "import desc.slrealizer"
   ]
  },
  {
   "cell_type": "code",
   "execution_count": 7,
   "metadata": {
    "collapsed": false
   },
   "outputs": [
    {
     "name": "stdout",
     "output_type": "stream",
     "text": [
      "OM10: Full db.lenses table contains 15658 systems\n",
      "OM10: Initial db.sample contains 15658 systems\n",
      "OM10: selection yields 2813 lenses\n"
     ]
    }
   ],
   "source": [
    "db = om10.DB()\n",
    "db.select_random(maglim=23.3,area=18000.0,IQ=0.75)\n",
    "db.paint(synthetic=True)\n",
    "realizer = desc.slrealizer.SLRealizer(catalog=db, observation=\"../../../data/twinkles_observation_history.csv\")"
   ]
  },
  {
   "cell_type": "code",
   "execution_count": 8,
   "metadata": {
    "collapsed": false
   },
   "outputs": [
    {
     "name": "stdout",
     "output_type": "stream",
     "text": [
      "Populating the interactive namespace from numpy and matplotlib\n"
     ]
    }
   ],
   "source": [
    "%matplotlib inline\n",
    "%pylab inline\n",
    "matplotlib.use('TkAgg')\n",
    "matplotlib.rc('text', usetex=False)"
   ]
  },
  {
   "cell_type": "code",
   "execution_count": 9,
   "metadata": {
    "collapsed": false
   },
   "outputs": [
    {
     "name": "stdout",
     "output_type": "stream",
     "text": [
      "Number of lenses with image separation > 1.0 arcsec =  1920\n",
      "Number of these with 4 images =  306\n",
      "Number of these with i3 < 22 =  137\n"
     ]
    }
   ],
   "source": [
    "# Choose a good lens system, with large imsep and 4 images:\n",
    "                      \n",
    "wide = db.sample[np.where(db.sample['IMSEP'] > 1.0)]\n",
    "print \"Number of lenses with image separation > 1.0 arcsec = \",len(wide)\n",
    "\n",
    "wide_quads = wide[np.where(wide['NIMG'] == 4)]\n",
    "print \"Number of these with 4 images = \",len(wide_quads)\n",
    "\n",
    "bright_wide_quads = wide[np.where(wide_quads['MAGI'] < 22)]\n",
    "print \"Number of these with i3 < 22 = \",len(bright_wide_quads)\n",
    "\n",
    "db.sample = bright_wide_quads    \n",
    "                      \n",
    "k = db.sample[0]['LENSID']"
   ]
  },
  {
   "cell_type": "code",
   "execution_count": 10,
   "metadata": {
    "collapsed": false,
    "scrolled": true
   },
   "outputs": [
    {
     "name": "stdout",
     "output_type": "stream",
     "text": [
      "OM10: Extracted OM10 lens number 19727777:\n",
      " LENSID  FLAGTYPE NIMG ZLENS ... i_SDSS_quasar z_SDSS_quasar u_SDSS_quasar\n",
      "-------- -------- ---- ----- ... ------------- ------------- -------------\n",
      "19727777        0    2 0.834 ...         20.41 20.2118672361 20.7357368174\n",
      "Deblending starts.....\n",
      "The system looks like this....\n",
      "printing currLens\n",
      "PSF_HWHM:  1.013386\n",
      "-1.7418\n",
      "-0.8273\n",
      "1.4689\n",
      "0.0721\n",
      "0.033\n",
      "-0.1513\n"
     ]
    },
    {
     "data": {
      "image/png": "[encoded data removed]",
      "text/plain": [
       "<matplotlib.figure.Figure at 0x14c29b190>"
      ]
     },
     "metadata": {},
     "output_type": "display_data"
    },
    {
     "ename": "NameError",
     "evalue": "global name 'FWHM' is not defined",
     "output_type": "error",
     "traceback": [
      "\u001b[0;31m---------------------------------------------------------------------------\u001b[0m",
      "\u001b[0;31mNameError\u001b[0m                                 Traceback (most recent call last)",
      "\u001b[0;32m<ipython-input-10-e0a726625221>\u001b[0m in \u001b[0;36m<module>\u001b[0;34m()\u001b[0m\n\u001b[0;32m----> 1\u001b[0;31m \u001b[0mrealizer\u001b[0m\u001b[0;34m.\u001b[0m\u001b[0mdeblend\u001b[0m\u001b[0;34m(\u001b[0m\u001b[0mlensID\u001b[0m\u001b[0;34m=\u001b[0m\u001b[0mk\u001b[0m\u001b[0;34m)\u001b[0m\u001b[0;34m\u001b[0m\u001b[0m\n\u001b[0m",
      "\u001b[0;32m/Users/Jenny/Desktop/SLRealizer/python/desc/slrealizer/SLRealizer.pyc\u001b[0m in \u001b[0;36mdeblend\u001b[0;34m(self, lensID)\u001b[0m\n\u001b[1;32m     56\u001b[0m         \u001b[0;31m# randomIndex:\u001b[0m\u001b[0;34m\u001b[0m\u001b[0;34m\u001b[0m\u001b[0m\n\u001b[1;32m     57\u001b[0m         desc.slrealizer.deblend(self.observation[randomIndex],\n\u001b[0;32m---> 58\u001b[0;31m                                    self.catalog.get_lens(lensID))\n\u001b[0m\u001b[1;32m     59\u001b[0m         \u001b[0;32mreturn\u001b[0m\u001b[0;34m\u001b[0m\u001b[0m\n\u001b[1;32m     60\u001b[0m \u001b[0;34m\u001b[0m\u001b[0m\n",
      "\u001b[0;32m/Users/Jenny/Desktop/SLRealizer/python/desc/slrealizer/deblend.pyc\u001b[0m in \u001b[0;36mdeblend\u001b[0;34m(currObs, currLens)\u001b[0m\n\u001b[1;32m     19\u001b[0m     \u001b[0;32mprint\u001b[0m \u001b[0;34m'The system looks like this....'\u001b[0m\u001b[0;34m\u001b[0m\u001b[0m\n\u001b[1;32m     20\u001b[0m     \u001b[0;31m#plotting.draw_model(currObs, currLens)\u001b[0m\u001b[0;34m\u001b[0m\u001b[0;34m\u001b[0m\u001b[0m\n\u001b[0;32m---> 21\u001b[0;31m     \u001b[0mblend_all_objects\u001b[0m\u001b[0;34m(\u001b[0m\u001b[0mcurrObs\u001b[0m\u001b[0;34m,\u001b[0m \u001b[0mcurrLens\u001b[0m\u001b[0;34m)\u001b[0m\u001b[0;34m\u001b[0m\u001b[0m\n\u001b[0m\u001b[1;32m     22\u001b[0m \u001b[0;34m\u001b[0m\u001b[0m\n\u001b[1;32m     23\u001b[0m \u001b[0;32mdef\u001b[0m \u001b[0mblend_all_objects\u001b[0m\u001b[0;34m(\u001b[0m\u001b[0mcurrObs\u001b[0m\u001b[0;34m,\u001b[0m \u001b[0mcurrLens\u001b[0m\u001b[0;34m)\u001b[0m\u001b[0;34m:\u001b[0m\u001b[0;34m\u001b[0m\u001b[0m\n",
      "\u001b[0;32m/Users/Jenny/Desktop/SLRealizer/python/desc/slrealizer/deblend.pyc\u001b[0m in \u001b[0;36mblend_all_objects\u001b[0;34m(currObs, currLens)\u001b[0m\n\u001b[1;32m     66\u001b[0m     \u001b[0;32mfrom\u001b[0m \u001b[0mphotutils\u001b[0m \u001b[0;32mimport\u001b[0m \u001b[0mDAOStarFinder\u001b[0m\u001b[0;34m\u001b[0m\u001b[0m\n\u001b[1;32m     67\u001b[0m \u001b[0;34m\u001b[0m\u001b[0m\n\u001b[0;32m---> 68\u001b[0;31m     \u001b[0mdaofind\u001b[0m \u001b[0;34m=\u001b[0m \u001b[0mDAOStarFinder\u001b[0m\u001b[0;34m(\u001b[0m\u001b[0mfwhm\u001b[0m\u001b[0;34m=\u001b[0m\u001b[0mFWHM\u001b[0m\u001b[0;34m,\u001b[0m \u001b[0mthreshold\u001b[0m\u001b[0;34m=\u001b[0m\u001b[0;36m0.0001\u001b[0m\u001b[0;34m)\u001b[0m\u001b[0;34m\u001b[0m\u001b[0m\n\u001b[0m\u001b[1;32m     69\u001b[0m     \u001b[0msources\u001b[0m \u001b[0;34m=\u001b[0m \u001b[0mdaofind\u001b[0m\u001b[0;34m(\u001b[0m\u001b[0mimage\u001b[0m\u001b[0;34m)\u001b[0m\u001b[0;34m\u001b[0m\u001b[0m\n\u001b[1;32m     70\u001b[0m     \u001b[0;32mfrom\u001b[0m \u001b[0mastropy\u001b[0m\u001b[0;34m.\u001b[0m\u001b[0mvisualization\u001b[0m \u001b[0;32mimport\u001b[0m \u001b[0mSqrtStretch\u001b[0m\u001b[0;34m\u001b[0m\u001b[0m\n",
      "\u001b[0;31mNameError\u001b[0m: global name 'FWHM' is not defined"
     ]
    },
    {
     "data": {
      "image/png": "[encoded data removed]",
      "text/plain": [
       "<matplotlib.figure.Figure at 0x14c7e04d0>"
      ]
     },
     "metadata": {},
     "output_type": "display_data"
    }
   ],
   "source": [
    "realizer.deblend(lensID=k)"
   ]
  },
  {
   "cell_type": "markdown",
   "metadata": {},
   "source": [
    "### Below is the code that I should eventually delete"
   ]
  },
  {
   "cell_type": "code",
   "execution_count": null,
   "metadata": {
    "collapsed": false,
    "scrolled": true
   },
   "outputs": [],
   "source": [
    "#deblender sample\n",
    "from scipy.stats import multivariate_normal\n",
    "import numpy as np\n",
    "import matplotlib\n",
    "import matplotlib.pyplot as plt\n",
    "import scipy\n",
    "import scipy.optimize as opt\n",
    "%matplotlib inline\n",
    "%pylab inline\n",
    "matplotlib.use('TkAgg')\n",
    "matplotlib.rc('text', usetex=False)\n",
    "\n",
    "number_of_rows = 1000\n",
    "number_of_columns = 1000\n",
    "image = [[0]*number_of_rows for _ in range(number_of_columns)]\n",
    "image1 = [[0]*number_of_rows for _ in range(number_of_columns)]\n",
    "\n",
    "x, y = np.mgrid[-5:5:.01, -5:5:.01]\n",
    "pos = np.dstack((x, y))\n",
    "\n",
    "init_guess = []\n",
    "\n",
    "init_guess.append([3, 1])\n",
    "init_guess.append([2, 2])\n",
    "init_guess.append([1, 1])\n",
    "\n",
    "init_guess_sigma = []\n",
    "\n",
    "\n",
    "print init_guess\n",
    "\n",
    "rv = scipy.stats.multivariate_normal([3, 1]) # xPos, yPos, covariance matrix whose entrees are just FWHM\n",
    "#print rv\n",
    "image = image + rv.pdf(pos) # BUG: multiply flux ratio\n",
    "# save peak value\n",
    "#rv = scipy.stats.multivariate_normal([2, 2])\n",
    "#image = image + rv.pdf(pos)\n",
    "rv = scipy.stats.multivariate_normal([1, 1])\n",
    "image = image + rv.pdf(pos)\n",
    "#print image # this is a 2d array\n",
    "#print image\n",
    "\n",
    "cmap2 = matplotlib.colors.LinearSegmentedColormap.from_list('my_colormap', ['black', 'green', 'yellow'], 256)\n",
    "img2 = plt.imshow(image, interpolation='nearest', cmap = cmap2, origin='lower', extent=[-3, 3, -3, 3], aspect = \"auto\")\n",
    "\n",
    "plt.colorbar(img2,cmap=cmap2)\n",
    "plt.show()\n",
    "\n",
    "def twoD_Gaussian((x, y), amplitude, xo, yo, sigma_x, sigma_y, theta, offset):\n",
    "    xo = float(xo)\n",
    "    yo = float(yo)    \n",
    "    a = (np.cos(theta)**2)/(2*sigma_x**2) + (np.sin(theta)**2)/(2*sigma_y**2)\n",
    "    b = -(np.sin(2*theta))/(4*sigma_x**2) + (np.sin(2*theta))/(4*sigma_y**2)\n",
    "    c = (np.sin(theta)**2)/(2*sigma_x**2) + (np.cos(theta)**2)/(2*sigma_y**2)\n",
    "    g = offset + amplitude*np.exp( - (a*((x-xo)**2) + 2*b*(x-xo)*(y-yo) \n",
    "                            + c*((y-yo)**2)))\n",
    "    return g"
   ]
  },
  {
   "cell_type": "code",
   "execution_count": null,
   "metadata": {
    "collapsed": false
   },
   "outputs": [],
   "source": [
    "import photutils\n",
    "segm = photutils.detect_sources(image, 0.1, 3)\n",
    "# plot the image and the segmentation image\n",
    "import matplotlib.pyplot as plt\n",
    "numpy.set_printoptions(threshold='nan')\n",
    "fig, (ax1, ax2) = plt.subplots(2, 1, figsize=(8, 8))\n",
    "ax2.imshow(segm.data, origin='lower', interpolation='nearest')\n",
    "#print segm.data\n",
    "\n",
    "#segm_deblend = photutils.segmentation.deblend_sources(image, segm.data, 4)\n",
    "#plt.imshow(segm_deblend.data, origin='lower', interpolation='nearest')"
   ]
  },
  {
   "cell_type": "code",
   "execution_count": null,
   "metadata": {
    "collapsed": false
   },
   "outputs": [],
   "source": [
    "from photutils import DAOStarFinder\n",
    "\n",
    "daofind = DAOStarFinder(fwhm=1.5, threshold=0.00001)\n",
    "sources = daofind(image)\n",
    "print sources\n",
    "\n",
    "from astropy.visualization import SqrtStretch\n",
    "from astropy.visualization.mpl_normalize import ImageNormalize\n",
    "from photutils import CircularAperture\n",
    "positions = (sources['xcentroid'], sources['ycentroid'])\n",
    "apertures = CircularAperture(positions, r=4.)\n",
    "norm = ImageNormalize(stretch=SqrtStretch())\n",
    "plt.imshow(image, cmap='Greys', origin='lower', norm=norm)\n",
    "apertures.plot(color='red', lw=3.0, alpha=1.0)\n",
    "\n",
    "#from astropy.visualization import SqrtStretch\n",
    "#from astropy.visualization.mpl_normalize import ImageNormalize\n",
    "#from photutils import CircularAperture\n",
    "\n",
    "#positions = (sources['xcentroid'], sources['ycentroid'])\n",
    "#apertures = CircularAperture(positions, r=500)\n",
    "#norm = ImageNormalize(stretch=SqrtStretch())\n",
    "#img2 = plt.imshow(image, interpolation='nearest', cmap = cmap2, origin='lower', extent=[-3, 3, -3, 3], aspect = \"auto\")\n",
    "#apertures.plot(color='white', lw=10, alpha=1)"
   ]
  },
  {
   "cell_type": "code",
   "execution_count": null,
   "metadata": {
    "collapsed": true
   },
   "outputs": [],
   "source": [
    "#deblend fit gaussian\n",
    "#pick peaks out and then start fitting\n",
    "#https://stackoverflow.com/questions/21566379/fitting-a-2d-gaussian-function-using-scipy-optimize-curve-fit-valueerror-and-m"
   ]
  },
  {
   "cell_type": "code",
   "execution_count": null,
   "metadata": {
    "collapsed": true
   },
   "outputs": [],
   "source": []
  }
 ],
 "metadata": {
  "anaconda-cloud": {},
  "kernelspec": {
   "display_name": "Python [conda env:python2]",
   "language": "python",
   "name": "conda-env-python2-py"
  }
 },
 "nbformat": 4,
 "nbformat_minor": 1
}
